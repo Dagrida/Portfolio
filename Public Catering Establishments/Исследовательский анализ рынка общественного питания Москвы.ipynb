{
 "cells": [
  {
   "cell_type": "markdown",
   "id": "e06910dd",
   "metadata": {
    "id": "e06910dd"
   },
   "source": [
    "# Исследовательский анализ данных рынка заведений общественного питания Москвы\n",
    "\n",
    "Автор: Дарья Грибкова"
   ]
  },
  {
   "cell_type": "markdown",
   "id": "4149134c",
   "metadata": {
    "id": "4149134c"
   },
   "source": [
    "### Цели и задачи проекта\n",
    "\n",
    "**Цель:** провести исследовательный анализ рынка общественного питания Москвы с целью открытия нового заведения.\n",
    "\n",
    "**Задачи:**\n",
    "1. Загрузить данные и ппознакомиться с их содержимым.\n",
    "2. Провести предобработку данных.\n",
    "3. Провести исследовательский анализ данных.\n",
    "4. Сделать итоговый вывод и составить рекомендации."
   ]
  },
  {
   "cell_type": "markdown",
   "id": "728986ea",
   "metadata": {
    "id": "728986ea"
   },
   "source": [
    "### Описание данных\n",
    "\n",
    "Для анализа данных представлены два датасета:\n",
    "\n",
    "- `/datasets/rest_info.csv` - информация о заведениях общественного питания;\n",
    "- `/datasets/rest_price.csv` - информация о среднем чеке в заведениях общественного питания."
   ]
  },
  {
   "cell_type": "markdown",
   "id": "4fecaf95",
   "metadata": {
    "id": "4fecaf95"
   },
   "source": [
    "### Содержимое проекта\n",
    "\n",
    "1. Загрузка данных и знакомство с ними.\n",
    "2. Предобработка данных.\n",
    "3. Исследовательский анализ данных.\n",
    "4. Итоговый вывод и рекомендации.\n",
    "\n",
    "---"
   ]
  },
  {
   "cell_type": "markdown",
   "id": "6f7d21d6",
   "metadata": {
    "id": "6f7d21d6"
   },
   "source": [
    "## 1. Загрузка данных и знакомство с ними\n",
    "**Для начала работы необходимо загрузить датасеты `/datasets/rest_info.csv`  и `/datasets/rest_price.csv`. Также, необходимо подключить следующие библиотеки:**\n",
    "- `pandas` - для работы с данными;\n",
    "- `matplotlib` и `seaborn` - для визуализаций;\n",
    "- `phik` - для выявления корреляции между данными."
   ]
  },
  {
   "cell_type": "code",
   "execution_count": 1,
   "id": "b855de9c",
   "metadata": {},
   "outputs": [
    {
     "name": "stdout",
     "output_type": "stream",
     "text": [
      "Collecting phik\n",
      "  Downloading phik-0.12.4-cp39-cp39-manylinux_2_17_x86_64.manylinux2014_x86_64.whl (686 kB)\n",
      "\u001b[K     |████████████████████████████████| 686 kB 1.4 MB/s eta 0:00:01\n",
      "\u001b[?25hRequirement already satisfied: matplotlib>=2.2.3 in /opt/conda/lib/python3.9/site-packages (from phik) (3.3.4)\n",
      "Requirement already satisfied: joblib>=0.14.1 in /opt/conda/lib/python3.9/site-packages (from phik) (1.1.0)\n",
      "Requirement already satisfied: pandas>=0.25.1 in /opt/conda/lib/python3.9/site-packages (from phik) (1.2.4)\n",
      "Requirement already satisfied: numpy>=1.18.0 in /opt/conda/lib/python3.9/site-packages (from phik) (1.21.1)\n",
      "Requirement already satisfied: scipy>=1.5.2 in /opt/conda/lib/python3.9/site-packages (from phik) (1.9.1)\n",
      "Requirement already satisfied: kiwisolver>=1.0.1 in /opt/conda/lib/python3.9/site-packages (from matplotlib>=2.2.3->phik) (1.4.4)\n",
      "Requirement already satisfied: python-dateutil>=2.1 in /opt/conda/lib/python3.9/site-packages (from matplotlib>=2.2.3->phik) (2.8.1)\n",
      "Requirement already satisfied: pillow>=6.2.0 in /opt/conda/lib/python3.9/site-packages (from matplotlib>=2.2.3->phik) (8.4.0)\n",
      "Requirement already satisfied: pyparsing!=2.0.4,!=2.1.2,!=2.1.6,>=2.0.3 in /opt/conda/lib/python3.9/site-packages (from matplotlib>=2.2.3->phik) (2.4.7)\n",
      "Requirement already satisfied: cycler>=0.10 in /opt/conda/lib/python3.9/site-packages (from matplotlib>=2.2.3->phik) (0.11.0)\n",
      "Requirement already satisfied: pytz>=2017.3 in /opt/conda/lib/python3.9/site-packages (from pandas>=0.25.1->phik) (2021.1)\n",
      "Requirement already satisfied: six>=1.5 in /opt/conda/lib/python3.9/site-packages (from python-dateutil>=2.1->matplotlib>=2.2.3->phik) (1.16.0)\n",
      "Installing collected packages: phik\n",
      "Successfully installed phik-0.12.4\n"
     ]
    }
   ],
   "source": [
    "!pip install phik"
   ]
  },
  {
   "cell_type": "code",
   "execution_count": 2,
   "id": "05faf34b",
   "metadata": {
    "id": "05faf34b"
   },
   "outputs": [],
   "source": [
    "# Подключаем необходимые библиотеки\n",
    "import pandas as pd\n",
    "import matplotlib.pyplot as plt\n",
    "import seaborn as sns\n",
    "import numpy as np\n",
    "from phik import phik_matrix"
   ]
  },
  {
   "cell_type": "code",
   "execution_count": 3,
   "id": "ce87c1db",
   "metadata": {
    "id": "ce87c1db"
   },
   "outputs": [],
   "source": [
    "# Загружаем датасеты в переменные\n",
    "rest_info = pd.read_csv('https://code.s3.yandex.net/datasets/rest_info.csv')\n",
    "rest_price = pd.read_csv('https://code.s3.yandex.net/datasets/rest_price.csv')"
   ]
  },
  {
   "cell_type": "markdown",
   "id": "18b5dfff",
   "metadata": {
    "id": "18b5dfff"
   },
   "source": [
    "**Познакомимся с данными датасета `/datasets/rest_info.csv` и изучим о них информацию.**"
   ]
  },
  {
   "cell_type": "code",
   "execution_count": 4,
   "id": "f68a7419",
   "metadata": {
    "id": "f68a7419"
   },
   "outputs": [
    {
     "data": {
      "text/html": [
       "<div>\n",
       "<style scoped>\n",
       "    .dataframe tbody tr th:only-of-type {\n",
       "        vertical-align: middle;\n",
       "    }\n",
       "\n",
       "    .dataframe tbody tr th {\n",
       "        vertical-align: top;\n",
       "    }\n",
       "\n",
       "    .dataframe thead th {\n",
       "        text-align: right;\n",
       "    }\n",
       "</style>\n",
       "<table border=\"1\" class=\"dataframe\">\n",
       "  <thead>\n",
       "    <tr style=\"text-align: right;\">\n",
       "      <th></th>\n",
       "      <th>id</th>\n",
       "      <th>name</th>\n",
       "      <th>category</th>\n",
       "      <th>address</th>\n",
       "      <th>district</th>\n",
       "      <th>hours</th>\n",
       "      <th>rating</th>\n",
       "      <th>chain</th>\n",
       "      <th>seats</th>\n",
       "    </tr>\n",
       "  </thead>\n",
       "  <tbody>\n",
       "    <tr>\n",
       "      <th>0</th>\n",
       "      <td>0c3e3439a8c64ea5bf6ecd6ca6ae19f0</td>\n",
       "      <td>WoWфли</td>\n",
       "      <td>кафе</td>\n",
       "      <td>Москва, улица Дыбенко, 7/1</td>\n",
       "      <td>Северный административный округ</td>\n",
       "      <td>ежедневно, 10:00–22:00</td>\n",
       "      <td>5.0</td>\n",
       "      <td>0</td>\n",
       "      <td>NaN</td>\n",
       "    </tr>\n",
       "    <tr>\n",
       "      <th>1</th>\n",
       "      <td>045780ada3474c57a2112e505d74b633</td>\n",
       "      <td>Четыре комнаты</td>\n",
       "      <td>ресторан</td>\n",
       "      <td>Москва, улица Дыбенко, 36, корп. 1</td>\n",
       "      <td>Северный административный округ</td>\n",
       "      <td>ежедневно, 10:00–22:00</td>\n",
       "      <td>4.5</td>\n",
       "      <td>0</td>\n",
       "      <td>4.0</td>\n",
       "    </tr>\n",
       "    <tr>\n",
       "      <th>2</th>\n",
       "      <td>1070b6b59144425896c65889347fcff6</td>\n",
       "      <td>Хазри</td>\n",
       "      <td>кафе</td>\n",
       "      <td>Москва, Клязьминская улица, 15</td>\n",
       "      <td>Северный административный округ</td>\n",
       "      <td>пн-чт 11:00–02:00; пт,сб 11:00–05:00; вс 11:00...</td>\n",
       "      <td>4.6</td>\n",
       "      <td>0</td>\n",
       "      <td>45.0</td>\n",
       "    </tr>\n",
       "    <tr>\n",
       "      <th>3</th>\n",
       "      <td>03ac7cd772104f65b58b349dc59f03ee</td>\n",
       "      <td>Dormouse Coffee Shop</td>\n",
       "      <td>кофейня</td>\n",
       "      <td>Москва, улица Маршала Федоренко, 12</td>\n",
       "      <td>Северный административный округ</td>\n",
       "      <td>ежедневно, 09:00–22:00</td>\n",
       "      <td>5.0</td>\n",
       "      <td>0</td>\n",
       "      <td>NaN</td>\n",
       "    </tr>\n",
       "    <tr>\n",
       "      <th>4</th>\n",
       "      <td>a163aada139c4c7f87b0b1c0b466a50f</td>\n",
       "      <td>Иль Марко</td>\n",
       "      <td>пиццерия</td>\n",
       "      <td>Москва, Правобережная улица, 1Б</td>\n",
       "      <td>Северный административный округ</td>\n",
       "      <td>ежедневно, 10:00–22:00</td>\n",
       "      <td>5.0</td>\n",
       "      <td>1</td>\n",
       "      <td>148.0</td>\n",
       "    </tr>\n",
       "  </tbody>\n",
       "</table>\n",
       "</div>"
      ],
      "text/plain": [
       "                                 id                  name  category  \\\n",
       "0  0c3e3439a8c64ea5bf6ecd6ca6ae19f0                WoWфли      кафе   \n",
       "1  045780ada3474c57a2112e505d74b633        Четыре комнаты  ресторан   \n",
       "2  1070b6b59144425896c65889347fcff6                 Хазри      кафе   \n",
       "3  03ac7cd772104f65b58b349dc59f03ee  Dormouse Coffee Shop   кофейня   \n",
       "4  a163aada139c4c7f87b0b1c0b466a50f             Иль Марко  пиццерия   \n",
       "\n",
       "                               address                         district  \\\n",
       "0           Москва, улица Дыбенко, 7/1  Северный административный округ   \n",
       "1   Москва, улица Дыбенко, 36, корп. 1  Северный административный округ   \n",
       "2       Москва, Клязьминская улица, 15  Северный административный округ   \n",
       "3  Москва, улица Маршала Федоренко, 12  Северный административный округ   \n",
       "4      Москва, Правобережная улица, 1Б  Северный административный округ   \n",
       "\n",
       "                                               hours  rating  chain  seats  \n",
       "0                             ежедневно, 10:00–22:00     5.0      0    NaN  \n",
       "1                             ежедневно, 10:00–22:00     4.5      0    4.0  \n",
       "2  пн-чт 11:00–02:00; пт,сб 11:00–05:00; вс 11:00...     4.6      0   45.0  \n",
       "3                             ежедневно, 09:00–22:00     5.0      0    NaN  \n",
       "4                             ежедневно, 10:00–22:00     5.0      1  148.0  "
      ]
     },
     "execution_count": 4,
     "metadata": {},
     "output_type": "execute_result"
    }
   ],
   "source": [
    "# Выводим первые 5 строк датасета\n",
    "rest_info.head()"
   ]
  },
  {
   "cell_type": "code",
   "execution_count": 5,
   "id": "dd415c80",
   "metadata": {
    "id": "dd415c80"
   },
   "outputs": [
    {
     "name": "stdout",
     "output_type": "stream",
     "text": [
      "<class 'pandas.core.frame.DataFrame'>\n",
      "RangeIndex: 8406 entries, 0 to 8405\n",
      "Data columns (total 9 columns):\n",
      " #   Column    Non-Null Count  Dtype  \n",
      "---  ------    --------------  -----  \n",
      " 0   id        8406 non-null   object \n",
      " 1   name      8406 non-null   object \n",
      " 2   category  8406 non-null   object \n",
      " 3   address   8406 non-null   object \n",
      " 4   district  8406 non-null   object \n",
      " 5   hours     7870 non-null   object \n",
      " 6   rating    8406 non-null   float64\n",
      " 7   chain     8406 non-null   int64  \n",
      " 8   seats     4795 non-null   float64\n",
      "dtypes: float64(2), int64(1), object(6)\n",
      "memory usage: 591.2+ KB\n"
     ]
    }
   ],
   "source": [
    "# Выводим информацию о датасете\n",
    "rest_info.info()"
   ]
  },
  {
   "cell_type": "markdown",
   "id": "2a996e1f",
   "metadata": {
    "id": "3158ad37"
   },
   "source": [
    "Датасет `/datasets/rest_info.csv` содержит 8406 строк и 9 столбцов, в которых представлена информация о среднем чеке в заведениях общественного питания.\n",
    "\n",
    "**На основании знакомства с данными можно сделать следующие выводы:**\n",
    "- Названия столбцов приведены к корректному виду snake case.\n",
    "- В датасете содержатся 2 столбца с числовым типом данных `float64`, 1 столбец с числовым типом данных `int64`, 6 стобцов со строчным типом данных `object`.\n",
    "- Столбцы `hours` и `seats` содержат явные пропуски.\n",
    "- Столбец `seats` нужно привести к целочисленному типу данных, т.к. кол-во посадочных мест не может быть дробным числом.\n",
    "- Данные соответсвуют своему описанию."
   ]
  },
  {
   "cell_type": "markdown",
   "id": "812e3d9a",
   "metadata": {},
   "source": [
    "**Познакомимся с данными датафрейма `/datasets/rest_price.csv` и изучим о них информацию.**"
   ]
  },
  {
   "cell_type": "code",
   "execution_count": 6,
   "id": "6f285ce7",
   "metadata": {},
   "outputs": [
    {
     "data": {
      "text/html": [
       "<div>\n",
       "<style scoped>\n",
       "    .dataframe tbody tr th:only-of-type {\n",
       "        vertical-align: middle;\n",
       "    }\n",
       "\n",
       "    .dataframe tbody tr th {\n",
       "        vertical-align: top;\n",
       "    }\n",
       "\n",
       "    .dataframe thead th {\n",
       "        text-align: right;\n",
       "    }\n",
       "</style>\n",
       "<table border=\"1\" class=\"dataframe\">\n",
       "  <thead>\n",
       "    <tr style=\"text-align: right;\">\n",
       "      <th></th>\n",
       "      <th>id</th>\n",
       "      <th>price</th>\n",
       "      <th>avg_bill</th>\n",
       "      <th>middle_avg_bill</th>\n",
       "      <th>middle_coffee_cup</th>\n",
       "    </tr>\n",
       "  </thead>\n",
       "  <tbody>\n",
       "    <tr>\n",
       "      <th>0</th>\n",
       "      <td>045780ada3474c57a2112e505d74b633</td>\n",
       "      <td>выше среднего</td>\n",
       "      <td>Средний счёт:1500–1600 ₽</td>\n",
       "      <td>1550.0</td>\n",
       "      <td>NaN</td>\n",
       "    </tr>\n",
       "    <tr>\n",
       "      <th>1</th>\n",
       "      <td>1070b6b59144425896c65889347fcff6</td>\n",
       "      <td>средние</td>\n",
       "      <td>Средний счёт:от 1000 ₽</td>\n",
       "      <td>1000.0</td>\n",
       "      <td>NaN</td>\n",
       "    </tr>\n",
       "    <tr>\n",
       "      <th>2</th>\n",
       "      <td>03ac7cd772104f65b58b349dc59f03ee</td>\n",
       "      <td>NaN</td>\n",
       "      <td>Цена чашки капучино:155–185 ₽</td>\n",
       "      <td>NaN</td>\n",
       "      <td>170.0</td>\n",
       "    </tr>\n",
       "    <tr>\n",
       "      <th>3</th>\n",
       "      <td>a163aada139c4c7f87b0b1c0b466a50f</td>\n",
       "      <td>средние</td>\n",
       "      <td>Средний счёт:400–600 ₽</td>\n",
       "      <td>500.0</td>\n",
       "      <td>NaN</td>\n",
       "    </tr>\n",
       "    <tr>\n",
       "      <th>4</th>\n",
       "      <td>8a343546b24e4a499ad96eb7d0797a8a</td>\n",
       "      <td>средние</td>\n",
       "      <td>NaN</td>\n",
       "      <td>NaN</td>\n",
       "      <td>NaN</td>\n",
       "    </tr>\n",
       "  </tbody>\n",
       "</table>\n",
       "</div>"
      ],
      "text/plain": [
       "                                 id          price  \\\n",
       "0  045780ada3474c57a2112e505d74b633  выше среднего   \n",
       "1  1070b6b59144425896c65889347fcff6        средние   \n",
       "2  03ac7cd772104f65b58b349dc59f03ee            NaN   \n",
       "3  a163aada139c4c7f87b0b1c0b466a50f        средние   \n",
       "4  8a343546b24e4a499ad96eb7d0797a8a        средние   \n",
       "\n",
       "                        avg_bill  middle_avg_bill  middle_coffee_cup  \n",
       "0       Средний счёт:1500–1600 ₽           1550.0                NaN  \n",
       "1         Средний счёт:от 1000 ₽           1000.0                NaN  \n",
       "2  Цена чашки капучино:155–185 ₽              NaN              170.0  \n",
       "3         Средний счёт:400–600 ₽            500.0                NaN  \n",
       "4                            NaN              NaN                NaN  "
      ]
     },
     "execution_count": 6,
     "metadata": {},
     "output_type": "execute_result"
    }
   ],
   "source": [
    "# Выводим первые 5 строк датасета\n",
    "rest_price.head()"
   ]
  },
  {
   "cell_type": "code",
   "execution_count": 7,
   "id": "bf9b870f",
   "metadata": {},
   "outputs": [
    {
     "name": "stdout",
     "output_type": "stream",
     "text": [
      "<class 'pandas.core.frame.DataFrame'>\n",
      "RangeIndex: 4058 entries, 0 to 4057\n",
      "Data columns (total 5 columns):\n",
      " #   Column             Non-Null Count  Dtype  \n",
      "---  ------             --------------  -----  \n",
      " 0   id                 4058 non-null   object \n",
      " 1   price              3315 non-null   object \n",
      " 2   avg_bill           3816 non-null   object \n",
      " 3   middle_avg_bill    3149 non-null   float64\n",
      " 4   middle_coffee_cup  535 non-null    float64\n",
      "dtypes: float64(2), object(3)\n",
      "memory usage: 158.6+ KB\n"
     ]
    }
   ],
   "source": [
    "# Выводим информацию о датасете\n",
    "rest_price.info()"
   ]
  },
  {
   "cell_type": "markdown",
   "id": "de918890",
   "metadata": {},
   "source": [
    "Датасет `/datasets/rest_price.csv` содержит 4058 строк и 5 столбцов, в которых представлена информация о заведениях общественного питания.\n",
    "\n",
    "**На основании знакомства с данными можно сделать следующие выводы:**\n",
    "- Названия столбцов приведены к корректному виду snake case.\n",
    "- В датасете содержатся 2 столбца с числовым типом данных `float64` и 3 столбца со строчным типом данных `object`.\n",
    "- Столбцы `price`, `avg_bill`, `middle_avg_bill`, `middle_coffee_cup` содержат явные пропуски.\n",
    "- Данные соответсвуют своему описанию."
   ]
  },
  {
   "cell_type": "markdown",
   "id": "8a8d1491",
   "metadata": {
    "id": "8a8d1491"
   },
   "source": [
    "### Подготовка единого датафрейма\n",
    "\n",
    "**Для дальнейшего анализа необходимо создать единый датафрейм. Создавать датафрейм будем путем левого джойна датасета `/datasets/rest_price.csv` к датасету `/datasets/rest_info.csv`, т.к. нам важно сохранить всю информацию в датасете `/datasets/rest_info.csv`, который является ключевым.**"
   ]
  },
  {
   "cell_type": "code",
   "execution_count": 8,
   "id": "3408e303",
   "metadata": {
    "id": "3408e303"
   },
   "outputs": [],
   "source": [
    "# Создаем единый датафрейм\n",
    "rest_df = rest_info.merge(rest_price, on='id', how='left')"
   ]
  },
  {
   "cell_type": "code",
   "execution_count": 9,
   "id": "5695950b",
   "metadata": {
    "id": "5695950b"
   },
   "outputs": [
    {
     "data": {
      "text/html": [
       "<div>\n",
       "<style scoped>\n",
       "    .dataframe tbody tr th:only-of-type {\n",
       "        vertical-align: middle;\n",
       "    }\n",
       "\n",
       "    .dataframe tbody tr th {\n",
       "        vertical-align: top;\n",
       "    }\n",
       "\n",
       "    .dataframe thead th {\n",
       "        text-align: right;\n",
       "    }\n",
       "</style>\n",
       "<table border=\"1\" class=\"dataframe\">\n",
       "  <thead>\n",
       "    <tr style=\"text-align: right;\">\n",
       "      <th></th>\n",
       "      <th>id</th>\n",
       "      <th>name</th>\n",
       "      <th>category</th>\n",
       "      <th>address</th>\n",
       "      <th>district</th>\n",
       "      <th>hours</th>\n",
       "      <th>rating</th>\n",
       "      <th>chain</th>\n",
       "      <th>seats</th>\n",
       "      <th>price</th>\n",
       "      <th>avg_bill</th>\n",
       "      <th>middle_avg_bill</th>\n",
       "      <th>middle_coffee_cup</th>\n",
       "    </tr>\n",
       "  </thead>\n",
       "  <tbody>\n",
       "    <tr>\n",
       "      <th>0</th>\n",
       "      <td>0c3e3439a8c64ea5bf6ecd6ca6ae19f0</td>\n",
       "      <td>WoWфли</td>\n",
       "      <td>кафе</td>\n",
       "      <td>Москва, улица Дыбенко, 7/1</td>\n",
       "      <td>Северный административный округ</td>\n",
       "      <td>ежедневно, 10:00–22:00</td>\n",
       "      <td>5.0</td>\n",
       "      <td>0</td>\n",
       "      <td>NaN</td>\n",
       "      <td>NaN</td>\n",
       "      <td>NaN</td>\n",
       "      <td>NaN</td>\n",
       "      <td>NaN</td>\n",
       "    </tr>\n",
       "    <tr>\n",
       "      <th>1</th>\n",
       "      <td>045780ada3474c57a2112e505d74b633</td>\n",
       "      <td>Четыре комнаты</td>\n",
       "      <td>ресторан</td>\n",
       "      <td>Москва, улица Дыбенко, 36, корп. 1</td>\n",
       "      <td>Северный административный округ</td>\n",
       "      <td>ежедневно, 10:00–22:00</td>\n",
       "      <td>4.5</td>\n",
       "      <td>0</td>\n",
       "      <td>4.0</td>\n",
       "      <td>выше среднего</td>\n",
       "      <td>Средний счёт:1500–1600 ₽</td>\n",
       "      <td>1550.0</td>\n",
       "      <td>NaN</td>\n",
       "    </tr>\n",
       "    <tr>\n",
       "      <th>2</th>\n",
       "      <td>1070b6b59144425896c65889347fcff6</td>\n",
       "      <td>Хазри</td>\n",
       "      <td>кафе</td>\n",
       "      <td>Москва, Клязьминская улица, 15</td>\n",
       "      <td>Северный административный округ</td>\n",
       "      <td>пн-чт 11:00–02:00; пт,сб 11:00–05:00; вс 11:00...</td>\n",
       "      <td>4.6</td>\n",
       "      <td>0</td>\n",
       "      <td>45.0</td>\n",
       "      <td>средние</td>\n",
       "      <td>Средний счёт:от 1000 ₽</td>\n",
       "      <td>1000.0</td>\n",
       "      <td>NaN</td>\n",
       "    </tr>\n",
       "    <tr>\n",
       "      <th>3</th>\n",
       "      <td>03ac7cd772104f65b58b349dc59f03ee</td>\n",
       "      <td>Dormouse Coffee Shop</td>\n",
       "      <td>кофейня</td>\n",
       "      <td>Москва, улица Маршала Федоренко, 12</td>\n",
       "      <td>Северный административный округ</td>\n",
       "      <td>ежедневно, 09:00–22:00</td>\n",
       "      <td>5.0</td>\n",
       "      <td>0</td>\n",
       "      <td>NaN</td>\n",
       "      <td>NaN</td>\n",
       "      <td>Цена чашки капучино:155–185 ₽</td>\n",
       "      <td>NaN</td>\n",
       "      <td>170.0</td>\n",
       "    </tr>\n",
       "    <tr>\n",
       "      <th>4</th>\n",
       "      <td>a163aada139c4c7f87b0b1c0b466a50f</td>\n",
       "      <td>Иль Марко</td>\n",
       "      <td>пиццерия</td>\n",
       "      <td>Москва, Правобережная улица, 1Б</td>\n",
       "      <td>Северный административный округ</td>\n",
       "      <td>ежедневно, 10:00–22:00</td>\n",
       "      <td>5.0</td>\n",
       "      <td>1</td>\n",
       "      <td>148.0</td>\n",
       "      <td>средние</td>\n",
       "      <td>Средний счёт:400–600 ₽</td>\n",
       "      <td>500.0</td>\n",
       "      <td>NaN</td>\n",
       "    </tr>\n",
       "  </tbody>\n",
       "</table>\n",
       "</div>"
      ],
      "text/plain": [
       "                                 id                  name  category  \\\n",
       "0  0c3e3439a8c64ea5bf6ecd6ca6ae19f0                WoWфли      кафе   \n",
       "1  045780ada3474c57a2112e505d74b633        Четыре комнаты  ресторан   \n",
       "2  1070b6b59144425896c65889347fcff6                 Хазри      кафе   \n",
       "3  03ac7cd772104f65b58b349dc59f03ee  Dormouse Coffee Shop   кофейня   \n",
       "4  a163aada139c4c7f87b0b1c0b466a50f             Иль Марко  пиццерия   \n",
       "\n",
       "                               address                         district  \\\n",
       "0           Москва, улица Дыбенко, 7/1  Северный административный округ   \n",
       "1   Москва, улица Дыбенко, 36, корп. 1  Северный административный округ   \n",
       "2       Москва, Клязьминская улица, 15  Северный административный округ   \n",
       "3  Москва, улица Маршала Федоренко, 12  Северный административный округ   \n",
       "4      Москва, Правобережная улица, 1Б  Северный административный округ   \n",
       "\n",
       "                                               hours  rating  chain  seats  \\\n",
       "0                             ежедневно, 10:00–22:00     5.0      0    NaN   \n",
       "1                             ежедневно, 10:00–22:00     4.5      0    4.0   \n",
       "2  пн-чт 11:00–02:00; пт,сб 11:00–05:00; вс 11:00...     4.6      0   45.0   \n",
       "3                             ежедневно, 09:00–22:00     5.0      0    NaN   \n",
       "4                             ежедневно, 10:00–22:00     5.0      1  148.0   \n",
       "\n",
       "           price                       avg_bill  middle_avg_bill  \\\n",
       "0            NaN                            NaN              NaN   \n",
       "1  выше среднего       Средний счёт:1500–1600 ₽           1550.0   \n",
       "2        средние         Средний счёт:от 1000 ₽           1000.0   \n",
       "3            NaN  Цена чашки капучино:155–185 ₽              NaN   \n",
       "4        средние         Средний счёт:400–600 ₽            500.0   \n",
       "\n",
       "   middle_coffee_cup  \n",
       "0                NaN  \n",
       "1                NaN  \n",
       "2                NaN  \n",
       "3              170.0  \n",
       "4                NaN  "
      ]
     },
     "execution_count": 9,
     "metadata": {},
     "output_type": "execute_result"
    }
   ],
   "source": [
    "# Выводим первые 5 строк нового датафрейма\n",
    "rest_df.head()"
   ]
  },
  {
   "cell_type": "code",
   "execution_count": 10,
   "id": "6577c71c",
   "metadata": {
    "id": "6577c71c"
   },
   "outputs": [
    {
     "name": "stdout",
     "output_type": "stream",
     "text": [
      "<class 'pandas.core.frame.DataFrame'>\n",
      "Int64Index: 8406 entries, 0 to 8405\n",
      "Data columns (total 13 columns):\n",
      " #   Column             Non-Null Count  Dtype  \n",
      "---  ------             --------------  -----  \n",
      " 0   id                 8406 non-null   object \n",
      " 1   name               8406 non-null   object \n",
      " 2   category           8406 non-null   object \n",
      " 3   address            8406 non-null   object \n",
      " 4   district           8406 non-null   object \n",
      " 5   hours              7870 non-null   object \n",
      " 6   rating             8406 non-null   float64\n",
      " 7   chain              8406 non-null   int64  \n",
      " 8   seats              4795 non-null   float64\n",
      " 9   price              3315 non-null   object \n",
      " 10  avg_bill           3816 non-null   object \n",
      " 11  middle_avg_bill    3149 non-null   float64\n",
      " 12  middle_coffee_cup  535 non-null    float64\n",
      "dtypes: float64(4), int64(1), object(8)\n",
      "memory usage: 919.4+ KB\n"
     ]
    }
   ],
   "source": [
    "# Выводим информацию о новом датафрейме\n",
    "rest_df.info()"
   ]
  },
  {
   "cell_type": "markdown",
   "id": "2fe1576c",
   "metadata": {},
   "source": [
    "Итоговый датафрейм `rest_df` содержит 8406 строк и 13 столбцов."
   ]
  },
  {
   "cell_type": "markdown",
   "id": "956e82e2",
   "metadata": {
    "id": "956e82e2"
   },
   "source": [
    "## 2. Предобработка данных\n",
    "\n",
    "**Необходимо привести столбец `seat` к типу данных `int64`, т.к. кол-во посадочных мест не может быть дробным числом. Пропущенные значения заменим на ноль. Гипотеза: пропущенные значения в столбце `seat` означают, что это формат места 'на вынос' или присутствует только доставка.**"
   ]
  },
  {
   "cell_type": "code",
   "execution_count": 11,
   "id": "67956690",
   "metadata": {
    "id": "67956690"
   },
   "outputs": [],
   "source": [
    "# Меняем тип данных в столбце\n",
    "rest_df['seats'] = pd.to_numeric(rest_df['seats'], errors='coerce').fillna(0).astype(int)"
   ]
  },
  {
   "cell_type": "code",
   "execution_count": 12,
   "id": "b5f2a94d",
   "metadata": {
    "id": "b5f2a94d"
   },
   "outputs": [
    {
     "name": "stdout",
     "output_type": "stream",
     "text": [
      "int64\n"
     ]
    }
   ],
   "source": [
    "# Проверяем, изменился ли тип данных в столбце\n",
    "print(rest_df['seats'].dtypes)"
   ]
  },
  {
   "cell_type": "markdown",
   "id": "4b7ee469",
   "metadata": {
    "id": "4b7ee469"
   },
   "source": [
    "**Необходимо изучить и посчитать кол-во пропусков в данных по всем столбцам.**"
   ]
  },
  {
   "cell_type": "code",
   "execution_count": 13,
   "id": "3d8840ca",
   "metadata": {
    "id": "3d8840ca"
   },
   "outputs": [
    {
     "data": {
      "text/plain": [
       "id                      0\n",
       "name                    0\n",
       "category                0\n",
       "address                 0\n",
       "district                0\n",
       "hours                 536\n",
       "rating                  0\n",
       "chain                   0\n",
       "seats                   0\n",
       "price                5091\n",
       "avg_bill             4590\n",
       "middle_avg_bill      5257\n",
       "middle_coffee_cup    7871\n",
       "dtype: int64"
      ]
     },
     "execution_count": 13,
     "metadata": {},
     "output_type": "execute_result"
    }
   ],
   "source": [
    "# Считаем количество пропусков в каждом столбце\n",
    "rest_df.isna().sum()"
   ]
  },
  {
   "cell_type": "code",
   "execution_count": 14,
   "id": "2ea145ca",
   "metadata": {
    "id": "2ea145ca"
   },
   "outputs": [
    {
     "data": {
      "text/plain": [
       "id                   0.000000\n",
       "name                 0.000000\n",
       "category             0.000000\n",
       "address              0.000000\n",
       "district             0.000000\n",
       "hours                0.063764\n",
       "rating               0.000000\n",
       "chain                0.000000\n",
       "seats                0.000000\n",
       "price                0.605639\n",
       "avg_bill             0.546039\n",
       "middle_avg_bill      0.625387\n",
       "middle_coffee_cup    0.936355\n",
       "dtype: float64"
      ]
     },
     "execution_count": 14,
     "metadata": {},
     "output_type": "execute_result"
    }
   ],
   "source": [
    "# Посчитаем долю строк с пропусками\n",
    "rest_df.isna().mean()"
   ]
  },
  {
   "cell_type": "markdown",
   "id": "5cb680f0",
   "metadata": {
    "id": "d9e7c358"
   },
   "source": [
    "Столбцы `hours`, `price`, `avg_bill`, `middle_avg_bill` и `middle_coffee_cup` содержат пропуски. Ранее пропуски так же содержались в столбце `seat`, но при смене типа данных на целочисленный, пропуски были заменены на 0 в связи с гипотизой о том, что пропуски связаны с типом заведения.\n",
    "\n",
    "По столбцам, в которых наблюдаются пропуски, можно предположить следующее:\n",
    "- Пропуски в солбце `hours`, который содержит информацию о времени работы заведения, вероятно, связаны с тем, что заведение закрыто по какой-либо причине (ремонт, ликвидация и т.д.).\n",
    "- По первичной оценке можно заметить, что если у заведения нет информации о посадочном месте, то у него так же пропуск в столбце `price`, который содержит информацию о категории цен в заведнии. Здесь можно выдвинуть гипотезу, что заведения, которые предположительно работают 'на вынос' или только в доставке, не пападют в рейтинг по ценовым категориям.\n",
    "- Пропуск в столбце `avg_bill`, вероятно, связан с тем, что такой учет в заведении не велся.\n",
    "- Пропуск в столбце `middle_avg_bill` имеет место быть, если есть пропуск в столбце `avg_bill`. Также, здесь будет пропуск, если заведения является форматом 'кофе с собой'.\n",
    "- Пропуск в столбце `middle_coffee_cup` имеет место быть, если есть пропуск в столбце `avg_bill`. Также, здесь будет пропуск, если заведения НЕ является форматом 'кофе с собой'.\n",
    "\n",
    "По итогу анализа пропусков датафрейме были приняты следующие решения:\n",
    "- В столбце `seat` заменить пропуски на 0.\n",
    "- В столбцах `hours`, `price`, `avg_bill`, `middle_avg_bill` и `middle_coffee_cup` оставить пропуски в неизменном виде для корректного анализа."
   ]
  },
  {
   "cell_type": "markdown",
   "id": "c4d5f04d",
   "metadata": {
    "id": "c4d5f04d"
   },
   "source": [
    "**Необходимо проверить данные на явные и неявные дубликаты для нальнейшего корректиного анализа. Каждая строка должна содержать уникальный `id` заведения.**"
   ]
  },
  {
   "cell_type": "code",
   "execution_count": 15,
   "id": "0769b681",
   "metadata": {
    "id": "0769b681"
   },
   "outputs": [
    {
     "data": {
      "text/plain": [
       "0"
      ]
     },
     "execution_count": 15,
     "metadata": {},
     "output_type": "execute_result"
    }
   ],
   "source": [
    "# Посчитаем количество явных дубликатов\n",
    "rest_df.duplicated().sum()"
   ]
  },
  {
   "cell_type": "code",
   "execution_count": 16,
   "id": "95b15cd0",
   "metadata": {
    "id": "95b15cd0"
   },
   "outputs": [
    {
     "data": {
      "text/plain": [
       "0"
      ]
     },
     "execution_count": 16,
     "metadata": {},
     "output_type": "execute_result"
    }
   ],
   "source": [
    "# Посчитаем количество дубликатов по id\n",
    "rest_df.duplicated(subset='id').sum()"
   ]
  },
  {
   "cell_type": "code",
   "execution_count": 17,
   "id": "b52bae9a",
   "metadata": {
    "id": "b52bae9a"
   },
   "outputs": [
    {
     "name": "stdout",
     "output_type": "stream",
     "text": [
      "Уникальные значения в столбце category:\n",
      "['кафе' 'ресторан' 'кофейня' 'пиццерия' 'бар,паб' 'быстрое питание'\n",
      " 'булочная' 'столовая']\n",
      "\n",
      "Уникальные значения в столбце district:\n",
      "['Северный административный округ'\n",
      " 'Северо-Восточный административный округ'\n",
      " 'Северо-Западный административный округ'\n",
      " 'Западный административный округ' 'Центральный административный округ'\n",
      " 'Восточный административный округ' 'Юго-Восточный административный округ'\n",
      " 'Южный административный округ' 'Юго-Западный административный округ']\n",
      "\n",
      "Уникальные значения в столбце price:\n",
      "[nan 'выше среднего' 'средние' 'высокие' 'низкие']\n",
      "\n"
     ]
    }
   ],
   "source": [
    "# Проверим уникальные занчения в столбцах category, district, price\n",
    "for column in ['category', 'district', 'price']:\n",
    "    print(f'Уникальные значения в столбце {column}:')\n",
    "    unique_values = rest_df[column].unique()\n",
    "    print(unique_values)\n",
    "    print()"
   ]
  },
  {
   "cell_type": "code",
   "execution_count": 18,
   "id": "6d940174",
   "metadata": {},
   "outputs": [
    {
     "data": {
      "text/plain": [
       "4"
      ]
     },
     "execution_count": 18,
     "metadata": {},
     "output_type": "execute_result"
    }
   ],
   "source": [
    "# Посчитаем количество дубликатов по столбцам name и address\n",
    "rest_df['name'] = rest_df['name'].str.lower()\n",
    "rest_df['address'] = rest_df['address'].str.lower()\n",
    "\n",
    "rest_df.duplicated(subset=['name', 'address']).sum()"
   ]
  },
  {
   "cell_type": "code",
   "execution_count": 19,
   "id": "b8f651df",
   "metadata": {},
   "outputs": [],
   "source": [
    "# Удалим найденные дубликаты\n",
    "rest_df = rest_df.drop_duplicates(subset=['name', 'address'])"
   ]
  },
  {
   "cell_type": "markdown",
   "id": "ed8c911a",
   "metadata": {},
   "source": [
    "По итогу проверки данных были найдены 4 дубликата."
   ]
  },
  {
   "cell_type": "markdown",
   "id": "4c0563f2",
   "metadata": {
    "id": "4c0563f2"
   },
   "source": [
    "**Создадим новый столбец `is_24_7` с обозначением того, что заведение работает ежедневно и круглосуточно:**\n",
    "  - логическое значение `True` — если заведение работает ежедневно и круглосуточно;\n",
    "  - логическое значение `False` — в противоположном случае."
   ]
  },
  {
   "cell_type": "code",
   "execution_count": 20,
   "id": "d8a8a963",
   "metadata": {
    "id": "d8a8a963"
   },
   "outputs": [],
   "source": [
    "# Создаем новый столбец с информацией о работе заведения\n",
    "def check_24_7(hours):\n",
    "    if pd.isna(hours):\n",
    "        return False\n",
    "    elif 'ежедневно' in hours:\n",
    "        if '00:00' in hours or '24:00' in hours:\n",
    "            return True\n",
    "        return False\n",
    "    \n",
    "rest_df['is_24_7'] = rest_df['hours'].apply(check_24_7)"
   ]
  },
  {
   "cell_type": "code",
   "execution_count": 21,
   "id": "42d1e685",
   "metadata": {
    "id": "42d1e685"
   },
   "outputs": [
    {
     "data": {
      "text/html": [
       "<div>\n",
       "<style scoped>\n",
       "    .dataframe tbody tr th:only-of-type {\n",
       "        vertical-align: middle;\n",
       "    }\n",
       "\n",
       "    .dataframe tbody tr th {\n",
       "        vertical-align: top;\n",
       "    }\n",
       "\n",
       "    .dataframe thead th {\n",
       "        text-align: right;\n",
       "    }\n",
       "</style>\n",
       "<table border=\"1\" class=\"dataframe\">\n",
       "  <thead>\n",
       "    <tr style=\"text-align: right;\">\n",
       "      <th></th>\n",
       "      <th>id</th>\n",
       "      <th>name</th>\n",
       "      <th>category</th>\n",
       "      <th>address</th>\n",
       "      <th>district</th>\n",
       "      <th>hours</th>\n",
       "      <th>rating</th>\n",
       "      <th>chain</th>\n",
       "      <th>seats</th>\n",
       "      <th>price</th>\n",
       "      <th>avg_bill</th>\n",
       "      <th>middle_avg_bill</th>\n",
       "      <th>middle_coffee_cup</th>\n",
       "      <th>is_24_7</th>\n",
       "    </tr>\n",
       "  </thead>\n",
       "  <tbody>\n",
       "    <tr>\n",
       "      <th>0</th>\n",
       "      <td>0c3e3439a8c64ea5bf6ecd6ca6ae19f0</td>\n",
       "      <td>wowфли</td>\n",
       "      <td>кафе</td>\n",
       "      <td>москва, улица дыбенко, 7/1</td>\n",
       "      <td>Северный административный округ</td>\n",
       "      <td>ежедневно, 10:00–22:00</td>\n",
       "      <td>5.0</td>\n",
       "      <td>0</td>\n",
       "      <td>0</td>\n",
       "      <td>NaN</td>\n",
       "      <td>NaN</td>\n",
       "      <td>NaN</td>\n",
       "      <td>NaN</td>\n",
       "      <td>False</td>\n",
       "    </tr>\n",
       "    <tr>\n",
       "      <th>1</th>\n",
       "      <td>045780ada3474c57a2112e505d74b633</td>\n",
       "      <td>четыре комнаты</td>\n",
       "      <td>ресторан</td>\n",
       "      <td>москва, улица дыбенко, 36, корп. 1</td>\n",
       "      <td>Северный административный округ</td>\n",
       "      <td>ежедневно, 10:00–22:00</td>\n",
       "      <td>4.5</td>\n",
       "      <td>0</td>\n",
       "      <td>4</td>\n",
       "      <td>выше среднего</td>\n",
       "      <td>Средний счёт:1500–1600 ₽</td>\n",
       "      <td>1550.0</td>\n",
       "      <td>NaN</td>\n",
       "      <td>False</td>\n",
       "    </tr>\n",
       "    <tr>\n",
       "      <th>2</th>\n",
       "      <td>1070b6b59144425896c65889347fcff6</td>\n",
       "      <td>хазри</td>\n",
       "      <td>кафе</td>\n",
       "      <td>москва, клязьминская улица, 15</td>\n",
       "      <td>Северный административный округ</td>\n",
       "      <td>пн-чт 11:00–02:00; пт,сб 11:00–05:00; вс 11:00...</td>\n",
       "      <td>4.6</td>\n",
       "      <td>0</td>\n",
       "      <td>45</td>\n",
       "      <td>средние</td>\n",
       "      <td>Средний счёт:от 1000 ₽</td>\n",
       "      <td>1000.0</td>\n",
       "      <td>NaN</td>\n",
       "      <td>None</td>\n",
       "    </tr>\n",
       "    <tr>\n",
       "      <th>3</th>\n",
       "      <td>03ac7cd772104f65b58b349dc59f03ee</td>\n",
       "      <td>dormouse coffee shop</td>\n",
       "      <td>кофейня</td>\n",
       "      <td>москва, улица маршала федоренко, 12</td>\n",
       "      <td>Северный административный округ</td>\n",
       "      <td>ежедневно, 09:00–22:00</td>\n",
       "      <td>5.0</td>\n",
       "      <td>0</td>\n",
       "      <td>0</td>\n",
       "      <td>NaN</td>\n",
       "      <td>Цена чашки капучино:155–185 ₽</td>\n",
       "      <td>NaN</td>\n",
       "      <td>170.0</td>\n",
       "      <td>False</td>\n",
       "    </tr>\n",
       "    <tr>\n",
       "      <th>4</th>\n",
       "      <td>a163aada139c4c7f87b0b1c0b466a50f</td>\n",
       "      <td>иль марко</td>\n",
       "      <td>пиццерия</td>\n",
       "      <td>москва, правобережная улица, 1б</td>\n",
       "      <td>Северный административный округ</td>\n",
       "      <td>ежедневно, 10:00–22:00</td>\n",
       "      <td>5.0</td>\n",
       "      <td>1</td>\n",
       "      <td>148</td>\n",
       "      <td>средние</td>\n",
       "      <td>Средний счёт:400–600 ₽</td>\n",
       "      <td>500.0</td>\n",
       "      <td>NaN</td>\n",
       "      <td>False</td>\n",
       "    </tr>\n",
       "  </tbody>\n",
       "</table>\n",
       "</div>"
      ],
      "text/plain": [
       "                                 id                  name  category  \\\n",
       "0  0c3e3439a8c64ea5bf6ecd6ca6ae19f0                wowфли      кафе   \n",
       "1  045780ada3474c57a2112e505d74b633        четыре комнаты  ресторан   \n",
       "2  1070b6b59144425896c65889347fcff6                 хазри      кафе   \n",
       "3  03ac7cd772104f65b58b349dc59f03ee  dormouse coffee shop   кофейня   \n",
       "4  a163aada139c4c7f87b0b1c0b466a50f             иль марко  пиццерия   \n",
       "\n",
       "                               address                         district  \\\n",
       "0           москва, улица дыбенко, 7/1  Северный административный округ   \n",
       "1   москва, улица дыбенко, 36, корп. 1  Северный административный округ   \n",
       "2       москва, клязьминская улица, 15  Северный административный округ   \n",
       "3  москва, улица маршала федоренко, 12  Северный административный округ   \n",
       "4      москва, правобережная улица, 1б  Северный административный округ   \n",
       "\n",
       "                                               hours  rating  chain  seats  \\\n",
       "0                             ежедневно, 10:00–22:00     5.0      0      0   \n",
       "1                             ежедневно, 10:00–22:00     4.5      0      4   \n",
       "2  пн-чт 11:00–02:00; пт,сб 11:00–05:00; вс 11:00...     4.6      0     45   \n",
       "3                             ежедневно, 09:00–22:00     5.0      0      0   \n",
       "4                             ежедневно, 10:00–22:00     5.0      1    148   \n",
       "\n",
       "           price                       avg_bill  middle_avg_bill  \\\n",
       "0            NaN                            NaN              NaN   \n",
       "1  выше среднего       Средний счёт:1500–1600 ₽           1550.0   \n",
       "2        средние         Средний счёт:от 1000 ₽           1000.0   \n",
       "3            NaN  Цена чашки капучино:155–185 ₽              NaN   \n",
       "4        средние         Средний счёт:400–600 ₽            500.0   \n",
       "\n",
       "   middle_coffee_cup is_24_7  \n",
       "0                NaN   False  \n",
       "1                NaN   False  \n",
       "2                NaN    None  \n",
       "3              170.0   False  \n",
       "4                NaN   False  "
      ]
     },
     "execution_count": 21,
     "metadata": {},
     "output_type": "execute_result"
    }
   ],
   "source": [
    "# Проверяем новый столбец\n",
    "rest_df.head()"
   ]
  },
  {
   "cell_type": "markdown",
   "id": "555bab85",
   "metadata": {
    "id": "61304e83"
   },
   "source": [
    "Итог предобработки данных:\n",
    "\n",
    "- Тип данных в столбце `seats` был изменем с `float64` на `int64`.\n",
    "- Дубликаты в датафрейме не найдены.\n",
    "- Добавлен новый столбец `is_24_7` с информацией о ежедневной и круглосуточной работе заведений."
   ]
  },
  {
   "cell_type": "markdown",
   "id": "6953e84c",
   "metadata": {
    "id": "6953e84c",
    "jp-MarkdownHeadingCollapsed": true
   },
   "source": [
    "## 3. Исследовательский анализ данных\n",
    "Проведите исследовательский анализ исходных данных.\n",
    "\n",
    "При исследовании данных используйте визуализации. Проверьте, что для каждого случая подобран оптимальный тип визуализации с корректным оформлением. У графика должен быть заголовок, понятные подписи по осям, при необходимости легенда, а его размер является оптимальным для изучения.\n",
    "\n",
    "После исследования каждого пункта оставляйте небольшой комментарий с выводом или обсуждением результата. В конце шага обобщите результаты, выделив, по вашему мнению, самые важные."
   ]
  },
  {
   "cell_type": "markdown",
   "id": "8555d840",
   "metadata": {
    "id": "8555d840"
   },
   "source": [
    "---\n",
    "\n",
    "### Задача 1\n",
    "\n",
    "**Исследуем количество объектов общественного питания по каждой категории.**"
   ]
  },
  {
   "cell_type": "code",
   "execution_count": 22,
   "id": "ef2bffe9",
   "metadata": {
    "id": "ef2bffe9"
   },
   "outputs": [
    {
     "name": "stdout",
     "output_type": "stream",
     "text": [
      "category\n",
      "кафе               2376\n",
      "ресторан           2042\n",
      "кофейня            1413\n",
      "бар,паб             764\n",
      "пиццерия            633\n",
      "быстрое питание     603\n",
      "столовая            315\n",
      "булочная            256\n",
      "Name: id, dtype: int64\n"
     ]
    }
   ],
   "source": [
    "# Делаем группировку по столбцу category\n",
    "rest_category = rest_df.groupby('category')['id'].count()\n",
    "rest_category = rest_category.sort_values(ascending=False)\n",
    "\n",
    "print(rest_category)"
   ]
  },
  {
   "cell_type": "code",
   "execution_count": 23,
   "id": "9be4d8c3",
   "metadata": {},
   "outputs": [
    {
     "name": "stdout",
     "output_type": "stream",
     "text": [
      "кафе               28.278981\n",
      "ресторан           24.303737\n",
      "кофейня            16.817424\n",
      "бар,паб             9.093073\n",
      "пиццерия            7.533920\n",
      "быстрое питание     7.176863\n",
      "столовая            3.749107\n",
      "булочная            3.046894\n",
      "Name: category, dtype: float64\n"
     ]
    }
   ],
   "source": [
    "# Посчитаем кол-во заведений по категориям в процентах\n",
    "rest_category = rest_df['category'].value_counts(normalize=True) * 100\n",
    "\n",
    "print(rest_category)"
   ]
  },
  {
   "cell_type": "code",
   "execution_count": 24,
   "id": "71ab5e91",
   "metadata": {
    "id": "71ab5e91"
   },
   "outputs": [
    {
     "data": {
      "image/png": "[encoded data removed]",
      "text/plain": [
       "<Figure size 864x576 with 1 Axes>"
      ]
     },
     "metadata": {
      "needs_background": "light"
     },
     "output_type": "display_data"
    }
   ],
   "source": [
    "# Построим столбчатую диаграмму по количеству заведений в каждой категории\n",
    "plt.figure(figsize=(12, 8))\n",
    "\n",
    "\n",
    "rest_category.plot(kind='bar', color='orange')\n",
    "\n",
    "plt.title('Количество заведений по категориям')\n",
    "plt.xlabel('Категория')\n",
    "plt.ylabel('Количество заведений')\n",
    "\n",
    "plt.show()"
   ]
  },
  {
   "cell_type": "markdown",
   "id": "62a97a11",
   "metadata": {
    "id": "63360b97"
   },
   "source": [
    "Наибольшее количество заведений мы можем наблюдать в категориях кафе, ресторан и кофейня."
   ]
  },
  {
   "cell_type": "markdown",
   "id": "6821e1d0",
   "metadata": {
    "id": "6821e1d0"
   },
   "source": [
    "---\n",
    "\n",
    "### Задача 2\n",
    "\n",
    "**Исследуем распределение количества заведений по административным районам Москвы, а также отдельно распределение заведений каждой категории в Центральном административном округе Москвы.**"
   ]
  },
  {
   "cell_type": "code",
   "execution_count": 25,
   "id": "e62f31be",
   "metadata": {
    "id": "e62f31be"
   },
   "outputs": [
    {
     "name": "stdout",
     "output_type": "stream",
     "text": [
      "district\n",
      "Центральный административный округ         2242\n",
      "Северный административный округ             898\n",
      "Южный административный округ                892\n",
      "Северо-Восточный административный округ     890\n",
      "Западный административный округ             850\n",
      "Восточный административный округ            798\n",
      "Юго-Восточный административный округ        714\n",
      "Юго-Западный административный округ         709\n",
      "Северо-Западный административный округ      409\n",
      "Name: id, dtype: int64\n"
     ]
    }
   ],
   "source": [
    "# Делаем группировку по столбцу district\n",
    "rest_district = rest_df.groupby('district')['id'].count()\n",
    "rest_district = rest_district.sort_values(ascending=False)\n",
    "\n",
    "print(rest_district)"
   ]
  },
  {
   "cell_type": "code",
   "execution_count": 26,
   "id": "13b2e60d",
   "metadata": {},
   "outputs": [
    {
     "name": "stdout",
     "output_type": "stream",
     "text": [
      "Центральный административный округ         26.684123\n",
      "Северный административный округ            10.687931\n",
      "Южный административный округ               10.616520\n",
      "Северо-Восточный административный округ    10.592716\n",
      "Западный административный округ            10.116639\n",
      "Восточный административный округ            9.497739\n",
      "Юго-Восточный административный округ        8.497977\n",
      "Юго-Западный административный округ         8.438467\n",
      "Северо-Западный административный округ      4.867889\n",
      "Name: district, dtype: float64\n"
     ]
    }
   ],
   "source": [
    "# Посчитаем кол-во заведений по районам в процентах\n",
    "rest_district = rest_df['district'].value_counts(normalize=True) * 100\n",
    "\n",
    "print(rest_district)"
   ]
  },
  {
   "cell_type": "code",
   "execution_count": 27,
   "id": "391e77f3",
   "metadata": {},
   "outputs": [
    {
     "data": {
      "text/plain": [
       "Text(0, 0.5, 'Количество заведений')"
      ]
     },
     "execution_count": 27,
     "metadata": {},
     "output_type": "execute_result"
    },
    {
     "data": {
      "image/png": "[encoded data removed]",
      "text/plain": [
       "<Figure size 864x576 with 1 Axes>"
      ]
     },
     "metadata": {
      "needs_background": "light"
     },
     "output_type": "display_data"
    }
   ],
   "source": [
    "# Построим столбчатую диаграмму по количеству заведений в каждом районе Москвы\n",
    "plt.figure(figsize=(12, 8))\n",
    "\n",
    "\n",
    "rest_district.plot(kind='bar', color='orange')\n",
    "\n",
    "plt.title('Количество заведений по районам')\n",
    "plt.xlabel('Район')\n",
    "plt.ylabel('Количество заведений')"
   ]
  },
  {
   "cell_type": "markdown",
   "id": "c8e1750c",
   "metadata": {},
   "source": [
    "Наибольшее количетсво заведений наблюдается в Центральном административном округе."
   ]
  },
  {
   "cell_type": "code",
   "execution_count": 28,
   "id": "0a290cd1",
   "metadata": {
    "id": "0a290cd1"
   },
   "outputs": [
    {
     "name": "stdout",
     "output_type": "stream",
     "text": [
      "category\n",
      "ресторан           670\n",
      "кафе               464\n",
      "кофейня            428\n",
      "бар,паб            364\n",
      "пиццерия           113\n",
      "быстрое питание     87\n",
      "столовая            66\n",
      "булочная            50\n",
      "Name: id, dtype: int64\n"
     ]
    }
   ],
   "source": [
    "# Делаем группировку по столбцу category в Центральном административном округе\n",
    "rest_district_center = rest_df[rest_df['district'] == 'Центральный административный округ']\n",
    "rest_category_center = rest_district_center.groupby('category')['id'].count()\n",
    "rest_category_center = rest_category_center.sort_values(ascending=False)\n",
    "\n",
    "print(rest_category_center)"
   ]
  },
  {
   "cell_type": "code",
   "execution_count": 29,
   "id": "41f1654a",
   "metadata": {
    "id": "41f1654a"
   },
   "outputs": [
    {
     "data": {
      "text/plain": [
       "Text(0, 0.5, 'Количество заведений')"
      ]
     },
     "execution_count": 29,
     "metadata": {},
     "output_type": "execute_result"
    },
    {
     "data": {
      "image/png": "[encoded data removed]",
      "text/plain": [
       "<Figure size 864x576 with 1 Axes>"
      ]
     },
     "metadata": {
      "needs_background": "light"
     },
     "output_type": "display_data"
    }
   ],
   "source": [
    "# Построим столбчатую диаграмму по категория в Центральном административном округе\n",
    "plt.figure(figsize=(12, 8))\n",
    "\n",
    "rest_category_center.plot(kind='bar', color='orange')\n",
    "\n",
    "plt.title('Количество заведений по категориям в Центральном административном округе')\n",
    "plt.xlabel('Категория')\n",
    "plt.ylabel('Количество заведений')"
   ]
  },
  {
   "cell_type": "markdown",
   "id": "ce8ebcfa",
   "metadata": {},
   "source": [
    "В Центральном административном округе лидируют такие категории, как рестораны, кафе и кофейни."
   ]
  },
  {
   "cell_type": "markdown",
   "id": "7c824f58",
   "metadata": {
    "id": "7c824f58"
   },
   "source": [
    "---\n",
    "\n",
    "### Задача 3\n",
    "\n",
    "**Изучим соотношение сетевых и несетевых заведений в целом по всем данным и в разрезе категорий заведения.**"
   ]
  },
  {
   "cell_type": "code",
   "execution_count": 30,
   "id": "ef442d1a",
   "metadata": {
    "id": "ef442d1a"
   },
   "outputs": [
    {
     "name": "stdout",
     "output_type": "stream",
     "text": [
      "chain\n",
      "0    5199\n",
      "1    3203\n",
      "Name: id, dtype: int64\n"
     ]
    }
   ],
   "source": [
    "# Посмотрим, сколько заведений являются сетевыми, а сколько - нет\n",
    "rest_chain = rest_df.groupby('chain')['id'].count()\n",
    "\n",
    "print(rest_chain)"
   ]
  },
  {
   "cell_type": "code",
   "execution_count": 31,
   "id": "0de29fa2",
   "metadata": {
    "id": "0de29fa2"
   },
   "outputs": [
    {
     "data": {
      "image/png": "[encoded data removed]",
      "text/plain": [
       "<Figure size 864x576 with 1 Axes>"
      ]
     },
     "metadata": {},
     "output_type": "display_data"
    }
   ],
   "source": [
    "# Построим столбчатую диаграмму по сетевым и несетевым заведениям\n",
    "plt.figure(figsize=(12, 8))\n",
    "\n",
    "rest_chain.plot(kind='pie', \n",
    "                colors=['orange', 'lightgreen'],\n",
    "                autopct='%1.1f%%',\n",
    "                startangle=90)\n",
    "\n",
    "plt.title('Количество сетевых и несетвых заведений в Москве')\n",
    "plt.ylabel('')\n",
    "plt.legend(labels=['Несетевые', 'Сетевые'])\n",
    "\n",
    "plt.show()"
   ]
  },
  {
   "cell_type": "markdown",
   "id": "bbd47d4d",
   "metadata": {},
   "source": [
    "Можем наблюдать, что несетевых заведений примерно в полтора раза больше, чем сетевых."
   ]
  },
  {
   "cell_type": "code",
   "execution_count": 32,
   "id": "b411015b",
   "metadata": {},
   "outputs": [
    {
     "name": "stdout",
     "output_type": "stream",
     "text": [
      "chain               0    1\n",
      "category                  \n",
      "бар,паб           596  168\n",
      "булочная           99  157\n",
      "быстрое питание   371  232\n",
      "кафе             1597  779\n",
      "кофейня           693  720\n",
      "пиццерия          303  330\n",
      "ресторан         1313  729\n",
      "столовая          227   88\n"
     ]
    }
   ],
   "source": [
    "# Сделаем сводную таблицу, что посмотреть количество типов заведений в каждой категории\n",
    "rest_chain_category = rest_df.pivot_table(values='id', index='category', columns='chain', aggfunc='count')\n",
    "\n",
    "print(rest_chain_category)"
   ]
  },
  {
   "cell_type": "code",
   "execution_count": 33,
   "id": "12f37fb7",
   "metadata": {},
   "outputs": [
    {
     "name": "stdout",
     "output_type": "stream",
     "text": [
      "chain               0    1\n",
      "category                  \n",
      "кафе             1597  779\n",
      "ресторан         1313  729\n",
      "кофейня           693  720\n",
      "бар,паб           596  168\n",
      "пиццерия          303  330\n",
      "быстрое питание   371  232\n",
      "столовая          227   88\n",
      "булочная           99  157\n"
     ]
    }
   ],
   "source": [
    "# Добавим временный столбец с суммой заведений для сортировки графика\n",
    "rest_chain_category['total'] = rest_chain_category.sum(axis=1)\n",
    "rest_chain_category = rest_chain_category.sort_values(by='total', ascending=False).drop(columns='total')\n",
    "\n",
    "print(rest_chain_category)"
   ]
  },
  {
   "cell_type": "code",
   "execution_count": 34,
   "id": "c5eeb2ae",
   "metadata": {},
   "outputs": [
    {
     "data": {
      "image/png": "[encoded data removed]",
      "text/plain": [
       "<Figure size 864x576 with 1 Axes>"
      ]
     },
     "metadata": {
      "needs_background": "light"
     },
     "output_type": "display_data"
    }
   ],
   "source": [
    "# Построим столбчатую диаграмму на основе сводной таблицы по типам и категориям\n",
    "rest_chain_category.plot(kind='bar', figsize=(12, 8), color=['orange', 'red'])\n",
    "\n",
    "plt.title('Количество сетевых и несетевых заведений по категориям')\n",
    "plt.xlabel('Категория')\n",
    "plt.ylabel('Количество заведений')\n",
    "plt.legend(title='Тип заведения', labels=['Несетевые', 'Сетевые'])\n",
    "\n",
    "plt.show()"
   ]
  },
  {
   "cell_type": "markdown",
   "id": "3100a509",
   "metadata": {},
   "source": [
    "По данным исследования типов заведениям по категориям мы можем наблюдать следующее:\n",
    "\n",
    "- Сетевые заведения преобладают в таких категориях, как булочная, кофейня и пиццерия, но с небольшим отрывом.\n",
    "- Несетевые заведения, причем с сильном отрывом (превышаю по количеству сетевые примерно в 2 раза), преобладают в остальных категориях."
   ]
  },
  {
   "cell_type": "markdown",
   "id": "5913c3e3",
   "metadata": {
    "id": "5913c3e3"
   },
   "source": [
    "---\n",
    "\n",
    "### Задача 4\n",
    "\n",
    "**Исследуем количество посадочных мест в заведениях. Приведем для каждой категории заведений наиболее типичное для него количество посадочных мест.**\n"
   ]
  },
  {
   "cell_type": "code",
   "execution_count": 35,
   "id": "6cb238d2",
   "metadata": {
    "id": "6cb238d2"
   },
   "outputs": [
    {
     "name": "stdout",
     "output_type": "stream",
     "text": [
      "count    8402.000000\n",
      "mean       61.802904\n",
      "std       107.160755\n",
      "min         0.000000\n",
      "25%         0.000000\n",
      "50%        20.000000\n",
      "75%        85.000000\n",
      "max      1288.000000\n",
      "Name: seats, dtype: float64\n"
     ]
    }
   ],
   "source": [
    "# Выгрузим меры центральной тенденции по столбцу seats\n",
    "rest_seats_describe = rest_df['seats'].describe()\n",
    "\n",
    "print(rest_seats_describe)"
   ]
  },
  {
   "cell_type": "markdown",
   "id": "8f8b81d5",
   "metadata": {
    "id": "062b55d8"
   },
   "source": [
    "По ключевым показателям предварительно можно сказать, что данные распределны не симметрично, так как есть отрыв между медианой и средним."
   ]
  },
  {
   "cell_type": "code",
   "execution_count": 36,
   "id": "ceadf25b",
   "metadata": {
    "id": "ceadf25b"
   },
   "outputs": [
    {
     "data": {
      "text/plain": [
       "Text(0, 0.5, 'Количество заведенний')"
      ]
     },
     "execution_count": 36,
     "metadata": {},
     "output_type": "execute_result"
    },
    {
     "data": {
      "image/png": "[encoded data removed]",
      "text/plain": [
       "<Figure size 864x576 with 1 Axes>"
      ]
     },
     "metadata": {
      "needs_background": "light"
     },
     "output_type": "display_data"
    }
   ],
   "source": [
    "# Построим гистограмму, чтобы увидеть распределние данных в столбце seats\n",
    "rest_df['seats'].hist(figsize=(12, 8), bins=50, color='orange')\n",
    "\n",
    "plt.title('Распределение данных в столбце seats')\n",
    "plt.xlabel('Количество посадочных мест')\n",
    "plt.ylabel('Количество заведенний')"
   ]
  },
  {
   "cell_type": "markdown",
   "id": "f33cf3f1",
   "metadata": {},
   "source": [
    "Исходя из гистограммы мы можем наблюдать скошенность влево. Большая часть значений приближена к нулю. Также можем наблюдать аномально большие значения."
   ]
  },
  {
   "cell_type": "code",
   "execution_count": 37,
   "id": "29434577",
   "metadata": {},
   "outputs": [
    {
     "data": {
      "text/plain": [
       "Text(0.5, 0, 'Количество посадочных мест')"
      ]
     },
     "execution_count": 37,
     "metadata": {},
     "output_type": "execute_result"
    },
    {
     "data": {
      "image/png": "[encoded data removed]",
      "text/plain": [
       "<Figure size 864x576 with 1 Axes>"
      ]
     },
     "metadata": {
      "needs_background": "light"
     },
     "output_type": "display_data"
    }
   ],
   "source": [
    "# Для наблюдением за выбросами построим диаграмму размаха по столбцу seats\n",
    "rest_seats_visual = rest_df.boxplot(column='seats', vert=False, figsize=(12, 8), color='orange')\n",
    "\n",
    "rest_seats_visual.set_title('Распределение выбросов в столбце seats')\n",
    "rest_seats_visual.set_xlabel('Количество посадочных мест')"
   ]
  },
  {
   "cell_type": "markdown",
   "id": "7824899b",
   "metadata": {},
   "source": [
    "В столбце seats, в котором находятся данные о кличестве посадочных мест, можем наблюдать большое количество аномально больших значений выше 200. Гипотеза: возможно, это техническая ошибка при сохранении данных о количестве месте (например, вместо 1200 мест, должно быть 120.0)"
   ]
  },
  {
   "cell_type": "code",
   "execution_count": 38,
   "id": "f26225c3",
   "metadata": {},
   "outputs": [
    {
     "name": "stdout",
     "output_type": "stream",
     "text": [
      "category\n",
      "бар,паб            76.087696\n",
      "ресторан           75.749755\n",
      "пиццерия           63.744076\n",
      "кофейня            59.101911\n",
      "быстрое питание    57.235489\n",
      "столовая           51.933333\n",
      "булочная           51.675781\n",
      "кафе               49.871212\n",
      "Name: seats, dtype: float64\n"
     ]
    }
   ],
   "source": [
    "# Посчитаем среднее количество посадочных мест по каждой категории\n",
    "rest_seats_category = rest_df.groupby('category')['seats'].mean()\n",
    "rest_seats_category = rest_seats_category.sort_values(ascending=False)\n",
    "\n",
    "print(rest_seats_category)"
   ]
  },
  {
   "cell_type": "code",
   "execution_count": 39,
   "id": "5a4d514b",
   "metadata": {},
   "outputs": [
    {
     "data": {
      "image/png": "[encoded data removed]",
      "text/plain": [
       "<Figure size 864x576 with 1 Axes>"
      ]
     },
     "metadata": {
      "needs_background": "light"
     },
     "output_type": "display_data"
    }
   ],
   "source": [
    "# Отобразим на графике количество посадочных мест по каждый категории\n",
    "rest_seats_category.plot(kind='bar', figsize=(12, 8), color='orange')\n",
    "\n",
    "plt.title('Количество посадочных мест по категориям')\n",
    "plt.xlabel('Категория')\n",
    "plt.ylabel('Количество посадочных мест')\n",
    "\n",
    "plt.show()"
   ]
  },
  {
   "cell_type": "markdown",
   "id": "c10409a5",
   "metadata": {},
   "source": [
    "С учетом выбросов можем наблюдать наибольшее количество посадочных мест в категории 'бар, паб'"
   ]
  },
  {
   "cell_type": "markdown",
   "id": "8ed065ea",
   "metadata": {
    "id": "8ed065ea"
   },
   "source": [
    "---\n",
    "\n",
    "### Задача 5\n",
    "\n",
    "**Исследуем рейтинг заведений. Визуализируем распределение средних рейтингов по категориям заведений.**"
   ]
  },
  {
   "cell_type": "code",
   "execution_count": 40,
   "id": "faae7076",
   "metadata": {},
   "outputs": [
    {
     "name": "stdout",
     "output_type": "stream",
     "text": [
      "count    8402.000000\n",
      "mean        4.230017\n",
      "std         0.470320\n",
      "min         1.000000\n",
      "25%         4.100000\n",
      "50%         4.300000\n",
      "75%         4.400000\n",
      "max         5.000000\n",
      "Name: rating, dtype: float64\n"
     ]
    }
   ],
   "source": [
    "# Выгрузим меры центральной тенденции по столбцу rating\n",
    "rest_rating_describe = rest_df['rating'].describe()\n",
    "\n",
    "print(rest_rating_describe)"
   ]
  },
  {
   "cell_type": "code",
   "execution_count": 41,
   "id": "cc5206f8",
   "metadata": {
    "id": "cc5206f8"
   },
   "outputs": [
    {
     "name": "stdout",
     "output_type": "stream",
     "text": [
      "category\n",
      "бар,паб            4.387696\n",
      "пиццерия           4.301264\n",
      "ресторан           4.290402\n",
      "кофейня            4.277282\n",
      "булочная           4.268359\n",
      "столовая           4.211429\n",
      "кафе               4.124285\n",
      "быстрое питание    4.050249\n",
      "Name: rating, dtype: float64\n"
     ]
    }
   ],
   "source": [
    "# Сгруппируем категории заведений по среднему рейтингу\n",
    "rest_raiting_category = rest_df.groupby('category')['rating'].mean()\n",
    "rest_raiting_category = rest_raiting_category.sort_values(ascending=False)\n",
    "\n",
    "print(rest_raiting_category)"
   ]
  },
  {
   "cell_type": "code",
   "execution_count": 42,
   "id": "3e0ec5d7",
   "metadata": {
    "id": "3e0ec5d7"
   },
   "outputs": [
    {
     "data": {
      "image/png": "[encoded data removed]",
      "text/plain": [
       "<Figure size 864x576 with 1 Axes>"
      ]
     },
     "metadata": {
      "needs_background": "light"
     },
     "output_type": "display_data"
    }
   ],
   "source": [
    "# Визуализируем распределение среднего рейтинга по категориям\n",
    "rest_raiting_category.plot(kind='bar', figsize=(12, 8), color='orange')\n",
    "\n",
    "plt.title('Рейтинг заведений по категориям')\n",
    "plt.xlabel('Категория')\n",
    "plt.ylabel('Рейтинг')\n",
    "\n",
    "plt.show()"
   ]
  },
  {
   "cell_type": "markdown",
   "id": "c5deeb00",
   "metadata": {
    "id": "766c86cb"
   },
   "source": [
    "По данным исследования рейтинга заведений можно сказать, что он практически не зависит от категории заведения."
   ]
  },
  {
   "cell_type": "markdown",
   "id": "dd9702d9",
   "metadata": {
    "id": "dd9702d9"
   },
   "source": [
    "---\n",
    "\n",
    "### Задача 6\n",
    "\n",
    "**Изучим, с какими данными показывают самую сильную корреляцию рейтинги заведений. Посмотрим матрицу корреляции рейтинга заведения с разными данными: его категория, положение (административный район Москвы), статус сетевого заведения, количество мест, ценовая категория и признак, является ли заведения круглосуточным.**"
   ]
  },
  {
   "cell_type": "code",
   "execution_count": 43,
   "id": "15400eb9",
   "metadata": {
    "id": "15400eb9",
    "scrolled": true
   },
   "outputs": [
    {
     "name": "stdout",
     "output_type": "stream",
     "text": [
      "interval columns not set, guessing: ['seats', 'rating']\n",
      "            rating\n",
      "price     0.220295\n",
      "district  0.200761\n",
      "category  0.189716\n",
      "is_24_7   0.130119\n",
      "chain     0.107833\n",
      "seats     0.000000\n"
     ]
    }
   ],
   "source": [
    "# Считаем коррелцию для столбца rating\n",
    "rest_df['category'] = rest_df['category'].astype('category')\n",
    "rest_df['district'] = rest_df['district'].astype('category')\n",
    "rest_df['is_24_7'] = rest_df['is_24_7'].astype('category')\n",
    "rest_df['chain'] = rest_df['chain'].astype('category')\n",
    "rest_df['price'] = rest_df['price'].astype('category')\n",
    "\n",
    "corr_matrix = rest_df[['category', 'district', 'chain', 'seats', 'price', 'is_24_7', 'rating']].phik_matrix()\n",
    "\n",
    "print(corr_matrix.loc[corr_matrix.index != 'rating'][['rating']].sort_values('rating', ascending=False))"
   ]
  },
  {
   "cell_type": "code",
   "execution_count": 44,
   "id": "9907bf3c",
   "metadata": {},
   "outputs": [
    {
     "data": {
      "image/png": "[encoded data removed]",
      "text/plain": [
       "<Figure size 864x576 with 2 Axes>"
      ]
     },
     "metadata": {
      "needs_background": "light"
     },
     "output_type": "display_data"
    }
   ],
   "source": [
    "# Визуализируем корреляцию\n",
    "plt.figure(figsize=(12, 8))\n",
    "sns.heatmap(corr_matrix, annot=True, cmap='coolwarm', cbar=True, square=True, fmt=\".2f\", linewidths=.5)\n",
    "plt.title('Тепловая карта корреляции')\n",
    "plt.show()"
   ]
  },
  {
   "cell_type": "markdown",
   "id": "b249d19d",
   "metadata": {},
   "source": [
    "Наблюдается высокая корреляция между категорией заведения и уровнем цен. Также, есть заметная, но не высокая корреляция между рейтингом, уровнем цен и районом."
   ]
  },
  {
   "cell_type": "markdown",
   "id": "370de703",
   "metadata": {
    "id": "370de703"
   },
   "source": [
    "---\n",
    "\n",
    "### Задача 7\n",
    "\n",
    "**Сгруппируем данные по названиям заведений и выведем топ-15 популярных сетей в Москве. Посчитаем для них значения среднего рейтинга и посмотрим категорию заведения. Под популярностью понимается количество заведений этой сети в регионе.**"
   ]
  },
  {
   "cell_type": "code",
   "execution_count": 45,
   "id": "5d828a9a",
   "metadata": {
    "id": "5d828a9a"
   },
   "outputs": [
    {
     "name": "stdout",
     "output_type": "stream",
     "text": [
      "                                              count_rest  avg_rating\n",
      "name                                category                        \n",
      "шоколадница                         кофейня          119    4.178151\n",
      "домино'с пицца                      пиццерия          76    4.169737\n",
      "додо пицца                          пиццерия          74    4.286486\n",
      "one price coffee                    кофейня           71    4.064789\n",
      "яндекс лавка                        ресторан          69    3.872464\n",
      "cofix                               кофейня           65    4.075385\n",
      "prime                               ресторан          49    4.114286\n",
      "кофепорт                            кофейня           42    4.147619\n",
      "кулинарная лавка братьев караваевых кафе              39    4.394872\n",
      "теремок                             ресторан          36    4.105556\n",
      "cofefest                            кофейня           31    3.977419\n",
      "чайхана                             кафе              26    3.946154\n",
      "буханка                             булочная          25    4.416000\n",
      "drive café                          кафе              24    4.025000\n",
      "кофемания                           кофейня           22    4.463636\n"
     ]
    }
   ],
   "source": [
    "# Выведем топ-15 сетевых заведений города\n",
    "rest_chain_1 = rest_df[rest_df['chain'] == 1]\n",
    "rest_top_15 = rest_chain_1.groupby(['name', 'category'])[['id', 'rating']].agg(['count', 'mean'])\n",
    "rest_top_15.columns = ['count_rest', 'avg_rating']\n",
    "rest_top_15 = rest_top_15.sort_values(by=('count_rest'), ascending=False).head(15)\n",
    "\n",
    "print(rest_top_15)"
   ]
  },
  {
   "cell_type": "markdown",
   "id": "ef4d4b7c",
   "metadata": {
    "id": "d013c598"
   },
   "source": [
    "По количеству заведений в городе лидирует Шоколадница, на последнем месте рейтинга - сеть Кофемания."
   ]
  },
  {
   "cell_type": "markdown",
   "id": "85a90a94",
   "metadata": {
    "id": "85a90a94"
   },
   "source": [
    "---\n",
    "\n",
    "### Задача 8\n",
    "\n",
    "Изучим вариацию среднего чека заведения (столбец `middle_avg_bill`) в зависимости от района Москвы. Проанализируем цены в Центральном административном округе и других.\n"
   ]
  },
  {
   "cell_type": "code",
   "execution_count": 46,
   "id": "5fb4ffc6",
   "metadata": {
    "id": "5fb4ffc6"
   },
   "outputs": [
    {
     "name": "stdout",
     "output_type": "stream",
     "text": [
      "          mean_avg_bill  max_avg_bill  min_avg_bill\n",
      "district                                           \n",
      "ВАО          820.626923       10000.0          50.0\n",
      "ЗАО         1053.225490        5250.0          50.0\n",
      "САО          927.959627       11000.0         130.0\n",
      "СВАО         716.611296        4500.0          50.0\n",
      "СЗАО         822.222930        2900.0         120.0\n",
      "ЦАО         1191.057547        7250.0           0.0\n",
      "ЮВАО         654.097938        3750.0          30.0\n",
      "ЮЗАО         792.561702        2750.0         100.0\n",
      "ЮАО          834.398089       35000.0         100.0\n"
     ]
    }
   ],
   "source": [
    "# Сгруппируем данные о среднем чеке по районам Москвы\n",
    "rest_district_avg_bill = rest_df.groupby('district')['middle_avg_bill'].agg(['mean', 'max', 'min'])\n",
    "\n",
    "rest_district_avg_bill = rest_district_avg_bill.rename(index={\n",
    "    'Восточный административный округ': 'ВАО',\n",
    "    'Западный административный округ': 'ЗАО',\n",
    "    'Северный административный округ': 'САО',\n",
    "    'Северо-Восточный административный округ': 'СВАО',\n",
    "    'Северо-Западный административный округ': 'СЗАО',\n",
    "    'Центральный административный округ': 'ЦАО',\n",
    "    'Юго-Восточный административный округ': 'ЮВАО',\n",
    "    'Юго-Западный административный округ': 'ЮЗАО',\n",
    "    'Южный административный округ': 'ЮАО'})\n",
    "\n",
    "rest_district_avg_bill.columns = ['mean_avg_bill', 'max_avg_bill', 'min_avg_bill']\n",
    "\n",
    "print(rest_district_avg_bill)"
   ]
  },
  {
   "cell_type": "code",
   "execution_count": 47,
   "id": "b98066c1",
   "metadata": {
    "id": "b98066c1"
   },
   "outputs": [
    {
     "data": {
      "text/plain": [
       "array([<AxesSubplot:title={'center':'Средний показатель среднего чека'}, xlabel='district'>,\n",
       "       <AxesSubplot:title={'center':'Максимальный средний чек'}, xlabel='district'>,\n",
       "       <AxesSubplot:title={'center':'Минимальный средний чек'}, xlabel='district'>],\n",
       "      dtype=object)"
      ]
     },
     "execution_count": 47,
     "metadata": {},
     "output_type": "execute_result"
    },
    {
     "data": {
      "image/png": "[encoded data removed]",
      "text/plain": [
       "<Figure size 432x288 with 3 Axes>"
      ]
     },
     "metadata": {
      "needs_background": "light"
     },
     "output_type": "display_data"
    }
   ],
   "source": [
    "# Визуализируем полученные результаты\n",
    "rest_district_avg_bill.plot(kind='line', \n",
    "                            subplots=True, \n",
    "                            sharex=True, \n",
    "                            sharey=False, \n",
    "                            legend=False, \n",
    "                            title=['Средний показатель среднего чека', 'Максимальный средний чек', 'Минимальный средний чек'])"
   ]
  },
  {
   "cell_type": "markdown",
   "id": "ecafb6d0",
   "metadata": {
    "id": "9b5e00a5"
   },
   "source": [
    "По результатам исследования можем отметить следующее:\n",
    "- Самый высокий максимальный средний чек наблюдается в Южном административном округе.\n",
    "- Самый низкий минимальный чек является нулевым и принадлежит Центральному административному округу.\n",
    "- Самый высокий средний чек наблюдается в ЦАО, на втором месте ЗАО."
   ]
  },
  {
   "cell_type": "code",
   "execution_count": 48,
   "id": "de113bf4",
   "metadata": {},
   "outputs": [
    {
     "name": "stdout",
     "output_type": "stream",
     "text": [
      "district\n",
      "Центральный административный округ         2242\n",
      "Северный административный округ             898\n",
      "Южный административный округ                892\n",
      "Северо-Восточный административный округ     890\n",
      "Западный административный округ             850\n",
      "Восточный административный округ            798\n",
      "Юго-Восточный административный округ        714\n",
      "Юго-Западный административный округ         709\n",
      "Северо-Западный административный округ      409\n",
      "Name: id, dtype: int64\n"
     ]
    }
   ],
   "source": [
    "# Посчитаем кол-во заведений в каждом районе\n",
    "rest_district_count_id = rest_df.groupby('district')['id'].count()\n",
    "rest_district_count_id = rest_district_count_id.sort_values(ascending=False)\n",
    "\n",
    "print(rest_district_count_id)"
   ]
  },
  {
   "cell_type": "markdown",
   "id": "c150bd4f",
   "metadata": {
    "id": "c150bd4f"
   },
   "source": [
    "---\n"
   ]
  },
  {
   "cell_type": "markdown",
   "id": "480f3422",
   "metadata": {
    "id": "480f3422"
   },
   "source": [
    "## 4. Итоговый вывод и рекомендации\n",
    "\n",
    "### Вывод\n",
    "В результате анализа были изучены 8406 заведений, 5201 из которых являются несетевыми заведениям и 3205 - сетевыми. \n",
    "Также, было выявлено следующее:\n",
    "- Большая часть заведений в Москве принадлежит к категории 'кафе'. При этом в Центральном административном округе большую часть занимают заведения категории 'рестораны'.\n",
    "- Меньше всего в городе булочных.\n",
    "- Выявлено большое количество заведений с аномально высоким количеством посадочных мест, что может быть связано с неверным вводом данных.\n",
    "- Выявлены заведениях с 0 количеством посадочных мест, что может говорить о формате заведения 'на вынос'.\n",
    "- Самый высокий рейтинг у заведений категории 'бар, паб', но в целос разница между средними рейтингами разных категорий небольшая.\n",
    "- Самый высокий средний чек наблюдается в Центральном административном округе, поэтому можно сделать вывод, что заведения, расположенные ближе к центру, наиболее дорогостоящие.\n",
    "\n",
    "### Рекомендации\n",
    "По результатам анализа можно дать следующие рекомендации:\n",
    "- Рассмотреть к открытию категорию заведений, которая находит в меньшинстве (например, булочная), т.к. в среди кафе и ресторанов высокая кокуренция.\n",
    "- Для открытия заведения рекомендуется рассмотреть Северный административный округ, т.к. там конкуренция занчительно ниже, чем в Центральном административном округе, но при этом один из самых высоких средних чеков."
   ]
  }
 ],
 "metadata": {
  "ExecuteTimeLog": [
   {
    "duration": 1524,
    "start_time": "2025-06-18T07:19:27.451Z"
   },
   {
    "duration": 48,
    "start_time": "2025-06-18T07:21:03.599Z"
   },
   {
    "duration": 145,
    "start_time": "2025-06-18T07:22:18.813Z"
   },
   {
    "duration": 151,
    "start_time": "2025-06-18T07:22:22.812Z"
   },
   {
    "duration": 32,
    "start_time": "2025-06-18T07:24:32.226Z"
   },
   {
    "duration": 10,
    "start_time": "2025-06-18T07:25:53.293Z"
   },
   {
    "duration": 16,
    "start_time": "2025-06-18T07:48:42.785Z"
   },
   {
    "duration": 15,
    "start_time": "2025-06-18T07:49:25.064Z"
   },
   {
    "duration": 10,
    "start_time": "2025-06-18T07:51:25.190Z"
   },
   {
    "duration": 12,
    "start_time": "2025-06-18T08:23:20.933Z"
   },
   {
    "duration": 12,
    "start_time": "2025-06-18T08:23:56.307Z"
   },
   {
    "duration": 11,
    "start_time": "2025-06-18T08:56:56.172Z"
   },
   {
    "duration": 15,
    "start_time": "2025-06-18T08:57:51.487Z"
   },
   {
    "duration": 16,
    "start_time": "2025-06-18T08:58:46.647Z"
   },
   {
    "duration": 1309,
    "start_time": "2025-06-18T09:03:35.543Z"
   },
   {
    "duration": 205,
    "start_time": "2025-06-18T09:03:40.340Z"
   },
   {
    "duration": 16,
    "start_time": "2025-06-18T09:03:43.158Z"
   },
   {
    "duration": 14,
    "start_time": "2025-06-18T09:03:46.621Z"
   },
   {
    "duration": 11,
    "start_time": "2025-06-18T09:03:49.998Z"
   },
   {
    "duration": 12,
    "start_time": "2025-06-18T09:03:53.876Z"
   },
   {
    "duration": 11,
    "start_time": "2025-06-18T09:03:58.476Z"
   },
   {
    "duration": 15,
    "start_time": "2025-06-18T09:03:59.420Z"
   },
   {
    "duration": 17,
    "start_time": "2025-06-18T09:04:01.742Z"
   },
   {
    "duration": 1809,
    "start_time": "2025-06-18T09:34:49.105Z"
   },
   {
    "duration": 1325,
    "start_time": "2025-06-18T09:35:56.482Z"
   },
   {
    "duration": 18,
    "start_time": "2025-06-18T09:36:28.081Z"
   },
   {
    "duration": 15,
    "start_time": "2025-06-18T09:37:07.993Z"
   },
   {
    "duration": 5,
    "start_time": "2025-06-18T09:40:46.620Z"
   },
   {
    "duration": 4,
    "start_time": "2025-06-18T09:44:14.383Z"
   },
   {
    "duration": 10,
    "start_time": "2025-06-18T09:48:38.540Z"
   },
   {
    "duration": 12,
    "start_time": "2025-06-18T09:49:44.157Z"
   },
   {
    "duration": 19,
    "start_time": "2025-06-18T10:12:50.699Z"
   },
   {
    "duration": 7,
    "start_time": "2025-06-18T10:15:51.402Z"
   },
   {
    "duration": 12,
    "start_time": "2025-06-18T10:19:49.074Z"
   },
   {
    "duration": 4,
    "start_time": "2025-06-18T10:20:03.519Z"
   },
   {
    "duration": 10,
    "start_time": "2025-06-18T10:27:05.723Z"
   },
   {
    "duration": 8,
    "start_time": "2025-06-18T10:30:07.383Z"
   },
   {
    "duration": 8,
    "start_time": "2025-06-18T10:30:43.097Z"
   },
   {
    "duration": 19,
    "start_time": "2025-06-18T10:34:56.554Z"
   },
   {
    "duration": 337,
    "start_time": "2025-06-18T10:48:12.618Z"
   },
   {
    "duration": 10,
    "start_time": "2025-06-18T11:11:48.011Z"
   },
   {
    "duration": 16,
    "start_time": "2025-06-18T11:12:56.807Z"
   },
   {
    "duration": 1526,
    "start_time": "2025-06-20T04:34:25.883Z"
   },
   {
    "duration": 235,
    "start_time": "2025-06-20T04:34:34.424Z"
   },
   {
    "duration": 18,
    "start_time": "2025-06-20T04:34:38.032Z"
   },
   {
    "duration": 17,
    "start_time": "2025-06-20T04:34:41.538Z"
   },
   {
    "duration": 10,
    "start_time": "2025-06-20T04:34:44.981Z"
   },
   {
    "duration": 12,
    "start_time": "2025-06-20T04:34:53.238Z"
   },
   {
    "duration": 11,
    "start_time": "2025-06-20T04:34:57.601Z"
   },
   {
    "duration": 15,
    "start_time": "2025-06-20T04:34:58.952Z"
   },
   {
    "duration": 16,
    "start_time": "2025-06-20T04:35:00.994Z"
   },
   {
    "duration": 5,
    "start_time": "2025-06-20T04:35:05.662Z"
   },
   {
    "duration": 3,
    "start_time": "2025-06-20T04:35:07.648Z"
   },
   {
    "duration": 10,
    "start_time": "2025-06-20T04:35:10.617Z"
   },
   {
    "duration": 10,
    "start_time": "2025-06-20T04:35:13.211Z"
   },
   {
    "duration": 18,
    "start_time": "2025-06-20T04:35:21.555Z"
   },
   {
    "duration": 7,
    "start_time": "2025-06-20T04:35:22.495Z"
   },
   {
    "duration": 7,
    "start_time": "2025-06-20T04:35:23.418Z"
   },
   {
    "duration": 12,
    "start_time": "2025-06-20T04:35:29.171Z"
   },
   {
    "duration": 16,
    "start_time": "2025-06-20T04:35:30.464Z"
   },
   {
    "duration": 9,
    "start_time": "2025-06-20T04:35:51.195Z"
   },
   {
    "duration": 15,
    "start_time": "2025-06-20T04:35:53.948Z"
   },
   {
    "duration": 6,
    "start_time": "2025-06-20T04:41:05.485Z"
   },
   {
    "duration": 151,
    "start_time": "2025-06-20T04:44:57.905Z"
   },
   {
    "duration": 136,
    "start_time": "2025-06-20T04:45:39.551Z"
   },
   {
    "duration": 124,
    "start_time": "2025-06-20T04:46:56.626Z"
   },
   {
    "duration": 147,
    "start_time": "2025-06-20T04:47:02.006Z"
   },
   {
    "duration": 145,
    "start_time": "2025-06-20T04:57:48.858Z"
   },
   {
    "duration": 7,
    "start_time": "2025-06-20T04:57:53.759Z"
   },
   {
    "duration": 162,
    "start_time": "2025-06-20T04:57:56.028Z"
   },
   {
    "duration": 1316,
    "start_time": "2025-06-20T04:59:45.189Z"
   },
   {
    "duration": 255,
    "start_time": "2025-06-20T04:59:49.564Z"
   },
   {
    "duration": 16,
    "start_time": "2025-06-20T04:59:52.488Z"
   },
   {
    "duration": 15,
    "start_time": "2025-06-20T04:59:56.526Z"
   },
   {
    "duration": 9,
    "start_time": "2025-06-20T04:59:59.408Z"
   },
   {
    "duration": 12,
    "start_time": "2025-06-20T05:00:03.195Z"
   },
   {
    "duration": 12,
    "start_time": "2025-06-20T05:00:06.320Z"
   },
   {
    "duration": 16,
    "start_time": "2025-06-20T05:00:07.494Z"
   },
   {
    "duration": 16,
    "start_time": "2025-06-20T05:00:09.427Z"
   },
   {
    "duration": 4,
    "start_time": "2025-06-20T05:00:12.754Z"
   },
   {
    "duration": 4,
    "start_time": "2025-06-20T05:00:14.232Z"
   },
   {
    "duration": 14,
    "start_time": "2025-06-20T05:00:17.479Z"
   },
   {
    "duration": 11,
    "start_time": "2025-06-20T05:00:19.291Z"
   },
   {
    "duration": 17,
    "start_time": "2025-06-20T05:00:22.874Z"
   },
   {
    "duration": 7,
    "start_time": "2025-06-20T05:00:23.735Z"
   },
   {
    "duration": 11,
    "start_time": "2025-06-20T05:00:24.410Z"
   },
   {
    "duration": 10,
    "start_time": "2025-06-20T05:00:28.053Z"
   },
   {
    "duration": 17,
    "start_time": "2025-06-20T05:00:29.999Z"
   },
   {
    "duration": 8,
    "start_time": "2025-06-20T05:00:37.615Z"
   },
   {
    "duration": 164,
    "start_time": "2025-06-20T05:00:39.804Z"
   },
   {
    "duration": 7,
    "start_time": "2025-06-20T05:07:16.964Z"
   },
   {
    "duration": 9,
    "start_time": "2025-06-20T05:19:16.742Z"
   },
   {
    "duration": 8,
    "start_time": "2025-06-20T05:20:28.887Z"
   },
   {
    "duration": 156,
    "start_time": "2025-06-20T05:23:10.889Z"
   },
   {
    "duration": 192,
    "start_time": "2025-06-20T05:23:58.063Z"
   },
   {
    "duration": 182,
    "start_time": "2025-06-20T05:29:52.661Z"
   },
   {
    "duration": 223,
    "start_time": "2025-06-20T05:29:57.946Z"
   },
   {
    "duration": 226,
    "start_time": "2025-06-20T05:30:05.856Z"
   },
   {
    "duration": 7,
    "start_time": "2025-06-20T05:49:30.624Z"
   },
   {
    "duration": 150,
    "start_time": "2025-06-20T05:55:47.161Z"
   },
   {
    "duration": 11,
    "start_time": "2025-06-20T05:59:52.073Z"
   },
   {
    "duration": 1274,
    "start_time": "2025-06-20T06:00:31.739Z"
   },
   {
    "duration": 273,
    "start_time": "2025-06-20T06:00:38.527Z"
   },
   {
    "duration": 17,
    "start_time": "2025-06-20T06:00:40.964Z"
   },
   {
    "duration": 15,
    "start_time": "2025-06-20T06:00:42.835Z"
   },
   {
    "duration": 10,
    "start_time": "2025-06-20T06:00:45.933Z"
   },
   {
    "duration": 12,
    "start_time": "2025-06-20T06:00:47.543Z"
   },
   {
    "duration": 12,
    "start_time": "2025-06-20T06:00:51.079Z"
   },
   {
    "duration": 15,
    "start_time": "2025-06-20T06:00:52.249Z"
   },
   {
    "duration": 16,
    "start_time": "2025-06-20T06:00:54.370Z"
   },
   {
    "duration": 4,
    "start_time": "2025-06-20T06:00:57.391Z"
   },
   {
    "duration": 3,
    "start_time": "2025-06-20T06:00:58.644Z"
   },
   {
    "duration": 10,
    "start_time": "2025-06-20T06:01:01.404Z"
   },
   {
    "duration": 10,
    "start_time": "2025-06-20T06:01:03.513Z"
   },
   {
    "duration": 16,
    "start_time": "2025-06-20T06:01:42.498Z"
   },
   {
    "duration": 7,
    "start_time": "2025-06-20T06:01:44.034Z"
   },
   {
    "duration": 6,
    "start_time": "2025-06-20T06:01:45.288Z"
   },
   {
    "duration": 10,
    "start_time": "2025-06-20T06:01:48.257Z"
   },
   {
    "duration": 15,
    "start_time": "2025-06-20T06:01:49.343Z"
   },
   {
    "duration": 6,
    "start_time": "2025-06-20T06:01:53.432Z"
   },
   {
    "duration": 185,
    "start_time": "2025-06-20T06:01:55.401Z"
   },
   {
    "duration": 7,
    "start_time": "2025-06-20T06:02:00.520Z"
   },
   {
    "duration": 218,
    "start_time": "2025-06-20T06:02:03.348Z"
   },
   {
    "duration": 9,
    "start_time": "2025-06-20T06:02:07.903Z"
   },
   {
    "duration": 205,
    "start_time": "2025-06-20T06:02:09.495Z"
   },
   {
    "duration": 25,
    "start_time": "2025-06-20T06:02:16.933Z"
   },
   {
    "duration": 149,
    "start_time": "2025-06-20T06:03:55.382Z"
   },
   {
    "duration": 15,
    "start_time": "2025-06-20T06:06:12.052Z"
   },
   {
    "duration": 63,
    "start_time": "2025-06-20T06:08:47.089Z"
   },
   {
    "duration": 20,
    "start_time": "2025-06-20T06:09:10.570Z"
   },
   {
    "duration": 13,
    "start_time": "2025-06-20T06:09:40.450Z"
   },
   {
    "duration": 8,
    "start_time": "2025-06-20T06:09:57.055Z"
   },
   {
    "duration": 8,
    "start_time": "2025-06-20T06:10:39.059Z"
   },
   {
    "duration": 9,
    "start_time": "2025-06-20T06:11:17.581Z"
   },
   {
    "duration": 7,
    "start_time": "2025-06-20T06:11:26.997Z"
   },
   {
    "duration": 8,
    "start_time": "2025-06-20T06:16:38.271Z"
   },
   {
    "duration": 151,
    "start_time": "2025-06-20T06:16:40.186Z"
   },
   {
    "duration": 8,
    "start_time": "2025-06-20T06:16:42.685Z"
   },
   {
    "duration": 10,
    "start_time": "2025-06-20T06:17:03.045Z"
   },
   {
    "duration": 1356,
    "start_time": "2025-06-20T06:17:27.766Z"
   },
   {
    "duration": 200,
    "start_time": "2025-06-20T06:17:32.109Z"
   },
   {
    "duration": 17,
    "start_time": "2025-06-20T06:17:36.267Z"
   },
   {
    "duration": 16,
    "start_time": "2025-06-20T06:17:37.253Z"
   },
   {
    "duration": 11,
    "start_time": "2025-06-20T06:17:40.759Z"
   },
   {
    "duration": 11,
    "start_time": "2025-06-20T06:17:41.746Z"
   },
   {
    "duration": 11,
    "start_time": "2025-06-20T06:17:45.755Z"
   },
   {
    "duration": 15,
    "start_time": "2025-06-20T06:17:46.465Z"
   },
   {
    "duration": 15,
    "start_time": "2025-06-20T06:17:48.441Z"
   },
   {
    "duration": 4,
    "start_time": "2025-06-20T06:17:52.463Z"
   },
   {
    "duration": 3,
    "start_time": "2025-06-20T06:17:53.077Z"
   },
   {
    "duration": 11,
    "start_time": "2025-06-20T06:17:55.804Z"
   },
   {
    "duration": 11,
    "start_time": "2025-06-20T06:17:57.671Z"
   },
   {
    "duration": 19,
    "start_time": "2025-06-20T06:18:01.477Z"
   },
   {
    "duration": 7,
    "start_time": "2025-06-20T06:18:02.296Z"
   },
   {
    "duration": 7,
    "start_time": "2025-06-20T06:18:03.129Z"
   },
   {
    "duration": 10,
    "start_time": "2025-06-20T06:18:06.397Z"
   },
   {
    "duration": 15,
    "start_time": "2025-06-20T06:18:07.398Z"
   },
   {
    "duration": 8,
    "start_time": "2025-06-20T06:18:11.080Z"
   },
   {
    "duration": 189,
    "start_time": "2025-06-20T06:18:12.171Z"
   },
   {
    "duration": 9,
    "start_time": "2025-06-20T06:18:15.600Z"
   },
   {
    "duration": 222,
    "start_time": "2025-06-20T06:18:17.312Z"
   },
   {
    "duration": 10,
    "start_time": "2025-06-20T06:18:22.255Z"
   },
   {
    "duration": 190,
    "start_time": "2025-06-20T06:18:24.594Z"
   },
   {
    "duration": 10,
    "start_time": "2025-06-20T06:18:35.717Z"
   },
   {
    "duration": 146,
    "start_time": "2025-06-20T06:18:39.576Z"
   },
   {
    "duration": 8,
    "start_time": "2025-06-20T06:18:45.237Z"
   },
   {
    "duration": 4,
    "start_time": "2025-06-20T06:23:29.631Z"
   },
   {
    "duration": 16,
    "start_time": "2025-06-20T06:23:35.622Z"
   },
   {
    "duration": 1343,
    "start_time": "2025-06-20T06:24:42.378Z"
   },
   {
    "duration": 0,
    "start_time": "2025-06-20T06:24:43.722Z"
   },
   {
    "duration": 168,
    "start_time": "2025-06-20T06:24:49.686Z"
   },
   {
    "duration": 16,
    "start_time": "2025-06-20T06:24:53.393Z"
   },
   {
    "duration": 14,
    "start_time": "2025-06-20T06:24:55.339Z"
   },
   {
    "duration": 10,
    "start_time": "2025-06-20T06:24:59.251Z"
   },
   {
    "duration": 12,
    "start_time": "2025-06-20T06:25:00.396Z"
   },
   {
    "duration": 11,
    "start_time": "2025-06-20T06:25:04.594Z"
   },
   {
    "duration": 16,
    "start_time": "2025-06-20T06:25:05.652Z"
   },
   {
    "duration": 16,
    "start_time": "2025-06-20T06:25:07.754Z"
   },
   {
    "duration": 4,
    "start_time": "2025-06-20T06:25:11.900Z"
   },
   {
    "duration": 4,
    "start_time": "2025-06-20T06:25:13.219Z"
   },
   {
    "duration": 11,
    "start_time": "2025-06-20T06:25:16.208Z"
   },
   {
    "duration": 12,
    "start_time": "2025-06-20T06:25:18.803Z"
   },
   {
    "duration": 18,
    "start_time": "2025-06-20T06:25:22.600Z"
   },
   {
    "duration": 6,
    "start_time": "2025-06-20T06:25:23.543Z"
   },
   {
    "duration": 7,
    "start_time": "2025-06-20T06:25:25.792Z"
   },
   {
    "duration": 10,
    "start_time": "2025-06-20T06:25:29.171Z"
   },
   {
    "duration": 15,
    "start_time": "2025-06-20T06:25:30.235Z"
   },
   {
    "duration": 6,
    "start_time": "2025-06-20T06:25:35.077Z"
   },
   {
    "duration": 198,
    "start_time": "2025-06-20T06:25:37.836Z"
   },
   {
    "duration": 8,
    "start_time": "2025-06-20T06:25:41.902Z"
   },
   {
    "duration": 232,
    "start_time": "2025-06-20T06:25:44.059Z"
   },
   {
    "duration": 9,
    "start_time": "2025-06-20T06:25:49.594Z"
   },
   {
    "duration": 212,
    "start_time": "2025-06-20T06:25:52.465Z"
   },
   {
    "duration": 10,
    "start_time": "2025-06-20T06:25:57.414Z"
   },
   {
    "duration": 15,
    "start_time": "2025-06-20T06:26:01.460Z"
   },
   {
    "duration": 13,
    "start_time": "2025-06-20T06:27:54.741Z"
   },
   {
    "duration": 1285,
    "start_time": "2025-06-20T06:28:57.835Z"
   },
   {
    "duration": 0,
    "start_time": "2025-06-20T06:28:59.122Z"
   },
   {
    "duration": 218,
    "start_time": "2025-06-20T06:29:02.163Z"
   },
   {
    "duration": 15,
    "start_time": "2025-06-20T06:29:05.645Z"
   },
   {
    "duration": 16,
    "start_time": "2025-06-20T06:29:07.080Z"
   },
   {
    "duration": 10,
    "start_time": "2025-06-20T06:29:11.208Z"
   },
   {
    "duration": 17,
    "start_time": "2025-06-20T06:29:11.995Z"
   },
   {
    "duration": 10,
    "start_time": "2025-06-20T06:29:15.484Z"
   },
   {
    "duration": 16,
    "start_time": "2025-06-20T06:29:16.339Z"
   },
   {
    "duration": 15,
    "start_time": "2025-06-20T06:29:18.383Z"
   },
   {
    "duration": 4,
    "start_time": "2025-06-20T06:29:23.908Z"
   },
   {
    "duration": 3,
    "start_time": "2025-06-20T06:29:24.698Z"
   },
   {
    "duration": 10,
    "start_time": "2025-06-20T06:29:27.831Z"
   },
   {
    "duration": 10,
    "start_time": "2025-06-20T06:29:30.963Z"
   },
   {
    "duration": 18,
    "start_time": "2025-06-20T06:29:35.620Z"
   },
   {
    "duration": 7,
    "start_time": "2025-06-20T06:29:36.709Z"
   },
   {
    "duration": 6,
    "start_time": "2025-06-20T06:29:37.693Z"
   },
   {
    "duration": 11,
    "start_time": "2025-06-20T06:29:41.229Z"
   },
   {
    "duration": 23,
    "start_time": "2025-06-20T06:29:42.001Z"
   },
   {
    "duration": 6,
    "start_time": "2025-06-20T06:29:45.741Z"
   },
   {
    "duration": 191,
    "start_time": "2025-06-20T06:29:47.532Z"
   },
   {
    "duration": 7,
    "start_time": "2025-06-20T06:29:51.782Z"
   },
   {
    "duration": 223,
    "start_time": "2025-06-20T06:29:52.542Z"
   },
   {
    "duration": 10,
    "start_time": "2025-06-20T06:29:56.308Z"
   },
   {
    "duration": 192,
    "start_time": "2025-06-20T06:29:57.471Z"
   },
   {
    "duration": 15,
    "start_time": "2025-06-20T06:30:01.523Z"
   },
   {
    "duration": 146,
    "start_time": "2025-06-20T06:30:04.031Z"
   },
   {
    "duration": 13,
    "start_time": "2025-06-20T06:30:06.631Z"
   },
   {
    "duration": 17,
    "start_time": "2025-06-20T06:31:47.449Z"
   },
   {
    "duration": 17,
    "start_time": "2025-06-20T06:32:03.763Z"
   },
   {
    "duration": 18,
    "start_time": "2025-06-20T06:40:04.669Z"
   },
   {
    "duration": 21,
    "start_time": "2025-06-20T06:40:19.357Z"
   },
   {
    "duration": 1288,
    "start_time": "2025-06-20T06:40:48.189Z"
   },
   {
    "duration": 328,
    "start_time": "2025-06-20T06:40:51.805Z"
   },
   {
    "duration": 15,
    "start_time": "2025-06-20T06:40:54.379Z"
   },
   {
    "duration": 14,
    "start_time": "2025-06-20T06:40:57.744Z"
   },
   {
    "duration": 10,
    "start_time": "2025-06-20T06:41:01.529Z"
   },
   {
    "duration": 11,
    "start_time": "2025-06-20T06:41:02.597Z"
   },
   {
    "duration": 13,
    "start_time": "2025-06-20T06:41:05.775Z"
   },
   {
    "duration": 24,
    "start_time": "2025-06-20T06:41:06.499Z"
   },
   {
    "duration": 14,
    "start_time": "2025-06-20T06:41:08.904Z"
   },
   {
    "duration": 5,
    "start_time": "2025-06-20T06:41:12.411Z"
   },
   {
    "duration": 4,
    "start_time": "2025-06-20T06:41:13.772Z"
   },
   {
    "duration": 11,
    "start_time": "2025-06-20T06:41:16.391Z"
   },
   {
    "duration": 15,
    "start_time": "2025-06-20T06:41:18.697Z"
   },
   {
    "duration": 18,
    "start_time": "2025-06-20T06:41:27.344Z"
   },
   {
    "duration": 7,
    "start_time": "2025-06-20T06:41:28.142Z"
   },
   {
    "duration": 8,
    "start_time": "2025-06-20T06:41:29.425Z"
   },
   {
    "duration": 10,
    "start_time": "2025-06-20T06:41:35.665Z"
   },
   {
    "duration": 17,
    "start_time": "2025-06-20T06:41:37.477Z"
   },
   {
    "duration": 6,
    "start_time": "2025-06-20T06:41:53.758Z"
   },
   {
    "duration": 184,
    "start_time": "2025-06-20T06:41:57.235Z"
   },
   {
    "duration": 7,
    "start_time": "2025-06-20T06:42:03.212Z"
   },
   {
    "duration": 213,
    "start_time": "2025-06-20T06:42:06.911Z"
   },
   {
    "duration": 9,
    "start_time": "2025-06-20T06:42:18.027Z"
   },
   {
    "duration": 190,
    "start_time": "2025-06-20T06:42:22.702Z"
   },
   {
    "duration": 11,
    "start_time": "2025-06-20T06:42:35.482Z"
   },
   {
    "duration": 140,
    "start_time": "2025-06-20T06:42:48.899Z"
   },
   {
    "duration": 19,
    "start_time": "2025-06-20T06:43:10.432Z"
   },
   {
    "duration": 10,
    "start_time": "2025-06-20T06:44:00.471Z"
   },
   {
    "duration": 1418,
    "start_time": "2025-06-20T06:44:55.741Z"
   },
   {
    "duration": 9,
    "start_time": "2025-06-20T06:45:22.863Z"
   },
   {
    "duration": 1288,
    "start_time": "2025-06-20T06:45:50.834Z"
   },
   {
    "duration": 168,
    "start_time": "2025-06-20T06:45:54.834Z"
   },
   {
    "duration": 9,
    "start_time": "2025-06-20T06:46:04.557Z"
   },
   {
    "duration": 1336,
    "start_time": "2025-06-20T06:46:27.963Z"
   },
   {
    "duration": 158,
    "start_time": "2025-06-20T06:46:30.610Z"
   },
   {
    "duration": 11,
    "start_time": "2025-06-20T06:46:38.198Z"
   },
   {
    "duration": 7,
    "start_time": "2025-06-20T06:46:46.763Z"
   },
   {
    "duration": 153,
    "start_time": "2025-06-20T06:47:04.017Z"
   },
   {
    "duration": 20,
    "start_time": "2025-06-20T06:47:11.376Z"
   },
   {
    "duration": 1349,
    "start_time": "2025-06-20T06:50:29.894Z"
   },
   {
    "duration": 172,
    "start_time": "2025-06-20T06:50:33.552Z"
   },
   {
    "duration": 16,
    "start_time": "2025-06-20T06:50:36.013Z"
   },
   {
    "duration": 14,
    "start_time": "2025-06-20T06:50:37.931Z"
   },
   {
    "duration": 16,
    "start_time": "2025-06-20T06:50:41.294Z"
   },
   {
    "duration": 17,
    "start_time": "2025-06-20T06:50:42.530Z"
   },
   {
    "duration": 11,
    "start_time": "2025-06-20T06:50:46.234Z"
   },
   {
    "duration": 22,
    "start_time": "2025-06-20T06:50:47.931Z"
   },
   {
    "duration": 22,
    "start_time": "2025-06-20T06:50:50.549Z"
   },
   {
    "duration": 6,
    "start_time": "2025-06-20T06:50:54.062Z"
   },
   {
    "duration": 4,
    "start_time": "2025-06-20T06:50:54.815Z"
   },
   {
    "duration": 16,
    "start_time": "2025-06-20T06:50:57.262Z"
   },
   {
    "duration": 16,
    "start_time": "2025-06-20T06:50:59.043Z"
   },
   {
    "duration": 25,
    "start_time": "2025-06-20T06:51:02.023Z"
   },
   {
    "duration": 8,
    "start_time": "2025-06-20T06:51:04.553Z"
   },
   {
    "duration": 8,
    "start_time": "2025-06-20T06:51:05.632Z"
   },
   {
    "duration": 10,
    "start_time": "2025-06-20T06:51:09.541Z"
   },
   {
    "duration": 15,
    "start_time": "2025-06-20T06:51:10.616Z"
   },
   {
    "duration": 7,
    "start_time": "2025-06-20T06:51:14.245Z"
   },
   {
    "duration": 212,
    "start_time": "2025-06-20T06:51:15.966Z"
   },
   {
    "duration": 7,
    "start_time": "2025-06-20T06:51:19.318Z"
   },
   {
    "duration": 228,
    "start_time": "2025-06-20T06:51:21.181Z"
   },
   {
    "duration": 14,
    "start_time": "2025-06-20T06:51:25.090Z"
   },
   {
    "duration": 217,
    "start_time": "2025-06-20T06:51:25.921Z"
   },
   {
    "duration": 6,
    "start_time": "2025-06-20T06:51:29.740Z"
   },
   {
    "duration": 150,
    "start_time": "2025-06-20T06:51:32.915Z"
   },
   {
    "duration": 19,
    "start_time": "2025-06-20T06:51:36.705Z"
   },
   {
    "duration": 21,
    "start_time": "2025-06-20T06:52:12.841Z"
   },
   {
    "duration": 1273,
    "start_time": "2025-06-20T06:52:42.823Z"
   },
   {
    "duration": 0,
    "start_time": "2025-06-20T06:52:44.098Z"
   },
   {
    "duration": 196,
    "start_time": "2025-06-20T06:52:47.460Z"
   },
   {
    "duration": 15,
    "start_time": "2025-06-20T06:52:50.133Z"
   },
   {
    "duration": 19,
    "start_time": "2025-06-20T06:52:51.982Z"
   },
   {
    "duration": 11,
    "start_time": "2025-06-20T06:52:55.542Z"
   },
   {
    "duration": 12,
    "start_time": "2025-06-20T06:52:56.333Z"
   },
   {
    "duration": 13,
    "start_time": "2025-06-20T06:53:00.005Z"
   },
   {
    "duration": 15,
    "start_time": "2025-06-20T06:53:00.667Z"
   },
   {
    "duration": 15,
    "start_time": "2025-06-20T06:53:02.746Z"
   },
   {
    "duration": 4,
    "start_time": "2025-06-20T06:53:06.798Z"
   },
   {
    "duration": 3,
    "start_time": "2025-06-20T06:53:07.504Z"
   },
   {
    "duration": 10,
    "start_time": "2025-06-20T06:53:09.755Z"
   },
   {
    "duration": 11,
    "start_time": "2025-06-20T06:53:10.700Z"
   },
   {
    "duration": 17,
    "start_time": "2025-06-20T06:53:14.313Z"
   },
   {
    "duration": 6,
    "start_time": "2025-06-20T06:53:15.040Z"
   },
   {
    "duration": 7,
    "start_time": "2025-06-20T06:53:16.369Z"
   },
   {
    "duration": 10,
    "start_time": "2025-06-20T06:53:19.752Z"
   },
   {
    "duration": 15,
    "start_time": "2025-06-20T06:53:20.467Z"
   },
   {
    "duration": 7,
    "start_time": "2025-06-20T06:53:23.897Z"
   },
   {
    "duration": 193,
    "start_time": "2025-06-20T06:53:25.294Z"
   },
   {
    "duration": 7,
    "start_time": "2025-06-20T06:53:29.233Z"
   },
   {
    "duration": 223,
    "start_time": "2025-06-20T06:53:29.948Z"
   },
   {
    "duration": 11,
    "start_time": "2025-06-20T06:53:33.668Z"
   },
   {
    "duration": 194,
    "start_time": "2025-06-20T06:53:34.259Z"
   },
   {
    "duration": 6,
    "start_time": "2025-06-20T06:53:37.743Z"
   },
   {
    "duration": 133,
    "start_time": "2025-06-20T06:53:38.621Z"
   },
   {
    "duration": 17,
    "start_time": "2025-06-20T06:53:41.353Z"
   },
   {
    "duration": 3,
    "start_time": "2025-06-20T06:57:14.118Z"
   },
   {
    "duration": 239,
    "start_time": "2025-06-20T07:00:12.788Z"
   },
   {
    "duration": 6,
    "start_time": "2025-06-20T07:11:33.824Z"
   },
   {
    "duration": 8,
    "start_time": "2025-06-20T07:11:49.664Z"
   },
   {
    "duration": 167,
    "start_time": "2025-06-20T07:16:35.979Z"
   },
   {
    "duration": 165,
    "start_time": "2025-06-20T07:17:19.835Z"
   },
   {
    "duration": 172,
    "start_time": "2025-06-20T07:17:24.957Z"
   },
   {
    "duration": 307,
    "start_time": "2025-06-20T07:17:35.122Z"
   },
   {
    "duration": 192,
    "start_time": "2025-06-20T07:17:41.718Z"
   },
   {
    "duration": 201,
    "start_time": "2025-06-20T07:21:33.549Z"
   },
   {
    "duration": 249,
    "start_time": "2025-06-20T07:22:41.921Z"
   },
   {
    "duration": 15,
    "start_time": "2025-06-20T07:25:24.049Z"
   },
   {
    "duration": 129,
    "start_time": "2025-06-20T07:26:28.700Z"
   },
   {
    "duration": 127,
    "start_time": "2025-06-20T07:27:36.136Z"
   },
   {
    "duration": 139,
    "start_time": "2025-06-20T07:29:32.311Z"
   },
   {
    "duration": 110,
    "start_time": "2025-06-20T07:32:15.427Z"
   },
   {
    "duration": 7,
    "start_time": "2025-06-20T07:37:03.389Z"
   },
   {
    "duration": 7,
    "start_time": "2025-06-20T07:38:21.365Z"
   },
   {
    "duration": 7,
    "start_time": "2025-06-20T07:38:24.581Z"
   },
   {
    "duration": 7,
    "start_time": "2025-06-20T07:38:50.187Z"
   },
   {
    "duration": 11,
    "start_time": "2025-06-20T07:38:56.962Z"
   },
   {
    "duration": 6,
    "start_time": "2025-06-20T07:39:02.666Z"
   },
   {
    "duration": 7,
    "start_time": "2025-06-20T07:39:17.219Z"
   },
   {
    "duration": 194,
    "start_time": "2025-06-20T07:41:29.133Z"
   },
   {
    "duration": 61,
    "start_time": "2025-06-20T07:42:29.308Z"
   },
   {
    "duration": 12,
    "start_time": "2025-06-20T07:46:02.775Z"
   },
   {
    "duration": 6,
    "start_time": "2025-06-20T07:46:19.202Z"
   },
   {
    "duration": 10,
    "start_time": "2025-06-20T07:46:50.485Z"
   },
   {
    "duration": 8,
    "start_time": "2025-06-20T07:49:37.762Z"
   },
   {
    "duration": 168,
    "start_time": "2025-06-20T07:50:55.322Z"
   },
   {
    "duration": 173,
    "start_time": "2025-06-20T07:52:53.194Z"
   },
   {
    "duration": 275,
    "start_time": "2025-06-20T07:53:00.182Z"
   },
   {
    "duration": 173,
    "start_time": "2025-06-20T07:53:10.624Z"
   },
   {
    "duration": 251,
    "start_time": "2025-06-20T07:53:37.581Z"
   },
   {
    "duration": 232,
    "start_time": "2025-06-20T07:54:06.085Z"
   },
   {
    "duration": 14,
    "start_time": "2025-06-20T07:54:15.025Z"
   },
   {
    "duration": 167,
    "start_time": "2025-06-20T07:54:35.451Z"
   },
   {
    "duration": 203,
    "start_time": "2025-06-20T07:54:42.690Z"
   },
   {
    "duration": 243,
    "start_time": "2025-06-20T07:54:48.689Z"
   },
   {
    "duration": 188,
    "start_time": "2025-06-20T07:54:55.330Z"
   },
   {
    "duration": 14,
    "start_time": "2025-06-20T07:56:57.212Z"
   },
   {
    "duration": 144,
    "start_time": "2025-06-20T07:57:15.580Z"
   },
   {
    "duration": 189,
    "start_time": "2025-06-20T07:57:26.529Z"
   },
   {
    "duration": 8,
    "start_time": "2025-06-20T08:02:59.457Z"
   },
   {
    "duration": 11,
    "start_time": "2025-06-20T08:06:33.408Z"
   },
   {
    "duration": 11,
    "start_time": "2025-06-20T08:11:41.114Z"
   },
   {
    "duration": 13,
    "start_time": "2025-06-20T08:19:22.693Z"
   },
   {
    "duration": 66,
    "start_time": "2025-06-20T08:20:01.033Z"
   },
   {
    "duration": 21,
    "start_time": "2025-06-20T08:20:05.596Z"
   },
   {
    "duration": 25,
    "start_time": "2025-06-20T08:20:55.640Z"
   },
   {
    "duration": 23,
    "start_time": "2025-06-20T08:21:14.351Z"
   },
   {
    "duration": 22,
    "start_time": "2025-06-20T08:21:23.331Z"
   },
   {
    "duration": 21,
    "start_time": "2025-06-20T08:22:04.921Z"
   },
   {
    "duration": 21,
    "start_time": "2025-06-20T08:22:17.811Z"
   },
   {
    "duration": 17,
    "start_time": "2025-06-20T08:22:23.576Z"
   },
   {
    "duration": 23,
    "start_time": "2025-06-20T08:24:24.269Z"
   },
   {
    "duration": 34,
    "start_time": "2025-06-20T08:24:35.867Z"
   },
   {
    "duration": 19,
    "start_time": "2025-06-20T08:24:46.356Z"
   },
   {
    "duration": 25,
    "start_time": "2025-06-20T08:25:31.306Z"
   },
   {
    "duration": 20,
    "start_time": "2025-06-20T08:25:44.518Z"
   },
   {
    "duration": 24,
    "start_time": "2025-06-20T09:27:43.653Z"
   },
   {
    "duration": 13,
    "start_time": "2025-06-20T09:40:30.462Z"
   },
   {
    "duration": 15,
    "start_time": "2025-06-20T09:42:46.314Z"
   },
   {
    "duration": 14,
    "start_time": "2025-06-20T09:44:46.264Z"
   },
   {
    "duration": 11,
    "start_time": "2025-06-20T09:50:31.475Z"
   },
   {
    "duration": 298,
    "start_time": "2025-06-20T09:56:49.284Z"
   },
   {
    "duration": 412,
    "start_time": "2025-06-20T09:58:58.221Z"
   },
   {
    "duration": 11,
    "start_time": "2025-06-20T10:04:58.427Z"
   },
   {
    "duration": 313,
    "start_time": "2025-06-20T10:05:06.393Z"
   },
   {
    "duration": 12,
    "start_time": "2025-06-20T10:05:30.583Z"
   },
   {
    "duration": 11,
    "start_time": "2025-06-20T10:06:03.110Z"
   },
   {
    "duration": 278,
    "start_time": "2025-06-20T10:06:07.190Z"
   },
   {
    "duration": 1343,
    "start_time": "2025-06-20T10:14:22.762Z"
   },
   {
    "duration": 199,
    "start_time": "2025-06-20T10:14:26.337Z"
   },
   {
    "duration": 16,
    "start_time": "2025-06-20T10:14:29.941Z"
   },
   {
    "duration": 15,
    "start_time": "2025-06-20T10:14:33.309Z"
   },
   {
    "duration": 10,
    "start_time": "2025-06-20T10:14:36.817Z"
   },
   {
    "duration": 12,
    "start_time": "2025-06-20T10:14:39.927Z"
   },
   {
    "duration": 11,
    "start_time": "2025-06-20T10:14:43.306Z"
   },
   {
    "duration": 16,
    "start_time": "2025-06-20T10:14:43.897Z"
   },
   {
    "duration": 16,
    "start_time": "2025-06-20T10:14:46.580Z"
   },
   {
    "duration": 4,
    "start_time": "2025-06-20T10:14:50.360Z"
   },
   {
    "duration": 3,
    "start_time": "2025-06-20T10:14:51.082Z"
   },
   {
    "duration": 10,
    "start_time": "2025-06-20T10:14:54.970Z"
   },
   {
    "duration": 11,
    "start_time": "2025-06-20T10:14:57.080Z"
   },
   {
    "duration": 17,
    "start_time": "2025-06-20T10:15:00.041Z"
   },
   {
    "duration": 6,
    "start_time": "2025-06-20T10:15:03.224Z"
   },
   {
    "duration": 6,
    "start_time": "2025-06-20T10:15:04.121Z"
   },
   {
    "duration": 9,
    "start_time": "2025-06-20T10:15:08.384Z"
   },
   {
    "duration": 15,
    "start_time": "2025-06-20T10:15:09.472Z"
   },
   {
    "duration": 7,
    "start_time": "2025-06-20T10:15:14.479Z"
   },
   {
    "duration": 186,
    "start_time": "2025-06-20T10:15:19.069Z"
   },
   {
    "duration": 7,
    "start_time": "2025-06-20T10:15:26.248Z"
   },
   {
    "duration": 250,
    "start_time": "2025-06-20T10:15:31.808Z"
   },
   {
    "duration": 9,
    "start_time": "2025-06-20T10:15:36.182Z"
   },
   {
    "duration": 197,
    "start_time": "2025-06-20T10:15:38.101Z"
   },
   {
    "duration": 6,
    "start_time": "2025-06-20T10:15:42.588Z"
   },
   {
    "duration": 147,
    "start_time": "2025-06-20T10:15:46.473Z"
   },
   {
    "duration": 16,
    "start_time": "2025-06-20T10:15:50.059Z"
   },
   {
    "duration": 243,
    "start_time": "2025-06-20T10:15:52.371Z"
   },
   {
    "duration": 7,
    "start_time": "2025-06-20T10:15:56.267Z"
   },
   {
    "duration": 219,
    "start_time": "2025-06-20T10:16:03.689Z"
   },
   {
    "duration": 142,
    "start_time": "2025-06-20T10:16:07.585Z"
   },
   {
    "duration": 7,
    "start_time": "2025-06-20T10:16:11.390Z"
   },
   {
    "duration": 193,
    "start_time": "2025-06-20T10:16:14.387Z"
   },
   {
    "duration": 8,
    "start_time": "2025-06-20T10:16:18.544Z"
   },
   {
    "duration": 7,
    "start_time": "2025-06-20T10:16:21.443Z"
   },
   {
    "duration": 251,
    "start_time": "2025-06-20T10:16:23.166Z"
   },
   {
    "duration": 23,
    "start_time": "2025-06-20T10:16:34.271Z"
   },
   {
    "duration": 12,
    "start_time": "2025-06-20T10:16:41.971Z"
   },
   {
    "duration": 281,
    "start_time": "2025-06-20T10:17:05.097Z"
   },
   {
    "duration": 1566,
    "start_time": "2025-06-21T06:22:19.625Z"
   },
   {
    "duration": 10,
    "start_time": "2025-06-21T06:22:25.586Z"
   },
   {
    "duration": 9,
    "start_time": "2025-06-21T06:32:02.966Z"
   },
   {
    "duration": 214,
    "start_time": "2025-06-21T06:32:04.336Z"
   },
   {
    "duration": 10,
    "start_time": "2025-06-21T06:32:06.722Z"
   },
   {
    "duration": 21,
    "start_time": "2025-06-21T06:33:42.209Z"
   },
   {
    "duration": 8,
    "start_time": "2025-06-21T06:33:44.639Z"
   },
   {
    "duration": 10,
    "start_time": "2025-06-21T06:33:50.577Z"
   },
   {
    "duration": 1357,
    "start_time": "2025-06-21T06:34:00.501Z"
   },
   {
    "duration": 51,
    "start_time": "2025-06-22T08:40:20.461Z"
   },
   {
    "duration": 1595,
    "start_time": "2025-06-22T08:40:29.235Z"
   },
   {
    "duration": 440,
    "start_time": "2025-06-22T08:40:38.292Z"
   },
   {
    "duration": 17,
    "start_time": "2025-06-22T08:40:41.866Z"
   },
   {
    "duration": 16,
    "start_time": "2025-06-22T08:40:46.337Z"
   },
   {
    "duration": 10,
    "start_time": "2025-06-22T08:40:59.221Z"
   },
   {
    "duration": 13,
    "start_time": "2025-06-22T08:41:01.651Z"
   },
   {
    "duration": 13,
    "start_time": "2025-06-22T08:41:06.286Z"
   },
   {
    "duration": 16,
    "start_time": "2025-06-22T08:41:07.205Z"
   },
   {
    "duration": 16,
    "start_time": "2025-06-22T08:41:15.782Z"
   },
   {
    "duration": 4,
    "start_time": "2025-06-22T08:41:20.324Z"
   },
   {
    "duration": 4,
    "start_time": "2025-06-22T08:41:21.075Z"
   },
   {
    "duration": 10,
    "start_time": "2025-06-22T08:41:24.419Z"
   },
   {
    "duration": 11,
    "start_time": "2025-06-22T08:41:25.388Z"
   },
   {
    "duration": 19,
    "start_time": "2025-06-22T08:41:29.470Z"
   },
   {
    "duration": 7,
    "start_time": "2025-06-22T08:41:30.297Z"
   },
   {
    "duration": 7,
    "start_time": "2025-06-22T08:41:31.938Z"
   },
   {
    "duration": 10,
    "start_time": "2025-06-22T08:41:35.575Z"
   },
   {
    "duration": 17,
    "start_time": "2025-06-22T08:41:36.268Z"
   },
   {
    "duration": 8,
    "start_time": "2025-06-22T08:41:40.189Z"
   },
   {
    "duration": 196,
    "start_time": "2025-06-22T08:41:41.796Z"
   },
   {
    "duration": 8,
    "start_time": "2025-06-22T08:41:45.239Z"
   },
   {
    "duration": 241,
    "start_time": "2025-06-22T08:41:46.882Z"
   },
   {
    "duration": 11,
    "start_time": "2025-06-22T08:41:51.363Z"
   },
   {
    "duration": 206,
    "start_time": "2025-06-22T08:41:52.202Z"
   },
   {
    "duration": 6,
    "start_time": "2025-06-22T08:41:55.799Z"
   },
   {
    "duration": 19,
    "start_time": "2025-06-22T08:42:06.926Z"
   },
   {
    "duration": 237,
    "start_time": "2025-06-22T08:42:08.382Z"
   },
   {
    "duration": 9,
    "start_time": "2025-06-22T08:42:12.664Z"
   },
   {
    "duration": 235,
    "start_time": "2025-06-22T08:42:16.642Z"
   },
   {
    "duration": 152,
    "start_time": "2025-06-22T08:42:21.774Z"
   },
   {
    "duration": 7,
    "start_time": "2025-06-22T08:42:26.998Z"
   },
   {
    "duration": 8,
    "start_time": "2025-06-22T08:42:37.547Z"
   },
   {
    "duration": 8,
    "start_time": "2025-06-22T08:42:41.932Z"
   },
   {
    "duration": 187,
    "start_time": "2025-06-22T08:42:45.559Z"
   },
   {
    "duration": 16,
    "start_time": "2025-06-22T08:42:50.196Z"
   },
   {
    "duration": 26,
    "start_time": "2025-06-22T08:43:55.395Z"
   },
   {
    "duration": 12,
    "start_time": "2025-06-22T08:44:00.795Z"
   },
   {
    "duration": 389,
    "start_time": "2025-06-22T08:44:03.947Z"
   },
   {
    "duration": 3,
    "start_time": "2025-06-22T09:15:36.892Z"
   },
   {
    "duration": 7,
    "start_time": "2025-06-22T09:17:10.429Z"
   },
   {
    "duration": 1449,
    "start_time": "2025-06-22T10:30:58.868Z"
   },
   {
    "duration": 0,
    "start_time": "2025-06-22T10:31:00.320Z"
   },
   {
    "duration": 0,
    "start_time": "2025-06-22T10:31:00.322Z"
   },
   {
    "duration": 0,
    "start_time": "2025-06-22T10:31:00.323Z"
   },
   {
    "duration": 0,
    "start_time": "2025-06-22T10:31:00.335Z"
   },
   {
    "duration": 0,
    "start_time": "2025-06-22T10:31:00.336Z"
   },
   {
    "duration": 0,
    "start_time": "2025-06-22T10:31:00.337Z"
   },
   {
    "duration": 0,
    "start_time": "2025-06-22T10:31:00.338Z"
   },
   {
    "duration": 0,
    "start_time": "2025-06-22T10:31:00.339Z"
   },
   {
    "duration": 0,
    "start_time": "2025-06-22T10:31:00.340Z"
   },
   {
    "duration": 0,
    "start_time": "2025-06-22T10:31:00.341Z"
   },
   {
    "duration": 0,
    "start_time": "2025-06-22T10:31:00.342Z"
   },
   {
    "duration": 0,
    "start_time": "2025-06-22T10:31:00.343Z"
   },
   {
    "duration": 0,
    "start_time": "2025-06-22T10:31:00.344Z"
   },
   {
    "duration": 0,
    "start_time": "2025-06-22T10:31:00.345Z"
   },
   {
    "duration": 0,
    "start_time": "2025-06-22T10:31:00.346Z"
   },
   {
    "duration": 0,
    "start_time": "2025-06-22T10:31:00.347Z"
   },
   {
    "duration": 0,
    "start_time": "2025-06-22T10:31:00.348Z"
   },
   {
    "duration": 0,
    "start_time": "2025-06-22T10:31:00.349Z"
   },
   {
    "duration": 0,
    "start_time": "2025-06-22T10:31:00.350Z"
   },
   {
    "duration": 0,
    "start_time": "2025-06-22T10:31:00.351Z"
   },
   {
    "duration": 0,
    "start_time": "2025-06-22T10:31:00.352Z"
   },
   {
    "duration": 0,
    "start_time": "2025-06-22T10:31:00.353Z"
   },
   {
    "duration": 0,
    "start_time": "2025-06-22T10:31:00.354Z"
   },
   {
    "duration": 0,
    "start_time": "2025-06-22T10:31:00.355Z"
   },
   {
    "duration": 0,
    "start_time": "2025-06-22T10:31:00.356Z"
   },
   {
    "duration": 0,
    "start_time": "2025-06-22T10:31:00.358Z"
   },
   {
    "duration": 0,
    "start_time": "2025-06-22T10:31:00.358Z"
   },
   {
    "duration": 0,
    "start_time": "2025-06-22T10:31:00.360Z"
   },
   {
    "duration": 0,
    "start_time": "2025-06-22T10:31:00.361Z"
   },
   {
    "duration": 0,
    "start_time": "2025-06-22T10:31:00.362Z"
   },
   {
    "duration": 0,
    "start_time": "2025-06-22T10:31:00.363Z"
   },
   {
    "duration": 0,
    "start_time": "2025-06-22T10:31:00.364Z"
   },
   {
    "duration": 0,
    "start_time": "2025-06-22T10:31:00.365Z"
   },
   {
    "duration": 0,
    "start_time": "2025-06-22T10:31:00.366Z"
   },
   {
    "duration": 0,
    "start_time": "2025-06-22T10:31:00.367Z"
   },
   {
    "duration": 0,
    "start_time": "2025-06-22T10:31:00.368Z"
   },
   {
    "duration": 0,
    "start_time": "2025-06-22T10:31:00.369Z"
   },
   {
    "duration": 0,
    "start_time": "2025-06-22T10:31:00.435Z"
   },
   {
    "duration": 0,
    "start_time": "2025-06-22T10:31:00.436Z"
   },
   {
    "duration": 0,
    "start_time": "2025-06-22T10:31:00.437Z"
   },
   {
    "duration": 63,
    "start_time": "2025-06-22T15:38:39.176Z"
   },
   {
    "duration": 1374,
    "start_time": "2025-06-22T15:39:19.704Z"
   },
   {
    "duration": 3467,
    "start_time": "2025-06-22T15:48:10.148Z"
   },
   {
    "duration": 52,
    "start_time": "2025-06-22T15:48:13.617Z"
   },
   {
    "duration": 2412,
    "start_time": "2025-06-22T15:48:56.074Z"
   },
   {
    "duration": 1235,
    "start_time": "2025-06-22T15:49:00.197Z"
   },
   {
    "duration": 237,
    "start_time": "2025-06-22T15:49:03.090Z"
   },
   {
    "duration": 17,
    "start_time": "2025-06-22T15:49:05.839Z"
   },
   {
    "duration": 16,
    "start_time": "2025-06-22T15:49:08.539Z"
   },
   {
    "duration": 9,
    "start_time": "2025-06-22T15:49:11.132Z"
   },
   {
    "duration": 14,
    "start_time": "2025-06-22T15:49:13.042Z"
   },
   {
    "duration": 16,
    "start_time": "2025-06-22T15:49:18.842Z"
   },
   {
    "duration": 16,
    "start_time": "2025-06-22T15:49:19.671Z"
   },
   {
    "duration": 20,
    "start_time": "2025-06-22T15:49:21.725Z"
   },
   {
    "duration": 4,
    "start_time": "2025-06-22T15:49:25.335Z"
   },
   {
    "duration": 4,
    "start_time": "2025-06-22T15:49:26.075Z"
   },
   {
    "duration": 10,
    "start_time": "2025-06-22T15:49:28.390Z"
   },
   {
    "duration": 17,
    "start_time": "2025-06-22T15:49:30.377Z"
   },
   {
    "duration": 17,
    "start_time": "2025-06-22T15:49:33.824Z"
   },
   {
    "duration": 9,
    "start_time": "2025-06-22T15:49:36.186Z"
   },
   {
    "duration": 9,
    "start_time": "2025-06-22T15:49:37.599Z"
   },
   {
    "duration": 10,
    "start_time": "2025-06-22T15:49:43.128Z"
   },
   {
    "duration": 15,
    "start_time": "2025-06-22T15:49:44.592Z"
   },
   {
    "duration": 6,
    "start_time": "2025-06-22T15:49:48.914Z"
   },
   {
    "duration": 195,
    "start_time": "2025-06-22T15:49:51.116Z"
   },
   {
    "duration": 6,
    "start_time": "2025-06-22T15:49:56.680Z"
   },
   {
    "duration": 223,
    "start_time": "2025-06-22T15:49:59.337Z"
   },
   {
    "duration": 9,
    "start_time": "2025-06-22T15:50:03.548Z"
   },
   {
    "duration": 190,
    "start_time": "2025-06-22T15:50:05.836Z"
   },
   {
    "duration": 6,
    "start_time": "2025-06-22T15:50:10.445Z"
   },
   {
    "duration": 135,
    "start_time": "2025-06-22T15:50:11.065Z"
   },
   {
    "duration": 16,
    "start_time": "2025-06-22T15:50:16.725Z"
   },
   {
    "duration": 222,
    "start_time": "2025-06-22T15:50:17.505Z"
   },
   {
    "duration": 9,
    "start_time": "2025-06-22T15:50:21.089Z"
   },
   {
    "duration": 212,
    "start_time": "2025-06-22T15:50:24.477Z"
   },
   {
    "duration": 150,
    "start_time": "2025-06-22T15:50:26.519Z"
   },
   {
    "duration": 7,
    "start_time": "2025-06-22T15:50:29.926Z"
   },
   {
    "duration": 263,
    "start_time": "2025-06-22T15:50:32.003Z"
   },
   {
    "duration": 8,
    "start_time": "2025-06-22T15:50:35.063Z"
   },
   {
    "duration": 6,
    "start_time": "2025-06-22T15:50:37.401Z"
   },
   {
    "duration": 167,
    "start_time": "2025-06-22T15:50:38.350Z"
   },
   {
    "duration": 105,
    "start_time": "2025-06-22T15:50:42.978Z"
   },
   {
    "duration": 28,
    "start_time": "2025-06-22T15:51:17.844Z"
   },
   {
    "duration": 378,
    "start_time": "2025-06-22T15:53:38.690Z"
   },
   {
    "duration": 23,
    "start_time": "2025-06-22T15:55:46.114Z"
   },
   {
    "duration": 19,
    "start_time": "2025-06-22T15:57:04.857Z"
   },
   {
    "duration": 3,
    "start_time": "2025-06-22T16:01:03.854Z"
   },
   {
    "duration": 2376,
    "start_time": "2025-06-22T16:01:17.713Z"
   },
   {
    "duration": 1278,
    "start_time": "2025-06-22T16:01:20.091Z"
   },
   {
    "duration": 187,
    "start_time": "2025-06-22T16:01:22.590Z"
   },
   {
    "duration": 16,
    "start_time": "2025-06-22T16:01:28.746Z"
   },
   {
    "duration": 2362,
    "start_time": "2025-06-22T16:01:42.571Z"
   },
   {
    "duration": 1209,
    "start_time": "2025-06-22T16:01:46.756Z"
   },
   {
    "duration": 164,
    "start_time": "2025-06-22T16:01:50.419Z"
   },
   {
    "duration": 15,
    "start_time": "2025-06-22T16:01:53.018Z"
   },
   {
    "duration": 14,
    "start_time": "2025-06-22T16:01:54.960Z"
   },
   {
    "duration": 10,
    "start_time": "2025-06-22T16:01:58.038Z"
   },
   {
    "duration": 11,
    "start_time": "2025-06-22T16:01:59.890Z"
   },
   {
    "duration": 12,
    "start_time": "2025-06-22T16:02:03.259Z"
   },
   {
    "duration": 22,
    "start_time": "2025-06-22T16:02:05.409Z"
   },
   {
    "duration": 15,
    "start_time": "2025-06-22T16:02:09.081Z"
   },
   {
    "duration": 4,
    "start_time": "2025-06-22T16:02:12.439Z"
   },
   {
    "duration": 3,
    "start_time": "2025-06-22T16:02:14.698Z"
   },
   {
    "duration": 10,
    "start_time": "2025-06-22T16:02:17.314Z"
   },
   {
    "duration": 12,
    "start_time": "2025-06-22T16:02:19.084Z"
   },
   {
    "duration": 17,
    "start_time": "2025-06-22T16:02:24.386Z"
   },
   {
    "duration": 6,
    "start_time": "2025-06-22T16:02:25.934Z"
   },
   {
    "duration": 7,
    "start_time": "2025-06-22T16:02:27.150Z"
   },
   {
    "duration": 9,
    "start_time": "2025-06-22T16:02:35.242Z"
   },
   {
    "duration": 15,
    "start_time": "2025-06-22T16:02:36.576Z"
   },
   {
    "duration": 8,
    "start_time": "2025-06-22T16:02:40.422Z"
   },
   {
    "duration": 181,
    "start_time": "2025-06-22T16:02:42.132Z"
   },
   {
    "duration": 7,
    "start_time": "2025-06-22T16:02:45.744Z"
   },
   {
    "duration": 213,
    "start_time": "2025-06-22T16:02:47.187Z"
   },
   {
    "duration": 10,
    "start_time": "2025-06-22T16:02:51.432Z"
   },
   {
    "duration": 189,
    "start_time": "2025-06-22T16:02:52.918Z"
   },
   {
    "duration": 6,
    "start_time": "2025-06-22T16:02:56.112Z"
   },
   {
    "duration": 18,
    "start_time": "2025-06-22T16:02:59.435Z"
   },
   {
    "duration": 232,
    "start_time": "2025-06-22T16:03:01.058Z"
   },
   {
    "duration": 8,
    "start_time": "2025-06-22T16:03:04.668Z"
   },
   {
    "duration": 215,
    "start_time": "2025-06-22T16:03:07.794Z"
   },
   {
    "duration": 167,
    "start_time": "2025-06-22T16:03:11.552Z"
   },
   {
    "duration": 7,
    "start_time": "2025-06-22T16:03:15.759Z"
   },
   {
    "duration": 7,
    "start_time": "2025-06-22T16:03:19.118Z"
   },
   {
    "duration": 6,
    "start_time": "2025-06-22T16:03:22.158Z"
   },
   {
    "duration": 26,
    "start_time": "2025-06-22T16:03:28.153Z"
   },
   {
    "duration": 757,
    "start_time": "2025-06-22T16:03:47.047Z"
   },
   {
    "duration": 750,
    "start_time": "2025-06-22T16:04:41.217Z"
   },
   {
    "duration": 2395,
    "start_time": "2025-06-22T16:13:04.556Z"
   },
   {
    "duration": 1229,
    "start_time": "2025-06-22T16:13:08.996Z"
   },
   {
    "duration": 161,
    "start_time": "2025-06-22T16:13:12.060Z"
   },
   {
    "duration": 15,
    "start_time": "2025-06-22T16:13:14.270Z"
   },
   {
    "duration": 14,
    "start_time": "2025-06-22T16:13:16.229Z"
   },
   {
    "duration": 10,
    "start_time": "2025-06-22T16:13:19.668Z"
   },
   {
    "duration": 14,
    "start_time": "2025-06-22T16:13:21.507Z"
   },
   {
    "duration": 11,
    "start_time": "2025-06-22T16:13:24.544Z"
   },
   {
    "duration": 15,
    "start_time": "2025-06-22T16:13:26.172Z"
   },
   {
    "duration": 15,
    "start_time": "2025-06-22T16:13:32.233Z"
   },
   {
    "duration": 4,
    "start_time": "2025-06-22T16:13:36.235Z"
   },
   {
    "duration": 3,
    "start_time": "2025-06-22T16:13:39.104Z"
   },
   {
    "duration": 10,
    "start_time": "2025-06-22T16:13:42.004Z"
   },
   {
    "duration": 11,
    "start_time": "2025-06-22T16:13:44.705Z"
   },
   {
    "duration": 18,
    "start_time": "2025-06-22T16:13:50.373Z"
   },
   {
    "duration": 7,
    "start_time": "2025-06-22T16:13:52.048Z"
   },
   {
    "duration": 7,
    "start_time": "2025-06-22T16:13:53.406Z"
   },
   {
    "duration": 10,
    "start_time": "2025-06-22T16:13:56.218Z"
   },
   {
    "duration": 16,
    "start_time": "2025-06-22T16:13:58.574Z"
   },
   {
    "duration": 6,
    "start_time": "2025-06-22T16:14:03.254Z"
   },
   {
    "duration": 182,
    "start_time": "2025-06-22T16:14:04.605Z"
   },
   {
    "duration": 6,
    "start_time": "2025-06-22T16:14:09.507Z"
   },
   {
    "duration": 239,
    "start_time": "2025-06-22T16:14:11.453Z"
   },
   {
    "duration": 10,
    "start_time": "2025-06-22T16:14:14.908Z"
   },
   {
    "duration": 189,
    "start_time": "2025-06-22T16:14:16.594Z"
   },
   {
    "duration": 6,
    "start_time": "2025-06-22T16:14:20.574Z"
   },
   {
    "duration": 134,
    "start_time": "2025-06-22T16:14:22.999Z"
   },
   {
    "duration": 17,
    "start_time": "2025-06-22T16:14:26.986Z"
   },
   {
    "duration": 253,
    "start_time": "2025-06-22T16:14:30.944Z"
   },
   {
    "duration": 8,
    "start_time": "2025-06-22T16:14:35.722Z"
   },
   {
    "duration": 217,
    "start_time": "2025-06-22T16:14:38.748Z"
   },
   {
    "duration": 141,
    "start_time": "2025-06-22T16:14:43.090Z"
   },
   {
    "duration": 7,
    "start_time": "2025-06-22T16:14:46.051Z"
   },
   {
    "duration": 8,
    "start_time": "2025-06-22T16:14:49.326Z"
   },
   {
    "duration": 7,
    "start_time": "2025-06-22T16:14:57.227Z"
   },
   {
    "duration": 233,
    "start_time": "2025-06-22T16:14:59.204Z"
   },
   {
    "duration": 50,
    "start_time": "2025-06-22T16:20:39.867Z"
   },
   {
    "duration": 2372,
    "start_time": "2025-06-22T16:20:58.313Z"
   },
   {
    "duration": 1284,
    "start_time": "2025-06-22T16:21:00.688Z"
   },
   {
    "duration": 176,
    "start_time": "2025-06-22T16:21:03.302Z"
   },
   {
    "duration": 16,
    "start_time": "2025-06-22T16:21:05.573Z"
   },
   {
    "duration": 14,
    "start_time": "2025-06-22T16:21:09.623Z"
   },
   {
    "duration": 10,
    "start_time": "2025-06-22T16:21:12.242Z"
   },
   {
    "duration": 11,
    "start_time": "2025-06-22T16:21:17.644Z"
   },
   {
    "duration": 12,
    "start_time": "2025-06-22T16:21:20.859Z"
   },
   {
    "duration": 15,
    "start_time": "2025-06-22T16:21:21.998Z"
   },
   {
    "duration": 15,
    "start_time": "2025-06-22T16:21:23.917Z"
   },
   {
    "duration": 4,
    "start_time": "2025-06-22T16:21:27.044Z"
   },
   {
    "duration": 3,
    "start_time": "2025-06-22T16:21:27.726Z"
   },
   {
    "duration": 11,
    "start_time": "2025-06-22T16:21:30.287Z"
   },
   {
    "duration": 11,
    "start_time": "2025-06-22T16:21:31.202Z"
   },
   {
    "duration": 18,
    "start_time": "2025-06-22T16:21:34.744Z"
   },
   {
    "duration": 6,
    "start_time": "2025-06-22T16:21:35.420Z"
   },
   {
    "duration": 8,
    "start_time": "2025-06-22T16:21:36.855Z"
   },
   {
    "duration": 9,
    "start_time": "2025-06-22T16:21:40.377Z"
   },
   {
    "duration": 15,
    "start_time": "2025-06-22T16:21:41.196Z"
   },
   {
    "duration": 7,
    "start_time": "2025-06-22T16:21:45.464Z"
   },
   {
    "duration": 183,
    "start_time": "2025-06-22T16:21:46.720Z"
   },
   {
    "duration": 7,
    "start_time": "2025-06-22T16:21:50.630Z"
   },
   {
    "duration": 236,
    "start_time": "2025-06-22T16:21:51.451Z"
   },
   {
    "duration": 10,
    "start_time": "2025-06-22T16:21:55.449Z"
   },
   {
    "duration": 191,
    "start_time": "2025-06-22T16:21:56.130Z"
   },
   {
    "duration": 5,
    "start_time": "2025-06-22T16:21:59.867Z"
   },
   {
    "duration": 127,
    "start_time": "2025-06-22T16:22:00.695Z"
   },
   {
    "duration": 18,
    "start_time": "2025-06-22T16:22:04.164Z"
   },
   {
    "duration": 221,
    "start_time": "2025-06-22T16:22:04.864Z"
   },
   {
    "duration": 7,
    "start_time": "2025-06-22T16:22:08.838Z"
   },
   {
    "duration": 213,
    "start_time": "2025-06-22T16:22:12.531Z"
   },
   {
    "duration": 138,
    "start_time": "2025-06-22T16:22:17.825Z"
   },
   {
    "duration": 7,
    "start_time": "2025-06-22T16:22:21.497Z"
   },
   {
    "duration": 256,
    "start_time": "2025-06-22T16:22:22.520Z"
   },
   {
    "duration": 9,
    "start_time": "2025-06-22T16:22:25.837Z"
   },
   {
    "duration": 6,
    "start_time": "2025-06-22T16:22:28.040Z"
   },
   {
    "duration": 25,
    "start_time": "2025-06-22T16:22:31.702Z"
   },
   {
    "duration": 672,
    "start_time": "2025-06-22T16:22:37.410Z"
   },
   {
    "duration": 21,
    "start_time": "2025-06-22T16:22:44.288Z"
   },
   {
    "duration": 12,
    "start_time": "2025-06-22T16:22:48.269Z"
   },
   {
    "duration": 290,
    "start_time": "2025-06-22T16:22:52.622Z"
   },
   {
    "duration": 6,
    "start_time": "2025-06-22T16:22:56.679Z"
   },
   {
    "duration": 53,
    "start_time": "2025-06-23T14:36:06.555Z"
   },
   {
    "duration": 3308,
    "start_time": "2025-06-23T14:36:21.709Z"
   },
   {
    "duration": 1507,
    "start_time": "2025-06-23T14:36:25.020Z"
   },
   {
    "duration": 353,
    "start_time": "2025-06-23T14:36:29.688Z"
   },
   {
    "duration": 16,
    "start_time": "2025-06-23T14:36:32.621Z"
   },
   {
    "duration": 14,
    "start_time": "2025-06-23T14:36:37.142Z"
   },
   {
    "duration": 10,
    "start_time": "2025-06-23T14:36:40.610Z"
   },
   {
    "duration": 12,
    "start_time": "2025-06-23T14:36:43.101Z"
   },
   {
    "duration": 14,
    "start_time": "2025-06-23T14:36:48.211Z"
   },
   {
    "duration": 16,
    "start_time": "2025-06-23T14:36:50.492Z"
   },
   {
    "duration": 15,
    "start_time": "2025-06-23T14:36:52.821Z"
   },
   {
    "duration": 4,
    "start_time": "2025-06-23T14:36:57.249Z"
   },
   {
    "duration": 3,
    "start_time": "2025-06-23T14:36:58.620Z"
   },
   {
    "duration": 11,
    "start_time": "2025-06-23T14:37:03.775Z"
   },
   {
    "duration": 12,
    "start_time": "2025-06-23T14:37:07.218Z"
   },
   {
    "duration": 18,
    "start_time": "2025-06-23T14:37:17.295Z"
   },
   {
    "duration": 6,
    "start_time": "2025-06-23T14:37:18.704Z"
   },
   {
    "duration": 6,
    "start_time": "2025-06-23T14:37:21.244Z"
   },
   {
    "duration": 6,
    "start_time": "2025-06-23T14:37:26.133Z"
   },
   {
    "duration": 7,
    "start_time": "2025-06-23T14:38:18.772Z"
   },
   {
    "duration": 8,
    "start_time": "2025-06-23T14:46:42.424Z"
   },
   {
    "duration": 10,
    "start_time": "2025-06-23T14:47:21.996Z"
   },
   {
    "duration": 15,
    "start_time": "2025-06-23T14:47:23.660Z"
   },
   {
    "duration": 7,
    "start_time": "2025-06-23T14:47:48.631Z"
   },
   {
    "duration": 3,
    "start_time": "2025-06-23T14:50:26.807Z"
   },
   {
    "duration": 6,
    "start_time": "2025-06-23T14:51:37.243Z"
   },
   {
    "duration": 5,
    "start_time": "2025-06-23T14:51:57.415Z"
   },
   {
    "duration": 2619,
    "start_time": "2025-06-23T14:53:13.633Z"
   },
   {
    "duration": 1261,
    "start_time": "2025-06-23T14:53:16.254Z"
   },
   {
    "duration": 163,
    "start_time": "2025-06-23T14:53:20.153Z"
   },
   {
    "duration": 16,
    "start_time": "2025-06-23T14:53:22.534Z"
   },
   {
    "duration": 16,
    "start_time": "2025-06-23T14:53:24.551Z"
   },
   {
    "duration": 11,
    "start_time": "2025-06-23T14:53:27.404Z"
   },
   {
    "duration": 13,
    "start_time": "2025-06-23T14:53:29.242Z"
   },
   {
    "duration": 13,
    "start_time": "2025-06-23T14:53:34.062Z"
   },
   {
    "duration": 15,
    "start_time": "2025-06-23T14:53:34.897Z"
   },
   {
    "duration": 14,
    "start_time": "2025-06-23T14:53:37.064Z"
   },
   {
    "duration": 4,
    "start_time": "2025-06-23T14:53:41.284Z"
   },
   {
    "duration": 3,
    "start_time": "2025-06-23T14:53:42.161Z"
   },
   {
    "duration": 10,
    "start_time": "2025-06-23T14:53:45.855Z"
   },
   {
    "duration": 11,
    "start_time": "2025-06-23T14:53:51.203Z"
   },
   {
    "duration": 18,
    "start_time": "2025-06-23T14:53:55.719Z"
   },
   {
    "duration": 7,
    "start_time": "2025-06-23T14:53:56.842Z"
   },
   {
    "duration": 7,
    "start_time": "2025-06-23T14:53:58.481Z"
   },
   {
    "duration": 9,
    "start_time": "2025-06-23T14:54:00.545Z"
   },
   {
    "duration": 10,
    "start_time": "2025-06-23T14:54:06.582Z"
   },
   {
    "duration": 15,
    "start_time": "2025-06-23T14:54:08.480Z"
   },
   {
    "duration": 7,
    "start_time": "2025-06-23T14:54:22.874Z"
   },
   {
    "duration": 8,
    "start_time": "2025-06-23T14:54:28.092Z"
   },
   {
    "duration": 196,
    "start_time": "2025-06-23T14:55:09.372Z"
   },
   {
    "duration": 7,
    "start_time": "2025-06-23T14:55:22.871Z"
   },
   {
    "duration": 6,
    "start_time": "2025-06-23T14:57:34.528Z"
   },
   {
    "duration": 243,
    "start_time": "2025-06-23T14:57:42.142Z"
   },
   {
    "duration": 9,
    "start_time": "2025-06-23T14:58:01.402Z"
   },
   {
    "duration": 7,
    "start_time": "2025-06-23T15:00:35.856Z"
   },
   {
    "duration": 9,
    "start_time": "2025-06-23T15:00:53.881Z"
   },
   {
    "duration": 19,
    "start_time": "2025-06-23T15:01:53.417Z"
   },
   {
    "duration": 270,
    "start_time": "2025-06-23T15:02:24.124Z"
   },
   {
    "duration": 2631,
    "start_time": "2025-06-23T15:02:42.828Z"
   },
   {
    "duration": 1260,
    "start_time": "2025-06-23T15:02:45.462Z"
   },
   {
    "duration": 168,
    "start_time": "2025-06-23T15:02:48.682Z"
   },
   {
    "duration": 17,
    "start_time": "2025-06-23T15:02:51.111Z"
   },
   {
    "duration": 15,
    "start_time": "2025-06-23T15:02:54.311Z"
   },
   {
    "duration": 10,
    "start_time": "2025-06-23T15:02:57.459Z"
   },
   {
    "duration": 12,
    "start_time": "2025-06-23T15:02:59.309Z"
   },
   {
    "duration": 12,
    "start_time": "2025-06-23T15:03:02.930Z"
   },
   {
    "duration": 15,
    "start_time": "2025-06-23T15:03:03.761Z"
   },
   {
    "duration": 14,
    "start_time": "2025-06-23T15:03:05.824Z"
   },
   {
    "duration": 3,
    "start_time": "2025-06-23T15:03:09.303Z"
   },
   {
    "duration": 3,
    "start_time": "2025-06-23T15:03:09.906Z"
   },
   {
    "duration": 10,
    "start_time": "2025-06-23T15:03:12.912Z"
   },
   {
    "duration": 16,
    "start_time": "2025-06-23T15:03:17.795Z"
   },
   {
    "duration": 17,
    "start_time": "2025-06-23T15:03:22.463Z"
   },
   {
    "duration": 7,
    "start_time": "2025-06-23T15:03:23.648Z"
   },
   {
    "duration": 7,
    "start_time": "2025-06-23T15:03:25.536Z"
   },
   {
    "duration": 9,
    "start_time": "2025-06-23T15:03:27.443Z"
   },
   {
    "duration": 10,
    "start_time": "2025-06-23T15:03:30.957Z"
   },
   {
    "duration": 15,
    "start_time": "2025-06-23T15:03:32.803Z"
   },
   {
    "duration": 8,
    "start_time": "2025-06-23T15:03:40.533Z"
   },
   {
    "duration": 8,
    "start_time": "2025-06-23T15:03:41.653Z"
   },
   {
    "duration": 194,
    "start_time": "2025-06-23T15:03:47.313Z"
   },
   {
    "duration": 7,
    "start_time": "2025-06-23T15:03:53.351Z"
   },
   {
    "duration": 6,
    "start_time": "2025-06-23T15:03:57.893Z"
   },
   {
    "duration": 262,
    "start_time": "2025-06-23T15:04:04.571Z"
   },
   {
    "duration": 10,
    "start_time": "2025-06-23T15:04:09.804Z"
   },
   {
    "duration": 195,
    "start_time": "2025-06-23T15:04:13.196Z"
   },
   {
    "duration": 6,
    "start_time": "2025-06-23T15:04:22.711Z"
   },
   {
    "duration": 236,
    "start_time": "2025-06-23T15:07:33.236Z"
   },
   {
    "duration": 103,
    "start_time": "2025-06-23T15:08:06.351Z"
   },
   {
    "duration": 101,
    "start_time": "2025-06-23T15:08:19.751Z"
   },
   {
    "duration": 102,
    "start_time": "2025-06-23T15:08:35.994Z"
   },
   {
    "duration": 15,
    "start_time": "2025-06-23T15:08:58.059Z"
   },
   {
    "duration": 21,
    "start_time": "2025-06-23T15:10:37.682Z"
   },
   {
    "duration": 17,
    "start_time": "2025-06-23T15:11:05.949Z"
   },
   {
    "duration": 16,
    "start_time": "2025-06-23T15:11:19.085Z"
   },
   {
    "duration": 319,
    "start_time": "2025-06-23T15:11:23.110Z"
   },
   {
    "duration": 18,
    "start_time": "2025-06-23T15:15:11.034Z"
   },
   {
    "duration": 53,
    "start_time": "2025-06-23T15:16:14.619Z"
   },
   {
    "duration": 4,
    "start_time": "2025-06-23T15:17:08.807Z"
   },
   {
    "duration": 2541,
    "start_time": "2025-06-23T15:17:52.872Z"
   },
   {
    "duration": 1405,
    "start_time": "2025-06-23T15:17:55.415Z"
   },
   {
    "duration": 201,
    "start_time": "2025-06-23T15:17:58.686Z"
   },
   {
    "duration": 16,
    "start_time": "2025-06-23T15:18:01.449Z"
   },
   {
    "duration": 14,
    "start_time": "2025-06-23T15:18:03.347Z"
   },
   {
    "duration": 9,
    "start_time": "2025-06-23T15:18:07.099Z"
   },
   {
    "duration": 11,
    "start_time": "2025-06-23T15:18:09.743Z"
   },
   {
    "duration": 17,
    "start_time": "2025-06-23T15:18:14.687Z"
   },
   {
    "duration": 16,
    "start_time": "2025-06-23T15:18:15.438Z"
   },
   {
    "duration": 16,
    "start_time": "2025-06-23T15:18:17.741Z"
   },
   {
    "duration": 5,
    "start_time": "2025-06-23T15:18:21.393Z"
   },
   {
    "duration": 4,
    "start_time": "2025-06-23T15:18:22.606Z"
   },
   {
    "duration": 11,
    "start_time": "2025-06-23T15:18:25.836Z"
   },
   {
    "duration": 12,
    "start_time": "2025-06-23T15:18:30.300Z"
   },
   {
    "duration": 20,
    "start_time": "2025-06-23T15:18:34.530Z"
   },
   {
    "duration": 6,
    "start_time": "2025-06-23T15:18:35.296Z"
   },
   {
    "duration": 6,
    "start_time": "2025-06-23T15:18:36.777Z"
   },
   {
    "duration": 9,
    "start_time": "2025-06-23T15:18:39.093Z"
   },
   {
    "duration": 10,
    "start_time": "2025-06-23T15:18:42.700Z"
   },
   {
    "duration": 16,
    "start_time": "2025-06-23T15:18:43.503Z"
   },
   {
    "duration": 7,
    "start_time": "2025-06-23T15:18:48.815Z"
   },
   {
    "duration": 7,
    "start_time": "2025-06-23T15:18:51.262Z"
   },
   {
    "duration": 209,
    "start_time": "2025-06-23T15:18:54.936Z"
   },
   {
    "duration": 7,
    "start_time": "2025-06-23T15:18:59.338Z"
   },
   {
    "duration": 6,
    "start_time": "2025-06-23T15:19:01.667Z"
   },
   {
    "duration": 266,
    "start_time": "2025-06-23T15:19:04.074Z"
   },
   {
    "duration": 9,
    "start_time": "2025-06-23T15:19:08.918Z"
   },
   {
    "duration": 196,
    "start_time": "2025-06-23T15:19:11.293Z"
   },
   {
    "duration": 6,
    "start_time": "2025-06-23T15:19:18.102Z"
   },
   {
    "duration": 95,
    "start_time": "2025-06-23T15:19:20.123Z"
   },
   {
    "duration": 15,
    "start_time": "2025-06-23T15:19:26.366Z"
   },
   {
    "duration": 9,
    "start_time": "2025-06-23T15:19:33.531Z"
   },
   {
    "duration": 248,
    "start_time": "2025-06-23T15:19:47.850Z"
   },
   {
    "duration": 154,
    "start_time": "2025-06-23T15:23:27.761Z"
   },
   {
    "duration": 8,
    "start_time": "2025-06-23T15:24:40.800Z"
   },
   {
    "duration": 238,
    "start_time": "2025-06-23T15:24:44.932Z"
   },
   {
    "duration": 218,
    "start_time": "2025-06-23T15:24:48.653Z"
   },
   {
    "duration": 10,
    "start_time": "2025-06-23T15:25:10.103Z"
   },
   {
    "duration": 192,
    "start_time": "2025-06-23T15:25:11.964Z"
   },
   {
    "duration": 108,
    "start_time": "2025-06-23T15:26:49.830Z"
   },
   {
    "duration": 9,
    "start_time": "2025-06-23T15:26:54.191Z"
   },
   {
    "duration": 170,
    "start_time": "2025-06-23T15:26:57.203Z"
   },
   {
    "duration": 2425,
    "start_time": "2025-06-23T15:38:16.568Z"
   },
   {
    "duration": 1252,
    "start_time": "2025-06-23T15:38:20.056Z"
   },
   {
    "duration": 179,
    "start_time": "2025-06-23T15:38:26.071Z"
   },
   {
    "duration": 17,
    "start_time": "2025-06-23T15:38:32.459Z"
   },
   {
    "duration": 15,
    "start_time": "2025-06-23T15:38:35.969Z"
   },
   {
    "duration": 11,
    "start_time": "2025-06-23T15:38:40.041Z"
   },
   {
    "duration": 13,
    "start_time": "2025-06-23T15:38:41.905Z"
   },
   {
    "duration": 14,
    "start_time": "2025-06-23T15:38:46.007Z"
   },
   {
    "duration": 15,
    "start_time": "2025-06-23T15:38:47.279Z"
   },
   {
    "duration": 15,
    "start_time": "2025-06-23T15:38:49.611Z"
   },
   {
    "duration": 4,
    "start_time": "2025-06-23T15:38:53.480Z"
   },
   {
    "duration": 3,
    "start_time": "2025-06-23T15:38:54.352Z"
   },
   {
    "duration": 9,
    "start_time": "2025-06-23T15:38:57.845Z"
   },
   {
    "duration": 13,
    "start_time": "2025-06-23T15:39:02.075Z"
   },
   {
    "duration": 19,
    "start_time": "2025-06-23T15:39:06.850Z"
   },
   {
    "duration": 6,
    "start_time": "2025-06-23T15:39:07.721Z"
   },
   {
    "duration": 6,
    "start_time": "2025-06-23T15:39:09.394Z"
   },
   {
    "duration": 7,
    "start_time": "2025-06-23T15:39:11.603Z"
   },
   {
    "duration": 10,
    "start_time": "2025-06-23T15:39:17.078Z"
   },
   {
    "duration": 16,
    "start_time": "2025-06-23T15:39:17.801Z"
   },
   {
    "duration": 8,
    "start_time": "2025-06-23T15:39:23.765Z"
   },
   {
    "duration": 9,
    "start_time": "2025-06-23T15:39:26.039Z"
   },
   {
    "duration": 194,
    "start_time": "2025-06-23T15:39:31.065Z"
   },
   {
    "duration": 7,
    "start_time": "2025-06-23T15:39:35.800Z"
   },
   {
    "duration": 7,
    "start_time": "2025-06-23T15:39:38.042Z"
   },
   {
    "duration": 232,
    "start_time": "2025-06-23T15:39:39.424Z"
   },
   {
    "duration": 9,
    "start_time": "2025-06-23T15:39:43.007Z"
   },
   {
    "duration": 232,
    "start_time": "2025-06-23T15:39:44.590Z"
   },
   {
    "duration": 5,
    "start_time": "2025-06-23T15:39:49.368Z"
   },
   {
    "duration": 147,
    "start_time": "2025-06-23T15:39:55.509Z"
   },
   {
    "duration": 15,
    "start_time": "2025-06-23T15:39:59.438Z"
   },
   {
    "duration": 8,
    "start_time": "2025-06-23T15:40:00.376Z"
   },
   {
    "duration": 257,
    "start_time": "2025-06-23T15:40:02.552Z"
   },
   {
    "duration": 12,
    "start_time": "2025-06-23T15:40:09.815Z"
   },
   {
    "duration": 220,
    "start_time": "2025-06-23T15:40:13.420Z"
   },
   {
    "duration": 155,
    "start_time": "2025-06-23T15:40:18.345Z"
   },
   {
    "duration": 8,
    "start_time": "2025-06-23T15:40:23.013Z"
   },
   {
    "duration": 277,
    "start_time": "2025-06-23T15:40:24.299Z"
   },
   {
    "duration": 9,
    "start_time": "2025-06-23T15:40:29.637Z"
   },
   {
    "duration": 6,
    "start_time": "2025-06-23T15:40:32.199Z"
   },
   {
    "duration": 167,
    "start_time": "2025-06-23T15:40:33.548Z"
   },
   {
    "duration": 10,
    "start_time": "2025-06-23T15:42:40.749Z"
   },
   {
    "duration": 77,
    "start_time": "2025-06-23T15:43:20.319Z"
   },
   {
    "duration": 8,
    "start_time": "2025-06-23T15:43:32.513Z"
   },
   {
    "duration": 372,
    "start_time": "2025-06-23T15:44:09.288Z"
   },
   {
    "duration": 180,
    "start_time": "2025-06-23T15:48:19.712Z"
   },
   {
    "duration": 27,
    "start_time": "2025-06-23T15:57:17.995Z"
   },
   {
    "duration": 23,
    "start_time": "2025-06-23T15:59:06.099Z"
   },
   {
    "duration": 108,
    "start_time": "2025-06-23T15:59:38.310Z"
   },
   {
    "duration": 20,
    "start_time": "2025-06-23T16:01:00.090Z"
   },
   {
    "duration": 20,
    "start_time": "2025-06-23T16:03:38.538Z"
   },
   {
    "duration": 2526,
    "start_time": "2025-06-23T16:14:41.040Z"
   },
   {
    "duration": 1471,
    "start_time": "2025-06-23T16:14:45.523Z"
   },
   {
    "duration": 180,
    "start_time": "2025-06-23T16:14:49.832Z"
   },
   {
    "duration": 17,
    "start_time": "2025-06-23T16:14:52.107Z"
   },
   {
    "duration": 16,
    "start_time": "2025-06-23T16:14:54.255Z"
   },
   {
    "duration": 10,
    "start_time": "2025-06-23T16:14:57.328Z"
   },
   {
    "duration": 12,
    "start_time": "2025-06-23T16:14:59.200Z"
   },
   {
    "duration": 12,
    "start_time": "2025-06-23T16:15:03.159Z"
   },
   {
    "duration": 16,
    "start_time": "2025-06-23T16:15:06.844Z"
   },
   {
    "duration": 15,
    "start_time": "2025-06-23T16:15:09.814Z"
   },
   {
    "duration": 4,
    "start_time": "2025-06-23T16:15:13.403Z"
   },
   {
    "duration": 4,
    "start_time": "2025-06-23T16:15:15.069Z"
   },
   {
    "duration": 11,
    "start_time": "2025-06-23T16:15:18.708Z"
   },
   {
    "duration": 11,
    "start_time": "2025-06-23T16:15:21.871Z"
   },
   {
    "duration": 18,
    "start_time": "2025-06-23T16:15:26.972Z"
   },
   {
    "duration": 6,
    "start_time": "2025-06-23T16:15:27.836Z"
   },
   {
    "duration": 6,
    "start_time": "2025-06-23T16:15:29.098Z"
   },
   {
    "duration": 8,
    "start_time": "2025-06-23T16:15:31.102Z"
   },
   {
    "duration": 9,
    "start_time": "2025-06-23T16:15:34.252Z"
   },
   {
    "duration": 16,
    "start_time": "2025-06-23T16:15:35.088Z"
   },
   {
    "duration": 7,
    "start_time": "2025-06-23T16:15:40.132Z"
   },
   {
    "duration": 25,
    "start_time": "2025-06-23T16:15:40.858Z"
   },
   {
    "duration": 198,
    "start_time": "2025-06-23T16:15:43.443Z"
   },
   {
    "duration": 7,
    "start_time": "2025-06-23T16:15:48.246Z"
   },
   {
    "duration": 7,
    "start_time": "2025-06-23T16:15:49.037Z"
   },
   {
    "duration": 227,
    "start_time": "2025-06-23T16:15:50.393Z"
   },
   {
    "duration": 11,
    "start_time": "2025-06-23T16:15:55.989Z"
   },
   {
    "duration": 194,
    "start_time": "2025-06-23T16:15:56.790Z"
   },
   {
    "duration": 6,
    "start_time": "2025-06-23T16:16:01.019Z"
   },
   {
    "duration": 151,
    "start_time": "2025-06-23T16:16:01.845Z"
   },
   {
    "duration": 15,
    "start_time": "2025-06-23T16:16:05.779Z"
   },
   {
    "duration": 8,
    "start_time": "2025-06-23T16:16:06.639Z"
   },
   {
    "duration": 7,
    "start_time": "2025-06-23T16:16:11.655Z"
   },
   {
    "duration": 213,
    "start_time": "2025-06-23T16:16:15.592Z"
   },
   {
    "duration": 146,
    "start_time": "2025-06-23T16:16:19.814Z"
   },
   {
    "duration": 8,
    "start_time": "2025-06-23T16:16:24.194Z"
   },
   {
    "duration": 192,
    "start_time": "2025-06-23T16:16:24.971Z"
   },
   {
    "duration": 9,
    "start_time": "2025-06-23T16:16:29.484Z"
   },
   {
    "duration": 7,
    "start_time": "2025-06-23T16:16:30.318Z"
   },
   {
    "duration": 249,
    "start_time": "2025-06-23T16:16:32.011Z"
   },
   {
    "duration": 121,
    "start_time": "2025-06-23T16:16:38.074Z"
   },
   {
    "duration": 54,
    "start_time": "2025-06-23T16:26:30.721Z"
   },
   {
    "duration": 52,
    "start_time": "2025-06-23T16:26:43.381Z"
   },
   {
    "duration": 818,
    "start_time": "2025-06-23T16:27:03.861Z"
   },
   {
    "duration": 2470,
    "start_time": "2025-06-23T16:28:48.712Z"
   },
   {
    "duration": 1229,
    "start_time": "2025-06-23T16:28:51.184Z"
   },
   {
    "duration": 183,
    "start_time": "2025-06-23T16:28:54.654Z"
   },
   {
    "duration": 16,
    "start_time": "2025-06-23T16:28:57.450Z"
   },
   {
    "duration": 14,
    "start_time": "2025-06-23T16:28:59.328Z"
   },
   {
    "duration": 9,
    "start_time": "2025-06-23T16:29:03.263Z"
   },
   {
    "duration": 11,
    "start_time": "2025-06-23T16:29:06.225Z"
   },
   {
    "duration": 12,
    "start_time": "2025-06-23T16:29:11.766Z"
   },
   {
    "duration": 16,
    "start_time": "2025-06-23T16:29:12.429Z"
   },
   {
    "duration": 15,
    "start_time": "2025-06-23T16:29:15.006Z"
   },
   {
    "duration": 4,
    "start_time": "2025-06-23T16:29:19.810Z"
   },
   {
    "duration": 4,
    "start_time": "2025-06-23T16:29:20.565Z"
   },
   {
    "duration": 11,
    "start_time": "2025-06-23T16:29:23.945Z"
   },
   {
    "duration": 12,
    "start_time": "2025-06-23T16:29:28.132Z"
   },
   {
    "duration": 19,
    "start_time": "2025-06-23T16:29:32.376Z"
   },
   {
    "duration": 7,
    "start_time": "2025-06-23T16:29:33.094Z"
   },
   {
    "duration": 6,
    "start_time": "2025-06-23T16:29:33.803Z"
   },
   {
    "duration": 8,
    "start_time": "2025-06-23T16:29:35.897Z"
   },
   {
    "duration": 9,
    "start_time": "2025-06-23T16:29:39.917Z"
   },
   {
    "duration": 16,
    "start_time": "2025-06-23T16:29:40.725Z"
   },
   {
    "duration": 8,
    "start_time": "2025-06-23T16:29:45.748Z"
   },
   {
    "duration": 24,
    "start_time": "2025-06-23T16:29:47.588Z"
   },
   {
    "duration": 204,
    "start_time": "2025-06-23T16:29:51.533Z"
   },
   {
    "duration": 8,
    "start_time": "2025-06-23T16:29:57.287Z"
   },
   {
    "duration": 6,
    "start_time": "2025-06-23T16:30:00.725Z"
   },
   {
    "duration": 237,
    "start_time": "2025-06-23T16:30:01.458Z"
   },
   {
    "duration": 9,
    "start_time": "2025-06-23T16:30:05.699Z"
   },
   {
    "duration": 194,
    "start_time": "2025-06-23T16:30:06.627Z"
   },
   {
    "duration": 6,
    "start_time": "2025-06-23T16:30:11.815Z"
   },
   {
    "duration": 153,
    "start_time": "2025-06-23T16:30:13.299Z"
   },
   {
    "duration": 16,
    "start_time": "2025-06-23T16:30:17.469Z"
   },
   {
    "duration": 9,
    "start_time": "2025-06-23T16:30:18.485Z"
   },
   {
    "duration": 232,
    "start_time": "2025-06-23T16:30:20.953Z"
   },
   {
    "duration": 9,
    "start_time": "2025-06-23T16:30:26.098Z"
   },
   {
    "duration": 218,
    "start_time": "2025-06-23T16:30:29.858Z"
   },
   {
    "duration": 147,
    "start_time": "2025-06-23T16:30:33.718Z"
   },
   {
    "duration": 8,
    "start_time": "2025-06-23T16:30:38.599Z"
   },
   {
    "duration": 285,
    "start_time": "2025-06-23T16:30:39.652Z"
   },
   {
    "duration": 9,
    "start_time": "2025-06-23T16:30:47.407Z"
   },
   {
    "duration": 7,
    "start_time": "2025-06-23T16:30:48.063Z"
   },
   {
    "duration": 19,
    "start_time": "2025-06-23T16:31:18.767Z"
   },
   {
    "duration": 12,
    "start_time": "2025-06-23T16:33:06.572Z"
   },
   {
    "duration": 293,
    "start_time": "2025-06-23T16:33:08.171Z"
   },
   {
    "duration": 8,
    "start_time": "2025-06-23T16:33:17.039Z"
   },
   {
    "duration": 113,
    "start_time": "2025-06-23T16:34:48.294Z"
   },
   {
    "duration": 3598,
    "start_time": "2025-06-24T15:00:59.010Z"
   },
   {
    "duration": 1688,
    "start_time": "2025-06-24T15:01:02.611Z"
   },
   {
    "duration": 403,
    "start_time": "2025-06-24T15:01:04.301Z"
   },
   {
    "duration": 16,
    "start_time": "2025-06-24T15:01:04.706Z"
   },
   {
    "duration": 16,
    "start_time": "2025-06-24T15:01:04.724Z"
   },
   {
    "duration": 13,
    "start_time": "2025-06-24T15:01:04.742Z"
   },
   {
    "duration": 96,
    "start_time": "2025-06-24T15:01:04.757Z"
   },
   {
    "duration": 41,
    "start_time": "2025-06-24T15:01:04.855Z"
   },
   {
    "duration": 122,
    "start_time": "2025-06-24T15:01:04.898Z"
   },
   {
    "duration": 17,
    "start_time": "2025-06-24T15:01:05.022Z"
   },
   {
    "duration": 26,
    "start_time": "2025-06-24T15:01:05.041Z"
   },
   {
    "duration": 13,
    "start_time": "2025-06-24T15:01:05.069Z"
   },
   {
    "duration": 22,
    "start_time": "2025-06-24T15:01:05.084Z"
   },
   {
    "duration": 10,
    "start_time": "2025-06-24T15:01:05.109Z"
   },
   {
    "duration": 27,
    "start_time": "2025-06-24T15:01:05.120Z"
   },
   {
    "duration": 7,
    "start_time": "2025-06-24T15:01:05.150Z"
   },
   {
    "duration": 7,
    "start_time": "2025-06-24T15:01:05.158Z"
   },
   {
    "duration": 27,
    "start_time": "2025-06-24T15:01:05.167Z"
   },
   {
    "duration": 20,
    "start_time": "2025-06-24T15:01:05.195Z"
   },
   {
    "duration": 43,
    "start_time": "2025-06-24T15:01:05.217Z"
   },
   {
    "duration": 21,
    "start_time": "2025-06-24T15:01:05.262Z"
   },
   {
    "duration": 25,
    "start_time": "2025-06-24T15:01:05.285Z"
   },
   {
    "duration": 217,
    "start_time": "2025-06-24T15:01:05.312Z"
   },
   {
    "duration": 15,
    "start_time": "2025-06-24T15:01:05.530Z"
   },
   {
    "duration": 20,
    "start_time": "2025-06-24T15:01:05.546Z"
   },
   {
    "duration": 292,
    "start_time": "2025-06-24T15:01:05.568Z"
   },
   {
    "duration": 11,
    "start_time": "2025-06-24T15:01:05.862Z"
   },
   {
    "duration": 254,
    "start_time": "2025-06-24T15:01:05.875Z"
   },
   {
    "duration": 12,
    "start_time": "2025-06-24T15:01:06.130Z"
   },
   {
    "duration": 181,
    "start_time": "2025-06-24T15:01:06.145Z"
   },
   {
    "duration": 26,
    "start_time": "2025-06-24T15:01:06.332Z"
   },
   {
    "duration": 8,
    "start_time": "2025-06-24T15:01:06.360Z"
   },
   {
    "duration": 287,
    "start_time": "2025-06-24T15:01:06.369Z"
   },
   {
    "duration": 8,
    "start_time": "2025-06-24T15:01:06.658Z"
   },
   {
    "duration": 267,
    "start_time": "2025-06-24T15:01:06.668Z"
   },
   {
    "duration": 172,
    "start_time": "2025-06-24T15:01:06.937Z"
   },
   {
    "duration": 6,
    "start_time": "2025-06-24T15:01:07.111Z"
   },
   {
    "duration": 295,
    "start_time": "2025-06-24T15:01:07.119Z"
   },
   {
    "duration": 8,
    "start_time": "2025-06-24T15:01:07.416Z"
   },
   {
    "duration": 10,
    "start_time": "2025-06-24T15:01:07.442Z"
   },
   {
    "duration": 269,
    "start_time": "2025-06-24T15:01:07.456Z"
   },
   {
    "duration": 3395,
    "start_time": "2025-06-24T16:40:56.448Z"
   },
   {
    "duration": 1464,
    "start_time": "2025-06-24T16:41:01.855Z"
   },
   {
    "duration": 332,
    "start_time": "2025-06-24T16:41:05.462Z"
   },
   {
    "duration": 22,
    "start_time": "2025-06-24T16:41:08.797Z"
   },
   {
    "duration": 15,
    "start_time": "2025-06-24T16:41:11.093Z"
   },
   {
    "duration": 14,
    "start_time": "2025-06-24T16:41:15.657Z"
   },
   {
    "duration": 11,
    "start_time": "2025-06-24T16:41:16.925Z"
   },
   {
    "duration": 12,
    "start_time": "2025-06-24T16:41:22.101Z"
   },
   {
    "duration": 15,
    "start_time": "2025-06-24T16:41:24.220Z"
   },
   {
    "duration": 15,
    "start_time": "2025-06-24T16:41:26.667Z"
   },
   {
    "duration": 5,
    "start_time": "2025-06-24T16:41:31.068Z"
   },
   {
    "duration": 3,
    "start_time": "2025-06-24T16:41:31.834Z"
   },
   {
    "duration": 11,
    "start_time": "2025-06-24T16:41:35.563Z"
   },
   {
    "duration": 11,
    "start_time": "2025-06-24T16:41:39.818Z"
   },
   {
    "duration": 19,
    "start_time": "2025-06-24T16:41:45.570Z"
   },
   {
    "duration": 7,
    "start_time": "2025-06-24T16:41:47.768Z"
   },
   {
    "duration": 7,
    "start_time": "2025-06-24T16:41:54.165Z"
   },
   {
    "duration": 9,
    "start_time": "2025-06-24T16:42:11.681Z"
   },
   {
    "duration": 23,
    "start_time": "2025-06-24T16:44:47.024Z"
   },
   {
    "duration": 10,
    "start_time": "2025-06-24T16:46:17.461Z"
   },
   {
    "duration": 10,
    "start_time": "2025-06-24T16:47:23.426Z"
   },
   {
    "duration": 15,
    "start_time": "2025-06-24T16:47:24.242Z"
   },
   {
    "duration": 7,
    "start_time": "2025-06-24T16:47:38.406Z"
   },
   {
    "duration": 44,
    "start_time": "2025-06-24T16:47:38.414Z"
   },
   {
    "duration": 194,
    "start_time": "2025-06-24T16:47:45.084Z"
   },
   {
    "duration": 6,
    "start_time": "2025-06-24T16:47:54.580Z"
   },
   {
    "duration": 6,
    "start_time": "2025-06-24T16:47:54.588Z"
   },
   {
    "duration": 233,
    "start_time": "2025-06-24T16:47:54.596Z"
   },
   {
    "duration": 9,
    "start_time": "2025-06-24T16:47:58.190Z"
   },
   {
    "duration": 6,
    "start_time": "2025-06-24T16:48:02.795Z"
   },
   {
    "duration": 152,
    "start_time": "2025-06-24T16:48:04.421Z"
   },
   {
    "duration": 15,
    "start_time": "2025-06-24T16:48:09.933Z"
   },
   {
    "duration": 8,
    "start_time": "2025-06-24T16:48:12.001Z"
   },
   {
    "duration": 238,
    "start_time": "2025-06-24T16:48:13.413Z"
   },
   {
    "duration": 8,
    "start_time": "2025-06-24T16:48:19.185Z"
   },
   {
    "duration": 228,
    "start_time": "2025-06-24T16:48:22.434Z"
   },
   {
    "duration": 141,
    "start_time": "2025-06-24T16:48:27.004Z"
   },
   {
    "duration": 7,
    "start_time": "2025-06-24T16:48:32.871Z"
   },
   {
    "duration": 8,
    "start_time": "2025-06-24T16:48:38.413Z"
   },
   {
    "duration": 6,
    "start_time": "2025-06-24T16:48:40.472Z"
   },
   {
    "duration": 236,
    "start_time": "2025-06-24T16:48:41.829Z"
   },
   {
    "duration": 220,
    "start_time": "2025-06-24T16:50:14.888Z"
   },
   {
    "duration": 111,
    "start_time": "2025-06-24T16:50:22.342Z"
   },
   {
    "duration": 12,
    "start_time": "2025-06-24T16:51:08.557Z"
   },
   {
    "duration": 201,
    "start_time": "2025-06-24T16:51:21.297Z"
   },
   {
    "duration": 659,
    "start_time": "2025-06-24T16:51:24.720Z"
   },
   {
    "duration": 621,
    "start_time": "2025-06-24T16:56:48.981Z"
   },
   {
    "duration": 221,
    "start_time": "2025-06-24T16:57:55.925Z"
   },
   {
    "duration": 3561,
    "start_time": "2025-06-25T07:28:53.620Z"
   },
   {
    "duration": 1565,
    "start_time": "2025-06-25T07:28:57.183Z"
   },
   {
    "duration": 161,
    "start_time": "2025-06-25T07:28:58.749Z"
   },
   {
    "duration": 15,
    "start_time": "2025-06-25T07:28:58.912Z"
   },
   {
    "duration": 84,
    "start_time": "2025-06-25T07:28:58.928Z"
   },
   {
    "duration": 9,
    "start_time": "2025-06-25T07:28:59.014Z"
   },
   {
    "duration": 12,
    "start_time": "2025-06-25T07:28:59.024Z"
   },
   {
    "duration": 11,
    "start_time": "2025-06-25T07:28:59.038Z"
   },
   {
    "duration": 24,
    "start_time": "2025-06-25T07:28:59.051Z"
   },
   {
    "duration": 25,
    "start_time": "2025-06-25T07:28:59.077Z"
   },
   {
    "duration": 3,
    "start_time": "2025-06-25T07:28:59.104Z"
   },
   {
    "duration": 3,
    "start_time": "2025-06-25T07:28:59.109Z"
   },
   {
    "duration": 9,
    "start_time": "2025-06-25T07:28:59.114Z"
   },
   {
    "duration": 10,
    "start_time": "2025-06-25T07:28:59.124Z"
   },
   {
    "duration": 35,
    "start_time": "2025-06-25T07:28:59.135Z"
   },
   {
    "duration": 6,
    "start_time": "2025-06-25T07:28:59.172Z"
   },
   {
    "duration": 7,
    "start_time": "2025-06-25T07:28:59.179Z"
   },
   {
    "duration": 23,
    "start_time": "2025-06-25T07:28:59.187Z"
   },
   {
    "duration": 9,
    "start_time": "2025-06-25T07:28:59.211Z"
   },
   {
    "duration": 41,
    "start_time": "2025-06-25T07:28:59.222Z"
   },
   {
    "duration": 18,
    "start_time": "2025-06-25T07:28:59.265Z"
   },
   {
    "duration": 6,
    "start_time": "2025-06-25T07:28:59.285Z"
   },
   {
    "duration": 8,
    "start_time": "2025-06-25T07:28:59.292Z"
   },
   {
    "duration": 223,
    "start_time": "2025-06-25T07:28:59.301Z"
   },
   {
    "duration": 7,
    "start_time": "2025-06-25T07:28:59.525Z"
   },
   {
    "duration": 30,
    "start_time": "2025-06-25T07:28:59.534Z"
   },
   {
    "duration": 234,
    "start_time": "2025-06-25T07:28:59.566Z"
   },
   {
    "duration": 10,
    "start_time": "2025-06-25T07:28:59.804Z"
   },
   {
    "duration": 218,
    "start_time": "2025-06-25T07:28:59.816Z"
   },
   {
    "duration": 6,
    "start_time": "2025-06-25T07:29:00.036Z"
   },
   {
    "duration": 281,
    "start_time": "2025-06-25T07:29:00.044Z"
   },
   {
    "duration": 19,
    "start_time": "2025-06-25T07:29:00.327Z"
   },
   {
    "duration": 29,
    "start_time": "2025-06-25T07:29:00.357Z"
   },
   {
    "duration": 300,
    "start_time": "2025-06-25T07:29:00.387Z"
   },
   {
    "duration": 8,
    "start_time": "2025-06-25T07:29:00.688Z"
   },
   {
    "duration": 237,
    "start_time": "2025-06-25T07:29:00.697Z"
   },
   {
    "duration": 158,
    "start_time": "2025-06-25T07:29:00.936Z"
   },
   {
    "duration": 7,
    "start_time": "2025-06-25T07:29:01.095Z"
   },
   {
    "duration": 279,
    "start_time": "2025-06-25T07:29:01.104Z"
   },
   {
    "duration": 8,
    "start_time": "2025-06-25T07:29:01.384Z"
   },
   {
    "duration": 160,
    "start_time": "2025-06-25T07:29:01.394Z"
   },
   {
    "duration": 197,
    "start_time": "2025-06-25T07:29:01.557Z"
   },
   {
    "duration": 215,
    "start_time": "2025-06-25T07:29:01.758Z"
   },
   {
    "duration": 656,
    "start_time": "2025-06-25T07:29:01.975Z"
   },
   {
    "duration": 117,
    "start_time": "2025-06-25T07:29:02.633Z"
   },
   {
    "duration": 16,
    "start_time": "2025-06-25T07:29:02.752Z"
   },
   {
    "duration": 375,
    "start_time": "2025-06-25T07:29:02.769Z"
   },
   {
    "duration": 17,
    "start_time": "2025-06-25T07:29:03.145Z"
   }
  ],
  "colab": {
   "provenance": []
  },
  "kernelspec": {
   "display_name": "Python [conda env:base] *",
   "language": "python",
   "name": "conda-base-py"
  },
  "language_info": {
   "codemirror_mode": {
    "name": "ipython",
    "version": 3
   },
   "file_extension": ".py",
   "mimetype": "text/x-python",
   "name": "python",
   "nbconvert_exporter": "python",
   "pygments_lexer": "ipython3",
   "version": "3.12.7"
  },
  "toc": {
   "base_numbering": 1,
   "nav_menu": {},
   "number_sections": true,
   "sideBar": true,
   "skip_h1_title": true,
   "title_cell": "Table of Contents",
   "title_sidebar": "Contents",
   "toc_cell": false,
   "toc_position": {},
   "toc_section_display": true,
   "toc_window_display": false
  }
 },
 "nbformat": 4,
 "nbformat_minor": 5
}
