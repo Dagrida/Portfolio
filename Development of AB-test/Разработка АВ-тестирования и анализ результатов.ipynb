{
 "cells": [
  {
   "cell_type": "markdown",
   "metadata": {
    "id": "u98L9TgH0eMk"
   },
   "source": [
    "# Разработка A/B-тестирования и анализ результатов"
   ]
  },
  {
   "cell_type": "markdown",
   "metadata": {
    "id": "LJBRALHs0eMf"
   },
   "source": [
    "## Описание данных\n",
    "\n",
    "**Представлены 3 таблицы:**\n",
    "\n",
    "- `sessions_project_history.csv` — таблица с историческими данными по сессиям пользователей на период с 2025-08-11 по 2025-09-23.\n",
    "\n",
    "- `sessions_project_test_part.csv` — таблица с данными за первый день проведения A/B-теста, то есть за 2025-10-14.\n",
    "\n",
    "- `sessions_project_test.csv` — таблица с данными за весь период проведения A/B-теста, то есть с 2025-10-14 по 2025-11-02. Путь к файлу: `/datasets/sessions_project_test.csv`.\n",
    "\n",
    "У этих таблиц почти совпадает структура и содержание колонок, различаются лишь периоды наблюдения.\n",
    "\n",
    "Поля таблиц `sessions_project_history.csv`, `sessions_project_test.csv`, `sessions_project_test_part.csv`:\n",
    "\n",
    "- `user_id` — идентификатор пользователя;\n",
    "\n",
    "- `session_id` — идентификатор сессии в приложении;\n",
    "\n",
    "- `session_date` — дата сессии;\n",
    "\n",
    "- `session_start_ts` — дата и время начала сессии;\n",
    "\n",
    "- `install_date` — дата установки приложения;\n",
    "\n",
    "- `session_number` — порядковый номер сессии для конкретного пользователя;\n",
    "\n",
    "- `registration_flag` — является ли пользователь зарегистрированным;\n",
    "\n",
    "- `page_counter` — количество просмотренных страниц во время сессии;\n",
    "\n",
    "- `region` — регион пользователя;\n",
    "\n",
    "- `device` — тип устройства пользователя;\n",
    "\n",
    "- `test_group` — тестовая группа (в таблице с историческими данными этого столбца нет).\n",
    "\n",
    "\n",
    "## Что нужно сделать\n",
    "\n",
    "**Задачи:** рассчитать параметры теста, оценить корректность его проведения и проанализировать результаты эксперимента."
   ]
  },
  {
   "cell_type": "markdown",
   "metadata": {
    "id": "UpOucjID0eMl"
   },
   "source": [
    "### 1. Работа с историческими данными (EDA)"
   ]
  },
  {
   "cell_type": "markdown",
   "metadata": {
    "id": "8iJMtL-30eMl"
   },
   "source": [
    "#### 1.1. Загрузка исторических данных"
   ]
  },
  {
   "cell_type": "code",
   "execution_count": 1,
   "metadata": {
    "id": "6TPR2-1RPboT"
   },
   "outputs": [],
   "source": [
    "# Импортируем все нужные библиотеки для дальнейшей работы с данными\n",
    "import pandas as pd\n",
    "import matplotlib.pyplot as plt\n",
    "import numpy as np\n",
    "from scipy import stats\n",
    "from math import ceil\n",
    "from statsmodels.stats.power import NormalIndPower\n",
    "from statsmodels.stats.proportion import proportion_effectsize\n",
    "from statsmodels.stats.proportion import proportions_ztest"
   ]
  },
  {
   "cell_type": "code",
   "execution_count": 2,
   "metadata": {},
   "outputs": [],
   "source": [
    "# Создаем датафрейм с историческими данными\n",
    "sessions_history = pd.read_csv('/datasets/sessions_project_history.csv')"
   ]
  },
  {
   "cell_type": "code",
   "execution_count": 3,
   "metadata": {},
   "outputs": [
    {
     "data": {
      "text/html": [
       "<div>\n",
       "<style scoped>\n",
       "    .dataframe tbody tr th:only-of-type {\n",
       "        vertical-align: middle;\n",
       "    }\n",
       "\n",
       "    .dataframe tbody tr th {\n",
       "        vertical-align: top;\n",
       "    }\n",
       "\n",
       "    .dataframe thead th {\n",
       "        text-align: right;\n",
       "    }\n",
       "</style>\n",
       "<table border=\"1\" class=\"dataframe\">\n",
       "  <thead>\n",
       "    <tr style=\"text-align: right;\">\n",
       "      <th></th>\n",
       "      <th>user_id</th>\n",
       "      <th>session_id</th>\n",
       "      <th>session_date</th>\n",
       "      <th>session_start_ts</th>\n",
       "      <th>install_date</th>\n",
       "      <th>session_number</th>\n",
       "      <th>registration_flag</th>\n",
       "      <th>page_counter</th>\n",
       "      <th>region</th>\n",
       "      <th>device</th>\n",
       "    </tr>\n",
       "  </thead>\n",
       "  <tbody>\n",
       "    <tr>\n",
       "      <th>0</th>\n",
       "      <td>E302123B7000BFE4</td>\n",
       "      <td>F9AF61A0C2023832</td>\n",
       "      <td>2025-08-15</td>\n",
       "      <td>2025-08-15 17:47:35</td>\n",
       "      <td>2025-08-15</td>\n",
       "      <td>1</td>\n",
       "      <td>0</td>\n",
       "      <td>3</td>\n",
       "      <td>CIS</td>\n",
       "      <td>iPhone</td>\n",
       "    </tr>\n",
       "    <tr>\n",
       "      <th>1</th>\n",
       "      <td>2530F72E221829FB</td>\n",
       "      <td>85003A206CBDAC6F</td>\n",
       "      <td>2025-08-15</td>\n",
       "      <td>2025-08-15 16:42:14</td>\n",
       "      <td>2025-08-15</td>\n",
       "      <td>1</td>\n",
       "      <td>0</td>\n",
       "      <td>4</td>\n",
       "      <td>MENA</td>\n",
       "      <td>Android</td>\n",
       "    </tr>\n",
       "    <tr>\n",
       "      <th>2</th>\n",
       "      <td>876E020A4FC512F5</td>\n",
       "      <td>3677423E49D72DEE</td>\n",
       "      <td>2025-08-15</td>\n",
       "      <td>2025-08-15 12:30:00</td>\n",
       "      <td>2025-08-15</td>\n",
       "      <td>1</td>\n",
       "      <td>0</td>\n",
       "      <td>4</td>\n",
       "      <td>EU</td>\n",
       "      <td>PC</td>\n",
       "    </tr>\n",
       "    <tr>\n",
       "      <th>3</th>\n",
       "      <td>2640B349E1D81584</td>\n",
       "      <td>956B45F5915CA225</td>\n",
       "      <td>2025-08-15</td>\n",
       "      <td>2025-08-15 15:31:31</td>\n",
       "      <td>2025-08-15</td>\n",
       "      <td>1</td>\n",
       "      <td>0</td>\n",
       "      <td>4</td>\n",
       "      <td>CIS</td>\n",
       "      <td>Android</td>\n",
       "    </tr>\n",
       "    <tr>\n",
       "      <th>4</th>\n",
       "      <td>94E1CBFAEF1F5EE9</td>\n",
       "      <td>83BF0DA35F9F1F40</td>\n",
       "      <td>2025-08-15</td>\n",
       "      <td>2025-08-15 21:33:53</td>\n",
       "      <td>2025-08-15</td>\n",
       "      <td>1</td>\n",
       "      <td>0</td>\n",
       "      <td>3</td>\n",
       "      <td>CIS</td>\n",
       "      <td>Android</td>\n",
       "    </tr>\n",
       "  </tbody>\n",
       "</table>\n",
       "</div>"
      ],
      "text/plain": [
       "            user_id        session_id session_date     session_start_ts  \\\n",
       "0  E302123B7000BFE4  F9AF61A0C2023832   2025-08-15  2025-08-15 17:47:35   \n",
       "1  2530F72E221829FB  85003A206CBDAC6F   2025-08-15  2025-08-15 16:42:14   \n",
       "2  876E020A4FC512F5  3677423E49D72DEE   2025-08-15  2025-08-15 12:30:00   \n",
       "3  2640B349E1D81584  956B45F5915CA225   2025-08-15  2025-08-15 15:31:31   \n",
       "4  94E1CBFAEF1F5EE9  83BF0DA35F9F1F40   2025-08-15  2025-08-15 21:33:53   \n",
       "\n",
       "  install_date  session_number  registration_flag  page_counter region  \\\n",
       "0   2025-08-15               1                  0             3    CIS   \n",
       "1   2025-08-15               1                  0             4   MENA   \n",
       "2   2025-08-15               1                  0             4     EU   \n",
       "3   2025-08-15               1                  0             4    CIS   \n",
       "4   2025-08-15               1                  0             3    CIS   \n",
       "\n",
       "    device  \n",
       "0   iPhone  \n",
       "1  Android  \n",
       "2       PC  \n",
       "3  Android  \n",
       "4  Android  "
      ]
     },
     "execution_count": 3,
     "metadata": {},
     "output_type": "execute_result"
    }
   ],
   "source": [
    "# Выводим первые 5 строк датафрейма\n",
    "sessions_history.head()"
   ]
  },
  {
   "cell_type": "markdown",
   "metadata": {
    "id": "qTDoiODz0eMo"
   },
   "source": [
    "#### 1.2. Знакомство с данными\n",
    "- Для каждого уникального пользователя `user_id` рассчитать количество уникальных сессий `session_id`.\n",
    "\n",
    "- Вывод на экран все данные из таблицы `sessions_history` для одного пользователя с наибольшим количеством сессий.\n",
    "\n",
    "- Изучить таблицу для одного пользователя, чтобы лучше понять логику формирования каждого столбца данных.\n"
   ]
  },
  {
   "cell_type": "code",
   "execution_count": 4,
   "metadata": {
    "id": "PWZO9vTIPbPN"
   },
   "outputs": [
    {
     "data": {
      "text/html": [
       "<div>\n",
       "<style scoped>\n",
       "    .dataframe tbody tr th:only-of-type {\n",
       "        vertical-align: middle;\n",
       "    }\n",
       "\n",
       "    .dataframe tbody tr th {\n",
       "        vertical-align: top;\n",
       "    }\n",
       "\n",
       "    .dataframe thead th {\n",
       "        text-align: right;\n",
       "    }\n",
       "</style>\n",
       "<table border=\"1\" class=\"dataframe\">\n",
       "  <thead>\n",
       "    <tr style=\"text-align: right;\">\n",
       "      <th></th>\n",
       "      <th>user_id</th>\n",
       "      <th>unique_session_count</th>\n",
       "    </tr>\n",
       "  </thead>\n",
       "  <tbody>\n",
       "    <tr>\n",
       "      <th>0</th>\n",
       "      <td>00005FB6A13A6FBE</td>\n",
       "      <td>2</td>\n",
       "    </tr>\n",
       "    <tr>\n",
       "      <th>1</th>\n",
       "      <td>0000B15A18D77ED9</td>\n",
       "      <td>3</td>\n",
       "    </tr>\n",
       "    <tr>\n",
       "      <th>2</th>\n",
       "      <td>0000C4E3A4A571A9</td>\n",
       "      <td>2</td>\n",
       "    </tr>\n",
       "    <tr>\n",
       "      <th>3</th>\n",
       "      <td>000293FAF9E67A81</td>\n",
       "      <td>4</td>\n",
       "    </tr>\n",
       "    <tr>\n",
       "      <th>4</th>\n",
       "      <td>00029C5AE889A6C3</td>\n",
       "      <td>2</td>\n",
       "    </tr>\n",
       "    <tr>\n",
       "      <th>...</th>\n",
       "      <td>...</td>\n",
       "      <td>...</td>\n",
       "    </tr>\n",
       "    <tr>\n",
       "      <th>134034</th>\n",
       "      <td>FFFCDE7746148710</td>\n",
       "      <td>4</td>\n",
       "    </tr>\n",
       "    <tr>\n",
       "      <th>134035</th>\n",
       "      <td>FFFDD413285E753F</td>\n",
       "      <td>3</td>\n",
       "    </tr>\n",
       "    <tr>\n",
       "      <th>134036</th>\n",
       "      <td>FFFECBA0F2578AB0</td>\n",
       "      <td>2</td>\n",
       "    </tr>\n",
       "    <tr>\n",
       "      <th>134037</th>\n",
       "      <td>FFFEDB68228B5F21</td>\n",
       "      <td>5</td>\n",
       "    </tr>\n",
       "    <tr>\n",
       "      <th>134038</th>\n",
       "      <td>FFFF4228DF580C3B</td>\n",
       "      <td>3</td>\n",
       "    </tr>\n",
       "  </tbody>\n",
       "</table>\n",
       "<p>134039 rows × 2 columns</p>\n",
       "</div>"
      ],
      "text/plain": [
       "                 user_id  unique_session_count\n",
       "0       00005FB6A13A6FBE                     2\n",
       "1       0000B15A18D77ED9                     3\n",
       "2       0000C4E3A4A571A9                     2\n",
       "3       000293FAF9E67A81                     4\n",
       "4       00029C5AE889A6C3                     2\n",
       "...                  ...                   ...\n",
       "134034  FFFCDE7746148710                     4\n",
       "134035  FFFDD413285E753F                     3\n",
       "134036  FFFECBA0F2578AB0                     2\n",
       "134037  FFFEDB68228B5F21                     5\n",
       "134038  FFFF4228DF580C3B                     3\n",
       "\n",
       "[134039 rows x 2 columns]"
      ]
     },
     "metadata": {},
     "output_type": "display_data"
    }
   ],
   "source": [
    "# Считаем уникальное кол-во сессий для каждого пользователя\n",
    "unique_sessions = sessions_history.groupby('user_id')['session_id'].nunique().reset_index()\n",
    "unique_sessions.columns = ['user_id', 'unique_session_count']\n",
    "\n",
    "display(unique_sessions)"
   ]
  },
  {
   "cell_type": "code",
   "execution_count": 5,
   "metadata": {},
   "outputs": [
    {
     "data": {
      "text/html": [
       "<div>\n",
       "<style scoped>\n",
       "    .dataframe tbody tr th:only-of-type {\n",
       "        vertical-align: middle;\n",
       "    }\n",
       "\n",
       "    .dataframe tbody tr th {\n",
       "        vertical-align: top;\n",
       "    }\n",
       "\n",
       "    .dataframe thead th {\n",
       "        text-align: right;\n",
       "    }\n",
       "</style>\n",
       "<table border=\"1\" class=\"dataframe\">\n",
       "  <thead>\n",
       "    <tr style=\"text-align: right;\">\n",
       "      <th></th>\n",
       "      <th>user_id</th>\n",
       "      <th>session_id</th>\n",
       "      <th>session_date</th>\n",
       "      <th>session_start_ts</th>\n",
       "      <th>install_date</th>\n",
       "      <th>session_number</th>\n",
       "      <th>registration_flag</th>\n",
       "      <th>page_counter</th>\n",
       "      <th>region</th>\n",
       "      <th>device</th>\n",
       "    </tr>\n",
       "  </thead>\n",
       "  <tbody>\n",
       "    <tr>\n",
       "      <th>115558</th>\n",
       "      <td>10E0DEFC1ABDBBE0</td>\n",
       "      <td>B8F0423BBFFCF5DC</td>\n",
       "      <td>2025-08-14</td>\n",
       "      <td>2025-08-14 13:57:39</td>\n",
       "      <td>2025-08-14</td>\n",
       "      <td>1</td>\n",
       "      <td>0</td>\n",
       "      <td>4</td>\n",
       "      <td>CIS</td>\n",
       "      <td>Android</td>\n",
       "    </tr>\n",
       "    <tr>\n",
       "      <th>191751</th>\n",
       "      <td>10E0DEFC1ABDBBE0</td>\n",
       "      <td>87CA2FA549473837</td>\n",
       "      <td>2025-08-15</td>\n",
       "      <td>2025-08-15 16:42:10</td>\n",
       "      <td>2025-08-14</td>\n",
       "      <td>2</td>\n",
       "      <td>0</td>\n",
       "      <td>3</td>\n",
       "      <td>CIS</td>\n",
       "      <td>Android</td>\n",
       "    </tr>\n",
       "    <tr>\n",
       "      <th>239370</th>\n",
       "      <td>10E0DEFC1ABDBBE0</td>\n",
       "      <td>4ADD8011DCDCE318</td>\n",
       "      <td>2025-08-16</td>\n",
       "      <td>2025-08-16 19:53:21</td>\n",
       "      <td>2025-08-14</td>\n",
       "      <td>3</td>\n",
       "      <td>0</td>\n",
       "      <td>3</td>\n",
       "      <td>CIS</td>\n",
       "      <td>Android</td>\n",
       "    </tr>\n",
       "    <tr>\n",
       "      <th>274629</th>\n",
       "      <td>10E0DEFC1ABDBBE0</td>\n",
       "      <td>DF0FD0E09BF1F3D7</td>\n",
       "      <td>2025-08-17</td>\n",
       "      <td>2025-08-17 15:03:43</td>\n",
       "      <td>2025-08-14</td>\n",
       "      <td>4</td>\n",
       "      <td>0</td>\n",
       "      <td>1</td>\n",
       "      <td>CIS</td>\n",
       "      <td>Android</td>\n",
       "    </tr>\n",
       "    <tr>\n",
       "      <th>302501</th>\n",
       "      <td>10E0DEFC1ABDBBE0</td>\n",
       "      <td>3C221774B4DE6885</td>\n",
       "      <td>2025-08-18</td>\n",
       "      <td>2025-08-18 17:29:14</td>\n",
       "      <td>2025-08-14</td>\n",
       "      <td>5</td>\n",
       "      <td>0</td>\n",
       "      <td>4</td>\n",
       "      <td>CIS</td>\n",
       "      <td>Android</td>\n",
       "    </tr>\n",
       "    <tr>\n",
       "      <th>325557</th>\n",
       "      <td>10E0DEFC1ABDBBE0</td>\n",
       "      <td>031BD7A67048105B</td>\n",
       "      <td>2025-08-19</td>\n",
       "      <td>2025-08-19 13:23:55</td>\n",
       "      <td>2025-08-14</td>\n",
       "      <td>6</td>\n",
       "      <td>0</td>\n",
       "      <td>2</td>\n",
       "      <td>CIS</td>\n",
       "      <td>Android</td>\n",
       "    </tr>\n",
       "    <tr>\n",
       "      <th>345336</th>\n",
       "      <td>10E0DEFC1ABDBBE0</td>\n",
       "      <td>FF4315CF4AD4B100</td>\n",
       "      <td>2025-08-20</td>\n",
       "      <td>2025-08-20 19:31:54</td>\n",
       "      <td>2025-08-14</td>\n",
       "      <td>7</td>\n",
       "      <td>0</td>\n",
       "      <td>2</td>\n",
       "      <td>CIS</td>\n",
       "      <td>Android</td>\n",
       "    </tr>\n",
       "    <tr>\n",
       "      <th>377532</th>\n",
       "      <td>10E0DEFC1ABDBBE0</td>\n",
       "      <td>4045FEA0747203B4</td>\n",
       "      <td>2025-08-22</td>\n",
       "      <td>2025-08-22 17:54:13</td>\n",
       "      <td>2025-08-14</td>\n",
       "      <td>8</td>\n",
       "      <td>0</td>\n",
       "      <td>2</td>\n",
       "      <td>CIS</td>\n",
       "      <td>Android</td>\n",
       "    </tr>\n",
       "    <tr>\n",
       "      <th>403538</th>\n",
       "      <td>10E0DEFC1ABDBBE0</td>\n",
       "      <td>344B086C421C7F37</td>\n",
       "      <td>2025-08-24</td>\n",
       "      <td>2025-08-24 14:46:13</td>\n",
       "      <td>2025-08-14</td>\n",
       "      <td>9</td>\n",
       "      <td>0</td>\n",
       "      <td>2</td>\n",
       "      <td>CIS</td>\n",
       "      <td>Android</td>\n",
       "    </tr>\n",
       "    <tr>\n",
       "      <th>414743</th>\n",
       "      <td>10E0DEFC1ABDBBE0</td>\n",
       "      <td>054F20BA371E4C9D</td>\n",
       "      <td>2025-08-25</td>\n",
       "      <td>2025-08-25 18:36:41</td>\n",
       "      <td>2025-08-14</td>\n",
       "      <td>10</td>\n",
       "      <td>0</td>\n",
       "      <td>3</td>\n",
       "      <td>CIS</td>\n",
       "      <td>Android</td>\n",
       "    </tr>\n",
       "  </tbody>\n",
       "</table>\n",
       "</div>"
      ],
      "text/plain": [
       "                 user_id        session_id session_date     session_start_ts  \\\n",
       "115558  10E0DEFC1ABDBBE0  B8F0423BBFFCF5DC   2025-08-14  2025-08-14 13:57:39   \n",
       "191751  10E0DEFC1ABDBBE0  87CA2FA549473837   2025-08-15  2025-08-15 16:42:10   \n",
       "239370  10E0DEFC1ABDBBE0  4ADD8011DCDCE318   2025-08-16  2025-08-16 19:53:21   \n",
       "274629  10E0DEFC1ABDBBE0  DF0FD0E09BF1F3D7   2025-08-17  2025-08-17 15:03:43   \n",
       "302501  10E0DEFC1ABDBBE0  3C221774B4DE6885   2025-08-18  2025-08-18 17:29:14   \n",
       "325557  10E0DEFC1ABDBBE0  031BD7A67048105B   2025-08-19  2025-08-19 13:23:55   \n",
       "345336  10E0DEFC1ABDBBE0  FF4315CF4AD4B100   2025-08-20  2025-08-20 19:31:54   \n",
       "377532  10E0DEFC1ABDBBE0  4045FEA0747203B4   2025-08-22  2025-08-22 17:54:13   \n",
       "403538  10E0DEFC1ABDBBE0  344B086C421C7F37   2025-08-24  2025-08-24 14:46:13   \n",
       "414743  10E0DEFC1ABDBBE0  054F20BA371E4C9D   2025-08-25  2025-08-25 18:36:41   \n",
       "\n",
       "       install_date  session_number  registration_flag  page_counter region  \\\n",
       "115558   2025-08-14               1                  0             4    CIS   \n",
       "191751   2025-08-14               2                  0             3    CIS   \n",
       "239370   2025-08-14               3                  0             3    CIS   \n",
       "274629   2025-08-14               4                  0             1    CIS   \n",
       "302501   2025-08-14               5                  0             4    CIS   \n",
       "325557   2025-08-14               6                  0             2    CIS   \n",
       "345336   2025-08-14               7                  0             2    CIS   \n",
       "377532   2025-08-14               8                  0             2    CIS   \n",
       "403538   2025-08-14               9                  0             2    CIS   \n",
       "414743   2025-08-14              10                  0             3    CIS   \n",
       "\n",
       "         device  \n",
       "115558  Android  \n",
       "191751  Android  \n",
       "239370  Android  \n",
       "274629  Android  \n",
       "302501  Android  \n",
       "325557  Android  \n",
       "345336  Android  \n",
       "377532  Android  \n",
       "403538  Android  \n",
       "414743  Android  "
      ]
     },
     "metadata": {},
     "output_type": "display_data"
    }
   ],
   "source": [
    "# Находим пользователя с максимальным кол-вом сессий и выводим всю информацию о нем\n",
    "max_user = unique_sessions.loc[unique_sessions['unique_session_count'].idxmax()]\n",
    "user_sessions = sessions_history[sessions_history['user_id'] == max_user['user_id']]\n",
    "\n",
    "display(user_sessions)"
   ]
  },
  {
   "cell_type": "markdown",
   "metadata": {
    "id": "CmcGpJTP0eMq"
   },
   "source": [
    "#### 1.3. Анализ числа регистраций\n",
    "Одна из важнейших метрик продукта — число зарегистрированных пользователей. \n",
    "\n",
    "- Агрегировать исторические данные и рассчитать число уникальных пользователей и число зарегистрированных пользователей для каждого дня наблюдения.\n",
    "\n",
    "- Построить линейные графики общего числа пользователей и общего числа зарегистрированных пользователей по дням.\n",
    "\n",
    "- Построить отдельный линейный график доли зарегистрированных пользователей от всех пользователей по дням."
   ]
  },
  {
   "cell_type": "code",
   "execution_count": 6,
   "metadata": {},
   "outputs": [
    {
     "data": {
      "text/html": [
       "<div>\n",
       "<style scoped>\n",
       "    .dataframe tbody tr th:only-of-type {\n",
       "        vertical-align: middle;\n",
       "    }\n",
       "\n",
       "    .dataframe tbody tr th {\n",
       "        vertical-align: top;\n",
       "    }\n",
       "\n",
       "    .dataframe thead th {\n",
       "        text-align: right;\n",
       "    }\n",
       "</style>\n",
       "<table border=\"1\" class=\"dataframe\">\n",
       "  <thead>\n",
       "    <tr style=\"text-align: right;\">\n",
       "      <th></th>\n",
       "      <th>session_date</th>\n",
       "      <th>unique_users</th>\n",
       "      <th>registered_users</th>\n",
       "    </tr>\n",
       "  </thead>\n",
       "  <tbody>\n",
       "    <tr>\n",
       "      <th>0</th>\n",
       "      <td>2025-08-11</td>\n",
       "      <td>3919</td>\n",
       "      <td>169</td>\n",
       "    </tr>\n",
       "    <tr>\n",
       "      <th>1</th>\n",
       "      <td>2025-08-12</td>\n",
       "      <td>6056</td>\n",
       "      <td>336</td>\n",
       "    </tr>\n",
       "    <tr>\n",
       "      <th>2</th>\n",
       "      <td>2025-08-13</td>\n",
       "      <td>8489</td>\n",
       "      <td>464</td>\n",
       "    </tr>\n",
       "    <tr>\n",
       "      <th>3</th>\n",
       "      <td>2025-08-14</td>\n",
       "      <td>10321</td>\n",
       "      <td>625</td>\n",
       "    </tr>\n",
       "    <tr>\n",
       "      <th>4</th>\n",
       "      <td>2025-08-15</td>\n",
       "      <td>14065</td>\n",
       "      <td>840</td>\n",
       "    </tr>\n",
       "    <tr>\n",
       "      <th>5</th>\n",
       "      <td>2025-08-16</td>\n",
       "      <td>12205</td>\n",
       "      <td>916</td>\n",
       "    </tr>\n",
       "    <tr>\n",
       "      <th>6</th>\n",
       "      <td>2025-08-17</td>\n",
       "      <td>11200</td>\n",
       "      <td>833</td>\n",
       "    </tr>\n",
       "    <tr>\n",
       "      <th>7</th>\n",
       "      <td>2025-08-18</td>\n",
       "      <td>10839</td>\n",
       "      <td>860</td>\n",
       "    </tr>\n",
       "    <tr>\n",
       "      <th>8</th>\n",
       "      <td>2025-08-19</td>\n",
       "      <td>12118</td>\n",
       "      <td>831</td>\n",
       "    </tr>\n",
       "    <tr>\n",
       "      <th>9</th>\n",
       "      <td>2025-08-20</td>\n",
       "      <td>13514</td>\n",
       "      <td>1008</td>\n",
       "    </tr>\n",
       "    <tr>\n",
       "      <th>10</th>\n",
       "      <td>2025-08-21</td>\n",
       "      <td>15051</td>\n",
       "      <td>1063</td>\n",
       "    </tr>\n",
       "    <tr>\n",
       "      <th>11</th>\n",
       "      <td>2025-08-22</td>\n",
       "      <td>17563</td>\n",
       "      <td>1251</td>\n",
       "    </tr>\n",
       "    <tr>\n",
       "      <th>12</th>\n",
       "      <td>2025-08-23</td>\n",
       "      <td>16082</td>\n",
       "      <td>1253</td>\n",
       "    </tr>\n",
       "    <tr>\n",
       "      <th>13</th>\n",
       "      <td>2025-08-24</td>\n",
       "      <td>13683</td>\n",
       "      <td>1181</td>\n",
       "    </tr>\n",
       "    <tr>\n",
       "      <th>14</th>\n",
       "      <td>2025-08-25</td>\n",
       "      <td>13635</td>\n",
       "      <td>1060</td>\n",
       "    </tr>\n",
       "    <tr>\n",
       "      <th>15</th>\n",
       "      <td>2025-08-26</td>\n",
       "      <td>13289</td>\n",
       "      <td>1050</td>\n",
       "    </tr>\n",
       "    <tr>\n",
       "      <th>16</th>\n",
       "      <td>2025-08-27</td>\n",
       "      <td>14766</td>\n",
       "      <td>1076</td>\n",
       "    </tr>\n",
       "    <tr>\n",
       "      <th>17</th>\n",
       "      <td>2025-08-28</td>\n",
       "      <td>15388</td>\n",
       "      <td>1175</td>\n",
       "    </tr>\n",
       "    <tr>\n",
       "      <th>18</th>\n",
       "      <td>2025-08-29</td>\n",
       "      <td>16873</td>\n",
       "      <td>1174</td>\n",
       "    </tr>\n",
       "    <tr>\n",
       "      <th>19</th>\n",
       "      <td>2025-08-30</td>\n",
       "      <td>14891</td>\n",
       "      <td>1165</td>\n",
       "    </tr>\n",
       "    <tr>\n",
       "      <th>20</th>\n",
       "      <td>2025-08-31</td>\n",
       "      <td>13266</td>\n",
       "      <td>1105</td>\n",
       "    </tr>\n",
       "    <tr>\n",
       "      <th>21</th>\n",
       "      <td>2025-09-01</td>\n",
       "      <td>12685</td>\n",
       "      <td>1028</td>\n",
       "    </tr>\n",
       "    <tr>\n",
       "      <th>22</th>\n",
       "      <td>2025-09-02</td>\n",
       "      <td>12672</td>\n",
       "      <td>1039</td>\n",
       "    </tr>\n",
       "    <tr>\n",
       "      <th>23</th>\n",
       "      <td>2025-09-03</td>\n",
       "      <td>12777</td>\n",
       "      <td>1035</td>\n",
       "    </tr>\n",
       "    <tr>\n",
       "      <th>24</th>\n",
       "      <td>2025-09-04</td>\n",
       "      <td>13683</td>\n",
       "      <td>1007</td>\n",
       "    </tr>\n",
       "    <tr>\n",
       "      <th>25</th>\n",
       "      <td>2025-09-05</td>\n",
       "      <td>15324</td>\n",
       "      <td>1030</td>\n",
       "    </tr>\n",
       "    <tr>\n",
       "      <th>26</th>\n",
       "      <td>2025-09-06</td>\n",
       "      <td>13078</td>\n",
       "      <td>1023</td>\n",
       "    </tr>\n",
       "    <tr>\n",
       "      <th>27</th>\n",
       "      <td>2025-09-07</td>\n",
       "      <td>12367</td>\n",
       "      <td>1069</td>\n",
       "    </tr>\n",
       "    <tr>\n",
       "      <th>28</th>\n",
       "      <td>2025-09-08</td>\n",
       "      <td>11826</td>\n",
       "      <td>1009</td>\n",
       "    </tr>\n",
       "    <tr>\n",
       "      <th>29</th>\n",
       "      <td>2025-09-09</td>\n",
       "      <td>11780</td>\n",
       "      <td>980</td>\n",
       "    </tr>\n",
       "    <tr>\n",
       "      <th>30</th>\n",
       "      <td>2025-09-10</td>\n",
       "      <td>12526</td>\n",
       "      <td>1015</td>\n",
       "    </tr>\n",
       "    <tr>\n",
       "      <th>31</th>\n",
       "      <td>2025-09-11</td>\n",
       "      <td>8623</td>\n",
       "      <td>824</td>\n",
       "    </tr>\n",
       "    <tr>\n",
       "      <th>32</th>\n",
       "      <td>2025-09-12</td>\n",
       "      <td>6436</td>\n",
       "      <td>669</td>\n",
       "    </tr>\n",
       "    <tr>\n",
       "      <th>33</th>\n",
       "      <td>2025-09-13</td>\n",
       "      <td>5183</td>\n",
       "      <td>537</td>\n",
       "    </tr>\n",
       "    <tr>\n",
       "      <th>34</th>\n",
       "      <td>2025-09-14</td>\n",
       "      <td>4364</td>\n",
       "      <td>440</td>\n",
       "    </tr>\n",
       "    <tr>\n",
       "      <th>35</th>\n",
       "      <td>2025-09-15</td>\n",
       "      <td>3698</td>\n",
       "      <td>383</td>\n",
       "    </tr>\n",
       "    <tr>\n",
       "      <th>36</th>\n",
       "      <td>2025-09-16</td>\n",
       "      <td>3032</td>\n",
       "      <td>286</td>\n",
       "    </tr>\n",
       "    <tr>\n",
       "      <th>37</th>\n",
       "      <td>2025-09-17</td>\n",
       "      <td>2548</td>\n",
       "      <td>272</td>\n",
       "    </tr>\n",
       "    <tr>\n",
       "      <th>38</th>\n",
       "      <td>2025-09-18</td>\n",
       "      <td>1952</td>\n",
       "      <td>201</td>\n",
       "    </tr>\n",
       "    <tr>\n",
       "      <th>39</th>\n",
       "      <td>2025-09-19</td>\n",
       "      <td>1418</td>\n",
       "      <td>132</td>\n",
       "    </tr>\n",
       "    <tr>\n",
       "      <th>40</th>\n",
       "      <td>2025-09-20</td>\n",
       "      <td>1100</td>\n",
       "      <td>107</td>\n",
       "    </tr>\n",
       "    <tr>\n",
       "      <th>41</th>\n",
       "      <td>2025-09-21</td>\n",
       "      <td>776</td>\n",
       "      <td>87</td>\n",
       "    </tr>\n",
       "    <tr>\n",
       "      <th>42</th>\n",
       "      <td>2025-09-22</td>\n",
       "      <td>546</td>\n",
       "      <td>68</td>\n",
       "    </tr>\n",
       "    <tr>\n",
       "      <th>43</th>\n",
       "      <td>2025-09-23</td>\n",
       "      <td>317</td>\n",
       "      <td>32</td>\n",
       "    </tr>\n",
       "  </tbody>\n",
       "</table>\n",
       "</div>"
      ],
      "text/plain": [
       "   session_date  unique_users  registered_users\n",
       "0    2025-08-11          3919               169\n",
       "1    2025-08-12          6056               336\n",
       "2    2025-08-13          8489               464\n",
       "3    2025-08-14         10321               625\n",
       "4    2025-08-15         14065               840\n",
       "5    2025-08-16         12205               916\n",
       "6    2025-08-17         11200               833\n",
       "7    2025-08-18         10839               860\n",
       "8    2025-08-19         12118               831\n",
       "9    2025-08-20         13514              1008\n",
       "10   2025-08-21         15051              1063\n",
       "11   2025-08-22         17563              1251\n",
       "12   2025-08-23         16082              1253\n",
       "13   2025-08-24         13683              1181\n",
       "14   2025-08-25         13635              1060\n",
       "15   2025-08-26         13289              1050\n",
       "16   2025-08-27         14766              1076\n",
       "17   2025-08-28         15388              1175\n",
       "18   2025-08-29         16873              1174\n",
       "19   2025-08-30         14891              1165\n",
       "20   2025-08-31         13266              1105\n",
       "21   2025-09-01         12685              1028\n",
       "22   2025-09-02         12672              1039\n",
       "23   2025-09-03         12777              1035\n",
       "24   2025-09-04         13683              1007\n",
       "25   2025-09-05         15324              1030\n",
       "26   2025-09-06         13078              1023\n",
       "27   2025-09-07         12367              1069\n",
       "28   2025-09-08         11826              1009\n",
       "29   2025-09-09         11780               980\n",
       "30   2025-09-10         12526              1015\n",
       "31   2025-09-11          8623               824\n",
       "32   2025-09-12          6436               669\n",
       "33   2025-09-13          5183               537\n",
       "34   2025-09-14          4364               440\n",
       "35   2025-09-15          3698               383\n",
       "36   2025-09-16          3032               286\n",
       "37   2025-09-17          2548               272\n",
       "38   2025-09-18          1952               201\n",
       "39   2025-09-19          1418               132\n",
       "40   2025-09-20          1100               107\n",
       "41   2025-09-21           776                87\n",
       "42   2025-09-22           546                68\n",
       "43   2025-09-23           317                32"
      ]
     },
     "metadata": {},
     "output_type": "display_data"
    }
   ],
   "source": [
    "# Создадим таблицу только с кол-вом уникальных пользователей и кол-вом зарегистрированных пользователей для каждой даты\n",
    "users_reg = sessions_history.groupby('session_date').agg(unique_users=('user_id', 'nunique'),\n",
    "    registered_users=('registration_flag', lambda x: (x == 1).sum())\n",
    ").reset_index()\n",
    "\n",
    "display(users_reg)"
   ]
  },
  {
   "cell_type": "code",
   "execution_count": 7,
   "metadata": {},
   "outputs": [
    {
     "data": {
      "image/png": "[encoded data removed]",
      "text/plain": [
       "<Figure size 864x576 with 1 Axes>"
      ]
     },
     "metadata": {
      "needs_background": "light"
     },
     "output_type": "display_data"
    }
   ],
   "source": [
    "# Визуализируем полученные данные\n",
    "plt.figure(figsize=(12, 8))\n",
    "plt.plot(users_reg['session_date'], users_reg['unique_users'], marker='o', label='Общее кол-во уникальных пользователей', color='red')\n",
    "plt.plot(users_reg['session_date'], users_reg['registered_users'], marker='o', label='Общее кол-во зарегистрированных пользователей', color='yellow')\n",
    "\n",
    "plt.title('Кол-во уникальных и зарегистрированных пользователей по дням')\n",
    "plt.xlabel('Дата')\n",
    "plt.ylabel('Кол-во пользователей')\n",
    "plt.xticks(rotation=90)\n",
    "plt.legend\n",
    "plt.grid(True)\n",
    "\n",
    "plt.show()"
   ]
  },
  {
   "cell_type": "code",
   "execution_count": 8,
   "metadata": {},
   "outputs": [],
   "source": [
    "# Считаем долю зарегистрированных пользователей\n",
    "users_reg['registered_part'] = users_reg['registered_users'] / users_reg['unique_users']"
   ]
  },
  {
   "cell_type": "code",
   "execution_count": 9,
   "metadata": {},
   "outputs": [
    {
     "data": {
      "image/png": "[encoded data removed]",
      "text/plain": [
       "<Figure size 864x576 with 1 Axes>"
      ]
     },
     "metadata": {
      "needs_background": "light"
     },
     "output_type": "display_data"
    }
   ],
   "source": [
    "plt.figure(figsize=(12, 8))\n",
    "plt.plot(users_reg['session_date'], users_reg['registered_part'], marker='o', color='red')\n",
    "plt.title('Доля зарегистрированных пользователей по дате')\n",
    "plt.xlabel('Дата')\n",
    "plt.ylabel('Доля зарегистрированных пользователей')\n",
    "plt.xticks(rotation=45)\n",
    "plt.grid()\n",
    "plt.tight_layout()\n",
    "plt.show()"
   ]
  },
  {
   "cell_type": "markdown",
   "metadata": {},
   "source": [
    "**Вывод:** По результатам анализа числа регистраций можем отметить, что наблюдается активный рост доли зарегистрированных пользователей. Он достигает своего пика 22.09.2025 и далее идет на спад. Но также, мы можем отметить, что с 10.09.2025 наблюдается резкий спад уникальных пользователей."
   ]
  },
  {
   "cell_type": "markdown",
   "metadata": {
    "id": "UR7D7RhF0eMr"
   },
   "source": [
    "#### 1.4. Анализ числа просмотренных страниц\n",
    "- Найти количество сессий для каждого значения количества просмотренных страниц.\n",
    "\n",
    "- Построить столбчатую диаграмму, где по оси X будет число просмотренных страниц, по оси Y — количество сессий."
   ]
  },
  {
   "cell_type": "code",
   "execution_count": 10,
   "metadata": {
    "id": "cb6hPlVzPaSf"
   },
   "outputs": [
    {
     "data": {
      "text/html": [
       "<div>\n",
       "<style scoped>\n",
       "    .dataframe tbody tr th:only-of-type {\n",
       "        vertical-align: middle;\n",
       "    }\n",
       "\n",
       "    .dataframe tbody tr th {\n",
       "        vertical-align: top;\n",
       "    }\n",
       "\n",
       "    .dataframe thead th {\n",
       "        text-align: right;\n",
       "    }\n",
       "</style>\n",
       "<table border=\"1\" class=\"dataframe\">\n",
       "  <thead>\n",
       "    <tr style=\"text-align: right;\">\n",
       "      <th></th>\n",
       "      <th>page_counter</th>\n",
       "      <th>session_count</th>\n",
       "    </tr>\n",
       "  </thead>\n",
       "  <tbody>\n",
       "    <tr>\n",
       "      <th>0</th>\n",
       "      <td>1</td>\n",
       "      <td>29160</td>\n",
       "    </tr>\n",
       "    <tr>\n",
       "      <th>1</th>\n",
       "      <td>2</td>\n",
       "      <td>105536</td>\n",
       "    </tr>\n",
       "    <tr>\n",
       "      <th>2</th>\n",
       "      <td>3</td>\n",
       "      <td>166690</td>\n",
       "    </tr>\n",
       "    <tr>\n",
       "      <th>3</th>\n",
       "      <td>4</td>\n",
       "      <td>105569</td>\n",
       "    </tr>\n",
       "    <tr>\n",
       "      <th>4</th>\n",
       "      <td>5</td>\n",
       "      <td>26288</td>\n",
       "    </tr>\n",
       "    <tr>\n",
       "      <th>5</th>\n",
       "      <td>6</td>\n",
       "      <td>2589</td>\n",
       "    </tr>\n",
       "    <tr>\n",
       "      <th>6</th>\n",
       "      <td>7</td>\n",
       "      <td>92</td>\n",
       "    </tr>\n",
       "  </tbody>\n",
       "</table>\n",
       "</div>"
      ],
      "text/plain": [
       "   page_counter  session_count\n",
       "0             1          29160\n",
       "1             2         105536\n",
       "2             3         166690\n",
       "3             4         105569\n",
       "4             5          26288\n",
       "5             6           2589\n",
       "6             7             92"
      ]
     },
     "metadata": {},
     "output_type": "display_data"
    }
   ],
   "source": [
    "# Считаем кол-во сессий для каждого значения кол-ва просмотренных страниц\n",
    "session_counts = sessions_history.groupby('page_counter')['session_id'].count().reset_index()\n",
    "session_counts.columns = ['page_counter', 'session_count']\n",
    "\n",
    "display(session_counts)"
   ]
  },
  {
   "cell_type": "code",
   "execution_count": 11,
   "metadata": {},
   "outputs": [
    {
     "data": {
      "image/png": "[encoded data removed]",
      "text/plain": [
       "<Figure size 864x576 with 1 Axes>"
      ]
     },
     "metadata": {
      "needs_background": "light"
     },
     "output_type": "display_data"
    }
   ],
   "source": [
    "# Построим диаграмму на основе полученных данных\n",
    "plt.figure(figsize=(12, 8))\n",
    "plt.bar(session_counts['page_counter'], session_counts['session_count'], color='red')\n",
    "plt.xlabel('Кол-во страниц')\n",
    "plt.ylabel('Кол-во сессий')\n",
    "plt.title('Кол-во сессий по кол-ву просмотренных страниц')\n",
    "plt.grid(True)\n",
    "\n",
    "plt.show()"
   ]
  },
  {
   "cell_type": "code",
   "execution_count": 12,
   "metadata": {
    "id": "iygaPfixPYMW"
   },
   "outputs": [
    {
     "data": {
      "text/html": [
       "<div>\n",
       "<style scoped>\n",
       "    .dataframe tbody tr th:only-of-type {\n",
       "        vertical-align: middle;\n",
       "    }\n",
       "\n",
       "    .dataframe tbody tr th {\n",
       "        vertical-align: top;\n",
       "    }\n",
       "\n",
       "    .dataframe thead th {\n",
       "        text-align: right;\n",
       "    }\n",
       "</style>\n",
       "<table border=\"1\" class=\"dataframe\">\n",
       "  <thead>\n",
       "    <tr style=\"text-align: right;\">\n",
       "      <th></th>\n",
       "      <th>user_id</th>\n",
       "      <th>session_id</th>\n",
       "      <th>session_date</th>\n",
       "      <th>session_start_ts</th>\n",
       "      <th>install_date</th>\n",
       "      <th>session_number</th>\n",
       "      <th>registration_flag</th>\n",
       "      <th>page_counter</th>\n",
       "      <th>region</th>\n",
       "      <th>device</th>\n",
       "      <th>good_session</th>\n",
       "    </tr>\n",
       "  </thead>\n",
       "  <tbody>\n",
       "    <tr>\n",
       "      <th>0</th>\n",
       "      <td>E302123B7000BFE4</td>\n",
       "      <td>F9AF61A0C2023832</td>\n",
       "      <td>2025-08-15</td>\n",
       "      <td>2025-08-15 17:47:35</td>\n",
       "      <td>2025-08-15</td>\n",
       "      <td>1</td>\n",
       "      <td>0</td>\n",
       "      <td>3</td>\n",
       "      <td>CIS</td>\n",
       "      <td>iPhone</td>\n",
       "      <td>0</td>\n",
       "    </tr>\n",
       "    <tr>\n",
       "      <th>1</th>\n",
       "      <td>2530F72E221829FB</td>\n",
       "      <td>85003A206CBDAC6F</td>\n",
       "      <td>2025-08-15</td>\n",
       "      <td>2025-08-15 16:42:14</td>\n",
       "      <td>2025-08-15</td>\n",
       "      <td>1</td>\n",
       "      <td>0</td>\n",
       "      <td>4</td>\n",
       "      <td>MENA</td>\n",
       "      <td>Android</td>\n",
       "      <td>1</td>\n",
       "    </tr>\n",
       "    <tr>\n",
       "      <th>2</th>\n",
       "      <td>876E020A4FC512F5</td>\n",
       "      <td>3677423E49D72DEE</td>\n",
       "      <td>2025-08-15</td>\n",
       "      <td>2025-08-15 12:30:00</td>\n",
       "      <td>2025-08-15</td>\n",
       "      <td>1</td>\n",
       "      <td>0</td>\n",
       "      <td>4</td>\n",
       "      <td>EU</td>\n",
       "      <td>PC</td>\n",
       "      <td>1</td>\n",
       "    </tr>\n",
       "    <tr>\n",
       "      <th>3</th>\n",
       "      <td>2640B349E1D81584</td>\n",
       "      <td>956B45F5915CA225</td>\n",
       "      <td>2025-08-15</td>\n",
       "      <td>2025-08-15 15:31:31</td>\n",
       "      <td>2025-08-15</td>\n",
       "      <td>1</td>\n",
       "      <td>0</td>\n",
       "      <td>4</td>\n",
       "      <td>CIS</td>\n",
       "      <td>Android</td>\n",
       "      <td>1</td>\n",
       "    </tr>\n",
       "    <tr>\n",
       "      <th>4</th>\n",
       "      <td>94E1CBFAEF1F5EE9</td>\n",
       "      <td>83BF0DA35F9F1F40</td>\n",
       "      <td>2025-08-15</td>\n",
       "      <td>2025-08-15 21:33:53</td>\n",
       "      <td>2025-08-15</td>\n",
       "      <td>1</td>\n",
       "      <td>0</td>\n",
       "      <td>3</td>\n",
       "      <td>CIS</td>\n",
       "      <td>Android</td>\n",
       "      <td>0</td>\n",
       "    </tr>\n",
       "  </tbody>\n",
       "</table>\n",
       "</div>"
      ],
      "text/plain": [
       "            user_id        session_id session_date     session_start_ts  \\\n",
       "0  E302123B7000BFE4  F9AF61A0C2023832   2025-08-15  2025-08-15 17:47:35   \n",
       "1  2530F72E221829FB  85003A206CBDAC6F   2025-08-15  2025-08-15 16:42:14   \n",
       "2  876E020A4FC512F5  3677423E49D72DEE   2025-08-15  2025-08-15 12:30:00   \n",
       "3  2640B349E1D81584  956B45F5915CA225   2025-08-15  2025-08-15 15:31:31   \n",
       "4  94E1CBFAEF1F5EE9  83BF0DA35F9F1F40   2025-08-15  2025-08-15 21:33:53   \n",
       "\n",
       "  install_date  session_number  registration_flag  page_counter region  \\\n",
       "0   2025-08-15               1                  0             3    CIS   \n",
       "1   2025-08-15               1                  0             4   MENA   \n",
       "2   2025-08-15               1                  0             4     EU   \n",
       "3   2025-08-15               1                  0             4    CIS   \n",
       "4   2025-08-15               1                  0             3    CIS   \n",
       "\n",
       "    device  good_session  \n",
       "0   iPhone             0  \n",
       "1  Android             1  \n",
       "2       PC             1  \n",
       "3  Android             1  \n",
       "4  Android             0  "
      ]
     },
     "metadata": {},
     "output_type": "display_data"
    }
   ],
   "source": [
    "# Создаем новый столбец\n",
    "sessions_history['good_session'] = (sessions_history['page_counter'] >= 4).astype(int)\n",
    "\n",
    "display(sessions_history.head())"
   ]
  },
  {
   "cell_type": "code",
   "execution_count": 13,
   "metadata": {},
   "outputs": [
    {
     "data": {
      "text/html": [
       "<div>\n",
       "<style scoped>\n",
       "    .dataframe tbody tr th:only-of-type {\n",
       "        vertical-align: middle;\n",
       "    }\n",
       "\n",
       "    .dataframe tbody tr th {\n",
       "        vertical-align: top;\n",
       "    }\n",
       "\n",
       "    .dataframe thead th {\n",
       "        text-align: right;\n",
       "    }\n",
       "</style>\n",
       "<table border=\"1\" class=\"dataframe\">\n",
       "  <thead>\n",
       "    <tr style=\"text-align: right;\">\n",
       "      <th></th>\n",
       "      <th>date</th>\n",
       "      <th>success_rate</th>\n",
       "    </tr>\n",
       "  </thead>\n",
       "  <tbody>\n",
       "    <tr>\n",
       "      <th>0</th>\n",
       "      <td>2025-08-11</td>\n",
       "      <td>0.312835</td>\n",
       "    </tr>\n",
       "    <tr>\n",
       "      <th>1</th>\n",
       "      <td>2025-08-12</td>\n",
       "      <td>0.302015</td>\n",
       "    </tr>\n",
       "    <tr>\n",
       "      <th>2</th>\n",
       "      <td>2025-08-13</td>\n",
       "      <td>0.306750</td>\n",
       "    </tr>\n",
       "    <tr>\n",
       "      <th>3</th>\n",
       "      <td>2025-08-14</td>\n",
       "      <td>0.316055</td>\n",
       "    </tr>\n",
       "    <tr>\n",
       "      <th>4</th>\n",
       "      <td>2025-08-15</td>\n",
       "      <td>0.304941</td>\n",
       "    </tr>\n",
       "    <tr>\n",
       "      <th>5</th>\n",
       "      <td>2025-08-16</td>\n",
       "      <td>0.306186</td>\n",
       "    </tr>\n",
       "    <tr>\n",
       "      <th>6</th>\n",
       "      <td>2025-08-17</td>\n",
       "      <td>0.317589</td>\n",
       "    </tr>\n",
       "    <tr>\n",
       "      <th>7</th>\n",
       "      <td>2025-08-18</td>\n",
       "      <td>0.310545</td>\n",
       "    </tr>\n",
       "    <tr>\n",
       "      <th>8</th>\n",
       "      <td>2025-08-19</td>\n",
       "      <td>0.312840</td>\n",
       "    </tr>\n",
       "    <tr>\n",
       "      <th>9</th>\n",
       "      <td>2025-08-20</td>\n",
       "      <td>0.306941</td>\n",
       "    </tr>\n",
       "    <tr>\n",
       "      <th>10</th>\n",
       "      <td>2025-08-21</td>\n",
       "      <td>0.303169</td>\n",
       "    </tr>\n",
       "    <tr>\n",
       "      <th>11</th>\n",
       "      <td>2025-08-22</td>\n",
       "      <td>0.313158</td>\n",
       "    </tr>\n",
       "    <tr>\n",
       "      <th>12</th>\n",
       "      <td>2025-08-23</td>\n",
       "      <td>0.302077</td>\n",
       "    </tr>\n",
       "    <tr>\n",
       "      <th>13</th>\n",
       "      <td>2025-08-24</td>\n",
       "      <td>0.309800</td>\n",
       "    </tr>\n",
       "    <tr>\n",
       "      <th>14</th>\n",
       "      <td>2025-08-25</td>\n",
       "      <td>0.305464</td>\n",
       "    </tr>\n",
       "    <tr>\n",
       "      <th>15</th>\n",
       "      <td>2025-08-26</td>\n",
       "      <td>0.310934</td>\n",
       "    </tr>\n",
       "    <tr>\n",
       "      <th>16</th>\n",
       "      <td>2025-08-27</td>\n",
       "      <td>0.311120</td>\n",
       "    </tr>\n",
       "    <tr>\n",
       "      <th>17</th>\n",
       "      <td>2025-08-28</td>\n",
       "      <td>0.310567</td>\n",
       "    </tr>\n",
       "    <tr>\n",
       "      <th>18</th>\n",
       "      <td>2025-08-29</td>\n",
       "      <td>0.313104</td>\n",
       "    </tr>\n",
       "    <tr>\n",
       "      <th>19</th>\n",
       "      <td>2025-08-30</td>\n",
       "      <td>0.313814</td>\n",
       "    </tr>\n",
       "    <tr>\n",
       "      <th>20</th>\n",
       "      <td>2025-08-31</td>\n",
       "      <td>0.302503</td>\n",
       "    </tr>\n",
       "    <tr>\n",
       "      <th>21</th>\n",
       "      <td>2025-09-01</td>\n",
       "      <td>0.312495</td>\n",
       "    </tr>\n",
       "    <tr>\n",
       "      <th>22</th>\n",
       "      <td>2025-09-02</td>\n",
       "      <td>0.315499</td>\n",
       "    </tr>\n",
       "    <tr>\n",
       "      <th>23</th>\n",
       "      <td>2025-09-03</td>\n",
       "      <td>0.304140</td>\n",
       "    </tr>\n",
       "    <tr>\n",
       "      <th>24</th>\n",
       "      <td>2025-09-04</td>\n",
       "      <td>0.315501</td>\n",
       "    </tr>\n",
       "    <tr>\n",
       "      <th>25</th>\n",
       "      <td>2025-09-05</td>\n",
       "      <td>0.303837</td>\n",
       "    </tr>\n",
       "    <tr>\n",
       "      <th>26</th>\n",
       "      <td>2025-09-06</td>\n",
       "      <td>0.304557</td>\n",
       "    </tr>\n",
       "    <tr>\n",
       "      <th>27</th>\n",
       "      <td>2025-09-07</td>\n",
       "      <td>0.312121</td>\n",
       "    </tr>\n",
       "    <tr>\n",
       "      <th>28</th>\n",
       "      <td>2025-09-08</td>\n",
       "      <td>0.308811</td>\n",
       "    </tr>\n",
       "    <tr>\n",
       "      <th>29</th>\n",
       "      <td>2025-09-09</td>\n",
       "      <td>0.305518</td>\n",
       "    </tr>\n",
       "    <tr>\n",
       "      <th>30</th>\n",
       "      <td>2025-09-10</td>\n",
       "      <td>0.305125</td>\n",
       "    </tr>\n",
       "    <tr>\n",
       "      <th>31</th>\n",
       "      <td>2025-09-11</td>\n",
       "      <td>0.304650</td>\n",
       "    </tr>\n",
       "    <tr>\n",
       "      <th>32</th>\n",
       "      <td>2025-09-12</td>\n",
       "      <td>0.301585</td>\n",
       "    </tr>\n",
       "    <tr>\n",
       "      <th>33</th>\n",
       "      <td>2025-09-13</td>\n",
       "      <td>0.299055</td>\n",
       "    </tr>\n",
       "    <tr>\n",
       "      <th>34</th>\n",
       "      <td>2025-09-14</td>\n",
       "      <td>0.307745</td>\n",
       "    </tr>\n",
       "    <tr>\n",
       "      <th>35</th>\n",
       "      <td>2025-09-15</td>\n",
       "      <td>0.305841</td>\n",
       "    </tr>\n",
       "    <tr>\n",
       "      <th>36</th>\n",
       "      <td>2025-09-16</td>\n",
       "      <td>0.312005</td>\n",
       "    </tr>\n",
       "    <tr>\n",
       "      <th>37</th>\n",
       "      <td>2025-09-17</td>\n",
       "      <td>0.320251</td>\n",
       "    </tr>\n",
       "    <tr>\n",
       "      <th>38</th>\n",
       "      <td>2025-09-18</td>\n",
       "      <td>0.292520</td>\n",
       "    </tr>\n",
       "    <tr>\n",
       "      <th>39</th>\n",
       "      <td>2025-09-19</td>\n",
       "      <td>0.318054</td>\n",
       "    </tr>\n",
       "    <tr>\n",
       "      <th>40</th>\n",
       "      <td>2025-09-20</td>\n",
       "      <td>0.301818</td>\n",
       "    </tr>\n",
       "    <tr>\n",
       "      <th>41</th>\n",
       "      <td>2025-09-21</td>\n",
       "      <td>0.288660</td>\n",
       "    </tr>\n",
       "    <tr>\n",
       "      <th>42</th>\n",
       "      <td>2025-09-22</td>\n",
       "      <td>0.309524</td>\n",
       "    </tr>\n",
       "    <tr>\n",
       "      <th>43</th>\n",
       "      <td>2025-09-23</td>\n",
       "      <td>0.290221</td>\n",
       "    </tr>\n",
       "  </tbody>\n",
       "</table>\n",
       "</div>"
      ],
      "text/plain": [
       "          date  success_rate\n",
       "0   2025-08-11      0.312835\n",
       "1   2025-08-12      0.302015\n",
       "2   2025-08-13      0.306750\n",
       "3   2025-08-14      0.316055\n",
       "4   2025-08-15      0.304941\n",
       "5   2025-08-16      0.306186\n",
       "6   2025-08-17      0.317589\n",
       "7   2025-08-18      0.310545\n",
       "8   2025-08-19      0.312840\n",
       "9   2025-08-20      0.306941\n",
       "10  2025-08-21      0.303169\n",
       "11  2025-08-22      0.313158\n",
       "12  2025-08-23      0.302077\n",
       "13  2025-08-24      0.309800\n",
       "14  2025-08-25      0.305464\n",
       "15  2025-08-26      0.310934\n",
       "16  2025-08-27      0.311120\n",
       "17  2025-08-28      0.310567\n",
       "18  2025-08-29      0.313104\n",
       "19  2025-08-30      0.313814\n",
       "20  2025-08-31      0.302503\n",
       "21  2025-09-01      0.312495\n",
       "22  2025-09-02      0.315499\n",
       "23  2025-09-03      0.304140\n",
       "24  2025-09-04      0.315501\n",
       "25  2025-09-05      0.303837\n",
       "26  2025-09-06      0.304557\n",
       "27  2025-09-07      0.312121\n",
       "28  2025-09-08      0.308811\n",
       "29  2025-09-09      0.305518\n",
       "30  2025-09-10      0.305125\n",
       "31  2025-09-11      0.304650\n",
       "32  2025-09-12      0.301585\n",
       "33  2025-09-13      0.299055\n",
       "34  2025-09-14      0.307745\n",
       "35  2025-09-15      0.305841\n",
       "36  2025-09-16      0.312005\n",
       "37  2025-09-17      0.320251\n",
       "38  2025-09-18      0.292520\n",
       "39  2025-09-19      0.318054\n",
       "40  2025-09-20      0.301818\n",
       "41  2025-09-21      0.288660\n",
       "42  2025-09-22      0.309524\n",
       "43  2025-09-23      0.290221"
      ]
     },
     "metadata": {},
     "output_type": "display_data"
    }
   ],
   "source": [
    "# Считаем среднее значение доли успешных сессий по дням\n",
    "daily_success_rate = sessions_history.groupby('session_date')['good_session'].mean().reset_index()\n",
    "daily_success_rate.columns = ['date', 'success_rate']\n",
    "\n",
    "display(daily_success_rate)"
   ]
  },
  {
   "cell_type": "code",
   "execution_count": 14,
   "metadata": {},
   "outputs": [
    {
     "data": {
      "image/png": "[encoded data removed]",
      "text/plain": [
       "<Figure size 864x432 with 1 Axes>"
      ]
     },
     "metadata": {
      "needs_background": "light"
     },
     "output_type": "display_data"
    }
   ],
   "source": [
    "# Построение графика\n",
    "plt.figure(figsize=(12, 6))\n",
    "plt.plot(daily_success_rate['date'], daily_success_rate['success_rate'], marker='o', color='red')\n",
    "plt.title('Средняя доля успешных сессий по дням')\n",
    "plt.xlabel('Дата')\n",
    "plt.ylabel('Доля успешных сессий')\n",
    "plt.xticks(rotation=90)\n",
    "plt.ylim(0.284, 0.326)\n",
    "plt.grid(True)\n",
    "plt.show()"
   ]
  },
  {
   "cell_type": "markdown",
   "metadata": {
    "id": "21JcG77Y0eMt"
   },
   "source": [
    "### 2. Подготовка к тесту\n",
    "При планировании теста необходимо проделать несколько важных шагов:\n",
    "\n",
    "- Сформулировать нулевую и альтернативную гипотезы\n",
    "\n",
    "- Определиться с целевой метрикой.\n",
    "\n",
    "- Рассчитать необходимый размер выборки.\n",
    "\n",
    "- Исходя из текущих значений трафика рассчитать необходимую длительность проведения теста."
   ]
  },
  {
   "cell_type": "markdown",
   "metadata": {
    "id": "kXdcwkjf859k"
   },
   "source": [
    "#### 2.1 Формулировка нулевой и альтернативной гипотез"
   ]
  },
  {
   "cell_type": "markdown",
   "metadata": {},
   "source": [
    "Целевая метрика - Conversion Rate. Если алгоритмы рекомендательных систем улучшатся, то ожидается, что пользователи будут выполнять какие-то действия по рекомендации в большем объеме. Следовательно, речь о конверции."
   ]
  },
  {
   "cell_type": "markdown",
   "metadata": {},
   "source": [
    "**Нулевая гипотеза:** Доля успешных сессий в тестовой группе B меньше, чем в контрольной группе A, или равна ей."
   ]
  },
  {
   "cell_type": "markdown",
   "metadata": {},
   "source": [
    "**Альтернативная гипотеза:** Доля успешных сессий в тестовой группе B больше, чем в контрольной группе A."
   ]
  },
  {
   "cell_type": "markdown",
   "metadata": {
    "id": "uzaeln270eMt"
   },
   "source": [
    "#### 2.2. Расчёт размера выборки"
   ]
  },
  {
   "cell_type": "code",
   "execution_count": 15,
   "metadata": {
    "id": "zSxJyPGPNdaI"
   },
   "outputs": [
    {
     "name": "stdout",
     "output_type": "stream",
     "text": [
      "Необходимый размер выборки для каждой группы: 41040\n"
     ]
    }
   ],
   "source": [
    "# Задаём параметры\n",
    "alpha = 0.05 # Уровень значимости\n",
    "beta = 0.2  # Ошибка второго рода, часто 1 - мощность\n",
    "power = 0.8  # Мощность теста\n",
    "p1 = 0.3 # Базовый уровень доли\n",
    "mde = 0.03 * p1  # Минимальный детектируемый эффект\n",
    "p2 = p1 + mde\n",
    "effect_size = proportion_effectsize(p1, p1 + mde)\n",
    "\n",
    "# Инициализируем класс NormalIndPower\n",
    "power_analysis = NormalIndPower()\n",
    "\n",
    "# Рассчитываем размер выборки\n",
    "sample_size = power_analysis.solve_power(\n",
    "    effect_size = effect_size,\n",
    "    power = power,\n",
    "    alpha = alpha,\n",
    "    ratio = 1 # Равномерное распределение выборок\n",
    ")\n",
    "\n",
    "print(f\"Необходимый размер выборки для каждой группы: {int(sample_size)}\")"
   ]
  },
  {
   "cell_type": "markdown",
   "metadata": {
    "id": "qLEv4RoV0eMu"
   },
   "source": [
    "#### 2.3. Расчёт длительности A/B-теста\n",
    "- Рассчитать среднее количество уникальных пользователей приложения в день.\n",
    "\n",
    "- Определить длительность теста исходя из рассчитанного значения размера выборок и среднего дневного трафика приложения."
   ]
  },
  {
   "cell_type": "code",
   "execution_count": 16,
   "metadata": {
    "id": "KZDRbryDOGHa"
   },
   "outputs": [
    {
     "name": "stdout",
     "output_type": "stream",
     "text": [
      "Рассчитанная длительность A/B-теста при текущем уровене трафика в 9907.363636363636 пользователей в день составит 9 дней\n"
     ]
    }
   ],
   "source": [
    "# Среднее количество пользователей приложения в день по историческим данным\n",
    "avg_daily_users = sessions_history.groupby('session_date')['user_id'].nunique()\n",
    "avg_daily_users = avg_daily_users.mean()\n",
    "\n",
    "# Рассчитываем длительность теста в днях как отношение размера выборки к среднему числу пользователей\n",
    "test_duration = ceil(sample_size * 2 / avg_daily_users)\n",
    "\n",
    "print(f\"Рассчитанная длительность A/B-теста при текущем уровене трафика в {avg_daily_users} пользователей в день составит {test_duration} дней\")"
   ]
  },
  {
   "cell_type": "markdown",
   "metadata": {
    "id": "ZuvtAdha0eMv"
   },
   "source": [
    "### 3. Мониторинг А/В-теста"
   ]
  },
  {
   "cell_type": "markdown",
   "metadata": {
    "id": "jq5sE3Ya0eMv"
   },
   "source": [
    "#### 3.1. Проверка распределения пользователей\n",
    "\n",
    "A/B-тест успешно запущен, и уже доступны данные за первые три дня. На этом этапе нужно убедиться, что всё идёт хорошо: пользователи разделены правильным образом, а интересующие метрики корректно считаются.\n",
    "\n",
    "- Рассчитать количество уникальных пользователей в каждой из экспериментальных групп для одного дня наблюдения.\n",
    "\n",
    "- Рассчитать и выведите на экран процентную разницу в количестве пользователей в группах A и B."
   ]
  },
  {
   "cell_type": "code",
   "execution_count": 17,
   "metadata": {
    "id": "G1bqIzDJOUiz"
   },
   "outputs": [
    {
     "data": {
      "text/html": [
       "<div>\n",
       "<style scoped>\n",
       "    .dataframe tbody tr th:only-of-type {\n",
       "        vertical-align: middle;\n",
       "    }\n",
       "\n",
       "    .dataframe tbody tr th {\n",
       "        vertical-align: top;\n",
       "    }\n",
       "\n",
       "    .dataframe thead th {\n",
       "        text-align: right;\n",
       "    }\n",
       "</style>\n",
       "<table border=\"1\" class=\"dataframe\">\n",
       "  <thead>\n",
       "    <tr style=\"text-align: right;\">\n",
       "      <th></th>\n",
       "      <th>user_id</th>\n",
       "      <th>session_id</th>\n",
       "      <th>session_date</th>\n",
       "      <th>session_start_ts</th>\n",
       "      <th>install_date</th>\n",
       "      <th>session_number</th>\n",
       "      <th>registration_flag</th>\n",
       "      <th>page_counter</th>\n",
       "      <th>region</th>\n",
       "      <th>device</th>\n",
       "      <th>test_group</th>\n",
       "    </tr>\n",
       "  </thead>\n",
       "  <tbody>\n",
       "    <tr>\n",
       "      <th>0</th>\n",
       "      <td>3404844B53442747</td>\n",
       "      <td>B4901323BD537E45</td>\n",
       "      <td>2025-10-14</td>\n",
       "      <td>2025-10-14 19:28:49</td>\n",
       "      <td>2025-10-14</td>\n",
       "      <td>1</td>\n",
       "      <td>0</td>\n",
       "      <td>3</td>\n",
       "      <td>CIS</td>\n",
       "      <td>Android</td>\n",
       "      <td>B</td>\n",
       "    </tr>\n",
       "    <tr>\n",
       "      <th>1</th>\n",
       "      <td>3A2BF4D364E62D89</td>\n",
       "      <td>216FC619308F8788</td>\n",
       "      <td>2025-10-14</td>\n",
       "      <td>2025-10-14 21:11:04</td>\n",
       "      <td>2025-10-14</td>\n",
       "      <td>1</td>\n",
       "      <td>0</td>\n",
       "      <td>3</td>\n",
       "      <td>MENA</td>\n",
       "      <td>iPhone</td>\n",
       "      <td>A</td>\n",
       "    </tr>\n",
       "    <tr>\n",
       "      <th>2</th>\n",
       "      <td>79CDAE11E32B1597</td>\n",
       "      <td>EDFCE4AC1A504074</td>\n",
       "      <td>2025-10-14</td>\n",
       "      <td>2025-10-14 21:44:03</td>\n",
       "      <td>2025-10-14</td>\n",
       "      <td>1</td>\n",
       "      <td>0</td>\n",
       "      <td>3</td>\n",
       "      <td>CIS</td>\n",
       "      <td>iPhone</td>\n",
       "      <td>A</td>\n",
       "    </tr>\n",
       "    <tr>\n",
       "      <th>3</th>\n",
       "      <td>D6AF8D78297A931F</td>\n",
       "      <td>CF0AC0EEDE92C690</td>\n",
       "      <td>2025-10-14</td>\n",
       "      <td>2025-10-14 19:07:55</td>\n",
       "      <td>2025-10-14</td>\n",
       "      <td>1</td>\n",
       "      <td>0</td>\n",
       "      <td>4</td>\n",
       "      <td>CIS</td>\n",
       "      <td>PC</td>\n",
       "      <td>A</td>\n",
       "    </tr>\n",
       "    <tr>\n",
       "      <th>4</th>\n",
       "      <td>37E0CE723AE568E0</td>\n",
       "      <td>2E6ED45E8C86C4E9</td>\n",
       "      <td>2025-10-14</td>\n",
       "      <td>2025-10-14 15:39:44</td>\n",
       "      <td>2025-10-14</td>\n",
       "      <td>1</td>\n",
       "      <td>0</td>\n",
       "      <td>3</td>\n",
       "      <td>CIS</td>\n",
       "      <td>Mac</td>\n",
       "      <td>B</td>\n",
       "    </tr>\n",
       "    <tr>\n",
       "      <th>...</th>\n",
       "      <td>...</td>\n",
       "      <td>...</td>\n",
       "      <td>...</td>\n",
       "      <td>...</td>\n",
       "      <td>...</td>\n",
       "      <td>...</td>\n",
       "      <td>...</td>\n",
       "      <td>...</td>\n",
       "      <td>...</td>\n",
       "      <td>...</td>\n",
       "      <td>...</td>\n",
       "    </tr>\n",
       "    <tr>\n",
       "      <th>3125</th>\n",
       "      <td>02A3BA5F727BC3C9</td>\n",
       "      <td>7D4427384463A16E</td>\n",
       "      <td>2025-10-14</td>\n",
       "      <td>2025-10-14 14:52:26</td>\n",
       "      <td>2025-10-14</td>\n",
       "      <td>1</td>\n",
       "      <td>0</td>\n",
       "      <td>4</td>\n",
       "      <td>MENA</td>\n",
       "      <td>Android</td>\n",
       "      <td>B</td>\n",
       "    </tr>\n",
       "    <tr>\n",
       "      <th>3126</th>\n",
       "      <td>A7E51F39427F03A5</td>\n",
       "      <td>290910138655DD03</td>\n",
       "      <td>2025-10-14</td>\n",
       "      <td>2025-10-14 19:15:18</td>\n",
       "      <td>2025-10-14</td>\n",
       "      <td>1</td>\n",
       "      <td>0</td>\n",
       "      <td>2</td>\n",
       "      <td>CIS</td>\n",
       "      <td>PC</td>\n",
       "      <td>B</td>\n",
       "    </tr>\n",
       "    <tr>\n",
       "      <th>3127</th>\n",
       "      <td>78DDBD077D61EEDB</td>\n",
       "      <td>C10E073BFF1FAF0C</td>\n",
       "      <td>2025-10-14</td>\n",
       "      <td>2025-10-14 16:07:20</td>\n",
       "      <td>2025-10-14</td>\n",
       "      <td>1</td>\n",
       "      <td>0</td>\n",
       "      <td>2</td>\n",
       "      <td>EU</td>\n",
       "      <td>iPhone</td>\n",
       "      <td>B</td>\n",
       "    </tr>\n",
       "    <tr>\n",
       "      <th>3128</th>\n",
       "      <td>B44E0A30E8ED1AFC</td>\n",
       "      <td>7B404F7021711E5D</td>\n",
       "      <td>2025-10-14</td>\n",
       "      <td>2025-10-14 17:41:01</td>\n",
       "      <td>2025-10-14</td>\n",
       "      <td>1</td>\n",
       "      <td>0</td>\n",
       "      <td>3</td>\n",
       "      <td>EU</td>\n",
       "      <td>Mac</td>\n",
       "      <td>B</td>\n",
       "    </tr>\n",
       "    <tr>\n",
       "      <th>3129</th>\n",
       "      <td>C9F3E29E5168D642</td>\n",
       "      <td>A42ED6D173E5EE2D</td>\n",
       "      <td>2025-10-14</td>\n",
       "      <td>2025-10-14 19:18:11</td>\n",
       "      <td>2025-10-14</td>\n",
       "      <td>1</td>\n",
       "      <td>0</td>\n",
       "      <td>3</td>\n",
       "      <td>CIS</td>\n",
       "      <td>PC</td>\n",
       "      <td>A</td>\n",
       "    </tr>\n",
       "  </tbody>\n",
       "</table>\n",
       "<p>3130 rows × 11 columns</p>\n",
       "</div>"
      ],
      "text/plain": [
       "               user_id        session_id session_date     session_start_ts  \\\n",
       "0     3404844B53442747  B4901323BD537E45   2025-10-14  2025-10-14 19:28:49   \n",
       "1     3A2BF4D364E62D89  216FC619308F8788   2025-10-14  2025-10-14 21:11:04   \n",
       "2     79CDAE11E32B1597  EDFCE4AC1A504074   2025-10-14  2025-10-14 21:44:03   \n",
       "3     D6AF8D78297A931F  CF0AC0EEDE92C690   2025-10-14  2025-10-14 19:07:55   \n",
       "4     37E0CE723AE568E0  2E6ED45E8C86C4E9   2025-10-14  2025-10-14 15:39:44   \n",
       "...                ...               ...          ...                  ...   \n",
       "3125  02A3BA5F727BC3C9  7D4427384463A16E   2025-10-14  2025-10-14 14:52:26   \n",
       "3126  A7E51F39427F03A5  290910138655DD03   2025-10-14  2025-10-14 19:15:18   \n",
       "3127  78DDBD077D61EEDB  C10E073BFF1FAF0C   2025-10-14  2025-10-14 16:07:20   \n",
       "3128  B44E0A30E8ED1AFC  7B404F7021711E5D   2025-10-14  2025-10-14 17:41:01   \n",
       "3129  C9F3E29E5168D642  A42ED6D173E5EE2D   2025-10-14  2025-10-14 19:18:11   \n",
       "\n",
       "     install_date  session_number  registration_flag  page_counter region  \\\n",
       "0      2025-10-14               1                  0             3    CIS   \n",
       "1      2025-10-14               1                  0             3   MENA   \n",
       "2      2025-10-14               1                  0             3    CIS   \n",
       "3      2025-10-14               1                  0             4    CIS   \n",
       "4      2025-10-14               1                  0             3    CIS   \n",
       "...           ...             ...                ...           ...    ...   \n",
       "3125   2025-10-14               1                  0             4   MENA   \n",
       "3126   2025-10-14               1                  0             2    CIS   \n",
       "3127   2025-10-14               1                  0             2     EU   \n",
       "3128   2025-10-14               1                  0             3     EU   \n",
       "3129   2025-10-14               1                  0             3    CIS   \n",
       "\n",
       "       device test_group  \n",
       "0     Android          B  \n",
       "1      iPhone          A  \n",
       "2      iPhone          A  \n",
       "3          PC          A  \n",
       "4         Mac          B  \n",
       "...       ...        ...  \n",
       "3125  Android          B  \n",
       "3126       PC          B  \n",
       "3127   iPhone          B  \n",
       "3128      Mac          B  \n",
       "3129       PC          A  \n",
       "\n",
       "[3130 rows x 11 columns]"
      ]
     },
     "metadata": {},
     "output_type": "display_data"
    }
   ],
   "source": [
    "# Создаем новый датафрейм\n",
    "sessions_test_part = pd.read_csv('/datasets/sessions_project_test_part.csv')\n",
    "\n",
    "display(sessions_test_part)"
   ]
  },
  {
   "cell_type": "code",
   "execution_count": 18,
   "metadata": {},
   "outputs": [
    {
     "data": {
      "text/plain": [
       "test_group\n",
       "A    1477\n",
       "B    1466\n",
       "Name: user_id, dtype: int64"
      ]
     },
     "metadata": {},
     "output_type": "display_data"
    }
   ],
   "source": [
    "# Считаем кол-во уникальных пользователей для каждой группы\n",
    "users_group_ab = sessions_test_part.groupby('test_group')['user_id'].nunique()\n",
    "\n",
    "display(users_group_ab)"
   ]
  },
  {
   "cell_type": "code",
   "execution_count": 19,
   "metadata": {},
   "outputs": [
    {
     "data": {
      "text/plain": [
       "0.7447528774542993"
      ]
     },
     "metadata": {},
     "output_type": "display_data"
    }
   ],
   "source": [
    "# Рассчитаем процентную разницу в количестве пользователей в группах A и B\n",
    "A = users_group_ab['A']\n",
    "B = users_group_ab['B']\n",
    "\n",
    "percent_difference = 100 * abs(A - B) / A\n",
    "\n",
    "display(percent_difference)"
   ]
  },
  {
   "cell_type": "code",
   "execution_count": 20,
   "metadata": {},
   "outputs": [
    {
     "data": {
      "image/png": "[encoded data removed]",
      "text/plain": [
       "<Figure size 432x288 with 1 Axes>"
      ]
     },
     "metadata": {},
     "output_type": "display_data"
    }
   ],
   "source": [
    "# Создаем визуализацию для наглядности в различии групп А и В\n",
    "groups = list(users_group_ab.keys())\n",
    "values = users_group_ab.values\n",
    "\n",
    "plt.pie(values, labels=groups, autopct='%1.1f%%', colors=['red', 'yellow'])\n",
    "plt.title('Доля пользователей в группах A и B')\n",
    "plt.show()"
   ]
  },
  {
   "cell_type": "markdown",
   "metadata": {
    "id": "sgpNY5bv0eM0"
   },
   "source": [
    "#### 3.2. Проверка пересечений пользователей\n",
    "- Рассчитайте количество пользователей, которые встречаются одновременно в группах A и B, или убедитесь, что таких нет."
   ]
  },
  {
   "cell_type": "code",
   "execution_count": 21,
   "metadata": {
    "id": "E72ozN9FOX1u"
   },
   "outputs": [
    {
     "name": "stdout",
     "output_type": "stream",
     "text": [
      "Количество пользователей, которые встречаются одновременно в группах A и B: 0\n"
     ]
    }
   ],
   "source": [
    "# Ищем пересечение пользователей A и B\n",
    "users_A = sessions_test_part[sessions_test_part['test_group'] == 'A']['user_id'].unique()\n",
    "users_B = sessions_test_part[sessions_test_part['test_group'] == 'B']['user_id'].unique()\n",
    "\n",
    "common_users = set(users_A) & set(users_B)\n",
    "\n",
    "common_user_count = len(common_users)\n",
    "\n",
    "print(f'Количество пользователей, которые встречаются одновременно в группах A и B: {common_user_count}')"
   ]
  },
  {
   "cell_type": "markdown",
   "metadata": {
    "id": "6RvkNLrg0eM1"
   },
   "source": [
    "#### 3.3. Равномерность разделения пользователей по устройствам\n",
    "Построить две диаграммы:\n",
    "\n",
    "- доля каждого типа устройства для пользователей из группы A,\n",
    "\n",
    "- доля каждого типа устройства для пользователей из группы B."
   ]
  },
  {
   "cell_type": "code",
   "execution_count": 22,
   "metadata": {
    "id": "x_IP6PUNPWHC"
   },
   "outputs": [
    {
     "data": {
      "image/png": "[encoded data removed]",
      "text/plain": [
       "<Figure size 864x432 with 2 Axes>"
      ]
     },
     "metadata": {},
     "output_type": "display_data"
    }
   ],
   "source": [
    "# Строим диаграммы для каждого региона в группах А и В\n",
    "group_A = sessions_test_part[sessions_test_part['test_group'] == 'A']\n",
    "group_B = sessions_test_part[sessions_test_part['test_group'] == 'B']\n",
    "\n",
    "device_count_A = group_A.groupby('device')['user_id'].nunique()\n",
    "device_count_B = group_B.groupby('device')['user_id'].nunique()\n",
    "\n",
    "\n",
    "fig, axes = plt.subplots(nrows=1, ncols=2, figsize=(12, 6))\n",
    "colors_device = ['red', 'orange', 'yellow', 'green']\n",
    "\n",
    "# Диаграмма для группы А\n",
    "device_count_A.plot(kind='pie', ax=axes[0], autopct='%1.1f%%', startangle=90, colors=colors_device)\n",
    "axes[0].set_title('Доля типов устройств для группы A')\n",
    "axes[0].set_ylabel('')\n",
    "\n",
    "# Диаграмма для группы B\n",
    "device_count_B.plot(kind='pie', ax=axes[1], autopct='%1.1f%%', startangle=90, colors=colors_device)\n",
    "axes[1].set_title('Доля типов устройств для группы B')\n",
    "axes[1].set_ylabel('')\n",
    "\n",
    "plt.show()"
   ]
  },
  {
   "cell_type": "markdown",
   "metadata": {
    "id": "gAgmP6vo0eM1"
   },
   "source": [
    "#### 3.4. Равномерность распределения пользователей по регионам\n",
    "Построить две диаграммы:\n",
    "\n",
    "- доля каждого региона для пользователей из группы A,\n",
    "\n",
    "- доля каждого региона для пользователей из группы B."
   ]
  },
  {
   "cell_type": "code",
   "execution_count": 23,
   "metadata": {
    "id": "3hAq-FG4OdYM"
   },
   "outputs": [
    {
     "data": {
      "image/png": "[encoded data removed]",
      "text/plain": [
       "<Figure size 864x432 with 2 Axes>"
      ]
     },
     "metadata": {},
     "output_type": "display_data"
    }
   ],
   "source": [
    "# Строим диаграммы для каждого типа устройств в группах А и В\n",
    "group_A = sessions_test_part[sessions_test_part['test_group'] == 'A']\n",
    "group_B = sessions_test_part[sessions_test_part['test_group'] == 'B']\n",
    "\n",
    "region_count_A = group_A.groupby('region')['user_id'].nunique()\n",
    "region_count_B = group_B.groupby('region')['user_id'].nunique()\n",
    "\n",
    "fig, axes = plt.subplots(nrows=1, ncols=2, figsize=(12, 6))\n",
    "colors_region = ['red', 'orange', 'yellow']\n",
    "\n",
    "# Диаграмма для группы А\n",
    "region_count_A.plot(kind='pie', ax=axes[0], autopct='%1.1f%%', startangle=90, colors=colors_region)\n",
    "axes[0].set_title('Доля каждого региона для группы A')\n",
    "axes[0].set_ylabel('')\n",
    "\n",
    "# Диаграмма для группы B\n",
    "region_count_B.plot(kind='pie', ax=axes[1], autopct='%1.1f%%', startangle=90, colors=colors_region)\n",
    "axes[1].set_title('Доля каждого региона для группы B')\n",
    "axes[1].set_ylabel('')\n",
    "\n",
    "plt.show()"
   ]
  },
  {
   "cell_type": "markdown",
   "metadata": {
    "id": "X2WSZ-sDrSUi"
   },
   "source": [
    "#### 3.5. Вывод после проверки A/B-теста"
   ]
  },
  {
   "cell_type": "markdown",
   "metadata": {},
   "source": [
    "**Вывод:** По итогам A/B-теста было обнаружно небольшое различие в размерах групп А и В. Выборки являются независимыми, так как пересечений в пользователях не обнаружно. Распредление в группах по регионам и устройствам равномерное с небольшими погрешностями."
   ]
  },
  {
   "cell_type": "markdown",
   "metadata": {
    "id": "nudRr_BQ0eM2"
   },
   "source": [
    "### 4. Проверка результатов A/B-теста"
   ]
  },
  {
   "cell_type": "markdown",
   "metadata": {
    "id": "JVve-YBB0eM2"
   },
   "source": [
    "#### 4.1. Получение результатов теста и подсчёт основной метрики"
   ]
  },
  {
   "cell_type": "code",
   "execution_count": 24,
   "metadata": {
    "id": "EqRlwMtKPTir"
   },
   "outputs": [
    {
     "data": {
      "text/html": [
       "<div>\n",
       "<style scoped>\n",
       "    .dataframe tbody tr th:only-of-type {\n",
       "        vertical-align: middle;\n",
       "    }\n",
       "\n",
       "    .dataframe tbody tr th {\n",
       "        vertical-align: top;\n",
       "    }\n",
       "\n",
       "    .dataframe thead th {\n",
       "        text-align: right;\n",
       "    }\n",
       "</style>\n",
       "<table border=\"1\" class=\"dataframe\">\n",
       "  <thead>\n",
       "    <tr style=\"text-align: right;\">\n",
       "      <th></th>\n",
       "      <th>user_id</th>\n",
       "      <th>session_id</th>\n",
       "      <th>session_date</th>\n",
       "      <th>session_start_ts</th>\n",
       "      <th>install_date</th>\n",
       "      <th>session_number</th>\n",
       "      <th>registration_flag</th>\n",
       "      <th>page_counter</th>\n",
       "      <th>region</th>\n",
       "      <th>device</th>\n",
       "      <th>test_group</th>\n",
       "    </tr>\n",
       "  </thead>\n",
       "  <tbody>\n",
       "    <tr>\n",
       "      <th>0</th>\n",
       "      <td>6DAE3B3654DA738E</td>\n",
       "      <td>C69249E26E58F6E2</td>\n",
       "      <td>2025-10-26</td>\n",
       "      <td>2025-10-26 18:15:05</td>\n",
       "      <td>2025-10-16</td>\n",
       "      <td>3</td>\n",
       "      <td>0</td>\n",
       "      <td>3</td>\n",
       "      <td>MENA</td>\n",
       "      <td>Android</td>\n",
       "      <td>A</td>\n",
       "    </tr>\n",
       "    <tr>\n",
       "      <th>1</th>\n",
       "      <td>0A3FE5D1DD59110A</td>\n",
       "      <td>66D66D7C9F5181B7</td>\n",
       "      <td>2025-10-21</td>\n",
       "      <td>2025-10-21 17:04:53</td>\n",
       "      <td>2025-10-15</td>\n",
       "      <td>2</td>\n",
       "      <td>1</td>\n",
       "      <td>2</td>\n",
       "      <td>CIS</td>\n",
       "      <td>Android</td>\n",
       "      <td>B</td>\n",
       "    </tr>\n",
       "    <tr>\n",
       "      <th>2</th>\n",
       "      <td>2041F1D7AA740B88</td>\n",
       "      <td>50DE51D42215E74C</td>\n",
       "      <td>2025-10-23</td>\n",
       "      <td>2025-10-23 17:39:29</td>\n",
       "      <td>2025-10-19</td>\n",
       "      <td>3</td>\n",
       "      <td>0</td>\n",
       "      <td>2</td>\n",
       "      <td>MENA</td>\n",
       "      <td>Android</td>\n",
       "      <td>A</td>\n",
       "    </tr>\n",
       "    <tr>\n",
       "      <th>3</th>\n",
       "      <td>43D7585009168086</td>\n",
       "      <td>5763C0C353C22263</td>\n",
       "      <td>2025-10-24</td>\n",
       "      <td>2025-10-24 15:01:57</td>\n",
       "      <td>2025-10-18</td>\n",
       "      <td>4</td>\n",
       "      <td>0</td>\n",
       "      <td>1</td>\n",
       "      <td>CIS</td>\n",
       "      <td>iPhone</td>\n",
       "      <td>B</td>\n",
       "    </tr>\n",
       "    <tr>\n",
       "      <th>4</th>\n",
       "      <td>15AD68B14D62D88C</td>\n",
       "      <td>B1AD09F93C1053BC</td>\n",
       "      <td>2025-10-17</td>\n",
       "      <td>2025-10-17 17:34:39</td>\n",
       "      <td>2025-10-17</td>\n",
       "      <td>1</td>\n",
       "      <td>0</td>\n",
       "      <td>2</td>\n",
       "      <td>MENA</td>\n",
       "      <td>Android</td>\n",
       "      <td>B</td>\n",
       "    </tr>\n",
       "    <tr>\n",
       "      <th>...</th>\n",
       "      <td>...</td>\n",
       "      <td>...</td>\n",
       "      <td>...</td>\n",
       "      <td>...</td>\n",
       "      <td>...</td>\n",
       "      <td>...</td>\n",
       "      <td>...</td>\n",
       "      <td>...</td>\n",
       "      <td>...</td>\n",
       "      <td>...</td>\n",
       "      <td>...</td>\n",
       "    </tr>\n",
       "    <tr>\n",
       "      <th>100000</th>\n",
       "      <td>CF77C27B238C1BE3</td>\n",
       "      <td>0F7BC9B33685377C</td>\n",
       "      <td>2025-10-22</td>\n",
       "      <td>2025-10-22 19:01:50</td>\n",
       "      <td>2025-10-20</td>\n",
       "      <td>3</td>\n",
       "      <td>0</td>\n",
       "      <td>3</td>\n",
       "      <td>MENA</td>\n",
       "      <td>Android</td>\n",
       "      <td>A</td>\n",
       "    </tr>\n",
       "    <tr>\n",
       "      <th>100001</th>\n",
       "      <td>D7ED66C581409AC2</td>\n",
       "      <td>26C4475005E70F47</td>\n",
       "      <td>2025-10-17</td>\n",
       "      <td>2025-10-17 22:12:38</td>\n",
       "      <td>2025-10-17</td>\n",
       "      <td>1</td>\n",
       "      <td>0</td>\n",
       "      <td>5</td>\n",
       "      <td>CIS</td>\n",
       "      <td>PC</td>\n",
       "      <td>A</td>\n",
       "    </tr>\n",
       "    <tr>\n",
       "      <th>100002</th>\n",
       "      <td>E7EA2D51238020C6</td>\n",
       "      <td>9B9CDE6A612CBD73</td>\n",
       "      <td>2025-10-24</td>\n",
       "      <td>2025-10-24 14:54:07</td>\n",
       "      <td>2025-10-14</td>\n",
       "      <td>2</td>\n",
       "      <td>0</td>\n",
       "      <td>3</td>\n",
       "      <td>MENA</td>\n",
       "      <td>PC</td>\n",
       "      <td>B</td>\n",
       "    </tr>\n",
       "    <tr>\n",
       "      <th>100003</th>\n",
       "      <td>8A6FEFD7F34C5DA1</td>\n",
       "      <td>37291EC27106EF9D</td>\n",
       "      <td>2025-10-18</td>\n",
       "      <td>2025-10-18 00:05:10</td>\n",
       "      <td>2025-10-14</td>\n",
       "      <td>3</td>\n",
       "      <td>0</td>\n",
       "      <td>4</td>\n",
       "      <td>EU</td>\n",
       "      <td>Android</td>\n",
       "      <td>B</td>\n",
       "    </tr>\n",
       "    <tr>\n",
       "      <th>100004</th>\n",
       "      <td>EE2CA3C8481A0DE8</td>\n",
       "      <td>A4C833633CD4412E</td>\n",
       "      <td>2025-10-23</td>\n",
       "      <td>2025-10-23 10:02:27</td>\n",
       "      <td>2025-10-19</td>\n",
       "      <td>2</td>\n",
       "      <td>0</td>\n",
       "      <td>2</td>\n",
       "      <td>MENA</td>\n",
       "      <td>Android</td>\n",
       "      <td>B</td>\n",
       "    </tr>\n",
       "  </tbody>\n",
       "</table>\n",
       "<p>100005 rows × 11 columns</p>\n",
       "</div>"
      ],
      "text/plain": [
       "                 user_id        session_id session_date     session_start_ts  \\\n",
       "0       6DAE3B3654DA738E  C69249E26E58F6E2   2025-10-26  2025-10-26 18:15:05   \n",
       "1       0A3FE5D1DD59110A  66D66D7C9F5181B7   2025-10-21  2025-10-21 17:04:53   \n",
       "2       2041F1D7AA740B88  50DE51D42215E74C   2025-10-23  2025-10-23 17:39:29   \n",
       "3       43D7585009168086  5763C0C353C22263   2025-10-24  2025-10-24 15:01:57   \n",
       "4       15AD68B14D62D88C  B1AD09F93C1053BC   2025-10-17  2025-10-17 17:34:39   \n",
       "...                  ...               ...          ...                  ...   \n",
       "100000  CF77C27B238C1BE3  0F7BC9B33685377C   2025-10-22  2025-10-22 19:01:50   \n",
       "100001  D7ED66C581409AC2  26C4475005E70F47   2025-10-17  2025-10-17 22:12:38   \n",
       "100002  E7EA2D51238020C6  9B9CDE6A612CBD73   2025-10-24  2025-10-24 14:54:07   \n",
       "100003  8A6FEFD7F34C5DA1  37291EC27106EF9D   2025-10-18  2025-10-18 00:05:10   \n",
       "100004  EE2CA3C8481A0DE8  A4C833633CD4412E   2025-10-23  2025-10-23 10:02:27   \n",
       "\n",
       "       install_date  session_number  registration_flag  page_counter region  \\\n",
       "0        2025-10-16               3                  0             3   MENA   \n",
       "1        2025-10-15               2                  1             2    CIS   \n",
       "2        2025-10-19               3                  0             2   MENA   \n",
       "3        2025-10-18               4                  0             1    CIS   \n",
       "4        2025-10-17               1                  0             2   MENA   \n",
       "...             ...             ...                ...           ...    ...   \n",
       "100000   2025-10-20               3                  0             3   MENA   \n",
       "100001   2025-10-17               1                  0             5    CIS   \n",
       "100002   2025-10-14               2                  0             3   MENA   \n",
       "100003   2025-10-14               3                  0             4     EU   \n",
       "100004   2025-10-19               2                  0             2   MENA   \n",
       "\n",
       "         device test_group  \n",
       "0       Android          A  \n",
       "1       Android          B  \n",
       "2       Android          A  \n",
       "3        iPhone          B  \n",
       "4       Android          B  \n",
       "...         ...        ...  \n",
       "100000  Android          A  \n",
       "100001       PC          A  \n",
       "100002       PC          B  \n",
       "100003  Android          B  \n",
       "100004  Android          B  \n",
       "\n",
       "[100005 rows x 11 columns]"
      ]
     },
     "metadata": {},
     "output_type": "display_data"
    }
   ],
   "source": [
    "# Создаем новый датафрейм\n",
    "sessions_test = pd.read_csv('/datasets/sessions_project_test.csv')\n",
    "\n",
    "display(sessions_test)"
   ]
  },
  {
   "cell_type": "code",
   "execution_count": 25,
   "metadata": {},
   "outputs": [
    {
     "data": {
      "text/html": [
       "<div>\n",
       "<style scoped>\n",
       "    .dataframe tbody tr th:only-of-type {\n",
       "        vertical-align: middle;\n",
       "    }\n",
       "\n",
       "    .dataframe tbody tr th {\n",
       "        vertical-align: top;\n",
       "    }\n",
       "\n",
       "    .dataframe thead th {\n",
       "        text-align: right;\n",
       "    }\n",
       "</style>\n",
       "<table border=\"1\" class=\"dataframe\">\n",
       "  <thead>\n",
       "    <tr style=\"text-align: right;\">\n",
       "      <th></th>\n",
       "      <th>user_id</th>\n",
       "      <th>session_id</th>\n",
       "      <th>session_date</th>\n",
       "      <th>session_start_ts</th>\n",
       "      <th>install_date</th>\n",
       "      <th>session_number</th>\n",
       "      <th>registration_flag</th>\n",
       "      <th>page_counter</th>\n",
       "      <th>region</th>\n",
       "      <th>device</th>\n",
       "      <th>test_group</th>\n",
       "      <th>good_session</th>\n",
       "    </tr>\n",
       "  </thead>\n",
       "  <tbody>\n",
       "    <tr>\n",
       "      <th>0</th>\n",
       "      <td>6DAE3B3654DA738E</td>\n",
       "      <td>C69249E26E58F6E2</td>\n",
       "      <td>2025-10-26</td>\n",
       "      <td>2025-10-26 18:15:05</td>\n",
       "      <td>2025-10-16</td>\n",
       "      <td>3</td>\n",
       "      <td>0</td>\n",
       "      <td>3</td>\n",
       "      <td>MENA</td>\n",
       "      <td>Android</td>\n",
       "      <td>A</td>\n",
       "      <td>0</td>\n",
       "    </tr>\n",
       "    <tr>\n",
       "      <th>1</th>\n",
       "      <td>0A3FE5D1DD59110A</td>\n",
       "      <td>66D66D7C9F5181B7</td>\n",
       "      <td>2025-10-21</td>\n",
       "      <td>2025-10-21 17:04:53</td>\n",
       "      <td>2025-10-15</td>\n",
       "      <td>2</td>\n",
       "      <td>1</td>\n",
       "      <td>2</td>\n",
       "      <td>CIS</td>\n",
       "      <td>Android</td>\n",
       "      <td>B</td>\n",
       "      <td>0</td>\n",
       "    </tr>\n",
       "    <tr>\n",
       "      <th>2</th>\n",
       "      <td>2041F1D7AA740B88</td>\n",
       "      <td>50DE51D42215E74C</td>\n",
       "      <td>2025-10-23</td>\n",
       "      <td>2025-10-23 17:39:29</td>\n",
       "      <td>2025-10-19</td>\n",
       "      <td>3</td>\n",
       "      <td>0</td>\n",
       "      <td>2</td>\n",
       "      <td>MENA</td>\n",
       "      <td>Android</td>\n",
       "      <td>A</td>\n",
       "      <td>0</td>\n",
       "    </tr>\n",
       "    <tr>\n",
       "      <th>3</th>\n",
       "      <td>43D7585009168086</td>\n",
       "      <td>5763C0C353C22263</td>\n",
       "      <td>2025-10-24</td>\n",
       "      <td>2025-10-24 15:01:57</td>\n",
       "      <td>2025-10-18</td>\n",
       "      <td>4</td>\n",
       "      <td>0</td>\n",
       "      <td>1</td>\n",
       "      <td>CIS</td>\n",
       "      <td>iPhone</td>\n",
       "      <td>B</td>\n",
       "      <td>0</td>\n",
       "    </tr>\n",
       "    <tr>\n",
       "      <th>4</th>\n",
       "      <td>15AD68B14D62D88C</td>\n",
       "      <td>B1AD09F93C1053BC</td>\n",
       "      <td>2025-10-17</td>\n",
       "      <td>2025-10-17 17:34:39</td>\n",
       "      <td>2025-10-17</td>\n",
       "      <td>1</td>\n",
       "      <td>0</td>\n",
       "      <td>2</td>\n",
       "      <td>MENA</td>\n",
       "      <td>Android</td>\n",
       "      <td>B</td>\n",
       "      <td>0</td>\n",
       "    </tr>\n",
       "    <tr>\n",
       "      <th>...</th>\n",
       "      <td>...</td>\n",
       "      <td>...</td>\n",
       "      <td>...</td>\n",
       "      <td>...</td>\n",
       "      <td>...</td>\n",
       "      <td>...</td>\n",
       "      <td>...</td>\n",
       "      <td>...</td>\n",
       "      <td>...</td>\n",
       "      <td>...</td>\n",
       "      <td>...</td>\n",
       "      <td>...</td>\n",
       "    </tr>\n",
       "    <tr>\n",
       "      <th>100000</th>\n",
       "      <td>CF77C27B238C1BE3</td>\n",
       "      <td>0F7BC9B33685377C</td>\n",
       "      <td>2025-10-22</td>\n",
       "      <td>2025-10-22 19:01:50</td>\n",
       "      <td>2025-10-20</td>\n",
       "      <td>3</td>\n",
       "      <td>0</td>\n",
       "      <td>3</td>\n",
       "      <td>MENA</td>\n",
       "      <td>Android</td>\n",
       "      <td>A</td>\n",
       "      <td>0</td>\n",
       "    </tr>\n",
       "    <tr>\n",
       "      <th>100001</th>\n",
       "      <td>D7ED66C581409AC2</td>\n",
       "      <td>26C4475005E70F47</td>\n",
       "      <td>2025-10-17</td>\n",
       "      <td>2025-10-17 22:12:38</td>\n",
       "      <td>2025-10-17</td>\n",
       "      <td>1</td>\n",
       "      <td>0</td>\n",
       "      <td>5</td>\n",
       "      <td>CIS</td>\n",
       "      <td>PC</td>\n",
       "      <td>A</td>\n",
       "      <td>1</td>\n",
       "    </tr>\n",
       "    <tr>\n",
       "      <th>100002</th>\n",
       "      <td>E7EA2D51238020C6</td>\n",
       "      <td>9B9CDE6A612CBD73</td>\n",
       "      <td>2025-10-24</td>\n",
       "      <td>2025-10-24 14:54:07</td>\n",
       "      <td>2025-10-14</td>\n",
       "      <td>2</td>\n",
       "      <td>0</td>\n",
       "      <td>3</td>\n",
       "      <td>MENA</td>\n",
       "      <td>PC</td>\n",
       "      <td>B</td>\n",
       "      <td>0</td>\n",
       "    </tr>\n",
       "    <tr>\n",
       "      <th>100003</th>\n",
       "      <td>8A6FEFD7F34C5DA1</td>\n",
       "      <td>37291EC27106EF9D</td>\n",
       "      <td>2025-10-18</td>\n",
       "      <td>2025-10-18 00:05:10</td>\n",
       "      <td>2025-10-14</td>\n",
       "      <td>3</td>\n",
       "      <td>0</td>\n",
       "      <td>4</td>\n",
       "      <td>EU</td>\n",
       "      <td>Android</td>\n",
       "      <td>B</td>\n",
       "      <td>1</td>\n",
       "    </tr>\n",
       "    <tr>\n",
       "      <th>100004</th>\n",
       "      <td>EE2CA3C8481A0DE8</td>\n",
       "      <td>A4C833633CD4412E</td>\n",
       "      <td>2025-10-23</td>\n",
       "      <td>2025-10-23 10:02:27</td>\n",
       "      <td>2025-10-19</td>\n",
       "      <td>2</td>\n",
       "      <td>0</td>\n",
       "      <td>2</td>\n",
       "      <td>MENA</td>\n",
       "      <td>Android</td>\n",
       "      <td>B</td>\n",
       "      <td>0</td>\n",
       "    </tr>\n",
       "  </tbody>\n",
       "</table>\n",
       "<p>100005 rows × 12 columns</p>\n",
       "</div>"
      ],
      "text/plain": [
       "                 user_id        session_id session_date     session_start_ts  \\\n",
       "0       6DAE3B3654DA738E  C69249E26E58F6E2   2025-10-26  2025-10-26 18:15:05   \n",
       "1       0A3FE5D1DD59110A  66D66D7C9F5181B7   2025-10-21  2025-10-21 17:04:53   \n",
       "2       2041F1D7AA740B88  50DE51D42215E74C   2025-10-23  2025-10-23 17:39:29   \n",
       "3       43D7585009168086  5763C0C353C22263   2025-10-24  2025-10-24 15:01:57   \n",
       "4       15AD68B14D62D88C  B1AD09F93C1053BC   2025-10-17  2025-10-17 17:34:39   \n",
       "...                  ...               ...          ...                  ...   \n",
       "100000  CF77C27B238C1BE3  0F7BC9B33685377C   2025-10-22  2025-10-22 19:01:50   \n",
       "100001  D7ED66C581409AC2  26C4475005E70F47   2025-10-17  2025-10-17 22:12:38   \n",
       "100002  E7EA2D51238020C6  9B9CDE6A612CBD73   2025-10-24  2025-10-24 14:54:07   \n",
       "100003  8A6FEFD7F34C5DA1  37291EC27106EF9D   2025-10-18  2025-10-18 00:05:10   \n",
       "100004  EE2CA3C8481A0DE8  A4C833633CD4412E   2025-10-23  2025-10-23 10:02:27   \n",
       "\n",
       "       install_date  session_number  registration_flag  page_counter region  \\\n",
       "0        2025-10-16               3                  0             3   MENA   \n",
       "1        2025-10-15               2                  1             2    CIS   \n",
       "2        2025-10-19               3                  0             2   MENA   \n",
       "3        2025-10-18               4                  0             1    CIS   \n",
       "4        2025-10-17               1                  0             2   MENA   \n",
       "...             ...             ...                ...           ...    ...   \n",
       "100000   2025-10-20               3                  0             3   MENA   \n",
       "100001   2025-10-17               1                  0             5    CIS   \n",
       "100002   2025-10-14               2                  0             3   MENA   \n",
       "100003   2025-10-14               3                  0             4     EU   \n",
       "100004   2025-10-19               2                  0             2   MENA   \n",
       "\n",
       "         device test_group  good_session  \n",
       "0       Android          A             0  \n",
       "1       Android          B             0  \n",
       "2       Android          A             0  \n",
       "3        iPhone          B             0  \n",
       "4       Android          B             0  \n",
       "...         ...        ...           ...  \n",
       "100000  Android          A             0  \n",
       "100001       PC          A             1  \n",
       "100002       PC          B             0  \n",
       "100003  Android          B             1  \n",
       "100004  Android          B             0  \n",
       "\n",
       "[100005 rows x 12 columns]"
      ]
     },
     "metadata": {},
     "output_type": "display_data"
    }
   ],
   "source": [
    "# Создаем новый столбец в датафрейме\n",
    "sessions_test['good_session'] = (sessions_test['page_counter'] >= 4).astype(int)\n",
    "\n",
    "display(sessions_test)"
   ]
  },
  {
   "cell_type": "markdown",
   "metadata": {
    "id": "aeYhrMYy0eM2"
   },
   "source": [
    "#### 4.2. Проверка корректности результатов теста\n",
    "- Рассчитать количество уникальных сессий для каждого дня и обеих тестовых групп, используя группировку.\n",
    "\n",
    "- Проверить, что количество уникальных дневных сессий в двух выборках не различается или различия не статистически значимыми."
   ]
  },
  {
   "cell_type": "code",
   "execution_count": 26,
   "metadata": {
    "id": "5NUlcltkTTSU"
   },
   "outputs": [
    {
     "data": {
      "text/plain": [
       "session_date\n",
       "2025-10-14    1502\n",
       "2025-10-15    2235\n",
       "2025-10-16    3280\n",
       "2025-10-17    4089\n",
       "2025-10-18    5013\n",
       "2025-10-19    6535\n",
       "2025-10-20    5837\n",
       "2025-10-21    3927\n",
       "2025-10-22    3083\n",
       "2025-10-23    2470\n",
       "2025-10-24    2090\n",
       "2025-10-25    1897\n",
       "2025-10-26    1669\n",
       "2025-10-27    1454\n",
       "2025-10-28    1279\n",
       "2025-10-29    1068\n",
       "2025-10-30     887\n",
       "2025-10-31     644\n",
       "2025-11-01     434\n",
       "2025-11-02     158\n",
       "Name: session_id, dtype: int64"
      ]
     },
     "metadata": {},
     "output_type": "display_data"
    },
    {
     "data": {
      "text/plain": [
       "session_date\n",
       "2025-10-14    1628\n",
       "2025-10-15    2283\n",
       "2025-10-16    3241\n",
       "2025-10-17    4054\n",
       "2025-10-18    5059\n",
       "2025-10-19    6779\n",
       "2025-10-20    6089\n",
       "2025-10-21    3981\n",
       "2025-10-22    3111\n",
       "2025-10-23    2548\n",
       "2025-10-24    2068\n",
       "2025-10-25    1814\n",
       "2025-10-26    1692\n",
       "2025-10-27    1517\n",
       "2025-10-28    1289\n",
       "2025-10-29    1131\n",
       "2025-10-30     876\n",
       "2025-10-31     669\n",
       "2025-11-01     465\n",
       "2025-11-02     160\n",
       "Name: session_id, dtype: int64"
      ]
     },
     "metadata": {},
     "output_type": "display_data"
    }
   ],
   "source": [
    "# Посчитаем кол-во уникальных сессий для каждого дня и обеих тестовых групп\n",
    "test_group_a = sessions_test[sessions_test['test_group'] == 'A']\n",
    "test_group_b = sessions_test[sessions_test['test_group'] == 'B']\n",
    "\n",
    "uniq_session_a = test_group_a.groupby('session_date')['session_id'].nunique()\n",
    "uniq_session_b = test_group_b.groupby('session_date')['session_id'].nunique()\n",
    "\n",
    "display(uniq_session_a, uniq_session_b)"
   ]
  },
  {
   "cell_type": "code",
   "execution_count": 27,
   "metadata": {},
   "outputs": [
    {
     "name": "stdout",
     "output_type": "stream",
     "text": [
      "p-value=0.938219304859116\n",
      "Различия статистически не значительны (принимаем нулевую гипотезу)\n"
     ]
    }
   ],
   "source": [
    "# Проведем статистический t-тест\n",
    "sessions_a = uniq_session_a.values\n",
    "sessions_b = uniq_session_b.values\n",
    "\n",
    "t_stat, p_value = stats.ttest_ind(sessions_a, sessions_b)\n",
    "\n",
    "print(f'p-value={p_value}')\n",
    "\n",
    "alpha = 0.05\n",
    "if p_value > alpha:\n",
    "    print('Различия статистически не значительны (принимаем нулевую гипотезу)')\n",
    "else:\n",
    "    print('Различия статистически значительны (отклоняем нулевую гипотезу)')\n",
    "   "
   ]
  },
  {
   "cell_type": "markdown",
   "metadata": {
    "id": "7kwRxzg70eM3"
   },
   "source": [
    "#### 4.3. Сравнение доли успешных сессий"
   ]
  },
  {
   "cell_type": "code",
   "execution_count": 28,
   "metadata": {
    "id": "Uku-V1CpPRCz"
   },
   "outputs": [
    {
     "name": "stdout",
     "output_type": "stream",
     "text": [
      "Доля успешных сессий для группы A: 0.3077\n"
     ]
    }
   ],
   "source": [
    "# Рассчитываем долю успешных сессий для группы A\n",
    "total_sessions_a = len(test_group_a)\n",
    "successful_sessions_a = test_group_a['good_session'].sum()\n",
    "success_rate_a = successful_sessions_a / total_sessions_a\n",
    "\n",
    "print(f\"Доля успешных сессий для группы A: {success_rate_a:.4f}\")"
   ]
  },
  {
   "cell_type": "code",
   "execution_count": 29,
   "metadata": {},
   "outputs": [
    {
     "name": "stdout",
     "output_type": "stream",
     "text": [
      "Доля успешных сессий для группы B: 0.3183\n"
     ]
    }
   ],
   "source": [
    "# Рассчитываем долю успешных сессий для группы B\n",
    "total_sessions_b = len(test_group_b)\n",
    "successful_sessions_b = test_group_b['good_session'].sum()\n",
    "success_rate_b = successful_sessions_b / total_sessions_b\n",
    "\n",
    "print(f\"Доля успешных сессий для группы B: {success_rate_b:.4f}\")"
   ]
  },
  {
   "cell_type": "code",
   "execution_count": 30,
   "metadata": {},
   "outputs": [
    {
     "name": "stdout",
     "output_type": "stream",
     "text": [
      "Разница в доле успешных сессий: 0.0106\n"
     ]
    }
   ],
   "source": [
    "# Рассчитываем разницу в доле успешных сессий\n",
    "difference = success_rate_b - success_rate_a\n",
    "\n",
    "print(f\"Разница в доле успешных сессий: {difference:.4f}\")"
   ]
  },
  {
   "cell_type": "markdown",
   "metadata": {
    "id": "9fMFuja10eM4"
   },
   "source": [
    "#### 4.4. Насколько статистически значимо изменение ключевой метрики\n",
    "- Рассчитать, является ли изменение в метрике доли успешных сессий статистически значимым."
   ]
  },
  {
   "cell_type": "code",
   "execution_count": 31,
   "metadata": {
    "id": "gFvhRGwlPLS0"
   },
   "outputs": [
    {
     "name": "stdout",
     "output_type": "stream",
     "text": [
      "p_value=0.0003149479976072246\n",
      "Изменение в метрике доли успешных сессий является статистически значимым (принимаем нулевую гипотезу)\n"
     ]
    }
   ],
   "source": [
    "# Рассчитываем статистическую значимость с помощью статистического теста\n",
    "successes_ses = [test_group_a['good_session'].sum(), test_group_b['good_session'].sum()]\n",
    "count_ses = [len(test_group_a), len(test_group_b)]\n",
    "\n",
    "z_stat, p_value = proportions_ztest(successes_ses, count_ses)\n",
    "\n",
    "print(f'p_value={p_value}')\n",
    "\n",
    "if p_value < 0.05:\n",
    "    print('Изменение в метрике доли успешных сессий является статистически значимым (принимаем нулевую гипотезу)')\n",
    "else:\n",
    "    print('Изменение в метрике доли успешных сессий не является статистически значимым (отклоняем нулевую гипотезу)')"
   ]
  },
  {
   "cell_type": "markdown",
   "metadata": {
    "id": "GnJrkY9Q63zS"
   },
   "source": [
    "#### 4.5. Вывод по результатам A/B-эксперимента"
   ]
  },
  {
   "cell_type": "markdown",
   "metadata": {},
   "source": [
    "**Вывод:** \n",
    "1. Во время A/B-эксперимента задействованы 1477 пользователей в группе А и 1466 пользователей в группе В. Эксперимент длился 1 день. В эксперменте были задействованы пользователей из 3-х регионов и, также, учитывались 4 вида устройств.\n",
    "2. Исходя из расчетов, можем сделать вывод, что введение новых алгоритмов не повлияло на активность пользователей. Доля активности увеличилась на 1%, что, исходя из расчета p-value не явлется значимым результатом. Следовательно, принимаем нулевую гипотезу.\n",
    "3. По результатам расчетов p_value=0.0003149479976072289.\n",
    "4. Нововведение не стоит внедрять."
   ]
  }
 ],
 "metadata": {
  "ExecuteTimeLog": [
   {
    "duration": 482,
    "start_time": "2025-08-25T05:43:26.146Z"
   },
   {
    "duration": 93,
    "start_time": "2025-08-25T05:44:51.188Z"
   },
   {
    "duration": 71,
    "start_time": "2025-08-25T05:45:57.934Z"
   },
   {
    "duration": 10,
    "start_time": "2025-08-25T05:47:05.703Z"
   },
   {
    "duration": 9,
    "start_time": "2025-08-25T05:48:47.411Z"
   },
   {
    "duration": 148,
    "start_time": "2025-08-25T05:49:25.558Z"
   },
   {
    "duration": 9,
    "start_time": "2025-08-25T05:49:53.359Z"
   },
   {
    "duration": 8,
    "start_time": "2025-08-25T05:54:49.528Z"
   },
   {
    "duration": 9,
    "start_time": "2025-08-25T05:54:56.883Z"
   },
   {
    "duration": 9,
    "start_time": "2025-08-25T05:55:14.031Z"
   },
   {
    "duration": 11,
    "start_time": "2025-08-25T05:57:02.473Z"
   },
   {
    "duration": 1398,
    "start_time": "2025-08-25T05:57:17.898Z"
   },
   {
    "duration": 500,
    "start_time": "2025-08-25T05:57:28.777Z"
   },
   {
    "duration": 1364,
    "start_time": "2025-08-25T05:57:30.772Z"
   },
   {
    "duration": 19,
    "start_time": "2025-08-25T05:58:01.443Z"
   },
   {
    "duration": 710,
    "start_time": "2025-08-25T06:00:44.808Z"
   },
   {
    "duration": 709,
    "start_time": "2025-08-25T06:01:25.276Z"
   },
   {
    "duration": 4,
    "start_time": "2025-08-25T06:04:52.248Z"
   },
   {
    "duration": 46,
    "start_time": "2025-08-25T06:05:46.058Z"
   },
   {
    "duration": 46,
    "start_time": "2025-08-25T06:09:52.772Z"
   },
   {
    "duration": 537,
    "start_time": "2025-08-25T06:12:35.334Z"
   },
   {
    "duration": 73,
    "start_time": "2025-08-25T06:28:40.114Z"
   },
   {
    "duration": 228,
    "start_time": "2025-08-25T06:36:39.732Z"
   },
   {
    "duration": 83,
    "start_time": "2025-08-25T06:40:14.688Z"
   },
   {
    "duration": 253,
    "start_time": "2025-08-25T06:40:28.803Z"
   },
   {
    "duration": 533,
    "start_time": "2025-08-25T06:52:46.056Z"
   },
   {
    "duration": 2004,
    "start_time": "2025-08-25T06:53:00.168Z"
   },
   {
    "duration": 582,
    "start_time": "2025-08-25T06:53:46.810Z"
   },
   {
    "duration": 238,
    "start_time": "2025-08-25T06:58:54.627Z"
   },
   {
    "duration": 592,
    "start_time": "2025-08-25T06:59:39.351Z"
   },
   {
    "duration": 566,
    "start_time": "2025-08-25T07:01:19.134Z"
   },
   {
    "duration": 558,
    "start_time": "2025-08-25T07:01:33.211Z"
   },
   {
    "duration": 551,
    "start_time": "2025-08-25T07:01:39.603Z"
   },
   {
    "duration": 599,
    "start_time": "2025-08-25T07:02:45.951Z"
   },
   {
    "duration": 4,
    "start_time": "2025-08-25T07:10:22.422Z"
   },
   {
    "duration": 4,
    "start_time": "2025-08-25T07:12:52.382Z"
   },
   {
    "duration": 599,
    "start_time": "2025-08-25T07:15:21.200Z"
   },
   {
    "duration": 3,
    "start_time": "2025-08-25T07:23:27.620Z"
   },
   {
    "duration": 41,
    "start_time": "2025-08-25T07:23:58.631Z"
   },
   {
    "duration": 35,
    "start_time": "2025-08-25T07:24:25.131Z"
   },
   {
    "duration": 58,
    "start_time": "2025-08-25T07:26:15.723Z"
   },
   {
    "duration": 37,
    "start_time": "2025-08-25T07:26:22.361Z"
   },
   {
    "duration": 39,
    "start_time": "2025-08-25T07:26:49.536Z"
   },
   {
    "duration": 214,
    "start_time": "2025-08-25T07:30:53.636Z"
   },
   {
    "duration": 17,
    "start_time": "2025-08-25T07:56:43.262Z"
   },
   {
    "duration": 556,
    "start_time": "2025-08-25T08:06:07.958Z"
   },
   {
    "duration": 89,
    "start_time": "2025-08-26T05:45:39.521Z"
   },
   {
    "duration": 1006,
    "start_time": "2025-08-26T06:03:21.050Z"
   },
   {
    "duration": 381,
    "start_time": "2025-08-26T06:04:02.900Z"
   },
   {
    "duration": 1070,
    "start_time": "2025-08-26T06:04:03.493Z"
   },
   {
    "duration": 16,
    "start_time": "2025-08-26T06:04:04.565Z"
   },
   {
    "duration": 605,
    "start_time": "2025-08-26T06:04:06.871Z"
   },
   {
    "duration": 40,
    "start_time": "2025-08-26T06:04:07.478Z"
   },
   {
    "duration": 449,
    "start_time": "2025-08-26T06:04:08.285Z"
   },
   {
    "duration": 235,
    "start_time": "2025-08-26T06:04:08.737Z"
   },
   {
    "duration": 527,
    "start_time": "2025-08-26T06:04:09.240Z"
   },
   {
    "duration": 4,
    "start_time": "2025-08-26T06:04:10.170Z"
   },
   {
    "duration": 545,
    "start_time": "2025-08-26T06:04:10.767Z"
   },
   {
    "duration": 58,
    "start_time": "2025-08-26T06:04:12.217Z"
   },
   {
    "duration": 236,
    "start_time": "2025-08-26T06:04:12.824Z"
   },
   {
    "duration": 13,
    "start_time": "2025-08-26T06:04:13.988Z"
   },
   {
    "duration": 514,
    "start_time": "2025-08-26T06:04:14.523Z"
   },
   {
    "duration": 527,
    "start_time": "2025-08-26T06:04:19.868Z"
   },
   {
    "duration": 14,
    "start_time": "2025-08-26T06:07:07.200Z"
   },
   {
    "duration": 174,
    "start_time": "2025-08-26T06:15:31.690Z"
   },
   {
    "duration": 32,
    "start_time": "2025-08-26T06:18:59.004Z"
   },
   {
    "duration": 33,
    "start_time": "2025-08-26T06:19:46.982Z"
   },
   {
    "duration": 10,
    "start_time": "2025-08-26T06:22:20.545Z"
   },
   {
    "duration": 7,
    "start_time": "2025-08-26T06:26:05.381Z"
   },
   {
    "duration": 4,
    "start_time": "2025-08-26T06:55:14.782Z"
   },
   {
    "duration": 3,
    "start_time": "2025-08-26T06:56:05.534Z"
   },
   {
    "duration": 10,
    "start_time": "2025-08-26T06:57:13.322Z"
   },
   {
    "duration": 16,
    "start_time": "2025-08-26T06:59:17.886Z"
   },
   {
    "duration": 3,
    "start_time": "2025-08-26T06:59:30.955Z"
   },
   {
    "duration": 10,
    "start_time": "2025-08-26T06:59:40.619Z"
   },
   {
    "duration": 10,
    "start_time": "2025-08-26T07:00:09.396Z"
   },
   {
    "duration": 10,
    "start_time": "2025-08-26T07:03:27.896Z"
   },
   {
    "duration": 10,
    "start_time": "2025-08-26T07:04:04.106Z"
   },
   {
    "duration": 10,
    "start_time": "2025-08-26T07:04:36.151Z"
   },
   {
    "duration": 393,
    "start_time": "2025-08-26T07:06:11.298Z"
   },
   {
    "duration": 1120,
    "start_time": "2025-08-26T07:06:12.280Z"
   },
   {
    "duration": 18,
    "start_time": "2025-08-26T07:06:13.402Z"
   },
   {
    "duration": 621,
    "start_time": "2025-08-26T07:06:16.510Z"
   },
   {
    "duration": 49,
    "start_time": "2025-08-26T07:06:17.133Z"
   },
   {
    "duration": 269,
    "start_time": "2025-08-26T07:06:18.121Z"
   },
   {
    "duration": 220,
    "start_time": "2025-08-26T07:06:19.018Z"
   },
   {
    "duration": 546,
    "start_time": "2025-08-26T07:06:19.847Z"
   },
   {
    "duration": 4,
    "start_time": "2025-08-26T07:06:20.644Z"
   },
   {
    "duration": 545,
    "start_time": "2025-08-26T07:06:21.855Z"
   },
   {
    "duration": 30,
    "start_time": "2025-08-26T07:06:25.089Z"
   },
   {
    "duration": 179,
    "start_time": "2025-08-26T07:06:26.940Z"
   },
   {
    "duration": 14,
    "start_time": "2025-08-26T07:06:29.388Z"
   },
   {
    "duration": 544,
    "start_time": "2025-08-26T07:06:29.955Z"
   },
   {
    "duration": 423,
    "start_time": "2025-08-26T07:06:37.592Z"
   },
   {
    "duration": 166,
    "start_time": "2025-08-26T07:06:39.244Z"
   },
   {
    "duration": 35,
    "start_time": "2025-08-26T07:06:43.764Z"
   },
   {
    "duration": 7,
    "start_time": "2025-08-26T07:06:47.456Z"
   },
   {
    "duration": 5,
    "start_time": "2025-08-26T07:06:48.086Z"
   },
   {
    "duration": 95,
    "start_time": "2025-08-26T07:06:48.827Z"
   },
   {
    "duration": 74,
    "start_time": "2025-08-26T07:09:19.356Z"
   },
   {
    "duration": 81,
    "start_time": "2025-08-26T07:09:37.832Z"
   },
   {
    "duration": 7,
    "start_time": "2025-08-26T07:11:47.924Z"
   },
   {
    "duration": 7,
    "start_time": "2025-08-26T07:12:00.758Z"
   },
   {
    "duration": 8,
    "start_time": "2025-08-26T07:12:07.714Z"
   },
   {
    "duration": 7,
    "start_time": "2025-08-26T07:12:29.220Z"
   },
   {
    "duration": 9,
    "start_time": "2025-08-26T07:13:06.737Z"
   },
   {
    "duration": 1437,
    "start_time": "2025-08-26T07:15:00.596Z"
   },
   {
    "duration": 340,
    "start_time": "2025-08-26T07:17:33.138Z"
   },
   {
    "duration": 257,
    "start_time": "2025-08-26T07:19:02.139Z"
   },
   {
    "duration": 159,
    "start_time": "2025-08-26T07:24:56.186Z"
   },
   {
    "duration": 161,
    "start_time": "2025-08-26T07:25:55.023Z"
   },
   {
    "duration": 154,
    "start_time": "2025-08-26T07:28:44.335Z"
   },
   {
    "duration": 154,
    "start_time": "2025-08-26T07:29:55.270Z"
   },
   {
    "duration": 173,
    "start_time": "2025-08-26T07:30:09.474Z"
   },
   {
    "duration": 176,
    "start_time": "2025-08-26T07:31:15.747Z"
   },
   {
    "duration": 188,
    "start_time": "2025-08-26T07:31:29.667Z"
   },
   {
    "duration": 133,
    "start_time": "2025-08-26T07:47:47.887Z"
   },
   {
    "duration": 265,
    "start_time": "2025-08-26T07:53:07.643Z"
   },
   {
    "duration": 247,
    "start_time": "2025-08-26T07:53:44.337Z"
   },
   {
    "duration": 256,
    "start_time": "2025-08-26T07:55:45.372Z"
   },
   {
    "duration": 17,
    "start_time": "2025-08-26T07:56:17.132Z"
   },
   {
    "duration": 68,
    "start_time": "2025-08-26T08:05:48.707Z"
   },
   {
    "duration": 5,
    "start_time": "2025-08-26T08:11:10.864Z"
   },
   {
    "duration": 5,
    "start_time": "2025-08-26T08:11:23.236Z"
   },
   {
    "duration": 7,
    "start_time": "2025-08-26T08:12:26.117Z"
   },
   {
    "duration": 5,
    "start_time": "2025-08-26T08:18:02.003Z"
   },
   {
    "duration": 4,
    "start_time": "2025-08-26T08:18:29.264Z"
   },
   {
    "duration": 3,
    "start_time": "2025-08-26T08:19:11.692Z"
   },
   {
    "duration": 3,
    "start_time": "2025-08-26T08:19:23.891Z"
   },
   {
    "duration": 8,
    "start_time": "2025-08-26T08:29:17.859Z"
   },
   {
    "duration": 6,
    "start_time": "2025-08-26T08:29:47.863Z"
   },
   {
    "duration": 4,
    "start_time": "2025-08-26T08:30:06.232Z"
   },
   {
    "duration": 154,
    "start_time": "2025-08-26T08:31:17.361Z"
   },
   {
    "duration": 4,
    "start_time": "2025-08-26T08:31:24.843Z"
   },
   {
    "duration": 7,
    "start_time": "2025-08-26T08:31:52.329Z"
   },
   {
    "duration": 7,
    "start_time": "2025-08-26T08:32:13.162Z"
   },
   {
    "duration": 6,
    "start_time": "2025-08-26T08:34:59.591Z"
   },
   {
    "duration": 6,
    "start_time": "2025-08-26T08:35:09.248Z"
   },
   {
    "duration": 6,
    "start_time": "2025-08-26T08:44:14.701Z"
   },
   {
    "duration": 421,
    "start_time": "2025-08-26T11:04:29.475Z"
   },
   {
    "duration": 1187,
    "start_time": "2025-08-26T11:04:29.897Z"
   },
   {
    "duration": 25,
    "start_time": "2025-08-26T11:04:31.086Z"
   },
   {
    "duration": 1062,
    "start_time": "2025-08-26T11:04:31.112Z"
   },
   {
    "duration": 99,
    "start_time": "2025-08-26T11:04:32.176Z"
   },
   {
    "duration": 834,
    "start_time": "2025-08-26T11:04:32.277Z"
   },
   {
    "duration": 230,
    "start_time": "2025-08-26T11:04:33.113Z"
   },
   {
    "duration": 590,
    "start_time": "2025-08-26T11:04:33.345Z"
   },
   {
    "duration": 5,
    "start_time": "2025-08-26T11:04:33.936Z"
   },
   {
    "duration": 573,
    "start_time": "2025-08-26T11:04:33.943Z"
   },
   {
    "duration": 57,
    "start_time": "2025-08-26T11:04:34.518Z"
   },
   {
    "duration": 248,
    "start_time": "2025-08-26T11:04:34.577Z"
   },
   {
    "duration": 27,
    "start_time": "2025-08-26T11:04:34.827Z"
   },
   {
    "duration": 545,
    "start_time": "2025-08-26T11:04:34.858Z"
   },
   {
    "duration": 412,
    "start_time": "2025-08-26T11:04:35.405Z"
   },
   {
    "duration": 177,
    "start_time": "2025-08-26T11:04:35.818Z"
   },
   {
    "duration": 36,
    "start_time": "2025-08-26T11:04:35.997Z"
   },
   {
    "duration": 7,
    "start_time": "2025-08-26T11:04:36.034Z"
   },
   {
    "duration": 24,
    "start_time": "2025-08-26T11:04:36.054Z"
   },
   {
    "duration": 146,
    "start_time": "2025-08-26T11:04:36.080Z"
   },
   {
    "duration": 8,
    "start_time": "2025-08-26T11:04:36.228Z"
   },
   {
    "duration": 246,
    "start_time": "2025-08-26T11:04:36.238Z"
   },
   {
    "duration": 428,
    "start_time": "2025-08-26T11:04:36.487Z"
   },
   {
    "duration": 0,
    "start_time": "2025-08-26T11:04:36.917Z"
   },
   {
    "duration": 0,
    "start_time": "2025-08-26T11:04:36.919Z"
   },
   {
    "duration": 0,
    "start_time": "2025-08-26T11:04:36.920Z"
   },
   {
    "duration": 0,
    "start_time": "2025-08-26T11:04:36.921Z"
   },
   {
    "duration": 0,
    "start_time": "2025-08-26T11:04:36.922Z"
   },
   {
    "duration": 0,
    "start_time": "2025-08-26T11:04:36.924Z"
   },
   {
    "duration": 0,
    "start_time": "2025-08-26T11:04:36.925Z"
   },
   {
    "duration": 0,
    "start_time": "2025-08-26T11:04:36.926Z"
   },
   {
    "duration": 566,
    "start_time": "2025-08-26T11:06:58.673Z"
   },
   {
    "duration": 613,
    "start_time": "2025-08-26T11:07:06.247Z"
   },
   {
    "duration": 535,
    "start_time": "2025-08-26T11:07:13.783Z"
   },
   {
    "duration": 570,
    "start_time": "2025-08-26T11:07:28.766Z"
   },
   {
    "duration": 17,
    "start_time": "2025-08-26T11:12:54.228Z"
   },
   {
    "duration": 15,
    "start_time": "2025-08-26T11:13:06.776Z"
   },
   {
    "duration": 18,
    "start_time": "2025-08-26T11:13:13.188Z"
   },
   {
    "duration": 199,
    "start_time": "2025-08-26T11:13:15.542Z"
   },
   {
    "duration": 178,
    "start_time": "2025-08-26T11:14:13.529Z"
   },
   {
    "duration": 16,
    "start_time": "2025-08-26T11:14:16.122Z"
   },
   {
    "duration": 182,
    "start_time": "2025-08-26T11:14:17.509Z"
   },
   {
    "duration": 1115,
    "start_time": "2025-08-26T17:15:55.241Z"
   },
   {
    "duration": 1191,
    "start_time": "2025-08-26T17:17:48.503Z"
   },
   {
    "duration": 17,
    "start_time": "2025-08-26T17:17:52.267Z"
   },
   {
    "duration": 651,
    "start_time": "2025-08-26T17:17:59.132Z"
   },
   {
    "duration": 46,
    "start_time": "2025-08-26T17:18:05.365Z"
   },
   {
    "duration": 249,
    "start_time": "2025-08-26T17:18:42.908Z"
   },
   {
    "duration": 602,
    "start_time": "2025-08-26T17:18:50.172Z"
   },
   {
    "duration": 4,
    "start_time": "2025-08-26T17:18:55.230Z"
   },
   {
    "duration": 596,
    "start_time": "2025-08-26T17:18:59.756Z"
   },
   {
    "duration": 3,
    "start_time": "2025-08-26T17:23:03.959Z"
   },
   {
    "duration": 675,
    "start_time": "2025-08-26T17:23:11.691Z"
   },
   {
    "duration": 1247,
    "start_time": "2025-08-26T17:23:14.944Z"
   },
   {
    "duration": 17,
    "start_time": "2025-08-26T17:23:16.193Z"
   },
   {
    "duration": 645,
    "start_time": "2025-08-26T17:23:18.691Z"
   },
   {
    "duration": 43,
    "start_time": "2025-08-26T17:23:22.421Z"
   },
   {
    "duration": 256,
    "start_time": "2025-08-26T17:23:32.987Z"
   },
   {
    "duration": 595,
    "start_time": "2025-08-26T17:23:38.331Z"
   },
   {
    "duration": 4,
    "start_time": "2025-08-26T17:23:45.522Z"
   },
   {
    "duration": 803,
    "start_time": "2025-08-26T17:28:08.287Z"
   },
   {
    "duration": 826,
    "start_time": "2025-08-26T17:28:38.234Z"
   },
   {
    "duration": 36,
    "start_time": "2025-08-26T17:33:18.872Z"
   },
   {
    "duration": 191,
    "start_time": "2025-08-26T17:33:21.584Z"
   },
   {
    "duration": 17,
    "start_time": "2025-08-26T17:34:39.777Z"
   },
   {
    "duration": 580,
    "start_time": "2025-08-26T17:34:45.837Z"
   },
   {
    "duration": 559,
    "start_time": "2025-08-26T17:35:18.715Z"
   },
   {
    "duration": 575,
    "start_time": "2025-08-26T17:35:27.751Z"
   },
   {
    "duration": 570,
    "start_time": "2025-08-26T17:39:40.361Z"
   },
   {
    "duration": 559,
    "start_time": "2025-08-26T17:41:38.216Z"
   },
   {
    "duration": 69,
    "start_time": "2025-08-26T17:43:47.975Z"
   },
   {
    "duration": 545,
    "start_time": "2025-08-26T17:44:17.807Z"
   },
   {
    "duration": 660,
    "start_time": "2025-08-26T17:44:53.157Z"
   },
   {
    "duration": 613,
    "start_time": "2025-08-26T17:45:38.000Z"
   },
   {
    "duration": 500,
    "start_time": "2025-08-26T17:57:31.570Z"
   },
   {
    "duration": 193,
    "start_time": "2025-08-26T17:59:43.964Z"
   },
   {
    "duration": 109,
    "start_time": "2025-08-26T18:00:29.243Z"
   },
   {
    "duration": 46,
    "start_time": "2025-08-26T18:00:39.073Z"
   },
   {
    "duration": 10,
    "start_time": "2025-08-26T18:00:41.286Z"
   },
   {
    "duration": 6,
    "start_time": "2025-08-26T18:00:45.569Z"
   },
   {
    "duration": 92,
    "start_time": "2025-08-26T18:00:48.782Z"
   },
   {
    "duration": 12,
    "start_time": "2025-08-26T18:05:52.565Z"
   },
   {
    "duration": 211,
    "start_time": "2025-08-26T18:05:54.892Z"
   },
   {
    "duration": 280,
    "start_time": "2025-08-26T18:10:13.098Z"
   },
   {
    "duration": 218,
    "start_time": "2025-08-26T18:12:05.554Z"
   },
   {
    "duration": 227,
    "start_time": "2025-08-26T18:12:23.109Z"
   },
   {
    "duration": 238,
    "start_time": "2025-08-26T18:12:40.604Z"
   },
   {
    "duration": 179,
    "start_time": "2025-08-26T18:13:04.221Z"
   },
   {
    "duration": 178,
    "start_time": "2025-08-26T18:13:48.821Z"
   },
   {
    "duration": 299,
    "start_time": "2025-08-26T18:15:27.161Z"
   },
   {
    "duration": 20,
    "start_time": "2025-08-26T18:15:30.592Z"
   },
   {
    "duration": 74,
    "start_time": "2025-08-26T18:15:40.480Z"
   },
   {
    "duration": 5,
    "start_time": "2025-08-26T18:15:43.937Z"
   },
   {
    "duration": 1229,
    "start_time": "2025-08-26T18:16:18.626Z"
   },
   {
    "duration": 1220,
    "start_time": "2025-08-26T18:16:20.034Z"
   },
   {
    "duration": 17,
    "start_time": "2025-08-26T18:16:21.256Z"
   },
   {
    "duration": 637,
    "start_time": "2025-08-26T18:16:22.410Z"
   },
   {
    "duration": 43,
    "start_time": "2025-08-26T18:16:23.049Z"
   },
   {
    "duration": 225,
    "start_time": "2025-08-26T18:16:24.663Z"
   },
   {
    "duration": 591,
    "start_time": "2025-08-26T18:16:25.566Z"
   },
   {
    "duration": 4,
    "start_time": "2025-08-26T18:16:26.196Z"
   },
   {
    "duration": 781,
    "start_time": "2025-08-26T18:16:27.070Z"
   },
   {
    "duration": 35,
    "start_time": "2025-08-26T18:16:29.743Z"
   },
   {
    "duration": 204,
    "start_time": "2025-08-26T18:16:31.624Z"
   },
   {
    "duration": 16,
    "start_time": "2025-08-26T18:16:33.537Z"
   },
   {
    "duration": 44,
    "start_time": "2025-08-26T18:16:34.137Z"
   },
   {
    "duration": 579,
    "start_time": "2025-08-26T18:16:34.921Z"
   },
   {
    "duration": 25,
    "start_time": "2025-08-26T18:16:41.543Z"
   },
   {
    "duration": 183,
    "start_time": "2025-08-26T18:16:44.370Z"
   },
   {
    "duration": 4,
    "start_time": "2025-08-26T18:17:12.709Z"
   },
   {
    "duration": 1206,
    "start_time": "2025-08-26T18:17:28.282Z"
   },
   {
    "duration": 1233,
    "start_time": "2025-08-26T18:17:31.628Z"
   },
   {
    "duration": 17,
    "start_time": "2025-08-26T18:17:32.863Z"
   },
   {
    "duration": 685,
    "start_time": "2025-08-26T18:17:35.516Z"
   },
   {
    "duration": 44,
    "start_time": "2025-08-26T18:17:36.918Z"
   },
   {
    "duration": 254,
    "start_time": "2025-08-26T18:17:40.034Z"
   },
   {
    "duration": 586,
    "start_time": "2025-08-26T18:17:41.034Z"
   },
   {
    "duration": 5,
    "start_time": "2025-08-26T18:17:44.625Z"
   },
   {
    "duration": 782,
    "start_time": "2025-08-26T18:17:45.319Z"
   },
   {
    "duration": 44,
    "start_time": "2025-08-26T18:17:52.017Z"
   },
   {
    "duration": 190,
    "start_time": "2025-08-26T18:17:53.369Z"
   },
   {
    "duration": 23,
    "start_time": "2025-08-26T18:17:57.345Z"
   },
   {
    "duration": 48,
    "start_time": "2025-08-26T18:17:59.110Z"
   },
   {
    "duration": 616,
    "start_time": "2025-08-26T18:18:01.640Z"
   },
   {
    "duration": 24,
    "start_time": "2025-08-26T18:18:14.471Z"
   },
   {
    "duration": 209,
    "start_time": "2025-08-26T18:18:17.834Z"
   },
   {
    "duration": 37,
    "start_time": "2025-08-26T18:18:22.318Z"
   },
   {
    "duration": 7,
    "start_time": "2025-08-26T18:18:24.562Z"
   },
   {
    "duration": 4,
    "start_time": "2025-08-26T18:18:25.087Z"
   },
   {
    "duration": 88,
    "start_time": "2025-08-26T18:18:25.710Z"
   },
   {
    "duration": 9,
    "start_time": "2025-08-26T18:18:29.002Z"
   },
   {
    "duration": 216,
    "start_time": "2025-08-26T18:18:31.820Z"
   },
   {
    "duration": 183,
    "start_time": "2025-08-26T18:18:41.310Z"
   },
   {
    "duration": 309,
    "start_time": "2025-08-26T18:18:48.384Z"
   },
   {
    "duration": 21,
    "start_time": "2025-08-26T18:18:51.564Z"
   },
   {
    "duration": 75,
    "start_time": "2025-08-26T18:18:58.431Z"
   },
   {
    "duration": 6,
    "start_time": "2025-08-26T18:19:12.973Z"
   },
   {
    "duration": 5,
    "start_time": "2025-08-26T18:19:27.319Z"
   },
   {
    "duration": 5,
    "start_time": "2025-08-26T18:19:33.056Z"
   },
   {
    "duration": 4,
    "start_time": "2025-08-26T18:19:35.987Z"
   },
   {
    "duration": 91,
    "start_time": "2025-08-26T18:19:39.541Z"
   },
   {
    "duration": 5,
    "start_time": "2025-08-26T18:20:40.272Z"
   },
   {
    "duration": 5,
    "start_time": "2025-08-26T18:20:53.637Z"
   },
   {
    "duration": 4,
    "start_time": "2025-08-26T18:20:54.025Z"
   },
   {
    "duration": 3,
    "start_time": "2025-08-26T18:20:54.450Z"
   },
   {
    "duration": 7,
    "start_time": "2025-08-26T18:21:26.088Z"
   },
   {
    "duration": 1064,
    "start_time": "2025-08-26T19:37:07.609Z"
   },
   {
    "duration": 1061,
    "start_time": "2025-08-26T19:37:08.675Z"
   },
   {
    "duration": 18,
    "start_time": "2025-08-26T19:37:09.738Z"
   },
   {
    "duration": 555,
    "start_time": "2025-08-26T19:37:09.758Z"
   },
   {
    "duration": 46,
    "start_time": "2025-08-26T19:37:10.315Z"
   },
   {
    "duration": 216,
    "start_time": "2025-08-26T19:37:10.363Z"
   },
   {
    "duration": 574,
    "start_time": "2025-08-26T19:37:10.580Z"
   },
   {
    "duration": 4,
    "start_time": "2025-08-26T19:37:11.155Z"
   },
   {
    "duration": 1404,
    "start_time": "2025-08-26T19:37:11.160Z"
   },
   {
    "duration": 89,
    "start_time": "2025-08-26T19:37:12.565Z"
   },
   {
    "duration": 198,
    "start_time": "2025-08-26T19:37:12.656Z"
   },
   {
    "duration": 14,
    "start_time": "2025-08-26T19:37:12.856Z"
   },
   {
    "duration": 65,
    "start_time": "2025-08-26T19:37:12.872Z"
   },
   {
    "duration": 538,
    "start_time": "2025-08-26T19:37:12.941Z"
   },
   {
    "duration": 21,
    "start_time": "2025-08-26T19:37:13.481Z"
   },
   {
    "duration": 206,
    "start_time": "2025-08-26T19:37:13.504Z"
   },
   {
    "duration": 32,
    "start_time": "2025-08-26T19:37:13.712Z"
   },
   {
    "duration": 9,
    "start_time": "2025-08-26T19:37:13.746Z"
   },
   {
    "duration": 50,
    "start_time": "2025-08-26T19:37:13.756Z"
   },
   {
    "duration": 87,
    "start_time": "2025-08-26T19:37:13.808Z"
   },
   {
    "duration": 9,
    "start_time": "2025-08-26T19:37:13.897Z"
   },
   {
    "duration": 203,
    "start_time": "2025-08-26T19:37:13.908Z"
   },
   {
    "duration": 171,
    "start_time": "2025-08-26T19:37:14.112Z"
   },
   {
    "duration": 259,
    "start_time": "2025-08-26T19:37:14.285Z"
   },
   {
    "duration": 22,
    "start_time": "2025-08-26T19:37:14.545Z"
   },
   {
    "duration": 64,
    "start_time": "2025-08-26T19:37:14.568Z"
   },
   {
    "duration": 21,
    "start_time": "2025-08-26T19:37:14.634Z"
   },
   {
    "duration": 23,
    "start_time": "2025-08-26T19:37:14.656Z"
   },
   {
    "duration": 7,
    "start_time": "2025-08-26T19:37:14.681Z"
   },
   {
    "duration": 6,
    "start_time": "2025-08-26T19:37:14.689Z"
   },
   {
    "duration": 69,
    "start_time": "2025-08-26T19:37:14.697Z"
   },
   {
    "duration": 1330,
    "start_time": "2025-08-28T07:51:24.347Z"
   },
   {
    "duration": 13,
    "start_time": "2025-08-28T07:52:12.649Z"
   },
   {
    "duration": 1085,
    "start_time": "2025-08-28T07:52:28.708Z"
   },
   {
    "duration": 23,
    "start_time": "2025-08-28T07:52:30.423Z"
   },
   {
    "duration": 603,
    "start_time": "2025-08-28T07:52:39.067Z"
   },
   {
    "duration": 40,
    "start_time": "2025-08-28T07:52:42.266Z"
   },
   {
    "duration": 212,
    "start_time": "2025-08-28T07:52:47.456Z"
   },
   {
    "duration": 556,
    "start_time": "2025-08-28T07:52:49.188Z"
   },
   {
    "duration": 5,
    "start_time": "2025-08-28T07:52:53.718Z"
   },
   {
    "duration": 769,
    "start_time": "2025-08-28T07:52:55.064Z"
   },
   {
    "duration": 36,
    "start_time": "2025-08-28T07:53:12.197Z"
   },
   {
    "duration": 174,
    "start_time": "2025-08-28T07:53:13.360Z"
   },
   {
    "duration": 16,
    "start_time": "2025-08-28T07:53:54.809Z"
   },
   {
    "duration": 39,
    "start_time": "2025-08-28T07:53:56.185Z"
   },
   {
    "duration": 538,
    "start_time": "2025-08-28T07:53:57.293Z"
   },
   {
    "duration": 17,
    "start_time": "2025-08-28T07:54:54.974Z"
   },
   {
    "duration": 176,
    "start_time": "2025-08-28T07:55:07.383Z"
   },
   {
    "duration": 45,
    "start_time": "2025-08-28T07:55:21.428Z"
   },
   {
    "duration": 7,
    "start_time": "2025-08-28T07:55:26.029Z"
   },
   {
    "duration": 4,
    "start_time": "2025-08-28T07:55:26.873Z"
   },
   {
    "duration": 69,
    "start_time": "2025-08-28T07:55:29.198Z"
   },
   {
    "duration": 8,
    "start_time": "2025-08-28T07:55:51.872Z"
   },
   {
    "duration": 204,
    "start_time": "2025-08-28T07:55:59.539Z"
   },
   {
    "duration": 190,
    "start_time": "2025-08-28T07:56:12.218Z"
   },
   {
    "duration": 278,
    "start_time": "2025-08-28T07:56:47.012Z"
   },
   {
    "duration": 18,
    "start_time": "2025-08-28T07:56:50.753Z"
   },
   {
    "duration": 80,
    "start_time": "2025-08-28T07:56:55.141Z"
   },
   {
    "duration": 7,
    "start_time": "2025-08-28T07:56:59.562Z"
   },
   {
    "duration": 6,
    "start_time": "2025-08-28T07:59:11.798Z"
   },
   {
    "duration": 5,
    "start_time": "2025-08-28T07:59:12.487Z"
   },
   {
    "duration": 4,
    "start_time": "2025-08-28T07:59:15.517Z"
   },
   {
    "duration": 83,
    "start_time": "2025-08-28T08:08:19.287Z"
   },
   {
    "duration": 119,
    "start_time": "2025-08-28T08:13:21.277Z"
   },
   {
    "duration": 3,
    "start_time": "2025-08-28T08:14:42.550Z"
   },
   {
    "duration": 5,
    "start_time": "2025-08-28T08:14:55.659Z"
   },
   {
    "duration": 1158,
    "start_time": "2025-08-28T08:18:09.610Z"
   },
   {
    "duration": 1077,
    "start_time": "2025-08-28T08:18:12.829Z"
   },
   {
    "duration": 15,
    "start_time": "2025-08-28T08:18:14.726Z"
   },
   {
    "duration": 610,
    "start_time": "2025-08-28T08:18:19.494Z"
   },
   {
    "duration": 40,
    "start_time": "2025-08-28T08:18:21.674Z"
   },
   {
    "duration": 217,
    "start_time": "2025-08-28T08:18:27.223Z"
   },
   {
    "duration": 545,
    "start_time": "2025-08-28T08:18:27.893Z"
   },
   {
    "duration": 4,
    "start_time": "2025-08-28T08:18:32.444Z"
   },
   {
    "duration": 729,
    "start_time": "2025-08-28T08:18:34.092Z"
   },
   {
    "duration": 37,
    "start_time": "2025-08-28T08:18:38.902Z"
   },
   {
    "duration": 182,
    "start_time": "2025-08-28T08:18:39.939Z"
   },
   {
    "duration": 14,
    "start_time": "2025-08-28T08:18:43.219Z"
   },
   {
    "duration": 44,
    "start_time": "2025-08-28T08:18:46.166Z"
   },
   {
    "duration": 536,
    "start_time": "2025-08-28T08:18:47.471Z"
   },
   {
    "duration": 25,
    "start_time": "2025-08-28T08:19:02.476Z"
   },
   {
    "duration": 191,
    "start_time": "2025-08-28T08:19:06.237Z"
   },
   {
    "duration": 47,
    "start_time": "2025-08-28T08:19:08.885Z"
   },
   {
    "duration": 8,
    "start_time": "2025-08-28T08:19:09.497Z"
   },
   {
    "duration": 4,
    "start_time": "2025-08-28T08:19:10.316Z"
   },
   {
    "duration": 78,
    "start_time": "2025-08-28T08:19:11.016Z"
   },
   {
    "duration": 10,
    "start_time": "2025-08-28T08:19:14.214Z"
   },
   {
    "duration": 210,
    "start_time": "2025-08-28T08:19:16.372Z"
   },
   {
    "duration": 168,
    "start_time": "2025-08-28T08:19:21.558Z"
   },
   {
    "duration": 265,
    "start_time": "2025-08-28T08:19:29.796Z"
   },
   {
    "duration": 20,
    "start_time": "2025-08-28T08:19:30.463Z"
   },
   {
    "duration": 68,
    "start_time": "2025-08-28T08:19:32.955Z"
   },
   {
    "duration": 7,
    "start_time": "2025-08-28T08:19:35.170Z"
   },
   {
    "duration": 4,
    "start_time": "2025-08-28T08:19:38.104Z"
   },
   {
    "duration": 4,
    "start_time": "2025-08-28T08:19:39.090Z"
   },
   {
    "duration": 3,
    "start_time": "2025-08-28T08:19:39.681Z"
   },
   {
    "duration": 8,
    "start_time": "2025-08-28T08:19:43.268Z"
   },
   {
    "duration": 7,
    "start_time": "2025-08-28T08:21:44.915Z"
   },
   {
    "duration": 1126,
    "start_time": "2025-08-28T17:30:04.406Z"
   },
   {
    "duration": 1053,
    "start_time": "2025-08-28T17:30:05.534Z"
   },
   {
    "duration": 14,
    "start_time": "2025-08-28T17:30:06.589Z"
   },
   {
    "duration": 619,
    "start_time": "2025-08-28T17:30:06.605Z"
   },
   {
    "duration": 47,
    "start_time": "2025-08-28T17:30:07.226Z"
   },
   {
    "duration": 227,
    "start_time": "2025-08-28T17:30:07.275Z"
   },
   {
    "duration": 548,
    "start_time": "2025-08-28T17:30:07.504Z"
   },
   {
    "duration": 4,
    "start_time": "2025-08-28T17:30:08.054Z"
   },
   {
    "duration": 761,
    "start_time": "2025-08-28T17:30:08.060Z"
   },
   {
    "duration": 49,
    "start_time": "2025-08-28T17:30:08.824Z"
   },
   {
    "duration": 179,
    "start_time": "2025-08-28T17:30:08.875Z"
   },
   {
    "duration": 14,
    "start_time": "2025-08-28T17:30:09.055Z"
   },
   {
    "duration": 40,
    "start_time": "2025-08-28T17:30:09.071Z"
   },
   {
    "duration": 520,
    "start_time": "2025-08-28T17:30:09.113Z"
   },
   {
    "duration": 14,
    "start_time": "2025-08-28T17:30:09.649Z"
   },
   {
    "duration": 323,
    "start_time": "2025-08-28T17:30:09.664Z"
   },
   {
    "duration": 78,
    "start_time": "2025-08-28T17:30:09.988Z"
   },
   {
    "duration": 7,
    "start_time": "2025-08-28T17:30:10.068Z"
   },
   {
    "duration": 9,
    "start_time": "2025-08-28T17:30:10.076Z"
   },
   {
    "duration": 179,
    "start_time": "2025-08-28T17:30:10.086Z"
   },
   {
    "duration": 9,
    "start_time": "2025-08-28T17:30:10.267Z"
   },
   {
    "duration": 401,
    "start_time": "2025-08-28T17:30:10.278Z"
   },
   {
    "duration": 373,
    "start_time": "2025-08-28T17:30:10.680Z"
   },
   {
    "duration": 288,
    "start_time": "2025-08-28T17:30:11.054Z"
   },
   {
    "duration": 20,
    "start_time": "2025-08-28T17:30:11.343Z"
   },
   {
    "duration": 117,
    "start_time": "2025-08-28T17:30:11.365Z"
   },
   {
    "duration": 5,
    "start_time": "2025-08-28T17:30:11.484Z"
   },
   {
    "duration": 56,
    "start_time": "2025-08-28T17:30:11.493Z"
   },
   {
    "duration": 4,
    "start_time": "2025-08-28T17:30:11.551Z"
   },
   {
    "duration": 5,
    "start_time": "2025-08-28T17:30:11.557Z"
   },
   {
    "duration": 7,
    "start_time": "2025-08-28T17:30:11.563Z"
   }
  ],
  "colab": {
   "provenance": []
  },
  "kernelspec": {
   "display_name": "Python [conda env:base] *",
   "language": "python",
   "name": "conda-base-py"
  },
  "language_info": {
   "codemirror_mode": {
    "name": "ipython",
    "version": 3
   },
   "file_extension": ".py",
   "mimetype": "text/x-python",
   "name": "python",
   "nbconvert_exporter": "python",
   "pygments_lexer": "ipython3",
   "version": "3.12.7"
  },
  "toc": {
   "base_numbering": 1,
   "nav_menu": {},
   "number_sections": true,
   "sideBar": true,
   "skip_h1_title": true,
   "title_cell": "Table of Contents",
   "title_sidebar": "Contents",
   "toc_cell": false,
   "toc_position": {
    "height": "calc(100% - 180px)",
    "left": "10px",
    "top": "150px",
    "width": "342px"
   },
   "toc_section_display": true,
   "toc_window_display": true
  }
 },
 "nbformat": 4,
 "nbformat_minor": 4
}
