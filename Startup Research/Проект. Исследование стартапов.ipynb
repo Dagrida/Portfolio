{
 "cells": [
  {
   "cell_type": "markdown",
   "metadata": {
    "id": "4mJbK1knrJgz"
   },
   "source": [
    "# Проект: Исследование стартапов"
   ]
  },
  {
   "cell_type": "markdown",
   "metadata": {},
   "source": [
    "- Автор: Дарья Грибкова\n",
    "- Дата: 02.07.2025"
   ]
  },
  {
   "cell_type": "markdown",
   "metadata": {
    "id": "P6j0r3worJg0"
   },
   "source": [
    "## Введение"
   ]
  },
  {
   "cell_type": "markdown",
   "metadata": {
    "id": "8lQtbsIUyFG6"
   },
   "source": [
    "### Цели и задачи\n",
    "\n",
    "**Цель проекта:** исследовательский анализ финансовой компании с целью вхождения на инвестиционный рынок.\n",
    "\n",
    "**Задачи проекта:**\n",
    "1. Загрузить данные и ознакомиться с содержимым.\n",
    "2. Подготовить данные к анализу, провести предобработку.\n",
    "3. Провести исследовательский анализ данных.\n",
    "4. Сформулировать итоговый вывод и дать рекомендации.\n",
    "\n",
    "\n",
    "### Данные\n",
    "\n",
    "Для анализа представлены данные финансовой компании. Данные состоят из следующих датасетов:\n",
    "- `company_and_rounds.csv` - содержит информацию о компаниях и раундах финансирования.\n",
    "- `acquisition.csv` - содержит информацию о покупках одних компаний другими компаниями.\n",
    "- `people.csv` - содержит информацию о сотрудниках.\n",
    "- `education.csv` - содержит информацию об образовании сотрудника.\n",
    "- `degrees.csv` - содержит информацию о типе образования сотрудника.\n",
    "- `fund.csv` - содержит информацию о фондах.\n",
    "- `investment.csv` - содрежит информацию о раундах инвестирования.\n",
    "\n",
    "Описание датасета `company_and_rounds.csv`:\n",
    "- `company ID` — идентификатор компании.\n",
    "- `name` — название компании.\n",
    "- `category code` — категория области деятельности компании.\n",
    "- `status` — статус компании.\n",
    "- `founded at` — дата инвестирования.\n",
    "- `closed at` — дата закрытия компании.\n",
    "- `domain` — официальный сайт компании.\n",
    "- `network username` — ник компании в сети.\n",
    "- `country code` — код страны компании.\n",
    "- `investment rounds` — число инвестиционных раундов.\n",
    "- `funding rounds` — число раундов финансирования.\n",
    "- `funding total` — сумма финансирования.\n",
    "- `milestones` — вехи финансирования.\n",
    "- `funding round id` — идентификатор этапа финансирования.\n",
    "- `company id` — идентификатор компании.\n",
    "- `funded at` — дата финансирования.\n",
    "- `funding round type` — тип финансирования.\n",
    "- `raised amount` — сумма финансирования.\n",
    "- `pre money valuation` — предварительная денежная оценка.\n",
    "- `participants` — число участников.\n",
    "- `is first round` — является ли раунд первым.\n",
    "- `is last round` — является раунд последним.\n",
    "\n",
    "Описание датасета `acquisition.csv`:\n",
    "- `id` — идентификатор покупки.\n",
    "- `acquiring_company_id` — идентификатор покупающей компании.\n",
    "- `acquired_company_id` — идентификатор покупаемой компании.\n",
    "- `term_code` — варианты расчёта.\n",
    "- `price_amount` — сумма сделки.\n",
    "- `acquired_at` — дата сделки.\n",
    "\n",
    "Описание датасета `people.csv`:\n",
    "- `id` — идентификатор сотрудника.\n",
    "- `first_name` — имя сотрудника.\n",
    "- `last_name` — фамилия сотрудника.\n",
    "- `company_id` — идентификатор компании.\n",
    "- `network_username` — ник в социальных сетях.\n",
    "\n",
    "Описание датасета `education.csv`:\n",
    "- `id` — идентификатор записи об образовании.\n",
    "- `person_id` — идентификатор работника.\n",
    "- `instituition` — название учебного заведения.\n",
    "- `graduated_at` — дата получения образования.\n",
    "\n",
    "Описание датасета `degrees.csv`:\n",
    "- `id` — идентификатор записи.\n",
    "- `object_id` — идентификатор сотрудника.\n",
    "- `degree_type` — тип образования.\n",
    "- `subject` — специальность.\n",
    "\n",
    "Описание датасета `fund.csv`:\n",
    "- `id` — идентификатор фонда.\n",
    "- `name` — название фонда.\n",
    "- `category_code` — категория области деятельности компании.\n",
    "- `founded_at` — дата создания фонда.\n",
    "- `domain` — сайт фонда.\n",
    "- `network_username` — ник фонда в сети.\n",
    "- `country_code` — код страны фонда.\n",
    "- `investment_rounds` — число инвестиционных раундов.\n",
    "- `invested_companies` — число профинансированных компаний.\n",
    "- `milestones` — вехи финансирования.\n",
    "\n",
    "Описание датасета `investment.csv`:\n",
    "- `id` — идентификатор этапа инвестирования.\n",
    "- `funding_round_id` — идентификатор раунда инвестирования.\n",
    "- `company_id` — индентификатор компании.\n",
    "- `funding_round_type` — тип финансирования.\n",
    "- `fund_id` — идентификатор фонда.\n",
    "\n",
    "\n",
    "### Структура проекта\n",
    "\n",
    "1. Знакомство с данными: загрузка и первичная предобработка.\n",
    "2. Предобработка данных, предварительное исследование.\n",
    "3. Исследовательский анализ объединнных таблиц.\n",
    "4. Итоговый вывод и рекомендации."
   ]
  },
  {
   "cell_type": "markdown",
   "metadata": {
    "id": "xqr6uttCrJg0"
   },
   "source": [
    "\n",
    "## Шаг 1. Знакомство с данными: загрузка и первичная предобработка\n",
    "\n",
    "### 1.1. Вывод общей информации, исправление названия столбцов\n"
   ]
  },
  {
   "cell_type": "markdown",
   "metadata": {},
   "source": [
    "Для начала работы необходимо загрузить следующие датасеты:\n",
    "- `company_and_rounds.csv`\n",
    "- `acquisition.csv`\n",
    "- `people.csv`\n",
    "- `education.csv`\n",
    "- `degrees.csv`\n",
    "- `fund.csv`\n",
    "- `investment.csv`\n",
    "\n",
    "Также, необходимо подключить следующие библиотеки:\n",
    "- `pandas` и `numpy`  - для работы с данными.\n",
    "- `matplotlib` и `seaborn` - для визуализаций.\n",
    "- `phik` - для выявления корреляции между данными."
   ]
  },
  {
   "cell_type": "code",
   "execution_count": 1,
   "metadata": {
    "id": "2Tm4Pk__Felf"
   },
   "outputs": [],
   "source": [
    "# Подключим все необходимые для исследования библиотеки\n",
    "import pandas as pd\n",
    "import numpy as nmp\n",
    "import matplotlib.pyplot as mpl\n",
    "import seaborn as sb"
   ]
  },
  {
   "cell_type": "code",
   "execution_count": 2,
   "metadata": {
    "id": "oNqJ2qpRFebv"
   },
   "outputs": [],
   "source": [
    "# Загрузим необходимые для исследования датасеты\n",
    "PATH = \"https://code.s3.yandex.net/datasets/\"\n",
    "company_and_rounds_df = pd.read_csv(PATH + 'company_and_rounds.csv')\n",
    "acquisition_df = pd.read_csv(PATH + 'acquisition.csv')\n",
    "people_df = pd.read_csv(PATH +'people.csv')\n",
    "education_df = pd.read_csv(PATH +'education.csv')\n",
    "degrees_df = pd.read_csv(PATH +'degrees.csv')\n",
    "fund_df = pd.read_csv(PATH +'fund.csv')\n",
    "investment_df = pd.read_csv(PATH +'investment.csv')"
   ]
  },
  {
   "cell_type": "code",
   "execution_count": 3,
   "metadata": {},
   "outputs": [
    {
     "name": "stdout",
     "output_type": "stream",
     "text": [
      "<class 'pandas.core.frame.DataFrame'>\n",
      "RangeIndex: 217774 entries, 0 to 217773\n",
      "Data columns (total 22 columns):\n",
      " #   Column                 Non-Null Count   Dtype  \n",
      "---  ------                 --------------   -----  \n",
      " 0   company  ID            217472 non-null  float64\n",
      " 1   name                   217472 non-null  object \n",
      " 2   category  code         143886 non-null  object \n",
      " 3   status                 217472 non-null  object \n",
      " 4   founded  at            109956 non-null  object \n",
      " 5   closed  at             3449 non-null    object \n",
      " 6   domain                 147159 non-null  object \n",
      " 7   network  username      95534 non-null   object \n",
      " 8   country  code          108607 non-null  object \n",
      " 9   investment  rounds     217472 non-null  float64\n",
      " 10  funding  rounds        217472 non-null  float64\n",
      " 11  funding  total         217472 non-null  float64\n",
      " 12  milestones             217472 non-null  float64\n",
      " 13  funding  round  id     52928 non-null   float64\n",
      " 14  company  id            52928 non-null   float64\n",
      " 15  funded  at             52680 non-null   object \n",
      " 16  funding  round  type   52928 non-null   object \n",
      " 17  raised  amount         52928 non-null   float64\n",
      " 18  pre  money  valuation  52928 non-null   float64\n",
      " 19  participants           52928 non-null   float64\n",
      " 20  is  first  round       52928 non-null   float64\n",
      " 21  is  last  round        52928 non-null   float64\n",
      "dtypes: float64(12), object(10)\n",
      "memory usage: 36.6+ MB\n"
     ]
    }
   ],
   "source": [
    "# Выгрузим общую информацию датасета company_and_rounds\n",
    "company_and_rounds_df.info()"
   ]
  },
  {
   "cell_type": "code",
   "execution_count": 4,
   "metadata": {},
   "outputs": [
    {
     "name": "stdout",
     "output_type": "stream",
     "text": [
      "   company  ID      name category  code     status founded  at closed  at  \\\n",
      "0          1.0  Wetpaint            web  operating  2005-10-17        NaN   \n",
      "1          1.0  Wetpaint            web  operating  2005-10-17        NaN   \n",
      "2          1.0  Wetpaint            web  operating  2005-10-17        NaN   \n",
      "3         10.0   Flektor    games_video   acquired         NaN        NaN   \n",
      "4        100.0     There    games_video   acquired         NaN        NaN   \n",
      "\n",
      "             domain network  username country  code  investment  rounds  ...  \\\n",
      "0  wetpaint-inc.com   BachelrWetpaint           USA                 0.0  ...   \n",
      "1  wetpaint-inc.com   BachelrWetpaint           USA                 0.0  ...   \n",
      "2  wetpaint-inc.com   BachelrWetpaint           USA                 0.0  ...   \n",
      "3       flektor.com               NaN           USA                 0.0  ...   \n",
      "4         there.com               NaN           USA                 0.0  ...   \n",
      "\n",
      "   milestones  funding  round  id  company  id  funded  at  \\\n",
      "0         5.0               888.0          1.0  2005-10-01   \n",
      "1         5.0               889.0          1.0  2007-01-01   \n",
      "2         5.0              2312.0          1.0  2008-05-19   \n",
      "3         0.0                 NaN          NaN         NaN   \n",
      "4         4.0                 NaN          NaN         NaN   \n",
      "\n",
      "   funding  round  type raised  amount pre  money  valuation  participants  \\\n",
      "0              series-a      5250000.0                   0.0           2.0   \n",
      "1              series-b      9500000.0                   0.0           3.0   \n",
      "2             series-c+     25000000.0                   0.0           4.0   \n",
      "3                   NaN            NaN                   NaN           NaN   \n",
      "4                   NaN            NaN                   NaN           NaN   \n",
      "\n",
      "   is  first  round  is  last  round  \n",
      "0               0.0              1.0  \n",
      "1               0.0              0.0  \n",
      "2               1.0              0.0  \n",
      "3               NaN              NaN  \n",
      "4               NaN              NaN  \n",
      "\n",
      "[5 rows x 22 columns]\n"
     ]
    }
   ],
   "source": [
    "# Выгрузим первые 5 строк датасета company_and_rounds\n",
    "print(company_and_rounds_df.head())"
   ]
  },
  {
   "cell_type": "markdown",
   "metadata": {},
   "source": [
    "**Датасет `company_and_rounds.csv` содержит 217774 строк и 22 столбца. Также, следует отметить:**\n",
    "- датасет содержит 12 столбцов с числовым типом данных `float64` и 10 столбцов со строковым типом данных `object`;\n",
    "- данные соответствуют описанию;\n",
    "- обнаружены два столбца с информацией об id компании;\n",
    "- обнаружены 2 столбца с суммой финансирования;\n",
    "- столбцы funding  total и raised  amount несут одинаковую информацию;\n",
    "- все 22 столбца содержат пропуски;\n",
    "- названия столбцов необходимо привести к виду snake case согласно PEP8;\n",
    "- столбцы `founded at`, `closed at` и `funded at` необходимо привести к типу данных `datetime64`."
   ]
  },
  {
   "cell_type": "code",
   "execution_count": 5,
   "metadata": {},
   "outputs": [
    {
     "name": "stdout",
     "output_type": "stream",
     "text": [
      "<class 'pandas.core.frame.DataFrame'>\n",
      "RangeIndex: 9407 entries, 0 to 9406\n",
      "Data columns (total 6 columns):\n",
      " #   Column                Non-Null Count  Dtype \n",
      "---  ------                --------------  ----- \n",
      " 0   id                    9407 non-null   int64 \n",
      " 1   acquiring_company_id  9407 non-null   int64 \n",
      " 2   acquired_company_id   9407 non-null   int64 \n",
      " 3   term_code             1831 non-null   object\n",
      " 4   price_amount          9407 non-null   int64 \n",
      " 5   acquired_at           9378 non-null   object\n",
      "dtypes: int64(4), object(2)\n",
      "memory usage: 441.1+ KB\n"
     ]
    }
   ],
   "source": [
    "# Выгрузим общую информацию датасета acquisition\n",
    "acquisition_df.info()"
   ]
  },
  {
   "cell_type": "code",
   "execution_count": 6,
   "metadata": {},
   "outputs": [
    {
     "name": "stdout",
     "output_type": "stream",
     "text": [
      "   id  acquiring_company_id  acquired_company_id term_code  price_amount  \\\n",
      "0   1                    11                   10       NaN      20000000   \n",
      "1   7                    59                   72      cash      60000000   \n",
      "2   8                    24                  132      cash     280000000   \n",
      "3   9                    59                  155      cash     100000000   \n",
      "4  10                   212                  215      cash      25000000   \n",
      "\n",
      "  acquired_at  \n",
      "0  2007-05-30  \n",
      "1  2007-07-01  \n",
      "2  2007-05-01  \n",
      "3  2007-06-01  \n",
      "4  2007-07-01  \n"
     ]
    }
   ],
   "source": [
    "# Выгрузим первые 5 строк датасета acquisition\n",
    "print(acquisition_df.head())"
   ]
  },
  {
   "cell_type": "markdown",
   "metadata": {},
   "source": [
    "**Датасет `acquisition.csv` содержит 9407 строк и 6 столбцов. Также, следует отметить:**\n",
    "- датасет содержит 4 столбца с числовым типом данных `int64` и 2 столбца со строковым типом данных `object`;\n",
    "- данные соответствуют описанию;\n",
    "- столбцы `term_code` и `acquired_at` содержат пропуски;\n",
    "- названия столбцов уже приведены к виду snake case согласно PEP8;\n",
    "- столбец `acquired_at` необходимо привести к типу данных `datetime64`."
   ]
  },
  {
   "cell_type": "code",
   "execution_count": 7,
   "metadata": {},
   "outputs": [
    {
     "name": "stdout",
     "output_type": "stream",
     "text": [
      "<class 'pandas.core.frame.DataFrame'>\n",
      "RangeIndex: 226709 entries, 0 to 226708\n",
      "Data columns (total 5 columns):\n",
      " #   Column            Non-Null Count   Dtype  \n",
      "---  ------            --------------   -----  \n",
      " 0   id                226709 non-null  int64  \n",
      " 1   first_name        226704 non-null  object \n",
      " 2   last_name         226708 non-null  object \n",
      " 3   company_id        34615 non-null   float64\n",
      " 4   network_username  38867 non-null   object \n",
      "dtypes: float64(1), int64(1), object(3)\n",
      "memory usage: 8.6+ MB\n"
     ]
    }
   ],
   "source": [
    "# Выгрузим общую информацию датасета people\n",
    "people_df.info()"
   ]
  },
  {
   "cell_type": "code",
   "execution_count": 8,
   "metadata": {},
   "outputs": [
    {
     "name": "stdout",
     "output_type": "stream",
     "text": [
      "       id  first_name    last_name  company_id network_username\n",
      "0      10        Mark   Zuckerberg         5.0              NaN\n",
      "1     100       Peter       Lester        27.0              NaN\n",
      "2    1000  Dr. Steven  E. Saunders       292.0              NaN\n",
      "3   10000        Neil        Capel      2526.0              NaN\n",
      "4  100000         Sue       Pilsch         NaN              NaN\n"
     ]
    }
   ],
   "source": [
    "# Выгрузим первые 5 строк датасета people\n",
    "print(people_df.head())"
   ]
  },
  {
   "cell_type": "markdown",
   "metadata": {},
   "source": [
    "**Датасет `people.csv` содержит 226709 строк и 5 столбцов. Также, следует отметить:**\n",
    "- датасет содержит 1 столбцец с числовым типом данных `float64`, 1 столбцец с числовым типом данных `int64`  и 3 столбца со строковым типом данных `object`;\n",
    "- данные соответствуют описанию;\n",
    "- столбцы `first_name`, `last_name`, `company_id`  и `network_username` содержат пропуски;\n",
    "- названия столбцов уже приведены к виду snake case согласно PEP8;\n",
    "- все типы данных в датасете корректные."
   ]
  },
  {
   "cell_type": "code",
   "execution_count": 9,
   "metadata": {},
   "outputs": [
    {
     "name": "stdout",
     "output_type": "stream",
     "text": [
      "<class 'pandas.core.frame.DataFrame'>\n",
      "RangeIndex: 109610 entries, 0 to 109609\n",
      "Data columns (total 4 columns):\n",
      " #   Column        Non-Null Count   Dtype \n",
      "---  ------        --------------   ----- \n",
      " 0   id            109610 non-null  int64 \n",
      " 1   person_id     109610 non-null  int64 \n",
      " 2   instituition  109555 non-null  object\n",
      " 3   graduated_at  58054 non-null   object\n",
      "dtypes: int64(2), object(2)\n",
      "memory usage: 3.3+ MB\n"
     ]
    }
   ],
   "source": [
    "# Выгрузим общую информацию датасета education\n",
    "education_df.info()"
   ]
  },
  {
   "cell_type": "code",
   "execution_count": 10,
   "metadata": {},
   "outputs": [
    {
     "name": "stdout",
     "output_type": "stream",
     "text": [
      "   id  person_id                      instituition graduated_at\n",
      "0   1       6117                               NaN          NaN\n",
      "1   2       6136  Washington University, St. Louis   1990-01-01\n",
      "2   3       6136                 Boston University   1992-01-01\n",
      "3   4       6005           University of Greenwich   2006-01-01\n",
      "4   5       5832                   Rice University          NaN\n"
     ]
    }
   ],
   "source": [
    "# Выгрузим первые 5 строк датасета education\n",
    "print(education_df.head())"
   ]
  },
  {
   "cell_type": "markdown",
   "metadata": {},
   "source": [
    "**Дата `education.csv` содержит 109610 строк и 4 столбца. Также, следует отметить:**\n",
    "- датасет содержит 2 столбца с числовым типом данных `int64` и 1 столбец со строковым типом данных `object`;\n",
    "- данные соответствуют описанию;\n",
    "- столбцы `instituition` и `graduated_at` содержат пропуски;\n",
    "- названия столбцов уже приведены к виду snake case согласно PEP8;\n",
    "- столбец `graduated_at` необходимо привести к типу данных `datetime64`."
   ]
  },
  {
   "cell_type": "code",
   "execution_count": 11,
   "metadata": {},
   "outputs": [
    {
     "name": "stdout",
     "output_type": "stream",
     "text": [
      "<class 'pandas.core.frame.DataFrame'>\n",
      "RangeIndex: 109610 entries, 0 to 109609\n",
      "Data columns (total 4 columns):\n",
      " #   Column       Non-Null Count   Dtype \n",
      "---  ------       --------------   ----- \n",
      " 0   id           109610 non-null  int64 \n",
      " 1   object_id    109610 non-null  object\n",
      " 2   degree_type  98392 non-null   object\n",
      " 3   subject      81298 non-null   object\n",
      "dtypes: int64(1), object(3)\n",
      "memory usage: 3.3+ MB\n"
     ]
    }
   ],
   "source": [
    "# Выгрузим общую информацию датасета degrees\n",
    "degrees_df.info()"
   ]
  },
  {
   "cell_type": "code",
   "execution_count": 12,
   "metadata": {},
   "outputs": [
    {
     "name": "stdout",
     "output_type": "stream",
     "text": [
      "   id object_id degree_type                       subject\n",
      "0   1    p:6117         MBA                           NaN\n",
      "1   2    p:6136          BA               English, French\n",
      "2   3    p:6136          MS            Mass Communication\n",
      "3   4    p:6005          MS           Internet Technology\n",
      "4   5    p:5832         BCS  Computer Science, Psychology\n"
     ]
    }
   ],
   "source": [
    "# Выгрузим первые 5 строк датасета degrees\n",
    "print(degrees_df.head())"
   ]
  },
  {
   "cell_type": "markdown",
   "metadata": {},
   "source": [
    "**Датасет `degrees.csv` содержит 109610 строк и 4 столбца. Также, следует отметить:**\n",
    "- датасет содержит 1 столбец с числовым типом данных `int64` и 3 столбца со строковым типом данных `object`;\n",
    "- данные соответствуют описанию;\n",
    "- столбцы `degree_type` и `subject` содержат пропуски;\n",
    "- названия столбцов уже приведены к виду snake case согласно PEP8;\n",
    "- все типы данных в датасете корректные."
   ]
  },
  {
   "cell_type": "code",
   "execution_count": 13,
   "metadata": {},
   "outputs": [
    {
     "name": "stdout",
     "output_type": "stream",
     "text": [
      "<class 'pandas.core.frame.DataFrame'>\n",
      "RangeIndex: 11652 entries, 0 to 11651\n",
      "Data columns (total 9 columns):\n",
      " #   Column              Non-Null Count  Dtype \n",
      "---  ------              --------------  ----- \n",
      " 0   id                  11652 non-null  int64 \n",
      " 1   name                11650 non-null  object\n",
      " 2   founded_at          4605 non-null   object\n",
      " 3   domain              7362 non-null   object\n",
      " 4   network_username    2149 non-null   object\n",
      " 5   country_code        7053 non-null   object\n",
      " 6   investment_rounds   11652 non-null  int64 \n",
      " 7   invested_companies  11652 non-null  int64 \n",
      " 8   milestones          11652 non-null  int64 \n",
      "dtypes: int64(4), object(5)\n",
      "memory usage: 819.4+ KB\n"
     ]
    }
   ],
   "source": [
    "# Выгрузим общую информацию датасета fund\n",
    "fund_df.info()"
   ]
  },
  {
   "cell_type": "code",
   "execution_count": 14,
   "metadata": {},
   "outputs": [
    {
     "name": "stdout",
     "output_type": "stream",
     "text": [
      "      id                     name  founded_at               domain  \\\n",
      "0  13131                      NaN         NaN                  NaN   \n",
      "1      1        Greylock Partners  1965-01-01         greylock.com   \n",
      "2     10         Mission Ventures  1996-01-01  missionventures.com   \n",
      "3    100  Kapor Enterprises, Inc.         NaN              kei.com   \n",
      "4   1000           Speed Ventures         NaN                  NaN   \n",
      "\n",
      "  network_username country_code  investment_rounds  invested_companies  \\\n",
      "0              NaN          NaN                  0                   0   \n",
      "1       greylockvc          USA                307                 196   \n",
      "2              NaN          USA                 58                  33   \n",
      "3              NaN          USA                  2                   1   \n",
      "4              NaN          NaN                  0                   0   \n",
      "\n",
      "   milestones  \n",
      "0           0  \n",
      "1           0  \n",
      "2           0  \n",
      "3           0  \n",
      "4           1  \n"
     ]
    }
   ],
   "source": [
    "# Выгрузим первые 5 строк датасета fund\n",
    "print(fund_df.head())"
   ]
  },
  {
   "cell_type": "markdown",
   "metadata": {},
   "source": [
    "**Датасет `fund.csv` содержит 11652 строк и 9 столбцов. Также, следует отметить:**\n",
    "- датасет содержит 4 столбца с числовым типом данных `int64` и 5 столбцов со строковым типом данных `object`;\n",
    "- данные соответствуют описанию;\n",
    "- столбцы `name`, `founded_at`, `domain`, `network_username` и `country_code` содержат пропуски;\n",
    "- названия столбцов уже приведены к виду snake case согласно PEP8;\n",
    "- столбец `founded_at` необходимо привести к типу данных `datetime64`."
   ]
  },
  {
   "cell_type": "code",
   "execution_count": 15,
   "metadata": {},
   "outputs": [
    {
     "name": "stdout",
     "output_type": "stream",
     "text": [
      "<class 'pandas.core.frame.DataFrame'>\n",
      "RangeIndex: 61403 entries, 0 to 61402\n",
      "Data columns (total 4 columns):\n",
      " #   Column            Non-Null Count  Dtype\n",
      "---  ------            --------------  -----\n",
      " 0   id                61403 non-null  int64\n",
      " 1   funding_round_id  61403 non-null  int64\n",
      " 2   company_id        61403 non-null  int64\n",
      " 3   fund_id           61403 non-null  int64\n",
      "dtypes: int64(4)\n",
      "memory usage: 1.9 MB\n"
     ]
    }
   ],
   "source": [
    "# Выгрузим общую информацию датасета investment\n",
    "investment_df.info()"
   ]
  },
  {
   "cell_type": "code",
   "execution_count": 16,
   "metadata": {},
   "outputs": [
    {
     "name": "stdout",
     "output_type": "stream",
     "text": [
      "   id  funding_round_id  company_id  fund_id\n",
      "0   1                 1           4        1\n",
      "1   2                 1           4        2\n",
      "2   3                 3           5        4\n",
      "3   4                 4           5        1\n",
      "4   5                 4           5        5\n"
     ]
    }
   ],
   "source": [
    "# Выгрузим первые 5 строк датасета investment\n",
    "print(investment_df.head())"
   ]
  },
  {
   "cell_type": "markdown",
   "metadata": {},
   "source": [
    "**Датасет `investment.csv` содержит 61403 строк и 4 столбца. Также, следует отметить:**\n",
    "- датасет содержит все 4 столбца с числовым типом данных `int64`;\n",
    "- данные соответствуют описанию;\n",
    "- пропуски в столбцах отсутствуют;\n",
    "- названия столбцов уже приведены к виду snake case согласно PEP8;\n",
    "- все типы данных в датасете корректные."
   ]
  },
  {
   "cell_type": "code",
   "execution_count": 17,
   "metadata": {},
   "outputs": [
    {
     "name": "stdout",
     "output_type": "stream",
     "text": [
      "0\n",
      "0\n",
      "0\n",
      "0\n",
      "0\n",
      "0\n",
      "0\n"
     ]
    }
   ],
   "source": [
    "# Проверка датафреймов на явные дубликаты\n",
    "print(company_and_rounds_df.duplicated().sum())\n",
    "print(acquisition_df.duplicated().sum())\n",
    "print(people_df.duplicated().sum())\n",
    "print(education_df.duplicated().sum())\n",
    "print(degrees_df.duplicated().sum())\n",
    "print(fund_df.duplicated().sum())\n",
    "print(investment_df.duplicated().sum())"
   ]
  },
  {
   "cell_type": "markdown",
   "metadata": {},
   "source": [
    "Явных дубликатов не обнаружено."
   ]
  },
  {
   "cell_type": "markdown",
   "metadata": {
    "id": "mg2gEwh0rJg0"
   },
   "source": [
    "### Смена типов и анализ пропусков"
   ]
  },
  {
   "cell_type": "code",
   "execution_count": 18,
   "metadata": {
    "id": "FsL0A8RBrJg1",
    "vscode": {
     "languageId": "plaintext"
    }
   },
   "outputs": [
    {
     "name": "stdout",
     "output_type": "stream",
     "text": [
      "Index(['company_ID', 'name', 'category_code', 'status', 'founded_at',\n",
      "       'closed_at', 'domain', 'network_username', 'country_code',\n",
      "       'investment_rounds', 'funding_rounds', 'funding_total', 'milestones',\n",
      "       'funding_round_id', 'company_id', 'funded_at', 'funding_round_type',\n",
      "       'raised_amount', 'pre_money_valuation', 'participants',\n",
      "       'is_first_round', 'is_last_round'],\n",
      "      dtype='object')\n"
     ]
    }
   ],
   "source": [
    "# Приведем названия солбцов в датафрейме company_and_rounds к виду snake case\n",
    "company_and_rounds_df.columns = company_and_rounds_df.columns.str.replace(' ','_')\n",
    "company_and_rounds_df.columns = company_and_rounds_df.columns.str.replace('__','_')\n",
    "print(company_and_rounds_df.columns)"
   ]
  },
  {
   "cell_type": "code",
   "execution_count": 19,
   "metadata": {
    "id": "46VskrGyFeJ-"
   },
   "outputs": [
    {
     "name": "stdout",
     "output_type": "stream",
     "text": [
      "datetime64[ns]\n",
      "datetime64[ns]\n",
      "datetime64[ns]\n",
      "datetime64[ns]\n",
      "datetime64[ns]\n",
      "datetime64[ns]\n"
     ]
    }
   ],
   "source": [
    "# Приведем столбцы с датами к типу datetime\n",
    "company_and_rounds_df['founded_at'] = pd.to_datetime(company_and_rounds_df['founded_at'])\n",
    "company_and_rounds_df['closed_at'] = pd.to_datetime(company_and_rounds_df['founded_at'])\n",
    "company_and_rounds_df['funded_at'] = pd.to_datetime(company_and_rounds_df['funded_at'])\n",
    "acquisition_df['acquired_at'] = pd.to_datetime(acquisition_df['acquired_at'])\n",
    "education_df['graduated_at'] = pd.to_datetime(education_df['graduated_at'])\n",
    "fund_df['founded_at'] = pd.to_datetime(fund_df['founded_at'])\n",
    "\n",
    "# Проверяем смену типа данных\n",
    "print(company_and_rounds_df['founded_at'].dtypes)\n",
    "print(company_and_rounds_df['closed_at'].dtypes)\n",
    "print(company_and_rounds_df['funded_at'].dtypes)\n",
    "print(acquisition_df['acquired_at'].dtypes)\n",
    "print(education_df['graduated_at'].dtypes)\n",
    "print(fund_df['founded_at'].dtypes)"
   ]
  },
  {
   "cell_type": "code",
   "execution_count": 20,
   "metadata": {
    "id": "DEg1tl8DFeBn"
   },
   "outputs": [
    {
     "name": "stdout",
     "output_type": "stream",
     "text": [
      "company_ID                302\n",
      "name                      302\n",
      "category_code           73888\n",
      "status                    302\n",
      "founded_at             107818\n",
      "closed_at              107818\n",
      "domain                  70615\n",
      "network_username       122240\n",
      "country_code           109167\n",
      "investment_rounds         302\n",
      "funding_rounds            302\n",
      "funding_total             302\n",
      "milestones                302\n",
      "funding_round_id       164846\n",
      "company_id             164846\n",
      "funded_at              165094\n",
      "funding_round_type     164846\n",
      "raised_amount          164846\n",
      "pre_money_valuation    164846\n",
      "participants           164846\n",
      "is_first_round         164846\n",
      "is_last_round          164846\n",
      "dtype: int64\n"
     ]
    }
   ],
   "source": [
    "# Посчитаем количество пропусков в абсолютном значении в датаферйме company_and_rounds\n",
    "print(company_and_rounds_df.isna().sum())"
   ]
  },
  {
   "cell_type": "code",
   "execution_count": 21,
   "metadata": {},
   "outputs": [
    {
     "name": "stdout",
     "output_type": "stream",
     "text": [
      "company_ID             0.001387\n",
      "name                   0.001387\n",
      "category_code          0.339288\n",
      "status                 0.001387\n",
      "founded_at             0.495091\n",
      "closed_at              0.495091\n",
      "domain                 0.324258\n",
      "network_username       0.561316\n",
      "country_code           0.501286\n",
      "investment_rounds      0.001387\n",
      "funding_rounds         0.001387\n",
      "funding_total          0.001387\n",
      "milestones             0.001387\n",
      "funding_round_id       0.756959\n",
      "company_id             0.756959\n",
      "funded_at              0.758098\n",
      "funding_round_type     0.756959\n",
      "raised_amount          0.756959\n",
      "pre_money_valuation    0.756959\n",
      "participants           0.756959\n",
      "is_first_round         0.756959\n",
      "is_last_round          0.756959\n",
      "dtype: float64\n"
     ]
    }
   ],
   "source": [
    "# Посчитаем количество пропусков в относительном значении в датаферйме company_and_rounds\n",
    "print(company_and_rounds_df.isna().mean())"
   ]
  },
  {
   "cell_type": "code",
   "execution_count": 22,
   "metadata": {},
   "outputs": [
    {
     "name": "stdout",
     "output_type": "stream",
     "text": [
      "id                         0\n",
      "acquiring_company_id       0\n",
      "acquired_company_id        0\n",
      "term_code               7576\n",
      "price_amount               0\n",
      "acquired_at               29\n",
      "dtype: int64\n"
     ]
    }
   ],
   "source": [
    "# Посчитаем количество пропусков в абсолютном значении в датаферйме acquisition\n",
    "print(acquisition_df.isna().sum())"
   ]
  },
  {
   "cell_type": "code",
   "execution_count": 23,
   "metadata": {},
   "outputs": [
    {
     "name": "stdout",
     "output_type": "stream",
     "text": [
      "id                      0.000000\n",
      "acquiring_company_id    0.000000\n",
      "acquired_company_id     0.000000\n",
      "term_code               0.805358\n",
      "price_amount            0.000000\n",
      "acquired_at             0.003083\n",
      "dtype: float64\n"
     ]
    }
   ],
   "source": [
    "# Посчитаем количество пропусков в относительном значении в датаферйме acquisition\n",
    "print(acquisition_df.isna().mean())"
   ]
  },
  {
   "cell_type": "code",
   "execution_count": 24,
   "metadata": {},
   "outputs": [
    {
     "name": "stdout",
     "output_type": "stream",
     "text": [
      "id                       0\n",
      "first_name               5\n",
      "last_name                1\n",
      "company_id          192094\n",
      "network_username    187842\n",
      "dtype: int64\n"
     ]
    }
   ],
   "source": [
    "# Посчитаем количество пропусков в абсолютном значении в датаферйме people\n",
    "print(people_df.isna().sum())"
   ]
  },
  {
   "cell_type": "code",
   "execution_count": 25,
   "metadata": {},
   "outputs": [
    {
     "name": "stdout",
     "output_type": "stream",
     "text": [
      "id                  0.000000\n",
      "first_name          0.000022\n",
      "last_name           0.000004\n",
      "company_id          0.847315\n",
      "network_username    0.828560\n",
      "dtype: float64\n"
     ]
    }
   ],
   "source": [
    "# Посчитаем количество пропусков в относительном значении в датаферйме people\n",
    "print(people_df.isna().mean())"
   ]
  },
  {
   "cell_type": "code",
   "execution_count": 26,
   "metadata": {},
   "outputs": [
    {
     "name": "stdout",
     "output_type": "stream",
     "text": [
      "id                  0\n",
      "person_id           0\n",
      "instituition       55\n",
      "graduated_at    51556\n",
      "dtype: int64\n"
     ]
    }
   ],
   "source": [
    "# Посчитаем количество пропусков в абсолютном значении в датаферйме education\n",
    "print(education_df.isna().sum())"
   ]
  },
  {
   "cell_type": "code",
   "execution_count": 27,
   "metadata": {},
   "outputs": [
    {
     "name": "stdout",
     "output_type": "stream",
     "text": [
      "id              0.000000\n",
      "person_id       0.000000\n",
      "instituition    0.000502\n",
      "graduated_at    0.470359\n",
      "dtype: float64\n"
     ]
    }
   ],
   "source": [
    "# Посчитаем количество пропусков в относительном значении в датаферйме education\n",
    "print(education_df.isna().mean())"
   ]
  },
  {
   "cell_type": "code",
   "execution_count": 28,
   "metadata": {},
   "outputs": [
    {
     "name": "stdout",
     "output_type": "stream",
     "text": [
      "id                 0\n",
      "object_id          0\n",
      "degree_type    11218\n",
      "subject        28312\n",
      "dtype: int64\n"
     ]
    }
   ],
   "source": [
    "# Посчитаем количество пропусков в абсолютном значении в датаферйме degrees\n",
    "print(degrees_df.isna().sum())"
   ]
  },
  {
   "cell_type": "code",
   "execution_count": 29,
   "metadata": {},
   "outputs": [
    {
     "name": "stdout",
     "output_type": "stream",
     "text": [
      "id             0.000000\n",
      "object_id      0.000000\n",
      "degree_type    0.102345\n",
      "subject        0.258298\n",
      "dtype: float64\n"
     ]
    }
   ],
   "source": [
    "# Посчитаем количество пропусков в относительном значении в датаферйме degrees\n",
    "print(degrees_df.isna().mean())"
   ]
  },
  {
   "cell_type": "code",
   "execution_count": 30,
   "metadata": {},
   "outputs": [
    {
     "name": "stdout",
     "output_type": "stream",
     "text": [
      "id                       0\n",
      "name                     2\n",
      "founded_at            7047\n",
      "domain                4290\n",
      "network_username      9503\n",
      "country_code          4599\n",
      "investment_rounds        0\n",
      "invested_companies       0\n",
      "milestones               0\n",
      "dtype: int64\n"
     ]
    }
   ],
   "source": [
    "# Посчитаем количество пропусков в абсолютном значении в датаферйме fund\n",
    "print(fund_df.isna().sum())"
   ]
  },
  {
   "cell_type": "code",
   "execution_count": 31,
   "metadata": {},
   "outputs": [
    {
     "name": "stdout",
     "output_type": "stream",
     "text": [
      "id                    0.000000\n",
      "name                  0.000172\n",
      "founded_at            0.604789\n",
      "domain                0.368177\n",
      "network_username      0.815568\n",
      "country_code          0.394696\n",
      "investment_rounds     0.000000\n",
      "invested_companies    0.000000\n",
      "milestones            0.000000\n",
      "dtype: float64\n"
     ]
    }
   ],
   "source": [
    "# Посчитаем количество пропусков в относительном значении в датаферйме fund\n",
    "print(fund_df.isna().mean())"
   ]
  },
  {
   "cell_type": "markdown",
   "metadata": {},
   "source": [
    "**По предварительному анализу данных можно отметить следующее:**\n",
    "- Названия в датафрейме company_and_rounds приведены к корректному виду snake_case.\n",
    "- Столбцы с датами приведены к корректному типу datetime.\n",
    "- В датафрейме company_and_rounds очень много недостающих данных, что может затруднить анализ.\n",
    "- В датафрейме acquisition более 80% пропусков в столбце с информацией о вариантах расчета.\n",
    "- В датафрейме people с информацией о сотрудниках 84% в столбце с идентификатором компании, что затрудняет анализ принадлежности того или иного сотрудника к определнной компании.\n",
    "- В датафрейме education 47% пропусков в столбце с информацией о дате получения образования.\n",
    "- в датафрейме degrees 10% пропусков приходятся на столбец с информацией о типе образования и 25% с информацией о специальности.\n",
    "\n",
    "**Вывод:**\n",
    "В датасетах представлены неполные данные, что может затруднить дальнейший анализ. В датасетах присутствует большое количество пропусков в значимых столбцах."
   ]
  },
  {
   "cell_type": "markdown",
   "metadata": {
    "id": "u60cHsn6rJg1"
   },
   "source": [
    "## Предобработка данных, предварительное исследование"
   ]
  },
  {
   "cell_type": "markdown",
   "metadata": {
    "id": "g2bHIIjcrJg1"
   },
   "source": [
    "\n",
    "### Раунды финансирования по годам\n",
    "\n",
    "**Задание**\n",
    "1. Составьте сводную таблицу по годам, в которой на основании столбца `raised_amount` для каждого года указан:\n",
    "    - типичный размер средств, выделяемый в рамках одного раунда;\n",
    "    - общее количество раундов финансирования за этот год.\n",
    "    \n",
    "2. Оставьте в таблице информацию только для тех лет, для которых есть информация о более чем 50 раундах финансирования.\n",
    "3. На основе получившейся таблицы постройте график, который будет отражать динамику типичного размера средств, которые стартапы получали в рамках одного раунда финансирования.\n",
    "\n",
    "**Ответить на вопросы**:\n",
    "1. В каком году типичный размер собранных в рамках одного раунда средств был максимален?\n",
    "2. Какая тенденция по количеству раундов и выделяемых в рамках каждого раунда средств наблюдалась в 2013 году?"
   ]
  },
  {
   "cell_type": "code",
   "execution_count": 32,
   "metadata": {},
   "outputs": [],
   "source": [
    "# Для дальнейшего анализа создадим столбец с годом финансирования\n",
    "company_and_rounds_df['funded_year'] = company_and_rounds_df['funded_at'].dt.year"
   ]
  },
  {
   "cell_type": "code",
   "execution_count": 33,
   "metadata": {
    "id": "Cf5IjfOQrJg1",
    "vscode": {
     "languageId": "plaintext"
    }
   },
   "outputs": [
    {
     "name": "stdout",
     "output_type": "stream",
     "text": [
      "             typical_round_size  total_rounds\n",
      "funded_year                                  \n",
      "1960.0                      0.0             9\n",
      "1973.0                      0.0             1\n",
      "1974.0                      0.0             2\n",
      "1984.0                  41000.0             3\n",
      "1985.0                      0.0             1\n",
      "1987.0                1250000.0             2\n",
      "1989.0                  15000.0             1\n",
      "1990.0                1000000.0             1\n",
      "1992.0                2000000.0             1\n",
      "1993.0                  62500.0             2\n",
      "1994.0                6700000.0             2\n",
      "1995.0                2000000.0             7\n",
      "1996.0                  12500.0             7\n",
      "1997.0                3300000.0             9\n",
      "1998.0                 100000.0            29\n",
      "1999.0                2000000.0            76\n",
      "2000.0                4200000.0           125\n",
      "2001.0                3000000.0            96\n",
      "2002.0                4200000.0           116\n",
      "2003.0                3000000.0           159\n",
      "2004.0                5000000.0           291\n",
      "2005.0                5500000.0          1633\n",
      "2006.0                5000000.0          2436\n",
      "2007.0                3973320.0          3279\n",
      "2008.0                3110000.0          3774\n",
      "2009.0                2000000.0          4151\n",
      "2010.0                1602500.0          6221\n",
      "2011.0                1200000.0          9204\n",
      "2012.0                1000000.0          9970\n",
      "2013.0                1200000.0         11072\n"
     ]
    }
   ],
   "source": [
    "# Создаем сводную таблицу\n",
    "company_and_rounds_pivot = company_and_rounds_df.pivot_table(values='raised_amount', index='funded_year', aggfunc=['median', 'count'])\n",
    "company_and_rounds_pivot.columns = ['typical_round_size', 'total_rounds']\n",
    "print(company_and_rounds_pivot)"
   ]
  },
  {
   "cell_type": "code",
   "execution_count": 34,
   "metadata": {},
   "outputs": [
    {
     "name": "stdout",
     "output_type": "stream",
     "text": [
      "    funded_year  typical_round_size  total_rounds\n",
      "0        1999.0           2000000.0            76\n",
      "1        2000.0           4200000.0           125\n",
      "2        2001.0           3000000.0            96\n",
      "3        2002.0           4200000.0           116\n",
      "4        2003.0           3000000.0           159\n",
      "5        2004.0           5000000.0           291\n",
      "6        2005.0           5500000.0          1633\n",
      "7        2006.0           5000000.0          2436\n",
      "8        2007.0           3973320.0          3279\n",
      "9        2008.0           3110000.0          3774\n",
      "10       2009.0           2000000.0          4151\n",
      "11       2010.0           1602500.0          6221\n",
      "12       2011.0           1200000.0          9204\n",
      "13       2012.0           1000000.0          9970\n",
      "14       2013.0           1200000.0         11072\n"
     ]
    }
   ],
   "source": [
    "# Фильтруем сводную таблицу\n",
    "company_and_rounds_pivot = company_and_rounds_pivot[company_and_rounds_pivot['total_rounds'] > 50]\n",
    "company_and_rounds_pivot = company_and_rounds_pivot.reset_index()\n",
    "print(company_and_rounds_pivot)"
   ]
  },
  {
   "cell_type": "code",
   "execution_count": 35,
   "metadata": {
    "id": "8Fbz6KmzFdYP"
   },
   "outputs": [
    {
     "data": {
      "image/png": "[encoded data removed]",
      "text/plain": [
       "<Figure size 864x432 with 1 Axes>"
      ]
     },
     "metadata": {
      "needs_background": "light"
     },
     "output_type": "display_data"
    }
   ],
   "source": [
    "# Строим график динамики типичного размера средств\n",
    "mpl.figure(figsize=(12, 6))\n",
    "mpl.plot(company_and_rounds_pivot['funded_year'], company_and_rounds_pivot['typical_round_size'], color='green')\n",
    "mpl.title('Динамика типичного размера средств, получаемых стартапами в рамках одного раунда финансирования')\n",
    "mpl.xticks(company_and_rounds_pivot['funded_year'], rotation=45)\n",
    "mpl.yticks(company_and_rounds_pivot['typical_round_size'])\n",
    "mpl.grid()\n",
    "mpl.tight_layout()\n",
    "mpl.show()"
   ]
  },
  {
   "cell_type": "markdown",
   "metadata": {
    "id": "Z92DzKMMFdKW"
   },
   "source": [
    "**На основе полученных данных можем сделать следующие выводы:**\n",
    "1. Максимальный размер средств финансирования был в 2005 году.\n",
    "2. В 2013 году тенденция по количеству раундов - 11072, выделяемые средства - 1200000."
   ]
  },
  {
   "cell_type": "markdown",
   "metadata": {
    "id": "45if1en1rJg2"
   },
   "source": [
    "\n",
    "### Люди и их образование\n",
    "\n",
    "**Задание**\n",
    "\n",
    "1. Оцените, насколько информация об образовании сотрудников полна. Используя датасеты `people.csv` и `education.csv`, разделите все компании на несколько групп по количеству сотрудников и оцените среднюю долю сотрудников без информации об образовании в каждой из групп. Обоснуйте выбранные границы групп.\n",
    "2. Оцените, возможно ли для выполнения задания присоединить к этим таблицам ещё и таблицу `degrees.csv`."
   ]
  },
  {
   "cell_type": "code",
   "execution_count": 36,
   "metadata": {
    "id": "psPO7C4MrJg2",
    "vscode": {
     "languageId": "plaintext"
    }
   },
   "outputs": [
    {
     "name": "stdout",
     "output_type": "stream",
     "text": [
      "   id_employee  first_name    last_name  company_id network_username  \\\n",
      "0           10        Mark   Zuckerberg         5.0              NaN   \n",
      "1          100       Peter       Lester        27.0              NaN   \n",
      "2         1000  Dr. Steven  E. Saunders       292.0              NaN   \n",
      "3        10000        Neil        Capel      2526.0              NaN   \n",
      "4       100000         Sue       Pilsch         NaN              NaN   \n",
      "\n",
      "   id_education  person_id        instituition graduated_at  \n",
      "0        2415.0       10.0  Harvard University          NaT  \n",
      "1           NaN        NaN                 NaN          NaT  \n",
      "2           NaN        NaN                 NaN          NaT  \n",
      "3           NaN        NaN                 NaN          NaT  \n",
      "4           NaN        NaN                 NaN          NaT  \n"
     ]
    }
   ],
   "source": [
    "# Соединими таблицы people и education\n",
    "employee_df = pd.merge(people_df, education_df, left_on='id', right_on='person_id', how='left')\n",
    "employee_df = employee_df.rename(columns={'id_x': 'id_employee', 'id_y': 'id_education'})\n",
    "print(employee_df.head())"
   ]
  },
  {
   "cell_type": "code",
   "execution_count": 37,
   "metadata": {
    "id": "BThTjpLqFcsm"
   },
   "outputs": [
    {
     "name": "stdout",
     "output_type": "stream",
     "text": [
      "       company_id  employee_count\n",
      "0             1.0               3\n",
      "1             2.0               1\n",
      "2             3.0               5\n",
      "3             4.0              18\n",
      "4             5.0              84\n",
      "...           ...             ...\n",
      "22917    285897.0               2\n",
      "22918    285953.0               1\n",
      "22919    285972.0               2\n",
      "22920    285996.0               1\n",
      "22921    286091.0               7\n",
      "\n",
      "[22922 rows x 2 columns]\n"
     ]
    }
   ],
   "source": [
    "# Посчитаем количество сотрудников в каждой компании\n",
    "employee_count = employee_df.groupby('company_id')['id_employee'].count().reset_index()\n",
    "employee_count.columns = ['company_id', 'employee_count']\n",
    "print(employee_count)"
   ]
  },
  {
   "cell_type": "code",
   "execution_count": 38,
   "metadata": {
    "id": "4FC98Pd-FcmG"
   },
   "outputs": [
    {
     "name": "stdout",
     "output_type": "stream",
     "text": [
      "       company_id  employee_count  employee_with_education\n",
      "0             1.0               3                        2\n",
      "1             2.0               1                        1\n",
      "2             3.0               5                        4\n",
      "3             4.0              18                       17\n",
      "4             5.0              84                       68\n",
      "...           ...             ...                      ...\n",
      "22917    285897.0               2                        2\n",
      "22918    285953.0               1                        0\n",
      "22919    285972.0               2                        1\n",
      "22920    285996.0               1                        1\n",
      "22921    286091.0               7                        5\n",
      "\n",
      "[22922 rows x 3 columns]\n"
     ]
    }
   ],
   "source": [
    "# Считаем сотрудников c информацией об образовании\n",
    "employee_df['have_education'] = employee_df['id_education'].notnull().astype(int)\n",
    "education = employee_df.groupby('company_id')['have_education'].agg(['count', 'sum']).reset_index()\n",
    "education.columns = ['company_id', 'employee_count', 'employee_with_education']\n",
    "print(education)"
   ]
  },
  {
   "cell_type": "code",
   "execution_count": 39,
   "metadata": {},
   "outputs": [
    {
     "name": "stdout",
     "output_type": "stream",
     "text": [
      "       company_id  employee_count  employee_with_education  \\\n",
      "0             1.0               3                        2   \n",
      "1             2.0               1                        1   \n",
      "2             3.0               5                        4   \n",
      "3             4.0              18                       17   \n",
      "4             5.0              84                       68   \n",
      "...           ...             ...                      ...   \n",
      "22917    285897.0               2                        2   \n",
      "22918    285953.0               1                        0   \n",
      "22919    285972.0               2                        1   \n",
      "22920    285996.0               1                        1   \n",
      "22921    286091.0               7                        5   \n",
      "\n",
      "       count_not_education  share_not_education  \n",
      "0                        1             0.333333  \n",
      "1                        0             0.000000  \n",
      "2                        1             0.200000  \n",
      "3                        1             0.055556  \n",
      "4                       16             0.190476  \n",
      "...                    ...                  ...  \n",
      "22917                    0             0.000000  \n",
      "22918                    1             1.000000  \n",
      "22919                    1             0.500000  \n",
      "22920                    0             0.000000  \n",
      "22921                    2             0.285714  \n",
      "\n",
      "[22922 rows x 5 columns]\n"
     ]
    }
   ],
   "source": [
    "# Считаем сотрудников без образования\n",
    "education['count_not_education'] = education['employee_count'] - education['employee_with_education']\n",
    "education['share_not_education'] = education['count_not_education'] / education['employee_count']\n",
    "print(education)"
   ]
  },
  {
   "cell_type": "code",
   "execution_count": 40,
   "metadata": {},
   "outputs": [
    {
     "name": "stdout",
     "output_type": "stream",
     "text": [
      "       company_id  employee_count  count_not_education  share_not_education\n",
      "0             1.0               3                    1             0.333333\n",
      "1             2.0               1                    0             0.000000\n",
      "2             3.0               5                    1             0.200000\n",
      "3             4.0              18                    1             0.055556\n",
      "4             5.0              84                   16             0.190476\n",
      "...           ...             ...                  ...                  ...\n",
      "22917    285897.0               2                    0             0.000000\n",
      "22918    285953.0               1                    1             1.000000\n",
      "22919    285972.0               2                    1             0.500000\n",
      "22920    285996.0               1                    0             0.000000\n",
      "22921    286091.0               7                    2             0.285714\n",
      "\n",
      "[22922 rows x 4 columns]\n"
     ]
    }
   ],
   "source": [
    "# Объединяем таблицы\n",
    "education_df = pd.merge(employee_count, education[['company_id', 'count_not_education', 'share_not_education']], on='company_id', how='left')\n",
    "print(education_df)"
   ]
  },
  {
   "cell_type": "code",
   "execution_count": 41,
   "metadata": {},
   "outputs": [
    {
     "name": "stdout",
     "output_type": "stream",
     "text": [
      "       company_id  employee_count  count_not_education  share_not_education  \\\n",
      "0             1.0               3                    1             0.333333   \n",
      "1             2.0               1                    0             0.000000   \n",
      "2             3.0               5                    1             0.200000   \n",
      "3             4.0              18                    1             0.055556   \n",
      "4             5.0              84                   16             0.190476   \n",
      "...           ...             ...                  ...                  ...   \n",
      "22917    285897.0               2                    0             0.000000   \n",
      "22918    285953.0               1                    1             1.000000   \n",
      "22919    285972.0               2                    1             0.500000   \n",
      "22920    285996.0               1                    0             0.000000   \n",
      "22921    286091.0               7                    2             0.285714   \n",
      "\n",
      "      employee_group  \n",
      "0                  3  \n",
      "1                  1  \n",
      "2                4-5  \n",
      "3              11-25  \n",
      "4                26+  \n",
      "...              ...  \n",
      "22917              2  \n",
      "22918              1  \n",
      "22919              2  \n",
      "22920              1  \n",
      "22921           6-10  \n",
      "\n",
      "[22922 rows x 5 columns]\n"
     ]
    }
   ],
   "source": [
    "# Разделяем на группы по количеству сотрудников\n",
    "bins   = [0, 1, 2, 3, 5, 10, 25, float('inf')]\n",
    "labels = ['1', '2', '3', '4-5', '6-10', '11-25', '26+']\n",
    "education_df['employee_group'] = pd.cut(education_df['employee_count'], bins=bins, labels=labels)\n",
    "print(education_df)"
   ]
  },
  {
   "cell_type": "code",
   "execution_count": 42,
   "metadata": {},
   "outputs": [
    {
     "name": "stdout",
     "output_type": "stream",
     "text": [
      "  employee_group  share_not_education\n",
      "0              1             0.592297\n",
      "1              2             0.226610\n",
      "2              3             0.227428\n",
      "3            4-5             0.275743\n",
      "4           6-10             0.311749\n",
      "5          11-25             0.306125\n",
      "6            26+             0.203482\n"
     ]
    }
   ],
   "source": [
    "# Вычисляем среднюю долю сотрудников без образования в каждой группе\n",
    "grouped_df = education_df.groupby('employee_group')['share_not_education'].mean().reset_index()\n",
    "print(grouped_df)"
   ]
  },
  {
   "cell_type": "markdown",
   "metadata": {},
   "source": [
    "**На основе полученных данных можем сделать следующие выводы:**\n",
    "\n",
    "1. Большая доля сотрудлников без образования приходится на малый бизнес. Это может говорить о том, что для малого бизнеса чаще требуются наименее квалифицированные сотрудники, то есть сотрудники без специального образлования. Также, это может говорить о том, что в маленьких компаниях не ведется учет об образовании сотрудников."
   ]
  },
  {
   "cell_type": "markdown",
   "metadata": {
    "id": "Lz7qjM32xglW"
   },
   "source": [
    "###  Объединять или не объединять — вот в чём вопрос\n",
    "\n",
    "**Задание**\n",
    "\n",
    "1. Установите, подходит ли для объединения данных столбец `network_username`, который встречается в нескольких датасетах. Нам необходимо понимать, дублируется ли для разных датасетов информация в столбцах с таким названием, и если да — то насколько часто.\n",
    "2. Оцените, можно ли использовать столбцы с именем `network_username` для объединения данных."
   ]
  },
  {
   "cell_type": "markdown",
   "metadata": {
    "id": "zyI3rt0rxg1O"
   },
   "source": [
    "**Ответ:** \n",
    "\n",
    "Столбец `network_username` не подходит для объединения, так несет разную информацию в разных датасетах:\n",
    "- в датасете `company_and_rounds` - несет информацию о никнейме компании в сети;\n",
    "- в датасете `people` - несет информацию о никнейме сотрудника в сети;\n",
    "- в датасете `fund` несет информцию о никнейме фонда в сети.\n",
    "\n",
    "Фактически, это три абсолютно разных столбца с абсолютно разной информацией. При соединении этих трех датасетов столбцы с названием `network_username` следует переименовать для избежания путаницы."
   ]
  },
  {
   "cell_type": "code",
   "execution_count": 43,
   "metadata": {},
   "outputs": [
    {
     "name": "stdout",
     "output_type": "stream",
     "text": [
      "[nan, 'dgillesfr', 'switchcommerce', 'priceride', 'yumedeals3', 'taniablackalln', 'boonseo', 'tefdigital']\n"
     ]
    }
   ],
   "source": [
    "# Проверяем теорию о том, что данные в столбце network_username трех датасетов разные\n",
    "uniq_value_comp = set(company_and_rounds_df['network_username'])\n",
    "uniq_value_people = set(people_df['network_username'])\n",
    "uniq_value_fund = set(fund_df['network_username'])\n",
    "\n",
    "unique_value = uniq_value_comp.union(uniq_value_people).union(uniq_value_fund)\n",
    "intersection_value = uniq_value_comp.intersection(uniq_value_people).intersection(uniq_value_fund)\n",
    "\n",
    "intersection_value_list = list(intersection_value)\n",
    "\n",
    "print(intersection_value_list)"
   ]
  },
  {
   "cell_type": "markdown",
   "metadata": {
    "id": "EHcODomVrJg1"
   },
   "source": [
    "\n",
    "### Проблемный датасет и причина возникновения пропусков\n",
    "\n",
    "Во время собственного анализа данных у заказчика больше всего вопросов возникло к датасету `company_and_rounds.csv`. В нём много пропусков как раз в информации о раундах, которая заказчику важна.\n",
    "\n",
    "**Задание:**\n",
    "\n",
    "1. Любым удобным способом приведите данные в вид, который позволит в дальнейшем проводить анализ в разрезе отдельных компаний. Обратите внимание на структуру датасета, порядок и названия столбцов, проанализируйте значения.\n",
    "\n",
    "По гипотезе заказчика данные по компаниям из этой таблицы раньше хранились иначе, более удобным для исследования образом.\n",
    "\n",
    "2. Максимальным образом сохраняя данные, сохранив их связность и исключив возможные возникающие при этом ошибки, подготовьте данные так, чтобы удобно было отобрать компании по параметрам и рассчитать показатели из расчёта на одну компанию без промежуточных агрегаций."
   ]
  },
  {
   "cell_type": "code",
   "execution_count": 44,
   "metadata": {
    "id": "oSk7xqu_FbaN"
   },
   "outputs": [
    {
     "name": "stdout",
     "output_type": "stream",
     "text": [
      "<class 'pandas.core.frame.DataFrame'>\n",
      "RangeIndex: 217774 entries, 0 to 217773\n",
      "Data columns (total 23 columns):\n",
      " #   Column               Non-Null Count   Dtype         \n",
      "---  ------               --------------   -----         \n",
      " 0   company_ID           217472 non-null  float64       \n",
      " 1   name                 217472 non-null  object        \n",
      " 2   category_code        143886 non-null  object        \n",
      " 3   status               217472 non-null  object        \n",
      " 4   founded_at           109956 non-null  datetime64[ns]\n",
      " 5   closed_at            109956 non-null  datetime64[ns]\n",
      " 6   domain               147159 non-null  object        \n",
      " 7   network_username     95534 non-null   object        \n",
      " 8   country_code         108607 non-null  object        \n",
      " 9   investment_rounds    217472 non-null  float64       \n",
      " 10  funding_rounds       217472 non-null  float64       \n",
      " 11  funding_total        217472 non-null  float64       \n",
      " 12  milestones           217472 non-null  float64       \n",
      " 13  funding_round_id     52928 non-null   float64       \n",
      " 14  company_id           52928 non-null   float64       \n",
      " 15  funded_at            52680 non-null   datetime64[ns]\n",
      " 16  funding_round_type   52928 non-null   object        \n",
      " 17  raised_amount        52928 non-null   float64       \n",
      " 18  pre_money_valuation  52928 non-null   float64       \n",
      " 19  participants         52928 non-null   float64       \n",
      " 20  is_first_round       52928 non-null   float64       \n",
      " 21  is_last_round        52928 non-null   float64       \n",
      " 22  funded_year          52680 non-null   float64       \n",
      "dtypes: datetime64[ns](3), float64(13), object(7)\n",
      "memory usage: 38.2+ MB\n"
     ]
    }
   ],
   "source": [
    "# Выведем повторно информацию о таблице company_and_rounds\n",
    "company_and_rounds_df.info()"
   ]
  },
  {
   "cell_type": "markdown",
   "metadata": {
    "id": "9BY9lTUcFbJ-"
   },
   "source": [
    "Ранее были обнаружены два столбца с информацией об id компании. Выведем эти два столбца, чтобы понять, являются ли столбцы дубликатами."
   ]
  },
  {
   "cell_type": "code",
   "execution_count": 45,
   "metadata": {
    "id": "tJ6Sl6MKrJg1",
    "vscode": {
     "languageId": "plaintext"
    }
   },
   "outputs": [
    {
     "name": "stdout",
     "output_type": "stream",
     "text": [
      "    company_ID  company_id\n",
      "0          1.0         1.0\n",
      "1          1.0         1.0\n",
      "2          1.0         1.0\n",
      "3         10.0         NaN\n",
      "4        100.0         NaN\n",
      "5      10000.0         NaN\n",
      "6      10001.0         NaN\n",
      "7      10002.0         NaN\n",
      "8      10003.0         NaN\n",
      "9     100042.0         NaN\n",
      "10     10005.0         NaN\n",
      "11    100062.0         NaN\n",
      "12    100068.0         NaN\n",
      "13     10008.0         NaN\n",
      "14     10009.0         NaN\n"
     ]
    }
   ],
   "source": [
    "# Выводим столбцы с id\n",
    "print(company_and_rounds_df[['company_ID', 'company_id']].head(15))"
   ]
  },
  {
   "cell_type": "markdown",
   "metadata": {},
   "source": [
    "Судя по соовпадениям в первых трех строкам, можем сделать вывод, что столбец `company_id` является дубликатом столбца `company_ID`. Его следует удалить."
   ]
  },
  {
   "cell_type": "code",
   "execution_count": 46,
   "metadata": {},
   "outputs": [],
   "source": [
    "# Удаление столбца\n",
    "company_and_rounds_df = company_and_rounds_df.drop(company_and_rounds_df.columns[14], axis=1)"
   ]
  },
  {
   "cell_type": "markdown",
   "metadata": {},
   "source": [
    "Также, ранее было обнаружено, что столбцы `funding_total` и `raised_amount` несут информацию о суммах финансирования. Проверим, являются ли они дубликатами друг друга."
   ]
  },
  {
   "cell_type": "code",
   "execution_count": 47,
   "metadata": {},
   "outputs": [
    {
     "name": "stdout",
     "output_type": "stream",
     "text": [
      "    funding_total  raised_amount\n",
      "0      39750000.0      5250000.0\n",
      "1      39750000.0      9500000.0\n",
      "2      39750000.0     25000000.0\n",
      "3             0.0            NaN\n",
      "4             0.0            NaN\n",
      "5             0.0            NaN\n",
      "6             0.0            NaN\n",
      "7             0.0            NaN\n",
      "8             0.0            NaN\n",
      "9             0.0            NaN\n",
      "10            0.0            NaN\n",
      "11            0.0            NaN\n",
      "12            0.0            NaN\n",
      "13            0.0            NaN\n",
      "14            0.0            NaN\n"
     ]
    }
   ],
   "source": [
    "# Выводим столбцы с суммой финансирования\n",
    "print(company_and_rounds_df[['funding_total', 'raised_amount']].head(15))"
   ]
  },
  {
   "cell_type": "code",
   "execution_count": 48,
   "metadata": {},
   "outputs": [
    {
     "name": "stdout",
     "output_type": "stream",
     "text": [
      "    company_ID                           name    category_code     status  \\\n",
      "0          1.0                       Wetpaint              web  operating   \n",
      "3         10.0                        Flektor      games_video   acquired   \n",
      "4        100.0                          There      games_video   acquired   \n",
      "5      10000.0                        MYWEBBO  network_hosting  operating   \n",
      "6      10001.0             THE Movie Streamer      games_video  operating   \n",
      "7      10002.0                 Synergie Media      advertising  operating   \n",
      "8      10003.0         Green Basti Ecosystems        cleantech  operating   \n",
      "9     100042.0                       HostNine              NaN  operating   \n",
      "10     10005.0              Thomas Publishing      advertising  operating   \n",
      "11    100062.0  Vetter Idea Management System       enterprise  operating   \n",
      "\n",
      "   founded_at  closed_at                domain network_username country_code  \\\n",
      "0  2005-10-17 2005-10-17      wetpaint-inc.com  BachelrWetpaint          USA   \n",
      "3         NaT        NaT           flektor.com              NaN          USA   \n",
      "4         NaT        NaT             there.com              NaN          USA   \n",
      "5  2008-07-26 2008-07-26           mywebbo.com              NaN          NaN   \n",
      "6  2008-07-26 2008-07-26  themoviestreamer.com              NaN          NaN   \n",
      "7  2007-06-27 2007-06-27    synergie-media.com              NaN          MAR   \n",
      "8  2008-08-20 2008-08-20                   NaN              NaN          IND   \n",
      "9         NaT        NaT          hostnine.com         Hostnine          NaN   \n",
      "10        NaT        NaT  thomaspublishing.com              NaN          USA   \n",
      "11 2011-08-01 2011-08-01         getvetter.com        getvetter          NaN   \n",
      "\n",
      "    investment_rounds  funding_rounds  funding_total  milestones  \n",
      "0                 0.0             3.0     39750000.0         5.0  \n",
      "3                 0.0             0.0            0.0         0.0  \n",
      "4                 0.0             0.0            0.0         4.0  \n",
      "5                 0.0             0.0            0.0         0.0  \n",
      "6                 0.0             0.0            0.0         0.0  \n",
      "7                 0.0             0.0            0.0         0.0  \n",
      "8                 0.0             0.0            0.0         0.0  \n",
      "9                 0.0             0.0            0.0         1.0  \n",
      "10                0.0             0.0            0.0         1.0  \n",
      "11                0.0             0.0            0.0         1.0  \n"
     ]
    }
   ],
   "source": [
    "# Создадим таблицу с информацией о компаниях\n",
    "companies_df = company_and_rounds_df[['company_ID', 'name', 'category_code', 'status', 'founded_at', \n",
    "                    'closed_at', 'domain', 'network_username', 'country_code', \n",
    "                    'investment_rounds', 'funding_rounds', 'funding_total', 'milestones']]\n",
    "companies_df = companies_df.drop_duplicates()\n",
    "print(companies_df.head(10))"
   ]
  },
  {
   "cell_type": "code",
   "execution_count": 49,
   "metadata": {},
   "outputs": [
    {
     "name": "stdout",
     "output_type": "stream",
     "text": [
      "   funding_round_id  company_ID  funded_at funding_round_type  raised_amount  \\\n",
      "0             888.0         1.0 2005-10-01           series-a      5250000.0   \n",
      "1             889.0         1.0 2007-01-01           series-b      9500000.0   \n",
      "2            2312.0         1.0 2008-05-19          series-c+     25000000.0   \n",
      "3               NaN        10.0        NaT                NaN            NaN   \n",
      "4               NaN       100.0        NaT                NaN            NaN   \n",
      "5               NaN     10000.0        NaT                NaN            NaN   \n",
      "6               NaN     10001.0        NaT                NaN            NaN   \n",
      "7               NaN     10002.0        NaT                NaN            NaN   \n",
      "8               NaN     10003.0        NaT                NaN            NaN   \n",
      "9               NaN    100042.0        NaT                NaN            NaN   \n",
      "\n",
      "   pre_money_valuation  participants  is_first_round  is_last_round  \\\n",
      "0                  0.0           2.0             0.0            1.0   \n",
      "1                  0.0           3.0             0.0            0.0   \n",
      "2                  0.0           4.0             1.0            0.0   \n",
      "3                  NaN           NaN             NaN            NaN   \n",
      "4                  NaN           NaN             NaN            NaN   \n",
      "5                  NaN           NaN             NaN            NaN   \n",
      "6                  NaN           NaN             NaN            NaN   \n",
      "7                  NaN           NaN             NaN            NaN   \n",
      "8                  NaN           NaN             NaN            NaN   \n",
      "9                  NaN           NaN             NaN            NaN   \n",
      "\n",
      "   funded_year  \n",
      "0       2005.0  \n",
      "1       2007.0  \n",
      "2       2008.0  \n",
      "3          NaN  \n",
      "4          NaN  \n",
      "5          NaN  \n",
      "6          NaN  \n",
      "7          NaN  \n",
      "8          NaN  \n",
      "9          NaN  \n"
     ]
    }
   ],
   "source": [
    "# Создадим таблицу с информацией о раундах\n",
    "rounds_df = company_and_rounds_df[['funding_round_id', 'company_ID', 'funded_at', 'funding_round_type', \n",
    "                 'raised_amount', 'pre_money_valuation', 'participants', \n",
    "                 'is_first_round', 'is_last_round', 'funded_year']]\n",
    "rounds_df = rounds_df.drop_duplicates()\n",
    "print(rounds_df.head(10))"
   ]
  },
  {
   "cell_type": "markdown",
   "metadata": {},
   "source": [
    "Выявлено, что столбцы `funding_total` и `raised_amount` не являются дубликатами."
   ]
  },
  {
   "cell_type": "markdown",
   "metadata": {
    "id": "bmVYhphNrJg2"
   },
   "source": [
    "## Исследовательский анализ объединённых таблиц"
   ]
  },
  {
   "cell_type": "markdown",
   "metadata": {
    "id": "3Di6tCT3rJg2"
   },
   "source": [
    "\n",
    "### Объединение данных\n",
    "\n",
    "**Задание:**\n",
    "\n",
    "1. Объедините данные для ответа на вопросы заказчика, которые касаются интересующих его компаний. Заказчика прежде всего интересуют те компании, которые меняли или готовы менять владельцев. Получение инвестиций или финансирования, по мнению заказчика, означает интерес к покупке или продаже компании.\n",
    "\n",
    "В качестве основы для объединённой таблицы возьмите данные из обработанного датасета `company_and_rounds.csv` — выберите только те компании, у которых указаны значения `funding_rounds` или `investment_rounds` больше нуля, или те, у которых в колонке `status` указано `acquired`. В результирующей таблице должно получиться порядка 40 тысяч компаний.\n",
    "\n",
    "Проверьте полноту и корректность получившейся таблицы. Далее работайте только с этими данными."
   ]
  },
  {
   "cell_type": "code",
   "execution_count": 50,
   "metadata": {
    "id": "kuV1b5MXFg3_"
   },
   "outputs": [
    {
     "name": "stdout",
     "output_type": "stream",
     "text": [
      "<class 'pandas.core.frame.DataFrame'>\n",
      "Int64Index: 40747 entries, 0 to 217469\n",
      "Data columns (total 13 columns):\n",
      " #   Column             Non-Null Count  Dtype         \n",
      "---  ------             --------------  -----         \n",
      " 0   company_ID         40747 non-null  float64       \n",
      " 1   name               40747 non-null  object        \n",
      " 2   category_code      35315 non-null  object        \n",
      " 3   status             40747 non-null  object        \n",
      " 4   founded_at         27807 non-null  datetime64[ns]\n",
      " 5   closed_at          27807 non-null  datetime64[ns]\n",
      " 6   domain             35754 non-null  object        \n",
      " 7   network_username   20850 non-null  object        \n",
      " 8   country_code       34742 non-null  object        \n",
      " 9   investment_rounds  40747 non-null  float64       \n",
      " 10  funding_rounds     40747 non-null  float64       \n",
      " 11  funding_total      40747 non-null  float64       \n",
      " 12  milestones         40747 non-null  float64       \n",
      "dtypes: datetime64[ns](2), float64(5), object(6)\n",
      "memory usage: 4.4+ MB\n"
     ]
    }
   ],
   "source": [
    "# Создадим отфильтрованную таблицу\n",
    "companies_acquired = companies_df[(companies_df['status'] == 'acquired') | (companies_df['funding_rounds'] > 0) | (companies_df['investment_rounds'] > 0)]\n",
    "companies_acquired.info()"
   ]
  },
  {
   "cell_type": "markdown",
   "metadata": {
    "id": "DFHINkV3rJg2"
   },
   "source": [
    "\n",
    "### Анализ выбросов\n",
    "\n",
    "Заказчика интересует обычный для рассматриваемого периода размер средств, который предоставлялся компаниям.\n",
    "\n",
    "**Задача:**\n",
    "\n",
    "1. По предобработанному столбцу `funding_total` графическим способом оцените, какой размер общего финансирования для одной компании будет типичным, а какой — выбивающимся.\n",
    "2. В процессе расчёта значений обратите внимание, например, на показатели, возвращаемые методом `.describe()`, — объясните их. Применимы ли к таким данным обычные способы нахождения типичных значений?"
   ]
  },
  {
   "cell_type": "code",
   "execution_count": 51,
   "metadata": {},
   "outputs": [
    {
     "name": "stdout",
     "output_type": "stream",
     "text": [
      "    company_ID                     name category_code     status founded_at  \\\n",
      "0          1.0                 Wetpaint           web  operating 2005-10-17   \n",
      "15      1001.0               FriendFeed           web   acquired 2007-10-01   \n",
      "21     10015.0                   Fitbit        health  operating 2007-10-01   \n",
      "26    100155.0                     MTPV     cleantech  operating 2003-01-01   \n",
      "32     10018.0               Demandbase     analytics  operating 2006-01-01   \n",
      "36    100189.0  Locatrix Communications        mobile  operating 2003-11-01   \n",
      "42    100228.0                iHireHelp     education  operating 2010-10-01   \n",
      "46    100238.0          Cardiosolutions       medical  operating 2006-01-01   \n",
      "52    100253.0        Blend Biosciences       biotech  operating        NaT   \n",
      "53     10026.0                    Wevod   games_video  operating 2006-05-04   \n",
      "\n",
      "    closed_at                  domain network_username country_code  \\\n",
      "0  2005-10-17        wetpaint-inc.com  BachelrWetpaint          USA   \n",
      "15 2007-10-01          friendfeed.com       friendfeed          USA   \n",
      "21 2007-10-01              fitbit.com           fitbit          USA   \n",
      "26 2003-01-01                mtpv.com              NaN          USA   \n",
      "32 2006-01-01          demandbase.com       Demandbase          USA   \n",
      "36 2003-11-01            locatrix.com              NaN          AUS   \n",
      "42 2010-10-01           ihirehelp.com        iHireHelp          USA   \n",
      "46 2006-01-01  cardiosolutionsinc.com              NaN          USA   \n",
      "52        NaT                     NaN              NaN          NaN   \n",
      "53 2006-05-04                wevod.tv              NaN          FRA   \n",
      "\n",
      "    investment_rounds  funding_rounds  funding_total  milestones  \n",
      "0                 0.0             3.0     39750000.0         5.0  \n",
      "15                0.0             1.0      5000000.0         3.0  \n",
      "21                0.0             5.0     68069200.0         0.0  \n",
      "26                0.0             3.0     10125300.0         1.0  \n",
      "32                0.0             3.0     33000000.0         3.0  \n",
      "36                0.0             1.0       250000.0         1.0  \n",
      "42                0.0             1.0       100000.0         1.0  \n",
      "46                0.0             2.0     11300000.0         0.0  \n",
      "52                0.0             1.0      2800000.0         0.0  \n",
      "53                0.0             2.0       414840.0         0.0  \n"
     ]
    }
   ],
   "source": [
    "# Исключим значения funding_total=0\n",
    "companies_funding = companies_acquired[companies_acquired['funding_total'] > 0]\n",
    "print(companies_funding.head(10))"
   ]
  },
  {
   "cell_type": "code",
   "execution_count": 52,
   "metadata": {
    "id": "8jm75fKXrJg2",
    "vscode": {
     "languageId": "plaintext"
    }
   },
   "outputs": [
    {
     "data": {
      "image/png": "[encoded data removed]",
      "text/plain": [
       "<Figure size 864x432 with 1 Axes>"
      ]
     },
     "metadata": {
      "needs_background": "light"
     },
     "output_type": "display_data"
    }
   ],
   "source": [
    "# Построим ящик с усами\n",
    "mpl.figure(figsize=(12, 6))\n",
    "sb.boxplot(x=companies_funding['funding_total'])\n",
    "mpl.title('Распределение данных в столбце funding_total')\n",
    "mpl.xlabel('Финансирование')\n",
    "\n",
    "mpl.show()"
   ]
  },
  {
   "cell_type": "code",
   "execution_count": 53,
   "metadata": {
    "id": "S1jrfr7rFhcw"
   },
   "outputs": [
    {
     "name": "stdout",
     "output_type": "stream",
     "text": [
      "count          27,874.00\n",
      "mean       14,816,520.27\n",
      "std        67,759,363.12\n",
      "min               291.00\n",
      "25%           500,000.00\n",
      "50%         2,564,500.00\n",
      "75%        11,000,000.00\n",
      "max     5,700,000,000.00\n",
      "Name: funding_total, dtype: float64\n"
     ]
    }
   ],
   "source": [
    "# Установка параметров отображения\n",
    "pd.set_option('display.float_format', '{:,.2f}'.format)\n",
    "\n",
    "# Опишем данные методом describe\n",
    "companies_funding_description = companies_funding['funding_total'].describe()\n",
    "print(companies_funding_description)"
   ]
  },
  {
   "cell_type": "markdown",
   "metadata": {},
   "source": [
    "**Ответ:**\n",
    "\n",
    "1. Максимальное и минимальное значения являются аномальными. Стоит выяснить природу этих значений.\n",
    "2. Между средним и медианой очень большой разрыв, что указывает на не симметричное распределение данных и большой разброс данных.\n",
    "3. Обычные способы нахождения типичных значений не применимы к таким данным, так как есть большой разброс."
   ]
  },
  {
   "cell_type": "markdown",
   "metadata": {
    "id": "JqkRAQrIrJg2"
   },
   "source": [
    "\n",
    "### Куплены забесплатно?\n",
    "\n",
    "**Задача:**\n",
    "\n",
    "1. Исследуйте компании, которые были проданы за ноль или за один доллар, и при этом известно, что у них был ненулевой общий объём финансирования.\n",
    "\n",
    "2. Рассчитайте аналитически верхнюю и нижнюю границу выбросов для столбца `funding_total` и укажите, каким процентилям границы соответствуют."
   ]
  },
  {
   "cell_type": "code",
   "execution_count": 54,
   "metadata": {},
   "outputs": [
    {
     "name": "stdout",
     "output_type": "stream",
     "text": [
      "    company_ID                    name category_code    status founded_at  \\\n",
      "0        10.00                 Flektor   games_video  acquired        NaT   \n",
      "1       100.00                   There   games_video  acquired        NaT   \n",
      "2     1,001.00              FriendFeed           web  acquired 2007-10-01   \n",
      "3    10,014.00                 Mobclix        mobile  acquired 2008-03-01   \n",
      "4   100,265.00  Coastal Supply Company           NaN  acquired        NaT   \n",
      "5     1,004.00                   Tioti   games_video  acquired        NaT   \n",
      "6    10,049.00                  INNCOM      hardware  acquired 1986-01-01   \n",
      "7    10,054.00                 Jumptap        mobile  acquired 2005-01-01   \n",
      "8   100,589.00                   Datum           NaN  acquired        NaT   \n",
      "9     1,007.00                 Rupture   games_video  acquired        NaT   \n",
      "10  100,704.00         Cactus Commerce           NaN  acquired        NaT   \n",
      "11  100,735.00               TelPlexus           NaN  acquired 1998-01-01   \n",
      "12  100,840.00                RepliWeb      software  acquired        NaT   \n",
      "13   10,085.00                  Compaq      hardware  acquired        NaT   \n",
      "14  100,937.00         Toytown Germany           NaN  acquired        NaT   \n",
      "\n",
      "    closed_at              domain network_username country_code  \\\n",
      "0         NaT         flektor.com              NaN          USA   \n",
      "1         NaT           there.com              NaN          USA   \n",
      "2  2007-10-01      friendfeed.com       friendfeed          USA   \n",
      "3  2008-03-01         mobclix.com          mobclix          USA   \n",
      "4         NaT                 NaN              NaN          NaN   \n",
      "5         NaT           tioti.com              NaN          USA   \n",
      "6  1986-01-01          inncom.com              NaN          USA   \n",
      "7  2005-01-01         jumptap.com          jumptap          USA   \n",
      "8         NaT                 NaN              NaN          NaN   \n",
      "9         NaT         rupture.com          rupture          USA   \n",
      "10        NaT  cactuscommerce.com   cactuscommerce          CAN   \n",
      "11 1998-01-01       telplexus.com              NaN          USA   \n",
      "12        NaT        repliweb.com              NaN          USA   \n",
      "13        NaT          compaq.com              NaN          USA   \n",
      "14        NaT                 NaN              NaN          NaN   \n",
      "\n",
      "    investment_rounds  funding_rounds  funding_total  milestones  \\\n",
      "0                0.00            0.00           0.00        0.00   \n",
      "1                0.00            0.00           0.00        4.00   \n",
      "2                0.00            1.00   5,000,000.00        3.00   \n",
      "3                0.00            1.00           0.00        4.00   \n",
      "4                0.00            0.00           0.00        1.00   \n",
      "5                0.00            0.00           0.00        3.00   \n",
      "6                0.00            0.00           0.00        0.00   \n",
      "7                0.00            7.00 121,500,000.00        3.00   \n",
      "8                0.00            0.00           0.00        0.00   \n",
      "9                0.00            1.00   3,000,000.00        2.00   \n",
      "10               0.00            0.00           0.00        0.00   \n",
      "11               0.00            0.00           0.00        0.00   \n",
      "12               0.00            0.00           0.00        0.00   \n",
      "13               1.00            0.00           0.00        1.00   \n",
      "14               0.00            0.00           0.00        0.00   \n",
      "\n",
      "    price_amount  acquired_company_id  \n",
      "0       20000000                   10  \n",
      "1              0                  100  \n",
      "2       47500000                 1001  \n",
      "3              0                10014  \n",
      "4              0               100265  \n",
      "5              0                 1004  \n",
      "6              0                10049  \n",
      "7              0                10054  \n",
      "8              0               100589  \n",
      "9       15000000                 1007  \n",
      "10             0               100704  \n",
      "11             0               100735  \n",
      "12             0               100840  \n",
      "13             0                10085  \n",
      "14             0               100937  \n"
     ]
    }
   ],
   "source": [
    "# Создадим таблицу только проданных компаний с информацией price_amount\n",
    "companies_acquisition = pd.merge(companies_acquired, acquisition_df[['price_amount', 'acquired_company_id']], left_on='company_ID', right_on='acquired_company_id', how='inner')\n",
    "\n",
    "print(companies_acquisition.head(15))"
   ]
  },
  {
   "cell_type": "code",
   "execution_count": 55,
   "metadata": {},
   "outputs": [
    {
     "name": "stdout",
     "output_type": "stream",
     "text": [
      "      company_ID                              name category_code    status  \\\n",
      "152    10,963.00                               TNC           web  acquired   \n",
      "153    10,963.00                               TNC           web  acquired   \n",
      "244    11,716.00                           Hotjobs           NaN  acquired   \n",
      "245    11,716.00                           Hotjobs           NaN  acquired   \n",
      "280    11,943.00                     Opusforum.org           NaN  acquired   \n",
      "...          ...                               ...           ...       ...   \n",
      "9235      867.00                          GamerDNA           web  acquired   \n",
      "9291    9,250.00  StarCite, Part of Active Network    enterprise  acquired   \n",
      "9292    9,250.00  StarCite, Part of Active Network    enterprise  acquired   \n",
      "9380      997.00                            Zimbra    enterprise  acquired   \n",
      "9381      997.00                            Zimbra    enterprise  acquired   \n",
      "\n",
      "     founded_at  closed_at             domain network_username country_code  \\\n",
      "152  2004-01-01 2004-01-01     tnccompany.com              NaN          NaN   \n",
      "153  2004-01-01 2004-01-01     tnccompany.com              NaN          NaN   \n",
      "244         NaT        NaT                NaN              NaN          NaN   \n",
      "245         NaT        NaT                NaN              NaN          NaN   \n",
      "280         NaT        NaT                NaN              NaN          DEU   \n",
      "...         ...        ...                ...              ...          ...   \n",
      "9235 2006-10-01 2006-10-01       gamerdna.com         GamerDNA          USA   \n",
      "9291 1999-01-01 1999-01-01  www2.starcite.com         starcite          USA   \n",
      "9292 1999-01-01 1999-01-01  www2.starcite.com         starcite          USA   \n",
      "9380 2003-01-01 2003-01-01         zimbra.com           zimbra          USA   \n",
      "9381 2003-01-01 2003-01-01         zimbra.com           zimbra          USA   \n",
      "\n",
      "      investment_rounds  funding_rounds  funding_total  milestones  \\\n",
      "152                0.00            1.00           0.00        2.00   \n",
      "153                0.00            1.00           0.00        2.00   \n",
      "244                0.00            0.00           0.00        3.00   \n",
      "245                0.00            0.00           0.00        3.00   \n",
      "280                0.00            0.00           0.00        0.00   \n",
      "...                 ...             ...            ...         ...   \n",
      "9235               0.00            2.00   3,000,000.00        3.00   \n",
      "9291               0.00            1.00  15,000,000.00        1.00   \n",
      "9292               0.00            1.00  15,000,000.00        1.00   \n",
      "9380               0.00            1.00  14,500,000.00        3.00   \n",
      "9381               0.00            1.00  14,500,000.00        3.00   \n",
      "\n",
      "      price_amount  acquired_company_id  \n",
      "152              0                10963  \n",
      "153              0                10963  \n",
      "244      225000000                11716  \n",
      "245      436000000                11716  \n",
      "280              0                11943  \n",
      "...            ...                  ...  \n",
      "9235             0                  867  \n",
      "9291             0                 9250  \n",
      "9292      51000000                 9250  \n",
      "9380     350000000                  997  \n",
      "9381             0                  997  \n",
      "\n",
      "[270 rows x 15 columns]\n"
     ]
    }
   ],
   "source": [
    "# Найдем дубликаты по столбцу acquired_company_id\n",
    "duplicates = companies_acquisition[companies_acquisition.duplicated(subset='acquired_company_id', keep=False)]\n",
    "\n",
    "print(duplicates)"
   ]
  },
  {
   "cell_type": "markdown",
   "metadata": {},
   "source": [
    "**По результатам поиска дубликатов можно сделать следующий вывод:**\n",
    "\n",
    "1. Обнаружено 270 дубликатов, включая оригинальные строки. Тем не менее, их не стоит удалять, потому что хоть и есть совпадение по id, но суммы в price_amount разные. Это может говорить нам о том, что компания продавалась не один раз, а несколько."
   ]
  },
  {
   "cell_type": "code",
   "execution_count": 56,
   "metadata": {},
   "outputs": [
    {
     "name": "stdout",
     "output_type": "stream",
     "text": [
      "    company_ID                   name category_code    status founded_at  \\\n",
      "7    10,054.00                Jumptap        mobile  acquired 2005-01-01   \n",
      "17  101,312.00               SideTour           web  acquired 2011-06-01   \n",
      "18  101,340.00             ChoicePass    enterprise  acquired 2011-07-01   \n",
      "19   10,137.00             Producteev      software  acquired 2008-07-08   \n",
      "20   10,139.00              TradeCard    enterprise  acquired 1999-01-01   \n",
      "28   10,179.00              GoodGuide           web  acquired 2007-12-01   \n",
      "33   10,199.00        Where I've Been        travel  acquired 2007-06-08   \n",
      "34   10,200.00                  Swype      software  acquired 2002-01-01   \n",
      "43   10,252.00                 Mob.ly        mobile  acquired 2007-10-01   \n",
      "51   10,273.00                Angstro      software  acquired 2007-04-27   \n",
      "54  102,867.00              WeHostels        travel  acquired 2011-11-15   \n",
      "62   10,392.00                 Intela   advertising  acquired 2006-02-02   \n",
      "64   10,393.00  Spare Change Payments           web  acquired 2008-01-01   \n",
      "67    1,042.00          Whiskey Media           web  acquired 2007-10-01   \n",
      "70    1,043.00              VoodooVox        mobile  acquired 2002-01-01   \n",
      "\n",
      "    closed_at              domain network_username country_code  \\\n",
      "7  2005-01-01         jumptap.com          jumptap          USA   \n",
      "17 2011-06-01        sidetour.com         sidetour          USA   \n",
      "18 2011-07-01      choicepass.com       choicepass          USA   \n",
      "19 2008-07-08      producteev.com       producteev          USA   \n",
      "20 1999-01-01       tradecard.com        TradeCard          USA   \n",
      "28 2007-12-01       goodguide.com        GoodGuide          USA   \n",
      "33 2007-06-08    whereivebeen.com     whereivebeen          USA   \n",
      "34 2002-01-01           swype.com            Swype          USA   \n",
      "43 2007-10-01              mob.ly              NaN          USA   \n",
      "51 2007-04-27         angstro.com              NaN          USA   \n",
      "54 2011-11-15       wehostels.com        WeHostels          USA   \n",
      "62 2006-02-02          intela.com           intela          USA   \n",
      "64 2008-01-01  sparechangeinc.com              NaN          USA   \n",
      "67 2007-10-01    whiskeymedia.com     whiskeymedia          USA   \n",
      "70 2002-01-01       voodoovox.com              NaN          USA   \n",
      "\n",
      "    investment_rounds  funding_rounds  funding_total  milestones  \\\n",
      "7                0.00            7.00 121,500,000.00        3.00   \n",
      "17               0.00            3.00   4,000,000.00        2.00   \n",
      "18               0.00            1.00     250,000.00        1.00   \n",
      "19               0.00            3.00   1,310,000.00        2.00   \n",
      "20               0.00            2.00  44,925,000.00        1.00   \n",
      "28               0.00            3.00  14,230,000.00        3.00   \n",
      "33               0.00            2.00   1,750,000.00        2.00   \n",
      "34               0.00            5.00  13,900,000.00        3.00   \n",
      "43               0.00            1.00   1,100,000.00        2.00   \n",
      "51               0.00            1.00     225,000.00        0.00   \n",
      "54               0.00            1.00   1,200,000.00        3.00   \n",
      "62               0.00            2.00  13,250,000.00        4.00   \n",
      "64               0.00            1.00     509,412.00        1.00   \n",
      "67               0.00            2.00   4,000,000.00        1.00   \n",
      "70               0.00            3.00   9,650,000.00        4.00   \n",
      "\n",
      "    price_amount  acquired_company_id  \n",
      "7              0                10054  \n",
      "17             0               101312  \n",
      "18             0               101340  \n",
      "19             0                10137  \n",
      "20             0                10139  \n",
      "28             0                10179  \n",
      "33             0                10199  \n",
      "34             0                10200  \n",
      "43             0                10252  \n",
      "51             0                10273  \n",
      "54             0               102867  \n",
      "62             0                10392  \n",
      "64             0                10393  \n",
      "67             0                 1042  \n",
      "70             0                 1043  \n"
     ]
    }
   ],
   "source": [
    "# Создадим таблицу компаний, проданных за 0 или 1 доллар\n",
    "companies_free = companies_acquisition[(companies_acquisition['funding_total'] != 0) & (companies_acquisition['price_amount'] < 2)]\n",
    "print(companies_free.head(15))"
   ]
  },
  {
   "cell_type": "code",
   "execution_count": 57,
   "metadata": {},
   "outputs": [
    {
     "name": "stdout",
     "output_type": "stream",
     "text": [
      "Нижняя граница -18250000.0\n",
      "Верхняя граница 35750000.0\n"
     ]
    }
   ],
   "source": [
    "# Считаем верхнюю и нижнюю границу выбросов\n",
    "Q1 = companies_free['funding_total'].quantile(0.25)\n",
    "Q3 = companies_free['funding_total'].quantile(0.75)\n",
    "IQR = Q3 - Q1\n",
    "lower_bound = Q1 - 1.5 * IQR\n",
    "upper_bound = Q3 + 1.5 * IQR\n",
    "\n",
    "print(f'Нижняя граница {lower_bound}')\n",
    "print(f'Верхняя граница {upper_bound}')"
   ]
  },
  {
   "cell_type": "code",
   "execution_count": 58,
   "metadata": {},
   "outputs": [
    {
     "name": "stdout",
     "output_type": "stream",
     "text": [
      "Нижняя граница: 0\n",
      "Верхняя граница: 35750000.0\n"
     ]
    }
   ],
   "source": [
    "# Заменяем отрицательное значение на 0\n",
    "if lower_bound < 0:\n",
    "    lower_bound = 0\n",
    "\n",
    "print(f'Нижняя граница: {lower_bound}')\n",
    "print(f'Верхняя граница: {upper_bound}')"
   ]
  },
  {
   "cell_type": "code",
   "execution_count": 59,
   "metadata": {},
   "outputs": [
    {
     "name": "stdout",
     "output_type": "stream",
     "text": [
      "Нижний процентиль: 0.0\n",
      "Верхний процентиль: 0.9091470951792336\n"
     ]
    }
   ],
   "source": [
    "# Считаем процентиль для нижней границы\n",
    "if lower_bound < companies_free['funding_total'].min():\n",
    "    lower_percentile = 0.0\n",
    "else:\n",
    "    lower_percentile = (companies_free['funding_total'] < lower_bound).mean()\n",
    "    \n",
    "# Считаем процентиль для верхней границы  \n",
    "if upper_bound > companies_free['funding_total'].max():\n",
    "    upper_percentile = 1.0\n",
    "else:\n",
    "    upper_percentile = (companies_free['funding_total'] <= upper_bound).mean()\n",
    "    \n",
    "print(f'Нижний процентиль: {lower_percentile}')\n",
    "print(f'Верхний процентиль: {upper_percentile}')"
   ]
  },
  {
   "cell_type": "markdown",
   "metadata": {
    "id": "mEiWpROjrJg2"
   },
   "source": [
    "\n",
    "### Цены стартапов по категориям\n",
    "\n",
    "Категории стартапов с типично высокими ценами покупки стартапов и значительным разбросом цен могут быть привлекательными для крупных инвесторов, которые готовы к высоким рискам ради потенциально больших доходов. \n",
    "\n",
    "**Задача:**\n",
    "\n",
    "1. Среди категорий стартапов выделите категории стартапов, характеризующиеся:\n",
    "\n",
    "- типично высокими ценами;\n",
    "- и наибольшим разбросом цен за стартап.\n",
    "\n",
    "2. Объясните, почему решили составить топ именно из такого числа категорий и почему рассчитывали именно так."
   ]
  },
  {
   "cell_type": "code",
   "execution_count": 60,
   "metadata": {
    "id": "jQ09dYUWrJg2",
    "vscode": {
     "languageId": "plaintext"
    }
   },
   "outputs": [
    {
     "name": "stdout",
     "output_type": "stream",
     "text": [
      "    category_code     median\n",
      "2      automotive   43000000\n",
      "3         biotech   13200000\n",
      "11        finance     600000\n",
      "15    hospitality   12500000\n",
      "18  manufacturing   72000000\n",
      "23       nanotech  584000000\n",
      "30    real_estate   50000000\n"
     ]
    }
   ],
   "source": [
    "# Группируем данные по категориям, считая медиану\n",
    "сompanies_category_median = companies_acquisition.groupby('category_code')['price_amount'].agg(['median']).reset_index()\n",
    "сompanies_category_median = сompanies_category_median[сompanies_category_median['median'] != 0]\n",
    "\n",
    "print(сompanies_category_median)"
   ]
  },
  {
   "cell_type": "code",
   "execution_count": 70,
   "metadata": {},
   "outputs": [
    {
     "name": "stdout",
     "output_type": "stream",
     "text": [
      "    category_code     median\n",
      "23       nanotech  584000000\n",
      "18  manufacturing   72000000\n",
      "30    real_estate   50000000\n",
      "2      automotive   43000000\n",
      "3         biotech   13200000\n"
     ]
    }
   ],
   "source": [
    "# ТОП-5 самых дорогих категорий\n",
    "category_top = сompanies_category_median.sort_values(by='median', ascending=False)\n",
    "print(category_top.head(5))"
   ]
  },
  {
   "cell_type": "code",
   "execution_count": 67,
   "metadata": {},
   "outputs": [
    {
     "name": "stdout",
     "output_type": "stream",
     "text": [
      "       category_code           std\n",
      "0        advertising 19,279,837.92\n",
      "1          analytics 12,977,713.69\n",
      "2         automotive 24,826,061.58\n",
      "3            biotech 25,937,642.67\n",
      "4          cleantech 21,413,939.98\n",
      "5         consulting 14,691,954.90\n",
      "6             design          0.00\n",
      "7          ecommerce 14,459,835.96\n",
      "8          education  8,559,050.29\n",
      "9         enterprise 17,636,554.11\n",
      "10           fashion 32,500,000.00\n",
      "11           finance 28,225,212.18\n",
      "12       games_video 18,461,060.46\n",
      "13          hardware 19,635,768.23\n",
      "14            health 30,769,496.34\n",
      "15       hospitality 24,251,774.60\n",
      "16             legal          0.00\n",
      "17             local  9,318,548.81\n",
      "18     manufacturing 20,831,473.37\n",
      "19           medical  9,498,192.42\n",
      "20         messaging 28,464,031.46\n",
      "21            mobile 20,656,327.06\n",
      "22             music  1,305,808.66\n",
      "23   network_hosting 20,323,787.06\n",
      "24              news 21,324,517.68\n",
      "25         nonprofit           NaN\n",
      "26             other 14,709,978.11\n",
      "27       photo_video 24,228,551.90\n",
      "28  public_relations 20,484,596.11\n",
      "29       real_estate 25,473,842.79\n",
      "30            search 25,864,120.41\n",
      "31          security 17,108,388.28\n",
      "32     semiconductor 25,063,267.24\n",
      "33            social 13,867,167.46\n",
      "34          software 18,782,723.77\n",
      "35            sports          0.00\n",
      "36    transportation  8,944,271.91\n",
      "37            travel  1,243,282.60\n",
      "38               web 19,511,079.25\n"
     ]
    }
   ],
   "source": [
    "# Группируем данные по категориям, считая стандартное отклонение и исключая данные выше 90 процентиля\n",
    "percentile_90 = companies_acquisition['price_amount'].quantile(0.90)\n",
    "companies_per90 = companies_acquisition[companies_acquisition['price_amount'] <= percentile_90]\n",
    "companies_category_std = companies_per90.groupby('category_code')['price_amount'].agg(['std']).reset_index()\n",
    "\n",
    "print(companies_category_std)"
   ]
  },
  {
   "cell_type": "code",
   "execution_count": 71,
   "metadata": {},
   "outputs": [
    {
     "name": "stdout",
     "output_type": "stream",
     "text": [
      "   category_code           std\n",
      "10       fashion 32,500,000.00\n",
      "14        health 30,769,496.34\n",
      "20     messaging 28,464,031.46\n",
      "11       finance 28,225,212.18\n",
      "3        biotech 25,937,642.67\n"
     ]
    }
   ],
   "source": [
    "# ТОП-5 категорий по разбросу цен\n",
    "category_diff = companies_category_std.sort_values(by='std', ascending=False)\n",
    "print(category_diff.head(5))"
   ]
  },
  {
   "cell_type": "markdown",
   "metadata": {
    "id": "eF1aULm5FjfY"
   },
   "source": [
    "**Ответ:**\n",
    "\n",
    "Так как присутствует небольшое количество категорий, то оптимально было вывести ТОП-5. Самым оптимальным вариантом показалась группировка по среднему и по разбросу. Именно разброс даст возможность понять, в каких категориях более вариативные данные."
   ]
  },
  {
   "cell_type": "markdown",
   "metadata": {
    "id": "ADOfyVY_rJg3"
   },
   "source": [
    "\n",
    "### Сколько раундов продержится стартап перед покупкой\n",
    "\n",
    "**Задача:**\n",
    "\n",
    "1. Необходимо проанализировать столбец `funding_rounds`. Исследуйте значения столбца. Заказчика интересует типичное значение количества раундов для каждого возможного статуса стартапа.\n",
    "2. Постройте график, который отображает, сколько в среднем раундов финансирования проходило для стартапов из каждой группы. Сделайте выводы."
   ]
  },
  {
   "cell_type": "code",
   "execution_count": 72,
   "metadata": {
    "id": "hgXMPC4WrJg3",
    "vscode": {
     "languageId": "plaintext"
    }
   },
   "outputs": [
    {
     "name": "stdout",
     "output_type": "stream",
     "text": [
      "      status  funding_rounds\n",
      "0   acquired            0.52\n",
      "1     closed            1.38\n",
      "2        ipo            1.93\n",
      "3  operating            1.52\n"
     ]
    }
   ],
   "source": [
    "# Сгруппируем данные по статусу и найдем среднее\n",
    "status_rounds = companies_acquired.groupby('status')['funding_rounds'].mean().reset_index()\n",
    "print(status_rounds)"
   ]
  },
  {
   "cell_type": "code",
   "execution_count": 73,
   "metadata": {
    "id": "pV3e7kw5Fj1Y"
   },
   "outputs": [
    {
     "data": {
      "image/png": "[encoded data removed]",
      "text/plain": [
       "<Figure size 864x432 with 1 Axes>"
      ]
     },
     "metadata": {
      "needs_background": "light"
     },
     "output_type": "display_data"
    }
   ],
   "source": [
    "# Строим график\n",
    "mpl.figure(figsize=(12, 6))\n",
    "mpl.bar(status_rounds['status'], status_rounds['funding_rounds'], color='green')\n",
    "mpl.xlabel('Статус стартапа')\n",
    "mpl.ylabel('Среднее количество раундов')\n",
    "mpl.title('Среднее количество раундов финансирования для каждого статуса')\n",
    "mpl.xticks(rotation=45)\n",
    "mpl.grid(axis='y')\n",
    "mpl.tight_layout()\n",
    "mpl.show()"
   ]
  },
  {
   "cell_type": "markdown",
   "metadata": {},
   "source": [
    "**Вывод:**\n",
    "\n",
    "1. Стартапы со статусом ipo имеют наибольшее количество раундов в среднем.\n",
    "2. Стартапы со статусом acquired имеют наименьшее количество раундов."
   ]
  },
  {
   "cell_type": "markdown",
   "metadata": {
    "id": "VAFEZ2HBrJg3"
   },
   "source": [
    "\n",
    "## Итоговый вывод и рекомендации\n",
    "\n",
    "\n",
    "1. В данных было обнаружено большое количество как аномально высоких значений, так и аномально низких. Стоит дополнительно изучить аномальные значения, чтобы понять их природу.\n",
    "2. Наибольшее количество раундов финансирования у компаний, которые вышли публично на биржу, а наименьшее - у компаний, которые проданы. Такой результат кажется логичным, поэтому в этом вопросе, на мой взгляд, данным можно доверять.\n",
    "3. Стоит отметить, что самым дорогим и финансово вариантивным является автомобольный бизнес.\n",
    "4. Обнаружены компании, которые проданы за нулевую стоиомсть. Этот вопрос требует дополнительного исследования, так как на первый взгляд это кажется ошибкой в данных."
   ]
  }
 ],
 "metadata": {
  "ExecuteTimeLog": [
   {
    "duration": 1517,
    "start_time": "2025-06-30T09:41:04.250Z"
   },
   {
    "duration": 3628,
    "start_time": "2025-06-30T09:41:43.657Z"
   },
   {
    "duration": 94,
    "start_time": "2025-06-30T09:41:47.287Z"
   },
   {
    "duration": 24,
    "start_time": "2025-06-30T09:47:02.835Z"
   },
   {
    "duration": 2278,
    "start_time": "2025-06-30T09:47:51.301Z"
   },
   {
    "duration": 2320,
    "start_time": "2025-06-30T09:49:10.846Z"
   },
   {
    "duration": 133,
    "start_time": "2025-06-30T09:50:56.879Z"
   },
   {
    "duration": 101,
    "start_time": "2025-06-30T09:51:23.622Z"
   },
   {
    "duration": 13,
    "start_time": "2025-06-30T09:51:55.228Z"
   },
   {
    "duration": 12,
    "start_time": "2025-06-30T10:17:06.239Z"
   },
   {
    "duration": 11,
    "start_time": "2025-06-30T10:17:14.942Z"
   },
   {
    "duration": 6,
    "start_time": "2025-06-30T10:17:22.729Z"
   },
   {
    "duration": 42,
    "start_time": "2025-06-30T10:22:50.266Z"
   },
   {
    "duration": 6,
    "start_time": "2025-06-30T10:22:53.580Z"
   },
   {
    "duration": 9,
    "start_time": "2025-06-30T10:31:49.104Z"
   },
   {
    "duration": 2359,
    "start_time": "2025-06-30T10:32:04.961Z"
   },
   {
    "duration": 20,
    "start_time": "2025-06-30T10:32:10.520Z"
   },
   {
    "duration": 5,
    "start_time": "2025-06-30T10:32:18.759Z"
   },
   {
    "duration": 55,
    "start_time": "2025-06-30T10:36:22.025Z"
   },
   {
    "duration": 9,
    "start_time": "2025-06-30T10:36:24.241Z"
   },
   {
    "duration": 27,
    "start_time": "2025-06-30T10:37:12.675Z"
   },
   {
    "duration": 9,
    "start_time": "2025-06-30T10:37:15.244Z"
   },
   {
    "duration": 27,
    "start_time": "2025-06-30T10:40:12.958Z"
   },
   {
    "duration": 15,
    "start_time": "2025-06-30T10:42:02.285Z"
   },
   {
    "duration": 7,
    "start_time": "2025-06-30T10:42:05.604Z"
   },
   {
    "duration": 9,
    "start_time": "2025-06-30T10:49:30.151Z"
   },
   {
    "duration": 5,
    "start_time": "2025-06-30T10:49:32.998Z"
   },
   {
    "duration": 2444,
    "start_time": "2025-06-30T10:51:49.666Z"
   },
   {
    "duration": 1188,
    "start_time": "2025-06-30T10:51:53.669Z"
   },
   {
    "duration": 2419,
    "start_time": "2025-06-30T10:51:57.076Z"
   },
   {
    "duration": 100,
    "start_time": "2025-06-30T10:52:00.434Z"
   },
   {
    "duration": 16,
    "start_time": "2025-06-30T10:52:02.059Z"
   },
   {
    "duration": 12,
    "start_time": "2025-06-30T10:52:07.046Z"
   },
   {
    "duration": 6,
    "start_time": "2025-06-30T10:52:08.793Z"
   },
   {
    "duration": 41,
    "start_time": "2025-06-30T10:52:12.414Z"
   },
   {
    "duration": 6,
    "start_time": "2025-06-30T10:52:13.058Z"
   },
   {
    "duration": 21,
    "start_time": "2025-06-30T10:52:16.683Z"
   },
   {
    "duration": 5,
    "start_time": "2025-06-30T10:52:17.383Z"
   },
   {
    "duration": 26,
    "start_time": "2025-06-30T10:52:21.204Z"
   },
   {
    "duration": 7,
    "start_time": "2025-06-30T10:52:23.103Z"
   },
   {
    "duration": 12,
    "start_time": "2025-06-30T10:52:25.864Z"
   },
   {
    "duration": 6,
    "start_time": "2025-06-30T10:52:27.905Z"
   },
   {
    "duration": 10,
    "start_time": "2025-06-30T10:52:35.014Z"
   },
   {
    "duration": 6,
    "start_time": "2025-06-30T10:52:35.944Z"
   },
   {
    "duration": 3270,
    "start_time": "2025-07-01T07:06:25.818Z"
   },
   {
    "duration": 1328,
    "start_time": "2025-07-01T07:06:29.090Z"
   },
   {
    "duration": 2238,
    "start_time": "2025-07-01T07:06:33.018Z"
   },
   {
    "duration": 104,
    "start_time": "2025-07-01T07:06:35.258Z"
   },
   {
    "duration": 14,
    "start_time": "2025-07-01T07:06:35.669Z"
   },
   {
    "duration": 11,
    "start_time": "2025-07-01T07:06:42.478Z"
   },
   {
    "duration": 6,
    "start_time": "2025-07-01T07:06:44.798Z"
   },
   {
    "duration": 43,
    "start_time": "2025-07-01T07:06:48.313Z"
   },
   {
    "duration": 6,
    "start_time": "2025-07-01T07:06:51.785Z"
   },
   {
    "duration": 23,
    "start_time": "2025-07-01T07:06:54.820Z"
   },
   {
    "duration": 5,
    "start_time": "2025-07-01T07:06:55.698Z"
   },
   {
    "duration": 28,
    "start_time": "2025-07-01T07:06:59.117Z"
   },
   {
    "duration": 5,
    "start_time": "2025-07-01T07:06:59.793Z"
   },
   {
    "duration": 13,
    "start_time": "2025-07-01T07:07:03.151Z"
   },
   {
    "duration": 7,
    "start_time": "2025-07-01T07:07:05.031Z"
   },
   {
    "duration": 10,
    "start_time": "2025-07-01T07:07:08.709Z"
   },
   {
    "duration": 5,
    "start_time": "2025-07-01T07:07:10.750Z"
   },
   {
    "duration": 102,
    "start_time": "2025-07-01T07:12:59.678Z"
   },
   {
    "duration": 1837,
    "start_time": "2025-07-01T07:13:30.162Z"
   },
   {
    "duration": 1924,
    "start_time": "2025-07-01T07:13:39.395Z"
   },
   {
    "duration": 2643,
    "start_time": "2025-07-01T07:13:57.549Z"
   },
   {
    "duration": 3,
    "start_time": "2025-07-01T07:14:00.194Z"
   },
   {
    "duration": 2031,
    "start_time": "2025-07-01T07:14:04.255Z"
   },
   {
    "duration": 102,
    "start_time": "2025-07-01T07:14:07.501Z"
   },
   {
    "duration": 14,
    "start_time": "2025-07-01T07:14:11.353Z"
   },
   {
    "duration": 12,
    "start_time": "2025-07-01T07:14:19.480Z"
   },
   {
    "duration": 6,
    "start_time": "2025-07-01T07:14:20.250Z"
   },
   {
    "duration": 45,
    "start_time": "2025-07-01T07:14:24.822Z"
   },
   {
    "duration": 6,
    "start_time": "2025-07-01T07:14:25.582Z"
   },
   {
    "duration": 24,
    "start_time": "2025-07-01T07:14:28.921Z"
   },
   {
    "duration": 10,
    "start_time": "2025-07-01T07:14:29.536Z"
   },
   {
    "duration": 25,
    "start_time": "2025-07-01T07:14:32.845Z"
   },
   {
    "duration": 6,
    "start_time": "2025-07-01T07:14:33.507Z"
   },
   {
    "duration": 14,
    "start_time": "2025-07-01T07:14:37.812Z"
   },
   {
    "duration": 7,
    "start_time": "2025-07-01T07:14:38.754Z"
   },
   {
    "duration": 8,
    "start_time": "2025-07-01T07:14:42.976Z"
   },
   {
    "duration": 14,
    "start_time": "2025-07-01T07:14:46.834Z"
   },
   {
    "duration": 16,
    "start_time": "2025-07-01T07:15:04.533Z"
   },
   {
    "duration": 1602,
    "start_time": "2025-07-01T07:18:39.672Z"
   },
   {
    "duration": 1764,
    "start_time": "2025-07-01T07:19:05.801Z"
   },
   {
    "duration": 1626,
    "start_time": "2025-07-01T07:19:51.299Z"
   },
   {
    "duration": 63,
    "start_time": "2025-07-01T07:23:11.408Z"
   },
   {
    "duration": 4,
    "start_time": "2025-07-01T07:23:33.765Z"
   },
   {
    "duration": 4,
    "start_time": "2025-07-01T07:24:17.188Z"
   },
   {
    "duration": 5,
    "start_time": "2025-07-01T07:26:26.879Z"
   },
   {
    "duration": 18,
    "start_time": "2025-07-01T07:26:39.475Z"
   },
   {
    "duration": 17,
    "start_time": "2025-07-01T07:27:03.768Z"
   },
   {
    "duration": 80,
    "start_time": "2025-07-01T07:27:41.821Z"
   },
   {
    "duration": 83,
    "start_time": "2025-07-01T07:29:46.880Z"
   },
   {
    "duration": 44,
    "start_time": "2025-07-01T07:29:54.688Z"
   },
   {
    "duration": 152,
    "start_time": "2025-07-01T07:32:54.805Z"
   },
   {
    "duration": 66,
    "start_time": "2025-07-01T07:34:10.828Z"
   },
   {
    "duration": 75,
    "start_time": "2025-07-01T07:37:28.815Z"
   },
   {
    "duration": 8,
    "start_time": "2025-07-01T07:38:34.344Z"
   },
   {
    "duration": 2658,
    "start_time": "2025-07-01T07:39:34.333Z"
   },
   {
    "duration": 1294,
    "start_time": "2025-07-01T07:39:36.994Z"
   },
   {
    "duration": 2427,
    "start_time": "2025-07-01T07:39:38.290Z"
   },
   {
    "duration": 111,
    "start_time": "2025-07-01T07:39:40.719Z"
   },
   {
    "duration": 31,
    "start_time": "2025-07-01T07:39:40.832Z"
   },
   {
    "duration": 17,
    "start_time": "2025-07-01T07:39:49.228Z"
   },
   {
    "duration": 6,
    "start_time": "2025-07-01T07:39:50.301Z"
   },
   {
    "duration": 64,
    "start_time": "2025-07-01T07:39:53.604Z"
   },
   {
    "duration": 6,
    "start_time": "2025-07-01T07:39:55.728Z"
   },
   {
    "duration": 21,
    "start_time": "2025-07-01T07:39:59.120Z"
   },
   {
    "duration": 5,
    "start_time": "2025-07-01T07:40:02.825Z"
   },
   {
    "duration": 42,
    "start_time": "2025-07-01T07:40:05.831Z"
   },
   {
    "duration": 5,
    "start_time": "2025-07-01T07:40:06.682Z"
   },
   {
    "duration": 13,
    "start_time": "2025-07-01T07:40:09.984Z"
   },
   {
    "duration": 7,
    "start_time": "2025-07-01T07:40:12.014Z"
   },
   {
    "duration": 10,
    "start_time": "2025-07-01T07:40:16.059Z"
   },
   {
    "duration": 5,
    "start_time": "2025-07-01T07:40:20.024Z"
   },
   {
    "duration": 10,
    "start_time": "2025-07-01T07:40:28.237Z"
   },
   {
    "duration": 160,
    "start_time": "2025-07-01T07:40:29.859Z"
   },
   {
    "duration": 74,
    "start_time": "2025-07-01T07:41:43.075Z"
   },
   {
    "duration": 67,
    "start_time": "2025-07-01T07:42:36.567Z"
   },
   {
    "duration": 6,
    "start_time": "2025-07-01T07:43:50.529Z"
   },
   {
    "duration": 7,
    "start_time": "2025-07-01T07:43:54.107Z"
   },
   {
    "duration": 6,
    "start_time": "2025-07-01T07:44:04.906Z"
   },
   {
    "duration": 40,
    "start_time": "2025-07-01T07:45:24.514Z"
   },
   {
    "duration": 36,
    "start_time": "2025-07-01T07:45:28.502Z"
   },
   {
    "duration": 20,
    "start_time": "2025-07-01T07:46:35.329Z"
   },
   {
    "duration": 10,
    "start_time": "2025-07-01T07:46:38.249Z"
   },
   {
    "duration": 29,
    "start_time": "2025-07-01T07:47:47.536Z"
   },
   {
    "duration": 27,
    "start_time": "2025-07-01T07:47:50.528Z"
   },
   {
    "duration": 9,
    "start_time": "2025-07-01T07:49:13.323Z"
   },
   {
    "duration": 11,
    "start_time": "2025-07-01T07:49:16.692Z"
   },
   {
    "duration": 15,
    "start_time": "2025-07-01T08:35:08.877Z"
   },
   {
    "duration": 42,
    "start_time": "2025-07-01T08:40:47.782Z"
   },
   {
    "duration": 24,
    "start_time": "2025-07-01T08:44:52.348Z"
   },
   {
    "duration": 30,
    "start_time": "2025-07-01T08:45:41.564Z"
   },
   {
    "duration": 28,
    "start_time": "2025-07-01T08:46:35.377Z"
   },
   {
    "duration": 24,
    "start_time": "2025-07-01T08:48:01.335Z"
   },
   {
    "duration": 35,
    "start_time": "2025-07-01T08:48:03.425Z"
   },
   {
    "duration": 8,
    "start_time": "2025-07-01T08:50:26.701Z"
   },
   {
    "duration": 108,
    "start_time": "2025-07-01T08:52:17.461Z"
   },
   {
    "duration": 8,
    "start_time": "2025-07-01T08:52:37.558Z"
   },
   {
    "duration": 19,
    "start_time": "2025-07-01T08:54:45.141Z"
   },
   {
    "duration": 27,
    "start_time": "2025-07-01T08:54:47.773Z"
   },
   {
    "duration": 8,
    "start_time": "2025-07-01T08:54:49.107Z"
   },
   {
    "duration": 16,
    "start_time": "2025-07-01T09:00:44.705Z"
   },
   {
    "duration": 56,
    "start_time": "2025-07-01T09:00:46.611Z"
   },
   {
    "duration": 13,
    "start_time": "2025-07-01T09:00:47.203Z"
   },
   {
    "duration": 8,
    "start_time": "2025-07-01T09:01:10.880Z"
   },
   {
    "duration": 168,
    "start_time": "2025-07-01T09:01:27.547Z"
   },
   {
    "duration": 157,
    "start_time": "2025-07-01T09:02:34.667Z"
   },
   {
    "duration": 2526,
    "start_time": "2025-07-01T09:03:15.898Z"
   },
   {
    "duration": 1250,
    "start_time": "2025-07-01T09:03:18.427Z"
   },
   {
    "duration": 2092,
    "start_time": "2025-07-01T09:03:21.201Z"
   },
   {
    "duration": 102,
    "start_time": "2025-07-01T09:03:23.295Z"
   },
   {
    "duration": 24,
    "start_time": "2025-07-01T09:03:24.523Z"
   },
   {
    "duration": 12,
    "start_time": "2025-07-01T09:03:28.711Z"
   },
   {
    "duration": 6,
    "start_time": "2025-07-01T09:03:30.619Z"
   },
   {
    "duration": 47,
    "start_time": "2025-07-01T09:03:33.536Z"
   },
   {
    "duration": 6,
    "start_time": "2025-07-01T09:03:35.575Z"
   },
   {
    "duration": 19,
    "start_time": "2025-07-01T09:03:38.710Z"
   },
   {
    "duration": 6,
    "start_time": "2025-07-01T09:03:39.530Z"
   },
   {
    "duration": 22,
    "start_time": "2025-07-01T09:03:42.682Z"
   },
   {
    "duration": 5,
    "start_time": "2025-07-01T09:03:43.406Z"
   },
   {
    "duration": 12,
    "start_time": "2025-07-01T09:03:46.801Z"
   },
   {
    "duration": 12,
    "start_time": "2025-07-01T09:03:47.537Z"
   },
   {
    "duration": 10,
    "start_time": "2025-07-01T09:03:51.464Z"
   },
   {
    "duration": 5,
    "start_time": "2025-07-01T09:03:52.208Z"
   },
   {
    "duration": 5,
    "start_time": "2025-07-01T09:03:55.550Z"
   },
   {
    "duration": 177,
    "start_time": "2025-07-01T09:03:56.373Z"
   },
   {
    "duration": 75,
    "start_time": "2025-07-01T09:03:58.393Z"
   },
   {
    "duration": 70,
    "start_time": "2025-07-01T09:03:59.270Z"
   },
   {
    "duration": 10,
    "start_time": "2025-07-01T09:04:01.440Z"
   },
   {
    "duration": 14,
    "start_time": "2025-07-01T09:04:02.835Z"
   },
   {
    "duration": 42,
    "start_time": "2025-07-01T09:04:04.822Z"
   },
   {
    "duration": 34,
    "start_time": "2025-07-01T09:04:05.647Z"
   },
   {
    "duration": 12,
    "start_time": "2025-07-01T09:04:06.300Z"
   },
   {
    "duration": 11,
    "start_time": "2025-07-01T09:04:08.221Z"
   },
   {
    "duration": 19,
    "start_time": "2025-07-01T09:04:08.865Z"
   },
   {
    "duration": 20,
    "start_time": "2025-07-01T09:04:10.944Z"
   },
   {
    "duration": 7,
    "start_time": "2025-07-01T09:04:11.885Z"
   },
   {
    "duration": 8,
    "start_time": "2025-07-01T09:04:13.689Z"
   },
   {
    "duration": 15,
    "start_time": "2025-07-01T09:04:18.007Z"
   },
   {
    "duration": 123,
    "start_time": "2025-07-01T09:04:19.293Z"
   },
   {
    "duration": 30,
    "start_time": "2025-07-01T09:05:24.889Z"
   },
   {
    "duration": 7,
    "start_time": "2025-07-01T09:05:30.371Z"
   },
   {
    "duration": 184,
    "start_time": "2025-07-01T09:05:33.106Z"
   },
   {
    "duration": 163,
    "start_time": "2025-07-01T09:08:17.771Z"
   },
   {
    "duration": 1480,
    "start_time": "2025-07-01T09:08:45.189Z"
   },
   {
    "duration": 1336,
    "start_time": "2025-07-01T09:09:25.807Z"
   },
   {
    "duration": 1443,
    "start_time": "2025-07-01T09:10:41.452Z"
   },
   {
    "duration": 12,
    "start_time": "2025-07-01T09:13:44.505Z"
   },
   {
    "duration": 9,
    "start_time": "2025-07-01T09:13:58.415Z"
   },
   {
    "duration": 514,
    "start_time": "2025-07-01T09:14:06.717Z"
   },
   {
    "duration": 400,
    "start_time": "2025-07-01T09:15:24.285Z"
   },
   {
    "duration": 426,
    "start_time": "2025-07-01T09:15:37.069Z"
   },
   {
    "duration": 391,
    "start_time": "2025-07-01T09:17:33.215Z"
   },
   {
    "duration": 278,
    "start_time": "2025-07-01T09:18:26.975Z"
   },
   {
    "duration": 419,
    "start_time": "2025-07-01T09:18:54.359Z"
   },
   {
    "duration": 353,
    "start_time": "2025-07-01T09:19:17.797Z"
   },
   {
    "duration": 333,
    "start_time": "2025-07-01T09:19:34.717Z"
   },
   {
    "duration": 375,
    "start_time": "2025-07-01T09:20:11.076Z"
   },
   {
    "duration": 3847,
    "start_time": "2025-07-02T06:36:59.851Z"
   },
   {
    "duration": 1427,
    "start_time": "2025-07-02T06:37:03.701Z"
   },
   {
    "duration": 2304,
    "start_time": "2025-07-02T06:37:05.130Z"
   },
   {
    "duration": 112,
    "start_time": "2025-07-02T06:37:07.437Z"
   },
   {
    "duration": 14,
    "start_time": "2025-07-02T06:37:07.551Z"
   },
   {
    "duration": 12,
    "start_time": "2025-07-02T06:37:09.306Z"
   },
   {
    "duration": 6,
    "start_time": "2025-07-02T06:37:10.053Z"
   },
   {
    "duration": 38,
    "start_time": "2025-07-02T06:37:13.557Z"
   },
   {
    "duration": 5,
    "start_time": "2025-07-02T06:37:14.364Z"
   },
   {
    "duration": 19,
    "start_time": "2025-07-02T06:37:18.765Z"
   },
   {
    "duration": 5,
    "start_time": "2025-07-02T06:37:21.515Z"
   },
   {
    "duration": 25,
    "start_time": "2025-07-02T06:37:25.791Z"
   },
   {
    "duration": 6,
    "start_time": "2025-07-02T06:37:26.660Z"
   },
   {
    "duration": 13,
    "start_time": "2025-07-02T06:37:30.406Z"
   },
   {
    "duration": 8,
    "start_time": "2025-07-02T06:37:31.683Z"
   },
   {
    "duration": 10,
    "start_time": "2025-07-02T06:37:38.060Z"
   },
   {
    "duration": 5,
    "start_time": "2025-07-02T06:37:41.163Z"
   },
   {
    "duration": 203,
    "start_time": "2025-07-02T06:42:28.321Z"
   },
   {
    "duration": 124,
    "start_time": "2025-07-02T06:43:16.876Z"
   },
   {
    "duration": 10,
    "start_time": "2025-07-02T06:45:20.057Z"
   },
   {
    "duration": 667,
    "start_time": "2025-07-02T06:47:44.143Z"
   },
   {
    "duration": 5,
    "start_time": "2025-07-02T06:48:08.983Z"
   },
   {
    "duration": 137,
    "start_time": "2025-07-02T06:48:10.041Z"
   },
   {
    "duration": 78,
    "start_time": "2025-07-02T06:48:11.511Z"
   },
   {
    "duration": 75,
    "start_time": "2025-07-02T06:48:12.895Z"
   },
   {
    "duration": 5,
    "start_time": "2025-07-02T06:48:15.588Z"
   },
   {
    "duration": 6,
    "start_time": "2025-07-02T06:48:16.259Z"
   },
   {
    "duration": 38,
    "start_time": "2025-07-02T06:48:16.823Z"
   },
   {
    "duration": 51,
    "start_time": "2025-07-02T06:48:17.460Z"
   },
   {
    "duration": 10,
    "start_time": "2025-07-02T06:48:19.296Z"
   },
   {
    "duration": 10,
    "start_time": "2025-07-02T06:48:19.883Z"
   },
   {
    "duration": 20,
    "start_time": "2025-07-02T06:48:20.344Z"
   },
   {
    "duration": 19,
    "start_time": "2025-07-02T06:48:22.505Z"
   },
   {
    "duration": 7,
    "start_time": "2025-07-02T06:48:24.922Z"
   },
   {
    "duration": 8,
    "start_time": "2025-07-02T06:48:26.219Z"
   },
   {
    "duration": 16,
    "start_time": "2025-07-02T06:48:38.603Z"
   },
   {
    "duration": 47,
    "start_time": "2025-07-02T06:48:39.055Z"
   },
   {
    "duration": 9,
    "start_time": "2025-07-02T06:48:39.724Z"
   },
   {
    "duration": 390,
    "start_time": "2025-07-02T06:48:47.894Z"
   },
   {
    "duration": 11,
    "start_time": "2025-07-02T06:48:59.374Z"
   },
   {
    "duration": 5,
    "start_time": "2025-07-02T06:49:08.598Z"
   },
   {
    "duration": 88,
    "start_time": "2025-07-02T06:57:54.683Z"
   },
   {
    "duration": 2432,
    "start_time": "2025-07-02T07:00:06.118Z"
   },
   {
    "duration": 1380,
    "start_time": "2025-07-02T07:00:08.553Z"
   },
   {
    "duration": 2099,
    "start_time": "2025-07-02T07:00:09.935Z"
   },
   {
    "duration": 111,
    "start_time": "2025-07-02T07:00:12.038Z"
   },
   {
    "duration": 13,
    "start_time": "2025-07-02T07:00:12.152Z"
   },
   {
    "duration": 11,
    "start_time": "2025-07-02T07:00:18.588Z"
   },
   {
    "duration": 7,
    "start_time": "2025-07-02T07:00:19.143Z"
   },
   {
    "duration": 36,
    "start_time": "2025-07-02T07:00:20.870Z"
   },
   {
    "duration": 6,
    "start_time": "2025-07-02T07:00:21.482Z"
   },
   {
    "duration": 27,
    "start_time": "2025-07-02T07:00:24.919Z"
   },
   {
    "duration": 6,
    "start_time": "2025-07-02T07:00:25.605Z"
   },
   {
    "duration": 24,
    "start_time": "2025-07-02T07:00:28.911Z"
   },
   {
    "duration": 5,
    "start_time": "2025-07-02T07:00:29.417Z"
   },
   {
    "duration": 12,
    "start_time": "2025-07-02T07:00:32.609Z"
   },
   {
    "duration": 6,
    "start_time": "2025-07-02T07:00:33.088Z"
   },
   {
    "duration": 10,
    "start_time": "2025-07-02T07:00:36.300Z"
   },
   {
    "duration": 4,
    "start_time": "2025-07-02T07:00:38.275Z"
   },
   {
    "duration": 639,
    "start_time": "2025-07-02T07:00:41.079Z"
   },
   {
    "duration": 5,
    "start_time": "2025-07-02T07:00:45.491Z"
   },
   {
    "duration": 137,
    "start_time": "2025-07-02T07:00:46.648Z"
   },
   {
    "duration": 72,
    "start_time": "2025-07-02T07:00:47.984Z"
   },
   {
    "duration": 73,
    "start_time": "2025-07-02T07:00:49.672Z"
   },
   {
    "duration": 6,
    "start_time": "2025-07-02T07:00:50.522Z"
   },
   {
    "duration": 5,
    "start_time": "2025-07-02T07:00:52.219Z"
   },
   {
    "duration": 42,
    "start_time": "2025-07-02T07:00:53.017Z"
   },
   {
    "duration": 36,
    "start_time": "2025-07-02T07:00:54.071Z"
   },
   {
    "duration": 19,
    "start_time": "2025-07-02T07:00:55.833Z"
   },
   {
    "duration": 22,
    "start_time": "2025-07-02T07:00:56.486Z"
   },
   {
    "duration": 19,
    "start_time": "2025-07-02T07:00:57.158Z"
   },
   {
    "duration": 19,
    "start_time": "2025-07-02T07:00:57.785Z"
   },
   {
    "duration": 7,
    "start_time": "2025-07-02T07:00:59.751Z"
   },
   {
    "duration": 8,
    "start_time": "2025-07-02T07:01:00.400Z"
   },
   {
    "duration": 18,
    "start_time": "2025-07-02T07:01:09.702Z"
   },
   {
    "duration": 47,
    "start_time": "2025-07-02T07:01:10.649Z"
   },
   {
    "duration": 8,
    "start_time": "2025-07-02T07:01:13.694Z"
   },
   {
    "duration": 356,
    "start_time": "2025-07-02T07:01:15.949Z"
   },
   {
    "duration": 99,
    "start_time": "2025-07-02T07:02:51.059Z"
   },
   {
    "duration": 121,
    "start_time": "2025-07-02T07:07:48.918Z"
   },
   {
    "duration": 114,
    "start_time": "2025-07-02T07:09:05.982Z"
   },
   {
    "duration": 119,
    "start_time": "2025-07-02T07:21:31.233Z"
   },
   {
    "duration": 5,
    "start_time": "2025-07-02T07:25:36.705Z"
   },
   {
    "duration": 2519,
    "start_time": "2025-07-02T07:25:53.387Z"
   },
   {
    "duration": 1191,
    "start_time": "2025-07-02T07:25:55.908Z"
   },
   {
    "duration": 2121,
    "start_time": "2025-07-02T07:25:57.366Z"
   },
   {
    "duration": 100,
    "start_time": "2025-07-02T07:25:59.488Z"
   },
   {
    "duration": 14,
    "start_time": "2025-07-02T07:26:03.411Z"
   },
   {
    "duration": 11,
    "start_time": "2025-07-02T07:26:07.001Z"
   },
   {
    "duration": 6,
    "start_time": "2025-07-02T07:26:07.563Z"
   },
   {
    "duration": 42,
    "start_time": "2025-07-02T07:26:10.749Z"
   },
   {
    "duration": 6,
    "start_time": "2025-07-02T07:26:11.353Z"
   },
   {
    "duration": 20,
    "start_time": "2025-07-02T07:26:14.754Z"
   },
   {
    "duration": 5,
    "start_time": "2025-07-02T07:26:15.324Z"
   },
   {
    "duration": 23,
    "start_time": "2025-07-02T07:26:18.261Z"
   },
   {
    "duration": 5,
    "start_time": "2025-07-02T07:26:18.924Z"
   },
   {
    "duration": 16,
    "start_time": "2025-07-02T07:26:22.225Z"
   },
   {
    "duration": 9,
    "start_time": "2025-07-02T07:26:22.964Z"
   },
   {
    "duration": 13,
    "start_time": "2025-07-02T07:26:26.943Z"
   },
   {
    "duration": 5,
    "start_time": "2025-07-02T07:26:27.749Z"
   },
   {
    "duration": 628,
    "start_time": "2025-07-02T07:26:31.825Z"
   },
   {
    "duration": 4,
    "start_time": "2025-07-02T07:26:36.927Z"
   },
   {
    "duration": 121,
    "start_time": "2025-07-02T07:26:41.366Z"
   },
   {
    "duration": 75,
    "start_time": "2025-07-02T07:26:42.627Z"
   },
   {
    "duration": 76,
    "start_time": "2025-07-02T07:26:44.593Z"
   },
   {
    "duration": 6,
    "start_time": "2025-07-02T07:26:45.646Z"
   },
   {
    "duration": 6,
    "start_time": "2025-07-02T07:26:47.666Z"
   },
   {
    "duration": 42,
    "start_time": "2025-07-02T07:26:48.229Z"
   },
   {
    "duration": 40,
    "start_time": "2025-07-02T07:26:48.818Z"
   },
   {
    "duration": 16,
    "start_time": "2025-07-02T07:26:49.426Z"
   },
   {
    "duration": 10,
    "start_time": "2025-07-02T07:26:51.193Z"
   },
   {
    "duration": 19,
    "start_time": "2025-07-02T07:26:51.974Z"
   },
   {
    "duration": 29,
    "start_time": "2025-07-02T07:26:53.932Z"
   },
   {
    "duration": 7,
    "start_time": "2025-07-02T07:26:54.560Z"
   },
   {
    "duration": 6,
    "start_time": "2025-07-02T07:26:56.370Z"
   },
   {
    "duration": 19,
    "start_time": "2025-07-02T07:27:06.840Z"
   },
   {
    "duration": 52,
    "start_time": "2025-07-02T07:27:07.565Z"
   },
   {
    "duration": 16,
    "start_time": "2025-07-02T07:27:10.132Z"
   },
   {
    "duration": 364,
    "start_time": "2025-07-02T07:27:12.388Z"
   },
   {
    "duration": 109,
    "start_time": "2025-07-02T07:27:18.964Z"
   },
   {
    "duration": 110,
    "start_time": "2025-07-02T07:27:31.950Z"
   },
   {
    "duration": 2445,
    "start_time": "2025-07-02T07:31:29.849Z"
   },
   {
    "duration": 1217,
    "start_time": "2025-07-02T07:31:32.296Z"
   },
   {
    "duration": 2274,
    "start_time": "2025-07-02T07:31:34.507Z"
   },
   {
    "duration": 99,
    "start_time": "2025-07-02T07:31:36.783Z"
   },
   {
    "duration": 14,
    "start_time": "2025-07-02T07:31:39.103Z"
   },
   {
    "duration": 11,
    "start_time": "2025-07-02T07:31:46.879Z"
   },
   {
    "duration": 6,
    "start_time": "2025-07-02T07:31:48.104Z"
   },
   {
    "duration": 36,
    "start_time": "2025-07-02T07:31:51.459Z"
   },
   {
    "duration": 5,
    "start_time": "2025-07-02T07:31:52.178Z"
   },
   {
    "duration": 22,
    "start_time": "2025-07-02T07:31:55.516Z"
   },
   {
    "duration": 6,
    "start_time": "2025-07-02T07:31:56.110Z"
   },
   {
    "duration": 23,
    "start_time": "2025-07-02T07:31:59.285Z"
   },
   {
    "duration": 5,
    "start_time": "2025-07-02T07:31:59.809Z"
   },
   {
    "duration": 16,
    "start_time": "2025-07-02T07:32:02.978Z"
   },
   {
    "duration": 6,
    "start_time": "2025-07-02T07:32:03.652Z"
   },
   {
    "duration": 10,
    "start_time": "2025-07-02T07:32:06.779Z"
   },
   {
    "duration": 5,
    "start_time": "2025-07-02T07:32:07.396Z"
   },
   {
    "duration": 633,
    "start_time": "2025-07-02T07:32:10.720Z"
   },
   {
    "duration": 5,
    "start_time": "2025-07-02T07:32:14.377Z"
   },
   {
    "duration": 129,
    "start_time": "2025-07-02T07:32:14.957Z"
   },
   {
    "duration": 77,
    "start_time": "2025-07-02T07:32:16.227Z"
   },
   {
    "duration": 72,
    "start_time": "2025-07-02T07:32:17.564Z"
   },
   {
    "duration": 17,
    "start_time": "2025-07-02T07:32:19.430Z"
   },
   {
    "duration": 6,
    "start_time": "2025-07-02T07:32:20.021Z"
   },
   {
    "duration": 32,
    "start_time": "2025-07-02T07:32:20.580Z"
   },
   {
    "duration": 32,
    "start_time": "2025-07-02T07:32:22.274Z"
   },
   {
    "duration": 11,
    "start_time": "2025-07-02T07:32:22.851Z"
   },
   {
    "duration": 10,
    "start_time": "2025-07-02T07:32:23.394Z"
   },
   {
    "duration": 34,
    "start_time": "2025-07-02T07:32:24.137Z"
   },
   {
    "duration": 18,
    "start_time": "2025-07-02T07:32:25.981Z"
   },
   {
    "duration": 11,
    "start_time": "2025-07-02T07:32:26.510Z"
   },
   {
    "duration": 12,
    "start_time": "2025-07-02T07:32:27.150Z"
   },
   {
    "duration": 18,
    "start_time": "2025-07-02T07:32:31.634Z"
   },
   {
    "duration": 54,
    "start_time": "2025-07-02T07:32:32.407Z"
   },
   {
    "duration": 11,
    "start_time": "2025-07-02T07:32:34.227Z"
   },
   {
    "duration": 365,
    "start_time": "2025-07-02T07:32:36.885Z"
   },
   {
    "duration": 107,
    "start_time": "2025-07-02T07:32:41.650Z"
   },
   {
    "duration": 106,
    "start_time": "2025-07-02T07:33:51.009Z"
   },
   {
    "duration": 192,
    "start_time": "2025-07-02T07:34:46.696Z"
   },
   {
    "duration": 110,
    "start_time": "2025-07-02T07:35:14.444Z"
   },
   {
    "duration": 13,
    "start_time": "2025-07-02T07:37:52.181Z"
   },
   {
    "duration": 17,
    "start_time": "2025-07-02T07:40:01.280Z"
   },
   {
    "duration": 23,
    "start_time": "2025-07-02T07:41:42.227Z"
   },
   {
    "duration": 27,
    "start_time": "2025-07-02T07:41:48.126Z"
   },
   {
    "duration": 20,
    "start_time": "2025-07-02T07:42:13.808Z"
   },
   {
    "duration": 16,
    "start_time": "2025-07-02T07:42:30.364Z"
   },
   {
    "duration": 18,
    "start_time": "2025-07-02T07:42:44.299Z"
   },
   {
    "duration": 17,
    "start_time": "2025-07-02T07:42:52.008Z"
   },
   {
    "duration": 17,
    "start_time": "2025-07-02T07:50:32.016Z"
   },
   {
    "duration": 6,
    "start_time": "2025-07-02T07:57:08.167Z"
   },
   {
    "duration": 12,
    "start_time": "2025-07-02T07:57:24.289Z"
   },
   {
    "duration": 39,
    "start_time": "2025-07-02T08:04:24.612Z"
   },
   {
    "duration": 28,
    "start_time": "2025-07-02T08:04:34.122Z"
   },
   {
    "duration": 21,
    "start_time": "2025-07-02T08:07:27.700Z"
   },
   {
    "duration": 4,
    "start_time": "2025-07-02T08:10:01.367Z"
   },
   {
    "duration": 14,
    "start_time": "2025-07-02T08:12:14.742Z"
   },
   {
    "duration": 21,
    "start_time": "2025-07-02T08:17:10.091Z"
   },
   {
    "duration": 20,
    "start_time": "2025-07-02T08:17:51.273Z"
   },
   {
    "duration": 13,
    "start_time": "2025-07-02T08:22:50.816Z"
   },
   {
    "duration": 14,
    "start_time": "2025-07-02T08:24:53.894Z"
   },
   {
    "duration": 12,
    "start_time": "2025-07-02T08:28:28.482Z"
   },
   {
    "duration": 11,
    "start_time": "2025-07-02T08:28:48.071Z"
   },
   {
    "duration": 7,
    "start_time": "2025-07-02T08:32:29.219Z"
   },
   {
    "duration": 109,
    "start_time": "2025-07-02T08:59:27.003Z"
   },
   {
    "duration": 2443,
    "start_time": "2025-07-02T09:01:29.647Z"
   },
   {
    "duration": 1135,
    "start_time": "2025-07-02T09:01:32.092Z"
   },
   {
    "duration": 2502,
    "start_time": "2025-07-02T09:01:33.649Z"
   },
   {
    "duration": 100,
    "start_time": "2025-07-02T09:01:36.154Z"
   },
   {
    "duration": 14,
    "start_time": "2025-07-02T09:01:36.775Z"
   },
   {
    "duration": 10,
    "start_time": "2025-07-02T09:01:42.719Z"
   },
   {
    "duration": 5,
    "start_time": "2025-07-02T09:01:43.401Z"
   },
   {
    "duration": 46,
    "start_time": "2025-07-02T09:01:46.623Z"
   },
   {
    "duration": 7,
    "start_time": "2025-07-02T09:01:47.513Z"
   },
   {
    "duration": 20,
    "start_time": "2025-07-02T09:01:50.996Z"
   },
   {
    "duration": 5,
    "start_time": "2025-07-02T09:01:51.615Z"
   },
   {
    "duration": 24,
    "start_time": "2025-07-02T09:01:54.575Z"
   },
   {
    "duration": 5,
    "start_time": "2025-07-02T09:01:55.164Z"
   },
   {
    "duration": 13,
    "start_time": "2025-07-02T09:01:58.185Z"
   },
   {
    "duration": 6,
    "start_time": "2025-07-02T09:01:58.964Z"
   },
   {
    "duration": 16,
    "start_time": "2025-07-02T09:02:02.932Z"
   },
   {
    "duration": 5,
    "start_time": "2025-07-02T09:02:03.594Z"
   },
   {
    "duration": 715,
    "start_time": "2025-07-02T09:02:06.589Z"
   },
   {
    "duration": 5,
    "start_time": "2025-07-02T09:02:11.795Z"
   },
   {
    "duration": 154,
    "start_time": "2025-07-02T09:02:15.824Z"
   },
   {
    "duration": 98,
    "start_time": "2025-07-02T09:02:17.575Z"
   },
   {
    "duration": 67,
    "start_time": "2025-07-02T09:02:42.480Z"
   },
   {
    "duration": 72,
    "start_time": "2025-07-02T09:02:45.178Z"
   },
   {
    "duration": 5,
    "start_time": "2025-07-02T09:02:48.374Z"
   },
   {
    "duration": 8,
    "start_time": "2025-07-02T09:02:48.928Z"
   },
   {
    "duration": 33,
    "start_time": "2025-07-02T09:02:52.351Z"
   },
   {
    "duration": 53,
    "start_time": "2025-07-02T09:02:52.414Z"
   },
   {
    "duration": 10,
    "start_time": "2025-07-02T09:02:53.351Z"
   },
   {
    "duration": 18,
    "start_time": "2025-07-02T09:02:55.153Z"
   },
   {
    "duration": 18,
    "start_time": "2025-07-02T09:02:56.060Z"
   },
   {
    "duration": 7,
    "start_time": "2025-07-02T09:02:56.676Z"
   },
   {
    "duration": 8,
    "start_time": "2025-07-02T09:02:58.462Z"
   },
   {
    "duration": 21,
    "start_time": "2025-07-02T09:03:02.435Z"
   },
   {
    "duration": 62,
    "start_time": "2025-07-02T09:03:03.104Z"
   },
   {
    "duration": 9,
    "start_time": "2025-07-02T09:03:04.589Z"
   },
   {
    "duration": 388,
    "start_time": "2025-07-02T09:03:06.531Z"
   },
   {
    "duration": 108,
    "start_time": "2025-07-02T09:03:12.692Z"
   },
   {
    "duration": 17,
    "start_time": "2025-07-02T09:03:17.080Z"
   },
   {
    "duration": 28,
    "start_time": "2025-07-02T09:03:20.448Z"
   },
   {
    "duration": 9,
    "start_time": "2025-07-02T09:03:21.758Z"
   },
   {
    "duration": 21,
    "start_time": "2025-07-02T09:03:32.249Z"
   },
   {
    "duration": 16,
    "start_time": "2025-07-02T09:03:33.028Z"
   },
   {
    "duration": 7,
    "start_time": "2025-07-02T09:03:35.368Z"
   },
   {
    "duration": 2431,
    "start_time": "2025-07-02T09:05:56.668Z"
   },
   {
    "duration": 1214,
    "start_time": "2025-07-02T09:06:00.104Z"
   },
   {
    "duration": 2027,
    "start_time": "2025-07-02T09:06:01.320Z"
   },
   {
    "duration": 140,
    "start_time": "2025-07-02T09:06:03.350Z"
   },
   {
    "duration": 16,
    "start_time": "2025-07-02T09:06:03.922Z"
   },
   {
    "duration": 16,
    "start_time": "2025-07-02T09:06:07.253Z"
   },
   {
    "duration": 5,
    "start_time": "2025-07-02T09:06:09.154Z"
   },
   {
    "duration": 48,
    "start_time": "2025-07-02T09:06:12.655Z"
   },
   {
    "duration": 6,
    "start_time": "2025-07-02T09:06:16.349Z"
   },
   {
    "duration": 21,
    "start_time": "2025-07-02T09:06:20.049Z"
   },
   {
    "duration": 5,
    "start_time": "2025-07-02T09:06:21.493Z"
   },
   {
    "duration": 29,
    "start_time": "2025-07-02T09:06:24.895Z"
   },
   {
    "duration": 6,
    "start_time": "2025-07-02T09:06:27.162Z"
   },
   {
    "duration": 15,
    "start_time": "2025-07-02T09:06:32.490Z"
   },
   {
    "duration": 6,
    "start_time": "2025-07-02T09:06:33.372Z"
   },
   {
    "duration": 9,
    "start_time": "2025-07-02T09:06:37.252Z"
   },
   {
    "duration": 5,
    "start_time": "2025-07-02T09:06:41.127Z"
   },
   {
    "duration": 635,
    "start_time": "2025-07-02T09:06:45.213Z"
   },
   {
    "duration": 5,
    "start_time": "2025-07-02T09:06:49.925Z"
   },
   {
    "duration": 153,
    "start_time": "2025-07-02T09:06:50.494Z"
   },
   {
    "duration": 125,
    "start_time": "2025-07-02T09:06:51.842Z"
   },
   {
    "duration": 92,
    "start_time": "2025-07-02T09:06:54.511Z"
   },
   {
    "duration": 94,
    "start_time": "2025-07-02T09:06:55.283Z"
   },
   {
    "duration": 5,
    "start_time": "2025-07-02T09:07:23.395Z"
   },
   {
    "duration": 7,
    "start_time": "2025-07-02T09:07:24.079Z"
   },
   {
    "duration": 46,
    "start_time": "2025-07-02T09:07:24.642Z"
   },
   {
    "duration": 48,
    "start_time": "2025-07-02T09:07:26.621Z"
   },
   {
    "duration": 12,
    "start_time": "2025-07-02T09:07:27.157Z"
   },
   {
    "duration": 12,
    "start_time": "2025-07-02T09:07:27.671Z"
   },
   {
    "duration": 22,
    "start_time": "2025-07-02T09:07:28.209Z"
   },
   {
    "duration": 22,
    "start_time": "2025-07-02T09:07:30.213Z"
   },
   {
    "duration": 8,
    "start_time": "2025-07-02T09:07:30.753Z"
   },
   {
    "duration": 8,
    "start_time": "2025-07-02T09:07:31.314Z"
   },
   {
    "duration": 15,
    "start_time": "2025-07-02T09:07:37.006Z"
   },
   {
    "duration": 117,
    "start_time": "2025-07-02T09:07:37.648Z"
   },
   {
    "duration": 11,
    "start_time": "2025-07-02T09:07:38.227Z"
   },
   {
    "duration": 354,
    "start_time": "2025-07-02T09:07:40.198Z"
   },
   {
    "duration": 112,
    "start_time": "2025-07-02T09:07:45.876Z"
   },
   {
    "duration": 18,
    "start_time": "2025-07-02T09:07:46.551Z"
   },
   {
    "duration": 29,
    "start_time": "2025-07-02T09:07:48.286Z"
   },
   {
    "duration": 11,
    "start_time": "2025-07-02T09:07:49.148Z"
   },
   {
    "duration": 30,
    "start_time": "2025-07-02T09:07:51.333Z"
   },
   {
    "duration": 12,
    "start_time": "2025-07-02T09:07:52.616Z"
   },
   {
    "duration": 8,
    "start_time": "2025-07-02T09:07:55.111Z"
   },
   {
    "duration": 97,
    "start_time": "2025-07-02T09:12:51.895Z"
   },
   {
    "duration": 45,
    "start_time": "2025-07-02T09:13:00.967Z"
   },
   {
    "duration": 2506,
    "start_time": "2025-07-02T09:13:15.698Z"
   },
   {
    "duration": 1250,
    "start_time": "2025-07-02T09:13:18.206Z"
   },
   {
    "duration": 2580,
    "start_time": "2025-07-02T09:13:19.458Z"
   },
   {
    "duration": 96,
    "start_time": "2025-07-02T09:13:22.048Z"
   },
   {
    "duration": 15,
    "start_time": "2025-07-02T09:13:22.376Z"
   },
   {
    "duration": 11,
    "start_time": "2025-07-02T09:13:27.468Z"
   },
   {
    "duration": 5,
    "start_time": "2025-07-02T09:13:28.126Z"
   },
   {
    "duration": 38,
    "start_time": "2025-07-02T09:13:31.466Z"
   },
   {
    "duration": 12,
    "start_time": "2025-07-02T09:13:34.032Z"
   },
   {
    "duration": 19,
    "start_time": "2025-07-02T09:13:37.777Z"
   },
   {
    "duration": 5,
    "start_time": "2025-07-02T09:13:40.215Z"
   },
   {
    "duration": 22,
    "start_time": "2025-07-02T09:13:46.107Z"
   },
   {
    "duration": 6,
    "start_time": "2025-07-02T09:13:48.566Z"
   },
   {
    "duration": 12,
    "start_time": "2025-07-02T09:13:52.360Z"
   },
   {
    "duration": 6,
    "start_time": "2025-07-02T09:13:53.618Z"
   },
   {
    "duration": 8,
    "start_time": "2025-07-02T09:13:58.419Z"
   },
   {
    "duration": 5,
    "start_time": "2025-07-02T09:13:59.566Z"
   },
   {
    "duration": 663,
    "start_time": "2025-07-02T09:14:03.292Z"
   },
   {
    "duration": 5,
    "start_time": "2025-07-02T09:14:08.727Z"
   },
   {
    "duration": 158,
    "start_time": "2025-07-02T09:14:11.218Z"
   },
   {
    "duration": 80,
    "start_time": "2025-07-02T09:14:11.990Z"
   },
   {
    "duration": 81,
    "start_time": "2025-07-02T09:14:14.030Z"
   },
   {
    "duration": 6,
    "start_time": "2025-07-02T09:14:14.664Z"
   },
   {
    "duration": 6,
    "start_time": "2025-07-02T09:14:15.365Z"
   },
   {
    "duration": 46,
    "start_time": "2025-07-02T09:14:17.334Z"
   },
   {
    "duration": 32,
    "start_time": "2025-07-02T09:14:17.997Z"
   },
   {
    "duration": 11,
    "start_time": "2025-07-02T09:14:18.701Z"
   },
   {
    "duration": 10,
    "start_time": "2025-07-02T09:14:20.561Z"
   },
   {
    "duration": 27,
    "start_time": "2025-07-02T09:14:21.131Z"
   },
   {
    "duration": 19,
    "start_time": "2025-07-02T09:14:21.688Z"
   },
   {
    "duration": 7,
    "start_time": "2025-07-02T09:14:22.282Z"
   },
   {
    "duration": 12,
    "start_time": "2025-07-02T09:14:23.235Z"
   },
   {
    "duration": 15,
    "start_time": "2025-07-02T09:14:29.665Z"
   },
   {
    "duration": 63,
    "start_time": "2025-07-02T09:14:30.204Z"
   },
   {
    "duration": 9,
    "start_time": "2025-07-02T09:14:31.671Z"
   },
   {
    "duration": 395,
    "start_time": "2025-07-02T09:14:33.881Z"
   },
   {
    "duration": 110,
    "start_time": "2025-07-02T09:14:39.549Z"
   },
   {
    "duration": 16,
    "start_time": "2025-07-02T09:14:41.665Z"
   },
   {
    "duration": 30,
    "start_time": "2025-07-02T09:14:42.500Z"
   },
   {
    "duration": 10,
    "start_time": "2025-07-02T09:14:44.952Z"
   },
   {
    "duration": 21,
    "start_time": "2025-07-02T09:14:45.565Z"
   },
   {
    "duration": 11,
    "start_time": "2025-07-02T09:14:46.848Z"
   },
   {
    "duration": 7,
    "start_time": "2025-07-02T09:14:48.890Z"
   },
   {
    "duration": 90,
    "start_time": "2025-07-02T09:15:53.289Z"
   },
   {
    "duration": 2426,
    "start_time": "2025-07-02T09:18:20.506Z"
   },
   {
    "duration": 1266,
    "start_time": "2025-07-02T09:18:22.990Z"
   },
   {
    "duration": 2067,
    "start_time": "2025-07-02T09:18:24.258Z"
   },
   {
    "duration": 101,
    "start_time": "2025-07-02T09:18:26.327Z"
   },
   {
    "duration": 22,
    "start_time": "2025-07-02T09:18:26.429Z"
   },
   {
    "duration": 11,
    "start_time": "2025-07-02T09:18:31.986Z"
   },
   {
    "duration": 7,
    "start_time": "2025-07-02T09:18:32.668Z"
   },
   {
    "duration": 36,
    "start_time": "2025-07-02T09:18:36.376Z"
   },
   {
    "duration": 6,
    "start_time": "2025-07-02T09:18:36.986Z"
   },
   {
    "duration": 30,
    "start_time": "2025-07-02T09:18:40.125Z"
   },
   {
    "duration": 5,
    "start_time": "2025-07-02T09:18:40.622Z"
   },
   {
    "duration": 23,
    "start_time": "2025-07-02T09:18:43.287Z"
   },
   {
    "duration": 5,
    "start_time": "2025-07-02T09:18:43.893Z"
   },
   {
    "duration": 11,
    "start_time": "2025-07-02T09:18:46.878Z"
   },
   {
    "duration": 6,
    "start_time": "2025-07-02T09:18:47.882Z"
   },
   {
    "duration": 10,
    "start_time": "2025-07-02T09:18:52.194Z"
   },
   {
    "duration": 5,
    "start_time": "2025-07-02T09:18:52.851Z"
   },
   {
    "duration": 674,
    "start_time": "2025-07-02T09:18:55.878Z"
   },
   {
    "duration": 5,
    "start_time": "2025-07-02T09:19:00.783Z"
   },
   {
    "duration": 140,
    "start_time": "2025-07-02T09:19:03.131Z"
   },
   {
    "duration": 66,
    "start_time": "2025-07-02T09:19:03.868Z"
   },
   {
    "duration": 79,
    "start_time": "2025-07-02T09:19:04.608Z"
   },
   {
    "duration": 8,
    "start_time": "2025-07-02T09:19:06.905Z"
   },
   {
    "duration": 7,
    "start_time": "2025-07-02T09:19:07.527Z"
   },
   {
    "duration": 33,
    "start_time": "2025-07-02T09:19:08.179Z"
   },
   {
    "duration": 32,
    "start_time": "2025-07-02T09:19:13.564Z"
   },
   {
    "duration": 16,
    "start_time": "2025-07-02T09:19:14.103Z"
   },
   {
    "duration": 11,
    "start_time": "2025-07-02T09:19:14.597Z"
   },
   {
    "duration": 19,
    "start_time": "2025-07-02T09:19:15.114Z"
   },
   {
    "duration": 18,
    "start_time": "2025-07-02T09:19:16.849Z"
   },
   {
    "duration": 7,
    "start_time": "2025-07-02T09:19:17.401Z"
   },
   {
    "duration": 8,
    "start_time": "2025-07-02T09:19:19.291Z"
   },
   {
    "duration": 15,
    "start_time": "2025-07-02T09:19:24.076Z"
   },
   {
    "duration": 54,
    "start_time": "2025-07-02T09:19:24.597Z"
   },
   {
    "duration": 10,
    "start_time": "2025-07-02T09:19:25.071Z"
   },
   {
    "duration": 373,
    "start_time": "2025-07-02T09:19:25.672Z"
   },
   {
    "duration": 110,
    "start_time": "2025-07-02T09:19:30.123Z"
   },
   {
    "duration": 22,
    "start_time": "2025-07-02T09:19:30.839Z"
   },
   {
    "duration": 33,
    "start_time": "2025-07-02T09:19:32.645Z"
   },
   {
    "duration": 9,
    "start_time": "2025-07-02T09:19:33.390Z"
   },
   {
    "duration": 24,
    "start_time": "2025-07-02T09:19:35.243Z"
   },
   {
    "duration": 14,
    "start_time": "2025-07-02T09:19:36.024Z"
   },
   {
    "duration": 11,
    "start_time": "2025-07-02T09:19:38.241Z"
   },
   {
    "duration": 88,
    "start_time": "2025-07-02T09:19:43.809Z"
   },
   {
    "duration": 74,
    "start_time": "2025-07-02T09:21:04.352Z"
   },
   {
    "duration": 1455,
    "start_time": "2025-07-02T09:21:30.832Z"
   },
   {
    "duration": 7,
    "start_time": "2025-07-02T09:22:46.949Z"
   },
   {
    "duration": 9,
    "start_time": "2025-07-02T09:25:48.198Z"
   },
   {
    "duration": 31,
    "start_time": "2025-07-02T09:26:26.257Z"
   },
   {
    "duration": 97,
    "start_time": "2025-07-02T09:26:46.122Z"
   },
   {
    "duration": 25,
    "start_time": "2025-07-02T09:27:11.646Z"
   },
   {
    "duration": 7,
    "start_time": "2025-07-02T09:30:36.087Z"
   },
   {
    "duration": 3703,
    "start_time": "2025-07-03T06:54:04.122Z"
   },
   {
    "duration": 1518,
    "start_time": "2025-07-03T06:54:10.026Z"
   },
   {
    "duration": 7377,
    "start_time": "2025-07-03T06:54:11.546Z"
   },
   {
    "duration": 100,
    "start_time": "2025-07-03T06:54:18.925Z"
   },
   {
    "duration": 23,
    "start_time": "2025-07-03T06:54:19.027Z"
   },
   {
    "duration": 12,
    "start_time": "2025-07-03T06:54:19.052Z"
   },
   {
    "duration": 12,
    "start_time": "2025-07-03T06:54:19.065Z"
   },
   {
    "duration": 60,
    "start_time": "2025-07-03T06:54:19.079Z"
   },
   {
    "duration": 6,
    "start_time": "2025-07-03T06:54:19.705Z"
   },
   {
    "duration": 23,
    "start_time": "2025-07-03T06:54:21.844Z"
   },
   {
    "duration": 5,
    "start_time": "2025-07-03T06:54:25.405Z"
   },
   {
    "duration": 28,
    "start_time": "2025-07-03T06:54:47.545Z"
   },
   {
    "duration": 5,
    "start_time": "2025-07-03T06:54:50.968Z"
   },
   {
    "duration": 14,
    "start_time": "2025-07-03T06:54:54.946Z"
   },
   {
    "duration": 7,
    "start_time": "2025-07-03T06:54:56.057Z"
   },
   {
    "duration": 10,
    "start_time": "2025-07-03T06:55:03.085Z"
   },
   {
    "duration": 5,
    "start_time": "2025-07-03T06:55:03.813Z"
   },
   {
    "duration": 653,
    "start_time": "2025-07-03T06:55:11.607Z"
   },
   {
    "duration": 5,
    "start_time": "2025-07-03T06:55:16.627Z"
   },
   {
    "duration": 149,
    "start_time": "2025-07-03T06:55:17.388Z"
   },
   {
    "duration": 88,
    "start_time": "2025-07-03T06:55:19.134Z"
   },
   {
    "duration": 70,
    "start_time": "2025-07-03T06:55:21.050Z"
   },
   {
    "duration": 6,
    "start_time": "2025-07-03T06:55:23.246Z"
   },
   {
    "duration": 8,
    "start_time": "2025-07-03T06:55:25.106Z"
   },
   {
    "duration": 37,
    "start_time": "2025-07-03T06:55:26.575Z"
   },
   {
    "duration": 3521,
    "start_time": "2025-07-03T07:49:21.764Z"
   },
   {
    "duration": 2132,
    "start_time": "2025-07-03T07:49:25.287Z"
   },
   {
    "duration": 3251,
    "start_time": "2025-07-03T07:49:27.420Z"
   },
   {
    "duration": 108,
    "start_time": "2025-07-03T07:49:30.673Z"
   },
   {
    "duration": 18,
    "start_time": "2025-07-03T07:49:30.782Z"
   },
   {
    "duration": 12,
    "start_time": "2025-07-03T07:49:30.802Z"
   },
   {
    "duration": 29,
    "start_time": "2025-07-03T07:49:30.815Z"
   },
   {
    "duration": 151,
    "start_time": "2025-07-03T07:49:30.846Z"
   },
   {
    "duration": 6,
    "start_time": "2025-07-03T07:49:30.998Z"
   },
   {
    "duration": 27,
    "start_time": "2025-07-03T07:49:31.007Z"
   },
   {
    "duration": 7,
    "start_time": "2025-07-03T07:49:31.036Z"
   },
   {
    "duration": 39,
    "start_time": "2025-07-03T07:49:31.045Z"
   },
   {
    "duration": 63,
    "start_time": "2025-07-03T07:49:31.086Z"
   },
   {
    "duration": 15,
    "start_time": "2025-07-03T07:49:31.151Z"
   },
   {
    "duration": 7,
    "start_time": "2025-07-03T07:49:31.167Z"
   },
   {
    "duration": 11,
    "start_time": "2025-07-03T07:49:31.176Z"
   },
   {
    "duration": 5,
    "start_time": "2025-07-03T07:49:31.188Z"
   },
   {
    "duration": 717,
    "start_time": "2025-07-03T07:49:31.195Z"
   },
   {
    "duration": 6,
    "start_time": "2025-07-03T07:49:31.914Z"
   },
   {
    "duration": 147,
    "start_time": "2025-07-03T07:49:31.922Z"
   },
   {
    "duration": 74,
    "start_time": "2025-07-03T07:49:32.071Z"
   },
   {
    "duration": 73,
    "start_time": "2025-07-03T07:49:32.161Z"
   },
   {
    "duration": 24,
    "start_time": "2025-07-03T07:49:32.236Z"
   },
   {
    "duration": 6,
    "start_time": "2025-07-03T07:49:32.262Z"
   },
   {
    "duration": 37,
    "start_time": "2025-07-03T07:49:32.270Z"
   },
   {
    "duration": 58,
    "start_time": "2025-07-03T07:49:32.309Z"
   },
   {
    "duration": 11,
    "start_time": "2025-07-03T07:49:32.369Z"
   },
   {
    "duration": 11,
    "start_time": "2025-07-03T07:49:32.383Z"
   },
   {
    "duration": 40,
    "start_time": "2025-07-03T07:49:32.396Z"
   },
   {
    "duration": 34,
    "start_time": "2025-07-03T07:49:32.438Z"
   },
   {
    "duration": 7,
    "start_time": "2025-07-03T07:49:32.474Z"
   },
   {
    "duration": 9,
    "start_time": "2025-07-03T07:49:32.483Z"
   },
   {
    "duration": 25,
    "start_time": "2025-07-03T07:49:32.493Z"
   },
   {
    "duration": 73,
    "start_time": "2025-07-03T07:49:32.520Z"
   },
   {
    "duration": 54,
    "start_time": "2025-07-03T07:49:32.595Z"
   },
   {
    "duration": 470,
    "start_time": "2025-07-03T07:49:32.651Z"
   },
   {
    "duration": 121,
    "start_time": "2025-07-03T07:49:33.123Z"
   },
   {
    "duration": 28,
    "start_time": "2025-07-03T07:49:33.246Z"
   },
   {
    "duration": 31,
    "start_time": "2025-07-03T07:49:33.276Z"
   },
   {
    "duration": 10,
    "start_time": "2025-07-03T07:49:33.309Z"
   },
   {
    "duration": 49,
    "start_time": "2025-07-03T07:49:33.321Z"
   },
   {
    "duration": 13,
    "start_time": "2025-07-03T07:49:33.372Z"
   },
   {
    "duration": 9,
    "start_time": "2025-07-03T07:49:33.387Z"
   },
   {
    "duration": 105,
    "start_time": "2025-07-03T07:49:33.397Z"
   },
   {
    "duration": 8,
    "start_time": "2025-07-03T07:49:33.503Z"
   },
   {
    "duration": 51,
    "start_time": "2025-07-03T07:49:33.513Z"
   },
   {
    "duration": 13,
    "start_time": "2025-07-03T07:49:33.566Z"
   },
   {
    "duration": 37,
    "start_time": "2025-07-03T07:50:19.437Z"
   },
   {
    "duration": 30,
    "start_time": "2025-07-03T07:50:58.357Z"
   },
   {
    "duration": 32,
    "start_time": "2025-07-03T07:51:02.006Z"
   },
   {
    "duration": 139,
    "start_time": "2025-07-03T07:51:21.756Z"
   },
   {
    "duration": 1423,
    "start_time": "2025-07-03T18:13:23.982Z"
   },
   {
    "duration": 1942,
    "start_time": "2025-07-03T18:16:06.675Z"
   },
   {
    "duration": 107,
    "start_time": "2025-07-03T18:16:22.712Z"
   },
   {
    "duration": 16,
    "start_time": "2025-07-03T18:16:24.455Z"
   },
   {
    "duration": 28,
    "start_time": "2025-07-03T18:16:47.859Z"
   },
   {
    "duration": 25,
    "start_time": "2025-07-03T18:17:02.575Z"
   },
   {
    "duration": 14,
    "start_time": "2025-07-03T18:17:11.802Z"
   },
   {
    "duration": 13,
    "start_time": "2025-07-03T18:17:18.104Z"
   },
   {
    "duration": 6,
    "start_time": "2025-07-03T18:17:19.106Z"
   },
   {
    "duration": 42,
    "start_time": "2025-07-03T18:17:23.203Z"
   },
   {
    "duration": 6,
    "start_time": "2025-07-03T18:17:23.963Z"
   },
   {
    "duration": 20,
    "start_time": "2025-07-03T18:17:27.583Z"
   },
   {
    "duration": 6,
    "start_time": "2025-07-03T18:17:29.796Z"
   },
   {
    "duration": 26,
    "start_time": "2025-07-03T18:17:38.071Z"
   },
   {
    "duration": 5,
    "start_time": "2025-07-03T18:17:38.532Z"
   },
   {
    "duration": 13,
    "start_time": "2025-07-03T18:17:42.037Z"
   },
   {
    "duration": 6,
    "start_time": "2025-07-03T18:17:42.758Z"
   },
   {
    "duration": 10,
    "start_time": "2025-07-03T18:17:47.070Z"
   },
   {
    "duration": 5,
    "start_time": "2025-07-03T18:17:47.697Z"
   },
   {
    "duration": 660,
    "start_time": "2025-07-03T18:17:51.338Z"
   },
   {
    "duration": 6,
    "start_time": "2025-07-03T18:19:21.416Z"
   },
   {
    "duration": 140,
    "start_time": "2025-07-03T18:19:27.615Z"
   },
   {
    "duration": 73,
    "start_time": "2025-07-03T18:21:49.646Z"
   },
   {
    "duration": 88,
    "start_time": "2025-07-03T18:21:50.844Z"
   },
   {
    "duration": 5,
    "start_time": "2025-07-03T18:21:53.264Z"
   },
   {
    "duration": 6,
    "start_time": "2025-07-03T18:21:53.939Z"
   },
   {
    "duration": 35,
    "start_time": "2025-07-03T18:21:55.781Z"
   },
   {
    "duration": 35,
    "start_time": "2025-07-03T18:21:56.396Z"
   },
   {
    "duration": 11,
    "start_time": "2025-07-03T18:21:58.383Z"
   },
   {
    "duration": 11,
    "start_time": "2025-07-03T18:21:59.161Z"
   },
   {
    "duration": 20,
    "start_time": "2025-07-03T18:22:00.164Z"
   },
   {
    "duration": 20,
    "start_time": "2025-07-03T18:22:01.904Z"
   },
   {
    "duration": 8,
    "start_time": "2025-07-03T18:22:02.931Z"
   },
   {
    "duration": 8,
    "start_time": "2025-07-03T18:22:05.093Z"
   },
   {
    "duration": 11,
    "start_time": "2025-07-03T18:24:48.425Z"
   },
   {
    "duration": 48,
    "start_time": "2025-07-03T18:24:49.239Z"
   },
   {
    "duration": 8,
    "start_time": "2025-07-03T18:24:52.004Z"
   },
   {
    "duration": 386,
    "start_time": "2025-07-03T18:24:55.378Z"
   },
   {
    "duration": 375,
    "start_time": "2025-07-03T18:26:31.445Z"
   },
   {
    "duration": 308,
    "start_time": "2025-07-03T18:30:26.869Z"
   },
   {
    "duration": 401,
    "start_time": "2025-07-03T18:30:47.798Z"
   },
   {
    "duration": 361,
    "start_time": "2025-07-03T18:31:04.290Z"
   },
   {
    "duration": 125,
    "start_time": "2025-07-03T18:34:02.679Z"
   },
   {
    "duration": 17,
    "start_time": "2025-07-03T18:36:01.433Z"
   },
   {
    "duration": 33,
    "start_time": "2025-07-03T18:36:03.052Z"
   },
   {
    "duration": 11,
    "start_time": "2025-07-03T18:36:05.205Z"
   },
   {
    "duration": 24,
    "start_time": "2025-07-03T18:36:10.292Z"
   },
   {
    "duration": 399,
    "start_time": "2025-07-03T18:38:03.266Z"
   },
   {
    "duration": 11,
    "start_time": "2025-07-03T18:38:36.510Z"
   },
   {
    "duration": 13,
    "start_time": "2025-07-03T18:40:13.677Z"
   },
   {
    "duration": 8,
    "start_time": "2025-07-03T18:41:13.090Z"
   },
   {
    "duration": 121,
    "start_time": "2025-07-03T19:04:57.169Z"
   },
   {
    "duration": 87,
    "start_time": "2025-07-03T19:07:25.113Z"
   },
   {
    "duration": 8,
    "start_time": "2025-07-03T19:07:30.443Z"
   },
   {
    "duration": 39,
    "start_time": "2025-07-03T19:08:19.760Z"
   },
   {
    "duration": 1371,
    "start_time": "2025-07-04T10:22:19.782Z"
   },
   {
    "duration": 2368,
    "start_time": "2025-07-04T10:22:23.754Z"
   },
   {
    "duration": 113,
    "start_time": "2025-07-04T10:22:26.972Z"
   },
   {
    "duration": 14,
    "start_time": "2025-07-04T10:22:28.792Z"
   },
   {
    "duration": 11,
    "start_time": "2025-07-04T10:22:33.278Z"
   },
   {
    "duration": 6,
    "start_time": "2025-07-04T10:22:33.925Z"
   },
   {
    "duration": 45,
    "start_time": "2025-07-04T10:22:37.129Z"
   },
   {
    "duration": 6,
    "start_time": "2025-07-04T10:22:37.820Z"
   },
   {
    "duration": 28,
    "start_time": "2025-07-04T10:22:41.025Z"
   },
   {
    "duration": 5,
    "start_time": "2025-07-04T10:22:41.809Z"
   },
   {
    "duration": 34,
    "start_time": "2025-07-04T10:22:44.843Z"
   },
   {
    "duration": 5,
    "start_time": "2025-07-04T10:22:45.580Z"
   },
   {
    "duration": 21,
    "start_time": "2025-07-04T10:22:48.140Z"
   },
   {
    "duration": 7,
    "start_time": "2025-07-04T10:22:48.815Z"
   },
   {
    "duration": 10,
    "start_time": "2025-07-04T10:22:51.464Z"
   },
   {
    "duration": 4,
    "start_time": "2025-07-04T10:22:53.475Z"
   },
   {
    "duration": 649,
    "start_time": "2025-07-04T10:22:54.909Z"
   },
   {
    "duration": 8,
    "start_time": "2025-07-04T10:23:09.937Z"
   },
   {
    "duration": 145,
    "start_time": "2025-07-04T10:23:12.219Z"
   },
   {
    "duration": 65,
    "start_time": "2025-07-04T10:23:17.767Z"
   },
   {
    "duration": 75,
    "start_time": "2025-07-04T10:23:19.945Z"
   },
   {
    "duration": 10,
    "start_time": "2025-07-04T10:23:22.339Z"
   },
   {
    "duration": 6,
    "start_time": "2025-07-04T10:23:24.019Z"
   },
   {
    "duration": 49,
    "start_time": "2025-07-04T10:23:32.920Z"
   },
   {
    "duration": 34,
    "start_time": "2025-07-04T10:23:33.787Z"
   },
   {
    "duration": 11,
    "start_time": "2025-07-04T10:23:35.809Z"
   },
   {
    "duration": 11,
    "start_time": "2025-07-04T10:23:37.202Z"
   },
   {
    "duration": 18,
    "start_time": "2025-07-04T10:23:38.782Z"
   },
   {
    "duration": 19,
    "start_time": "2025-07-04T10:23:40.715Z"
   },
   {
    "duration": 8,
    "start_time": "2025-07-04T10:23:43.019Z"
   },
   {
    "duration": 8,
    "start_time": "2025-07-04T10:23:43.774Z"
   },
   {
    "duration": 10,
    "start_time": "2025-07-04T10:23:50.523Z"
   },
   {
    "duration": 46,
    "start_time": "2025-07-04T10:23:51.956Z"
   },
   {
    "duration": 12,
    "start_time": "2025-07-04T10:23:55.630Z"
   },
   {
    "duration": 416,
    "start_time": "2025-07-04T10:23:56.890Z"
   },
   {
    "duration": 113,
    "start_time": "2025-07-04T10:24:03.153Z"
   },
   {
    "duration": 17,
    "start_time": "2025-07-04T10:24:07.076Z"
   },
   {
    "duration": 30,
    "start_time": "2025-07-04T10:24:08.790Z"
   },
   {
    "duration": 10,
    "start_time": "2025-07-04T10:24:10.012Z"
   },
   {
    "duration": 22,
    "start_time": "2025-07-04T10:24:12.410Z"
   },
   {
    "duration": 14,
    "start_time": "2025-07-04T10:24:14.172Z"
   },
   {
    "duration": 7,
    "start_time": "2025-07-04T10:24:18.568Z"
   },
   {
    "duration": 145,
    "start_time": "2025-07-04T10:24:36.727Z"
   },
   {
    "duration": 77,
    "start_time": "2025-07-04T10:24:41.470Z"
   },
   {
    "duration": 12,
    "start_time": "2025-07-04T10:24:44.455Z"
   },
   {
    "duration": 39,
    "start_time": "2025-07-04T10:24:49.299Z"
   },
   {
    "duration": 7,
    "start_time": "2025-07-04T10:24:54.288Z"
   },
   {
    "duration": 1438,
    "start_time": "2025-07-06T14:01:33.784Z"
   },
   {
    "duration": 2243,
    "start_time": "2025-07-06T14:01:40.070Z"
   },
   {
    "duration": 112,
    "start_time": "2025-07-06T14:02:44.363Z"
   },
   {
    "duration": 15,
    "start_time": "2025-07-06T14:02:45.589Z"
   },
   {
    "duration": 11,
    "start_time": "2025-07-06T14:02:51.961Z"
   },
   {
    "duration": 5,
    "start_time": "2025-07-06T14:02:53.967Z"
   },
   {
    "duration": 43,
    "start_time": "2025-07-06T14:02:57.849Z"
   },
   {
    "duration": 7,
    "start_time": "2025-07-06T14:02:58.037Z"
   },
   {
    "duration": 19,
    "start_time": "2025-07-06T14:03:01.009Z"
   },
   {
    "duration": 6,
    "start_time": "2025-07-06T14:03:01.590Z"
   },
   {
    "duration": 35,
    "start_time": "2025-07-06T14:03:04.973Z"
   },
   {
    "duration": 5,
    "start_time": "2025-07-06T14:03:05.611Z"
   },
   {
    "duration": 14,
    "start_time": "2025-07-06T14:03:08.625Z"
   },
   {
    "duration": 6,
    "start_time": "2025-07-06T14:03:09.257Z"
   },
   {
    "duration": 10,
    "start_time": "2025-07-06T14:03:12.106Z"
   },
   {
    "duration": 5,
    "start_time": "2025-07-06T14:03:12.796Z"
   },
   {
    "duration": 614,
    "start_time": "2025-07-06T14:03:15.838Z"
   },
   {
    "duration": 6,
    "start_time": "2025-07-06T14:03:19.726Z"
   },
   {
    "duration": 136,
    "start_time": "2025-07-06T14:03:23.627Z"
   },
   {
    "duration": 72,
    "start_time": "2025-07-06T14:03:29.350Z"
   },
   {
    "duration": 71,
    "start_time": "2025-07-06T14:03:31.350Z"
   },
   {
    "duration": 6,
    "start_time": "2025-07-06T14:03:35.139Z"
   },
   {
    "duration": 7,
    "start_time": "2025-07-06T14:03:35.748Z"
   },
   {
    "duration": 37,
    "start_time": "2025-07-06T14:03:37.490Z"
   },
   {
    "duration": 35,
    "start_time": "2025-07-06T14:03:38.059Z"
   },
   {
    "duration": 11,
    "start_time": "2025-07-06T14:03:43.063Z"
   },
   {
    "duration": 10,
    "start_time": "2025-07-06T14:03:43.680Z"
   },
   {
    "duration": 20,
    "start_time": "2025-07-06T14:03:45.602Z"
   },
   {
    "duration": 20,
    "start_time": "2025-07-06T14:03:46.195Z"
   },
   {
    "duration": 7,
    "start_time": "2025-07-06T14:03:46.735Z"
   },
   {
    "duration": 8,
    "start_time": "2025-07-06T14:03:47.246Z"
   },
   {
    "duration": 11,
    "start_time": "2025-07-06T14:03:51.958Z"
   },
   {
    "duration": 50,
    "start_time": "2025-07-06T14:03:52.660Z"
   },
   {
    "duration": 10,
    "start_time": "2025-07-06T14:03:54.484Z"
   },
   {
    "duration": 428,
    "start_time": "2025-07-06T14:03:55.195Z"
   },
   {
    "duration": 106,
    "start_time": "2025-07-06T14:04:06.667Z"
   },
   {
    "duration": 16,
    "start_time": "2025-07-06T14:04:10.261Z"
   },
   {
    "duration": 30,
    "start_time": "2025-07-06T14:04:11.242Z"
   },
   {
    "duration": 9,
    "start_time": "2025-07-06T14:04:12.844Z"
   },
   {
    "duration": 21,
    "start_time": "2025-07-06T14:04:13.836Z"
   },
   {
    "duration": 13,
    "start_time": "2025-07-06T14:04:15.527Z"
   },
   {
    "duration": 8,
    "start_time": "2025-07-06T14:04:19.657Z"
   },
   {
    "duration": 110,
    "start_time": "2025-07-06T14:04:24.267Z"
   },
   {
    "duration": 79,
    "start_time": "2025-07-06T14:04:31.756Z"
   },
   {
    "duration": 8,
    "start_time": "2025-07-06T14:04:39.012Z"
   },
   {
    "duration": 34,
    "start_time": "2025-07-06T14:04:44.355Z"
   },
   {
    "duration": 8,
    "start_time": "2025-07-06T14:04:47.997Z"
   },
   {
    "duration": 4,
    "start_time": "2025-07-06T14:10:16.226Z"
   },
   {
    "duration": 23,
    "start_time": "2025-07-06T14:11:47.373Z"
   },
   {
    "duration": 20,
    "start_time": "2025-07-06T14:12:08.121Z"
   },
   {
    "duration": 300,
    "start_time": "2025-07-06T14:13:37.082Z"
   },
   {
    "duration": 95,
    "start_time": "2025-07-06T14:14:51.604Z"
   },
   {
    "duration": 61,
    "start_time": "2025-07-06T14:17:47.802Z"
   },
   {
    "duration": 1381,
    "start_time": "2025-07-06T17:58:36.425Z"
   },
   {
    "duration": 2783,
    "start_time": "2025-07-06T17:58:37.808Z"
   },
   {
    "duration": 100,
    "start_time": "2025-07-06T17:58:40.592Z"
   },
   {
    "duration": 17,
    "start_time": "2025-07-06T17:58:40.695Z"
   },
   {
    "duration": 18,
    "start_time": "2025-07-06T17:58:40.714Z"
   },
   {
    "duration": 6,
    "start_time": "2025-07-06T17:58:40.733Z"
   },
   {
    "duration": 39,
    "start_time": "2025-07-06T17:58:40.757Z"
   },
   {
    "duration": 6,
    "start_time": "2025-07-06T17:58:40.798Z"
   },
   {
    "duration": 26,
    "start_time": "2025-07-06T17:58:40.805Z"
   },
   {
    "duration": 5,
    "start_time": "2025-07-06T17:58:40.833Z"
   },
   {
    "duration": 24,
    "start_time": "2025-07-06T17:58:40.858Z"
   },
   {
    "duration": 5,
    "start_time": "2025-07-06T17:58:40.883Z"
   },
   {
    "duration": 13,
    "start_time": "2025-07-06T17:58:40.889Z"
   },
   {
    "duration": 6,
    "start_time": "2025-07-06T17:58:40.904Z"
   },
   {
    "duration": 10,
    "start_time": "2025-07-06T17:58:40.911Z"
   },
   {
    "duration": 5,
    "start_time": "2025-07-06T17:58:40.958Z"
   },
   {
    "duration": 639,
    "start_time": "2025-07-06T17:58:40.965Z"
   },
   {
    "duration": 5,
    "start_time": "2025-07-06T17:58:41.606Z"
   },
   {
    "duration": 164,
    "start_time": "2025-07-06T17:58:41.613Z"
   },
   {
    "duration": 80,
    "start_time": "2025-07-06T17:58:41.779Z"
   },
   {
    "duration": 71,
    "start_time": "2025-07-06T17:58:41.860Z"
   },
   {
    "duration": 6,
    "start_time": "2025-07-06T17:58:41.932Z"
   },
   {
    "duration": 25,
    "start_time": "2025-07-06T17:58:41.939Z"
   },
   {
    "duration": 110,
    "start_time": "2025-07-06T17:58:41.965Z"
   },
   {
    "duration": 35,
    "start_time": "2025-07-06T17:58:42.076Z"
   },
   {
    "duration": 11,
    "start_time": "2025-07-06T17:58:42.112Z"
   },
   {
    "duration": 14,
    "start_time": "2025-07-06T17:58:42.124Z"
   },
   {
    "duration": 18,
    "start_time": "2025-07-06T17:58:42.158Z"
   },
   {
    "duration": 19,
    "start_time": "2025-07-06T17:58:42.178Z"
   },
   {
    "duration": 41,
    "start_time": "2025-07-06T17:58:42.199Z"
   },
   {
    "duration": 7,
    "start_time": "2025-07-06T17:58:42.242Z"
   },
   {
    "duration": 10,
    "start_time": "2025-07-06T17:58:42.251Z"
   },
   {
    "duration": 47,
    "start_time": "2025-07-06T17:58:42.263Z"
   },
   {
    "duration": 7,
    "start_time": "2025-07-06T17:58:42.312Z"
   },
   {
    "duration": 399,
    "start_time": "2025-07-06T17:58:42.321Z"
   },
   {
    "duration": 113,
    "start_time": "2025-07-06T17:58:42.721Z"
   },
   {
    "duration": 25,
    "start_time": "2025-07-06T17:58:42.836Z"
   },
   {
    "duration": 29,
    "start_time": "2025-07-06T17:58:42.863Z"
   },
   {
    "duration": 10,
    "start_time": "2025-07-06T17:58:42.894Z"
   },
   {
    "duration": 22,
    "start_time": "2025-07-06T17:58:42.906Z"
   },
   {
    "duration": 39,
    "start_time": "2025-07-06T17:58:42.929Z"
   },
   {
    "duration": 6,
    "start_time": "2025-07-06T17:58:42.969Z"
   },
   {
    "duration": 121,
    "start_time": "2025-07-06T17:58:42.977Z"
   },
   {
    "duration": 119,
    "start_time": "2025-07-06T17:58:43.101Z"
   },
   {
    "duration": 55,
    "start_time": "2025-07-06T17:58:43.222Z"
   },
   {
    "duration": 40,
    "start_time": "2025-07-06T17:58:43.278Z"
   },
   {
    "duration": 7,
    "start_time": "2025-07-06T17:58:43.320Z"
   },
   {
    "duration": 267,
    "start_time": "2025-07-06T17:58:43.328Z"
   },
   {
    "duration": 118,
    "start_time": "2025-07-06T17:58:43.597Z"
   },
   {
    "duration": 24,
    "start_time": "2025-07-06T17:58:54.195Z"
   },
   {
    "duration": 49,
    "start_time": "2025-07-07T08:52:43.443Z"
   },
   {
    "duration": 1315,
    "start_time": "2025-07-07T08:53:10.849Z"
   },
   {
    "duration": 2412,
    "start_time": "2025-07-07T08:53:14.262Z"
   },
   {
    "duration": 96,
    "start_time": "2025-07-07T08:53:18.717Z"
   },
   {
    "duration": 14,
    "start_time": "2025-07-07T08:53:21.703Z"
   },
   {
    "duration": 11,
    "start_time": "2025-07-07T08:53:25.658Z"
   },
   {
    "duration": 5,
    "start_time": "2025-07-07T08:53:26.212Z"
   },
   {
    "duration": 37,
    "start_time": "2025-07-07T08:53:29.457Z"
   },
   {
    "duration": 6,
    "start_time": "2025-07-07T08:53:29.984Z"
   },
   {
    "duration": 20,
    "start_time": "2025-07-07T08:53:33.008Z"
   },
   {
    "duration": 5,
    "start_time": "2025-07-07T08:53:33.512Z"
   },
   {
    "duration": 24,
    "start_time": "2025-07-07T08:53:37.412Z"
   },
   {
    "duration": 6,
    "start_time": "2025-07-07T08:53:37.931Z"
   },
   {
    "duration": 13,
    "start_time": "2025-07-07T08:53:41.230Z"
   },
   {
    "duration": 7,
    "start_time": "2025-07-07T08:53:41.715Z"
   },
   {
    "duration": 11,
    "start_time": "2025-07-07T08:53:44.608Z"
   },
   {
    "duration": 5,
    "start_time": "2025-07-07T08:53:46.297Z"
   },
   {
    "duration": 631,
    "start_time": "2025-07-07T08:53:47.842Z"
   },
   {
    "duration": 4,
    "start_time": "2025-07-07T08:53:52.857Z"
   },
   {
    "duration": 137,
    "start_time": "2025-07-07T08:53:55.887Z"
   },
   {
    "duration": 67,
    "start_time": "2025-07-07T08:54:03.025Z"
   },
   {
    "duration": 65,
    "start_time": "2025-07-07T08:54:03.827Z"
   },
   {
    "duration": 6,
    "start_time": "2025-07-07T08:54:05.676Z"
   },
   {
    "duration": 6,
    "start_time": "2025-07-07T08:54:06.168Z"
   },
   {
    "duration": 41,
    "start_time": "2025-07-07T08:54:08.071Z"
   },
   {
    "duration": 33,
    "start_time": "2025-07-07T08:54:08.501Z"
   },
   {
    "duration": 10,
    "start_time": "2025-07-07T08:54:10.211Z"
   },
   {
    "duration": 10,
    "start_time": "2025-07-07T08:54:10.668Z"
   },
   {
    "duration": 18,
    "start_time": "2025-07-07T08:54:11.054Z"
   },
   {
    "duration": 18,
    "start_time": "2025-07-07T08:54:11.538Z"
   },
   {
    "duration": 7,
    "start_time": "2025-07-07T08:54:13.351Z"
   },
   {
    "duration": 8,
    "start_time": "2025-07-07T08:54:13.790Z"
   },
   {
    "duration": 10,
    "start_time": "2025-07-07T08:54:18.777Z"
   },
   {
    "duration": 51,
    "start_time": "2025-07-07T08:54:19.668Z"
   },
   {
    "duration": 8,
    "start_time": "2025-07-07T08:54:21.995Z"
   },
   {
    "duration": 379,
    "start_time": "2025-07-07T08:54:23.051Z"
   },
   {
    "duration": 115,
    "start_time": "2025-07-07T08:54:30.286Z"
   },
   {
    "duration": 17,
    "start_time": "2025-07-07T08:54:33.489Z"
   },
   {
    "duration": 30,
    "start_time": "2025-07-07T08:54:34.071Z"
   },
   {
    "duration": 11,
    "start_time": "2025-07-07T08:54:35.392Z"
   },
   {
    "duration": 21,
    "start_time": "2025-07-07T08:54:37.265Z"
   },
   {
    "duration": 12,
    "start_time": "2025-07-07T08:54:37.772Z"
   },
   {
    "duration": 7,
    "start_time": "2025-07-07T08:54:44.295Z"
   },
   {
    "duration": 55,
    "start_time": "2025-07-07T08:54:48.709Z"
   },
   {
    "duration": 58,
    "start_time": "2025-07-07T08:55:11.902Z"
   },
   {
    "duration": 75,
    "start_time": "2025-07-07T08:55:55.391Z"
   },
   {
    "duration": 7,
    "start_time": "2025-07-07T08:55:59.678Z"
   },
   {
    "duration": 40,
    "start_time": "2025-07-07T08:56:03.900Z"
   },
   {
    "duration": 7,
    "start_time": "2025-07-07T08:56:06.952Z"
   },
   {
    "duration": 118,
    "start_time": "2025-07-07T08:56:13.104Z"
   },
   {
    "duration": 104,
    "start_time": "2025-07-07T09:03:42.040Z"
   },
   {
    "duration": 329,
    "start_time": "2025-07-07T09:04:16.922Z"
   },
   {
    "duration": 116,
    "start_time": "2025-07-07T09:04:21.858Z"
   },
   {
    "duration": 32,
    "start_time": "2025-07-07T09:04:32.589Z"
   },
   {
    "duration": 1206,
    "start_time": "2025-07-07T09:12:19.296Z"
   },
   {
    "duration": 2612,
    "start_time": "2025-07-07T09:12:22.749Z"
   },
   {
    "duration": 99,
    "start_time": "2025-07-07T09:12:25.825Z"
   },
   {
    "duration": 15,
    "start_time": "2025-07-07T09:12:27.852Z"
   },
   {
    "duration": 14,
    "start_time": "2025-07-07T09:12:31.685Z"
   },
   {
    "duration": 6,
    "start_time": "2025-07-07T09:12:32.296Z"
   },
   {
    "duration": 42,
    "start_time": "2025-07-07T09:12:35.772Z"
   },
   {
    "duration": 6,
    "start_time": "2025-07-07T09:12:36.513Z"
   },
   {
    "duration": 20,
    "start_time": "2025-07-07T09:12:40.237Z"
   },
   {
    "duration": 6,
    "start_time": "2025-07-07T09:12:40.895Z"
   },
   {
    "duration": 36,
    "start_time": "2025-07-07T09:12:43.973Z"
   },
   {
    "duration": 5,
    "start_time": "2025-07-07T09:12:44.473Z"
   },
   {
    "duration": 13,
    "start_time": "2025-07-07T09:12:47.569Z"
   },
   {
    "duration": 7,
    "start_time": "2025-07-07T09:12:48.081Z"
   },
   {
    "duration": 9,
    "start_time": "2025-07-07T09:12:51.744Z"
   },
   {
    "duration": 4,
    "start_time": "2025-07-07T09:12:52.301Z"
   },
   {
    "duration": 620,
    "start_time": "2025-07-07T09:12:55.370Z"
   },
   {
    "duration": 4,
    "start_time": "2025-07-07T09:12:59.050Z"
   },
   {
    "duration": 142,
    "start_time": "2025-07-07T09:13:02.419Z"
   },
   {
    "duration": 70,
    "start_time": "2025-07-07T09:13:08.221Z"
   },
   {
    "duration": 74,
    "start_time": "2025-07-07T09:13:10.098Z"
   },
   {
    "duration": 6,
    "start_time": "2025-07-07T09:13:12.052Z"
   },
   {
    "duration": 7,
    "start_time": "2025-07-07T09:13:12.538Z"
   },
   {
    "duration": 34,
    "start_time": "2025-07-07T09:13:13.104Z"
   },
   {
    "duration": 34,
    "start_time": "2025-07-07T09:13:13.805Z"
   },
   {
    "duration": 12,
    "start_time": "2025-07-07T09:13:16.338Z"
   },
   {
    "duration": 11,
    "start_time": "2025-07-07T09:13:16.835Z"
   },
   {
    "duration": 19,
    "start_time": "2025-07-07T09:13:17.299Z"
   },
   {
    "duration": 19,
    "start_time": "2025-07-07T09:13:18.966Z"
   },
   {
    "duration": 7,
    "start_time": "2025-07-07T09:13:19.489Z"
   },
   {
    "duration": 9,
    "start_time": "2025-07-07T09:13:19.981Z"
   },
   {
    "duration": 10,
    "start_time": "2025-07-07T09:13:24.718Z"
   },
   {
    "duration": 48,
    "start_time": "2025-07-07T09:13:25.341Z"
   },
   {
    "duration": 8,
    "start_time": "2025-07-07T09:13:27.437Z"
   },
   {
    "duration": 389,
    "start_time": "2025-07-07T09:13:28.198Z"
   },
   {
    "duration": 111,
    "start_time": "2025-07-07T09:13:35.100Z"
   },
   {
    "duration": 16,
    "start_time": "2025-07-07T09:13:39.330Z"
   },
   {
    "duration": 31,
    "start_time": "2025-07-07T09:13:41.184Z"
   },
   {
    "duration": 9,
    "start_time": "2025-07-07T09:13:42.563Z"
   },
   {
    "duration": 22,
    "start_time": "2025-07-07T09:13:44.803Z"
   },
   {
    "duration": 13,
    "start_time": "2025-07-07T09:13:45.450Z"
   },
   {
    "duration": 8,
    "start_time": "2025-07-07T09:13:50.125Z"
   },
   {
    "duration": 57,
    "start_time": "2025-07-07T09:13:55.236Z"
   },
   {
    "duration": 77,
    "start_time": "2025-07-07T09:14:00.542Z"
   },
   {
    "duration": 7,
    "start_time": "2025-07-07T09:14:03.681Z"
   },
   {
    "duration": 37,
    "start_time": "2025-07-07T09:14:06.721Z"
   },
   {
    "duration": 10,
    "start_time": "2025-07-07T09:14:07.972Z"
   },
   {
    "duration": 283,
    "start_time": "2025-07-07T09:14:08.704Z"
   },
   {
    "duration": 32,
    "start_time": "2025-07-07T09:14:19.008Z"
   },
   {
    "duration": 55,
    "start_time": "2025-07-07T09:15:25.135Z"
   },
   {
    "duration": 45,
    "start_time": "2025-07-07T09:20:42.460Z"
   },
   {
    "duration": 26251,
    "start_time": "2025-07-07T09:30:36.807Z"
   },
   {
    "duration": 28877,
    "start_time": "2025-07-07T09:31:34.901Z"
   },
   {
    "duration": 13,
    "start_time": "2025-07-07T09:32:58.252Z"
   },
   {
    "duration": 10,
    "start_time": "2025-07-07T09:38:20.575Z"
   },
   {
    "duration": 126,
    "start_time": "2025-07-07T09:43:03.146Z"
   },
   {
    "duration": 5,
    "start_time": "2025-07-07T09:47:26.979Z"
   },
   {
    "duration": 4,
    "start_time": "2025-07-07T09:47:38.715Z"
   },
   {
    "duration": 10,
    "start_time": "2025-07-07T09:49:08.344Z"
   },
   {
    "duration": 128,
    "start_time": "2025-07-07T09:49:23.447Z"
   },
   {
    "duration": 1287,
    "start_time": "2025-07-07T09:49:51.431Z"
   },
   {
    "duration": 2898,
    "start_time": "2025-07-07T09:49:54.072Z"
   },
   {
    "duration": 115,
    "start_time": "2025-07-07T09:49:56.972Z"
   },
   {
    "duration": 14,
    "start_time": "2025-07-07T09:49:57.089Z"
   },
   {
    "duration": 11,
    "start_time": "2025-07-07T09:49:57.105Z"
   },
   {
    "duration": 6,
    "start_time": "2025-07-07T09:49:57.602Z"
   },
   {
    "duration": 42,
    "start_time": "2025-07-07T09:49:58.622Z"
   },
   {
    "duration": 6,
    "start_time": "2025-07-07T09:49:59.098Z"
   },
   {
    "duration": 24,
    "start_time": "2025-07-07T09:50:00.073Z"
   },
   {
    "duration": 6,
    "start_time": "2025-07-07T09:50:00.576Z"
   },
   {
    "duration": 25,
    "start_time": "2025-07-07T09:50:01.474Z"
   },
   {
    "duration": 6,
    "start_time": "2025-07-07T09:50:01.942Z"
   },
   {
    "duration": 14,
    "start_time": "2025-07-07T09:50:02.925Z"
   },
   {
    "duration": 8,
    "start_time": "2025-07-07T09:50:03.415Z"
   },
   {
    "duration": 11,
    "start_time": "2025-07-07T09:50:04.435Z"
   },
   {
    "duration": 6,
    "start_time": "2025-07-07T09:50:04.948Z"
   },
   {
    "duration": 703,
    "start_time": "2025-07-07T09:50:05.991Z"
   },
   {
    "duration": 5,
    "start_time": "2025-07-07T09:50:08.064Z"
   },
   {
    "duration": 151,
    "start_time": "2025-07-07T09:50:09.043Z"
   },
   {
    "duration": 73,
    "start_time": "2025-07-07T09:50:11.706Z"
   },
   {
    "duration": 74,
    "start_time": "2025-07-07T09:50:12.217Z"
   },
   {
    "duration": 6,
    "start_time": "2025-07-07T09:50:12.678Z"
   },
   {
    "duration": 6,
    "start_time": "2025-07-07T09:50:13.211Z"
   },
   {
    "duration": 36,
    "start_time": "2025-07-07T09:50:13.708Z"
   },
   {
    "duration": 41,
    "start_time": "2025-07-07T09:50:14.251Z"
   },
   {
    "duration": 11,
    "start_time": "2025-07-07T09:50:14.757Z"
   },
   {
    "duration": 12,
    "start_time": "2025-07-07T09:50:15.241Z"
   },
   {
    "duration": 18,
    "start_time": "2025-07-07T09:50:15.716Z"
   },
   {
    "duration": 20,
    "start_time": "2025-07-07T09:50:16.242Z"
   },
   {
    "duration": 7,
    "start_time": "2025-07-07T09:50:16.763Z"
   },
   {
    "duration": 8,
    "start_time": "2025-07-07T09:50:22.823Z"
   },
   {
    "duration": 11,
    "start_time": "2025-07-07T09:50:25.184Z"
   },
   {
    "duration": 51,
    "start_time": "2025-07-07T09:50:25.676Z"
   },
   {
    "duration": 8,
    "start_time": "2025-07-07T09:50:26.158Z"
   },
   {
    "duration": 368,
    "start_time": "2025-07-07T09:50:26.709Z"
   },
   {
    "duration": 114,
    "start_time": "2025-07-07T09:50:29.803Z"
   },
   {
    "duration": 18,
    "start_time": "2025-07-07T09:50:31.097Z"
   },
   {
    "duration": 34,
    "start_time": "2025-07-07T09:50:31.684Z"
   },
   {
    "duration": 11,
    "start_time": "2025-07-07T09:50:32.311Z"
   },
   {
    "duration": 23,
    "start_time": "2025-07-07T09:50:32.817Z"
   },
   {
    "duration": 14,
    "start_time": "2025-07-07T09:50:33.397Z"
   },
   {
    "duration": 8,
    "start_time": "2025-07-07T09:50:36.168Z"
   },
   {
    "duration": 60,
    "start_time": "2025-07-07T09:50:38.801Z"
   },
   {
    "duration": 85,
    "start_time": "2025-07-07T09:50:42.042Z"
   },
   {
    "duration": 8,
    "start_time": "2025-07-07T09:50:43.549Z"
   },
   {
    "duration": 37,
    "start_time": "2025-07-07T09:50:45.339Z"
   },
   {
    "duration": 8,
    "start_time": "2025-07-07T09:50:46.555Z"
   },
   {
    "duration": 303,
    "start_time": "2025-07-07T09:50:47.259Z"
   },
   {
    "duration": 125,
    "start_time": "2025-07-07T09:50:47.819Z"
   },
   {
    "duration": 47,
    "start_time": "2025-07-07T09:50:54.300Z"
   },
   {
    "duration": 9,
    "start_time": "2025-07-07T09:50:55.635Z"
   },
   {
    "duration": 168,
    "start_time": "2025-07-07T09:50:56.406Z"
   },
   {
    "duration": 9,
    "start_time": "2025-07-07T09:50:57.454Z"
   },
   {
    "duration": 18,
    "start_time": "2025-07-07T09:52:46.453Z"
   },
   {
    "duration": 17,
    "start_time": "2025-07-07T09:53:00.190Z"
   },
   {
    "duration": 9,
    "start_time": "2025-07-07T09:53:53.165Z"
   },
   {
    "duration": 89,
    "start_time": "2025-07-07T10:02:47.295Z"
   },
   {
    "duration": 18,
    "start_time": "2025-07-07T10:03:00.640Z"
   },
   {
    "duration": 12,
    "start_time": "2025-07-07T10:03:50.113Z"
   },
   {
    "duration": 30,
    "start_time": "2025-07-07T10:05:18.304Z"
   },
   {
    "duration": 1080,
    "start_time": "2025-07-07T10:06:52.382Z"
   },
   {
    "duration": 3307,
    "start_time": "2025-07-07T10:06:56.657Z"
   },
   {
    "duration": 99,
    "start_time": "2025-07-07T10:06:59.965Z"
   },
   {
    "duration": 14,
    "start_time": "2025-07-07T10:07:01.689Z"
   },
   {
    "duration": 10,
    "start_time": "2025-07-07T10:07:06.154Z"
   },
   {
    "duration": 8,
    "start_time": "2025-07-07T10:07:07.996Z"
   },
   {
    "duration": 37,
    "start_time": "2025-07-07T10:07:10.953Z"
   },
   {
    "duration": 6,
    "start_time": "2025-07-07T10:07:12.507Z"
   },
   {
    "duration": 20,
    "start_time": "2025-07-07T10:07:15.592Z"
   },
   {
    "duration": 6,
    "start_time": "2025-07-07T10:07:17.319Z"
   },
   {
    "duration": 22,
    "start_time": "2025-07-07T10:07:18.423Z"
   },
   {
    "duration": 6,
    "start_time": "2025-07-07T10:07:20.439Z"
   },
   {
    "duration": 13,
    "start_time": "2025-07-07T10:07:21.512Z"
   },
   {
    "duration": 11,
    "start_time": "2025-07-07T10:07:22.063Z"
   },
   {
    "duration": 13,
    "start_time": "2025-07-07T10:07:24.380Z"
   },
   {
    "duration": 4,
    "start_time": "2025-07-07T10:07:24.896Z"
   },
   {
    "duration": 677,
    "start_time": "2025-07-07T10:07:27.052Z"
   },
   {
    "duration": 5,
    "start_time": "2025-07-07T10:07:31.592Z"
   },
   {
    "duration": 135,
    "start_time": "2025-07-07T10:07:32.686Z"
   },
   {
    "duration": 65,
    "start_time": "2025-07-07T10:07:38.409Z"
   },
   {
    "duration": 67,
    "start_time": "2025-07-07T10:07:39.171Z"
   },
   {
    "duration": 6,
    "start_time": "2025-07-07T10:07:41.363Z"
   },
   {
    "duration": 7,
    "start_time": "2025-07-07T10:07:41.900Z"
   },
   {
    "duration": 33,
    "start_time": "2025-07-07T10:07:42.374Z"
   },
   {
    "duration": 36,
    "start_time": "2025-07-07T10:07:44.219Z"
   },
   {
    "duration": 11,
    "start_time": "2025-07-07T10:07:44.730Z"
   },
   {
    "duration": 10,
    "start_time": "2025-07-07T10:07:45.237Z"
   },
   {
    "duration": 17,
    "start_time": "2025-07-07T10:07:45.704Z"
   },
   {
    "duration": 18,
    "start_time": "2025-07-07T10:07:47.529Z"
   },
   {
    "duration": 7,
    "start_time": "2025-07-07T10:07:48.071Z"
   },
   {
    "duration": 8,
    "start_time": "2025-07-07T10:07:48.553Z"
   },
   {
    "duration": 9,
    "start_time": "2025-07-07T10:07:53.234Z"
   },
   {
    "duration": 44,
    "start_time": "2025-07-07T10:07:53.825Z"
   },
   {
    "duration": 8,
    "start_time": "2025-07-07T10:07:55.952Z"
   },
   {
    "duration": 329,
    "start_time": "2025-07-07T10:07:56.468Z"
   },
   {
    "duration": 100,
    "start_time": "2025-07-07T10:08:00.903Z"
   },
   {
    "duration": 17,
    "start_time": "2025-07-07T10:08:05.460Z"
   },
   {
    "duration": 30,
    "start_time": "2025-07-07T10:08:06.022Z"
   },
   {
    "duration": 9,
    "start_time": "2025-07-07T10:08:07.854Z"
   },
   {
    "duration": 21,
    "start_time": "2025-07-07T10:08:08.359Z"
   },
   {
    "duration": 15,
    "start_time": "2025-07-07T10:08:10.084Z"
   },
   {
    "duration": 7,
    "start_time": "2025-07-07T10:08:16.302Z"
   },
   {
    "duration": 56,
    "start_time": "2025-07-07T10:08:28.144Z"
   },
   {
    "duration": 80,
    "start_time": "2025-07-07T10:08:33.998Z"
   },
   {
    "duration": 7,
    "start_time": "2025-07-07T10:08:38.953Z"
   },
   {
    "duration": 10,
    "start_time": "2025-07-07T10:08:42.975Z"
   },
   {
    "duration": 368,
    "start_time": "2025-07-07T10:08:43.906Z"
   },
   {
    "duration": 145,
    "start_time": "2025-07-07T10:08:46.242Z"
   },
   {
    "duration": 41,
    "start_time": "2025-07-07T10:08:54.885Z"
   },
   {
    "duration": 7,
    "start_time": "2025-07-07T10:09:02.606Z"
   },
   {
    "duration": 121,
    "start_time": "2025-07-07T10:09:17.268Z"
   },
   {
    "duration": 8,
    "start_time": "2025-07-07T10:10:23.579Z"
   },
   {
    "duration": 7,
    "start_time": "2025-07-07T10:10:52.339Z"
   },
   {
    "duration": 94,
    "start_time": "2025-07-07T10:22:45.704Z"
   },
   {
    "duration": 8,
    "start_time": "2025-07-07T10:24:12.361Z"
   },
   {
    "duration": 8,
    "start_time": "2025-07-07T10:26:16.400Z"
   },
   {
    "duration": 7,
    "start_time": "2025-07-07T10:26:20.536Z"
   },
   {
    "duration": 7,
    "start_time": "2025-07-07T10:26:21.191Z"
   },
   {
    "duration": 7,
    "start_time": "2025-07-07T10:26:47.566Z"
   },
   {
    "duration": 9,
    "start_time": "2025-07-07T10:27:11.778Z"
   },
   {
    "duration": 1183,
    "start_time": "2025-07-07T10:41:30.901Z"
   },
   {
    "duration": 2637,
    "start_time": "2025-07-07T10:41:33.656Z"
   },
   {
    "duration": 97,
    "start_time": "2025-07-07T10:41:36.295Z"
   },
   {
    "duration": 16,
    "start_time": "2025-07-07T10:41:38.692Z"
   },
   {
    "duration": 15,
    "start_time": "2025-07-07T10:41:44.120Z"
   },
   {
    "duration": 7,
    "start_time": "2025-07-07T10:41:44.641Z"
   },
   {
    "duration": 53,
    "start_time": "2025-07-07T10:41:47.826Z"
   },
   {
    "duration": 6,
    "start_time": "2025-07-07T10:41:48.241Z"
   },
   {
    "duration": 27,
    "start_time": "2025-07-07T10:41:50.856Z"
   },
   {
    "duration": 6,
    "start_time": "2025-07-07T10:41:52.105Z"
   },
   {
    "duration": 24,
    "start_time": "2025-07-07T10:41:55.421Z"
   },
   {
    "duration": 5,
    "start_time": "2025-07-07T10:41:56.546Z"
   },
   {
    "duration": 14,
    "start_time": "2025-07-07T10:41:59.441Z"
   },
   {
    "duration": 7,
    "start_time": "2025-07-07T10:42:00.569Z"
   },
   {
    "duration": 11,
    "start_time": "2025-07-07T10:42:02.707Z"
   },
   {
    "duration": 5,
    "start_time": "2025-07-07T10:42:04.574Z"
   },
   {
    "duration": 663,
    "start_time": "2025-07-07T10:42:05.425Z"
   },
   {
    "duration": 5,
    "start_time": "2025-07-07T10:42:09.354Z"
   },
   {
    "duration": 139,
    "start_time": "2025-07-07T10:42:11.529Z"
   },
   {
    "duration": 68,
    "start_time": "2025-07-07T10:42:18.349Z"
   },
   {
    "duration": 68,
    "start_time": "2025-07-07T10:42:23.899Z"
   },
   {
    "duration": 6,
    "start_time": "2025-07-07T10:42:26.955Z"
   },
   {
    "duration": 6,
    "start_time": "2025-07-07T10:42:27.466Z"
   },
   {
    "duration": 34,
    "start_time": "2025-07-07T10:42:29.272Z"
   },
   {
    "duration": 34,
    "start_time": "2025-07-07T10:42:29.636Z"
   },
   {
    "duration": 11,
    "start_time": "2025-07-07T10:42:30.068Z"
   },
   {
    "duration": 16,
    "start_time": "2025-07-07T10:42:30.483Z"
   },
   {
    "duration": 19,
    "start_time": "2025-07-07T10:42:31.712Z"
   },
   {
    "duration": 20,
    "start_time": "2025-07-07T10:42:32.081Z"
   },
   {
    "duration": 7,
    "start_time": "2025-07-07T10:42:32.439Z"
   },
   {
    "duration": 7,
    "start_time": "2025-07-07T10:42:38.242Z"
   },
   {
    "duration": 10,
    "start_time": "2025-07-07T10:42:40.236Z"
   },
   {
    "duration": 47,
    "start_time": "2025-07-07T10:42:40.623Z"
   },
   {
    "duration": 10,
    "start_time": "2025-07-07T10:42:41.009Z"
   },
   {
    "duration": 328,
    "start_time": "2025-07-07T10:42:41.445Z"
   },
   {
    "duration": 111,
    "start_time": "2025-07-07T10:42:47.797Z"
   },
   {
    "duration": 22,
    "start_time": "2025-07-07T10:42:48.890Z"
   },
   {
    "duration": 41,
    "start_time": "2025-07-07T10:42:49.538Z"
   },
   {
    "duration": 13,
    "start_time": "2025-07-07T10:42:50.441Z"
   },
   {
    "duration": 36,
    "start_time": "2025-07-07T10:42:51.072Z"
   },
   {
    "duration": 14,
    "start_time": "2025-07-07T10:42:52.929Z"
   },
   {
    "duration": 11,
    "start_time": "2025-07-07T10:42:57.986Z"
   },
   {
    "duration": 56,
    "start_time": "2025-07-07T10:43:01.866Z"
   },
   {
    "duration": 81,
    "start_time": "2025-07-07T10:43:05.415Z"
   },
   {
    "duration": 7,
    "start_time": "2025-07-07T10:43:08.565Z"
   },
   {
    "duration": 35,
    "start_time": "2025-07-07T10:43:09.930Z"
   },
   {
    "duration": 8,
    "start_time": "2025-07-07T10:43:12.062Z"
   },
   {
    "duration": 296,
    "start_time": "2025-07-07T10:43:12.384Z"
   },
   {
    "duration": 108,
    "start_time": "2025-07-07T10:43:14.566Z"
   },
   {
    "duration": 43,
    "start_time": "2025-07-07T10:43:23.298Z"
   },
   {
    "duration": 8,
    "start_time": "2025-07-07T10:43:27.610Z"
   },
   {
    "duration": 155,
    "start_time": "2025-07-07T10:43:28.149Z"
   },
   {
    "duration": 9,
    "start_time": "2025-07-07T10:43:30.572Z"
   },
   {
    "duration": 8,
    "start_time": "2025-07-07T10:43:36.370Z"
   },
   {
    "duration": 13,
    "start_time": "2025-07-07T10:43:39.351Z"
   },
   {
    "duration": 15,
    "start_time": "2025-07-07T10:58:38.556Z"
   },
   {
    "duration": 1354,
    "start_time": "2025-07-07T17:54:07.739Z"
   },
   {
    "duration": 1984,
    "start_time": "2025-07-07T17:54:11.570Z"
   },
   {
    "duration": 94,
    "start_time": "2025-07-07T17:54:16.831Z"
   },
   {
    "duration": 15,
    "start_time": "2025-07-07T17:54:17.486Z"
   },
   {
    "duration": 11,
    "start_time": "2025-07-07T17:54:21.705Z"
   },
   {
    "duration": 6,
    "start_time": "2025-07-07T17:54:22.514Z"
   },
   {
    "duration": 42,
    "start_time": "2025-07-07T17:54:24.033Z"
   },
   {
    "duration": 5,
    "start_time": "2025-07-07T17:54:24.827Z"
   },
   {
    "duration": 18,
    "start_time": "2025-07-07T17:54:27.909Z"
   },
   {
    "duration": 5,
    "start_time": "2025-07-07T17:54:28.549Z"
   },
   {
    "duration": 23,
    "start_time": "2025-07-07T17:54:30.869Z"
   },
   {
    "duration": 5,
    "start_time": "2025-07-07T17:54:31.453Z"
   },
   {
    "duration": 14,
    "start_time": "2025-07-07T17:54:33.872Z"
   },
   {
    "duration": 6,
    "start_time": "2025-07-07T17:54:34.515Z"
   },
   {
    "duration": 9,
    "start_time": "2025-07-07T17:54:36.918Z"
   },
   {
    "duration": 5,
    "start_time": "2025-07-07T17:54:37.420Z"
   },
   {
    "duration": 628,
    "start_time": "2025-07-07T17:54:39.062Z"
   },
   {
    "duration": 6,
    "start_time": "2025-07-07T17:54:45.213Z"
   },
   {
    "duration": 149,
    "start_time": "2025-07-07T17:54:46.605Z"
   },
   {
    "duration": 77,
    "start_time": "2025-07-07T17:54:52.694Z"
   },
   {
    "duration": 74,
    "start_time": "2025-07-07T17:54:53.584Z"
   },
   {
    "duration": 5,
    "start_time": "2025-07-07T17:54:55.722Z"
   },
   {
    "duration": 6,
    "start_time": "2025-07-07T17:54:57.610Z"
   },
   {
    "duration": 43,
    "start_time": "2025-07-07T17:54:58.260Z"
   },
   {
    "duration": 35,
    "start_time": "2025-07-07T17:54:58.850Z"
   },
   {
    "duration": 17,
    "start_time": "2025-07-07T17:55:00.556Z"
   },
   {
    "duration": 19,
    "start_time": "2025-07-07T17:55:01.158Z"
   },
   {
    "duration": 35,
    "start_time": "2025-07-07T17:55:01.657Z"
   },
   {
    "duration": 19,
    "start_time": "2025-07-07T17:55:02.189Z"
   },
   {
    "duration": 7,
    "start_time": "2025-07-07T17:55:02.787Z"
   },
   {
    "duration": 7,
    "start_time": "2025-07-07T17:55:03.384Z"
   },
   {
    "duration": 9,
    "start_time": "2025-07-07T17:55:07.949Z"
   },
   {
    "duration": 45,
    "start_time": "2025-07-07T17:55:09.498Z"
   },
   {
    "duration": 7,
    "start_time": "2025-07-07T17:55:15.867Z"
   },
   {
    "duration": 424,
    "start_time": "2025-07-07T17:55:17.283Z"
   },
   {
    "duration": 110,
    "start_time": "2025-07-07T17:55:27.039Z"
   },
   {
    "duration": 17,
    "start_time": "2025-07-07T17:55:30.474Z"
   },
   {
    "duration": 31,
    "start_time": "2025-07-07T17:55:31.519Z"
   },
   {
    "duration": 10,
    "start_time": "2025-07-07T17:55:33.710Z"
   },
   {
    "duration": 21,
    "start_time": "2025-07-07T17:55:34.463Z"
   },
   {
    "duration": 12,
    "start_time": "2025-07-07T17:55:35.075Z"
   },
   {
    "duration": 8,
    "start_time": "2025-07-07T17:55:41.025Z"
   },
   {
    "duration": 55,
    "start_time": "2025-07-07T17:55:50.018Z"
   },
   {
    "duration": 75,
    "start_time": "2025-07-07T17:56:00.163Z"
   },
   {
    "duration": 6,
    "start_time": "2025-07-07T17:56:05.592Z"
   },
   {
    "duration": 35,
    "start_time": "2025-07-07T17:56:09.643Z"
   },
   {
    "duration": 7,
    "start_time": "2025-07-07T17:56:12.484Z"
   },
   {
    "duration": 277,
    "start_time": "2025-07-07T17:56:14.568Z"
   },
   {
    "duration": 105,
    "start_time": "2025-07-07T17:56:16.917Z"
   },
   {
    "duration": 43,
    "start_time": "2025-07-07T17:57:27.289Z"
   },
   {
    "duration": 14,
    "start_time": "2025-07-07T17:57:31.256Z"
   },
   {
    "duration": 134,
    "start_time": "2025-07-07T17:57:47.698Z"
   },
   {
    "duration": 8,
    "start_time": "2025-07-07T17:57:52.424Z"
   },
   {
    "duration": 2,
    "start_time": "2025-07-07T18:04:26.586Z"
   },
   {
    "duration": 8,
    "start_time": "2025-07-07T18:08:26.849Z"
   },
   {
    "duration": 98,
    "start_time": "2025-07-07T18:13:49.610Z"
   },
   {
    "duration": 6,
    "start_time": "2025-07-07T18:17:26.018Z"
   },
   {
    "duration": 12,
    "start_time": "2025-07-07T18:25:44.872Z"
   },
   {
    "duration": 6,
    "start_time": "2025-07-07T18:30:07.666Z"
   },
   {
    "duration": 7,
    "start_time": "2025-07-07T18:31:13.987Z"
   },
   {
    "duration": 10,
    "start_time": "2025-07-07T18:32:33.634Z"
   },
   {
    "duration": 6,
    "start_time": "2025-07-07T18:32:42.875Z"
   },
   {
    "duration": 7,
    "start_time": "2025-07-07T18:33:49.850Z"
   },
   {
    "duration": 10,
    "start_time": "2025-07-07T18:44:55.529Z"
   },
   {
    "duration": 16,
    "start_time": "2025-07-07T18:46:07.784Z"
   },
   {
    "duration": 4,
    "start_time": "2025-07-07T18:46:49.702Z"
   },
   {
    "duration": 13,
    "start_time": "2025-07-07T18:47:03.861Z"
   },
   {
    "duration": 7,
    "start_time": "2025-07-07T18:48:06.292Z"
   },
   {
    "duration": 3,
    "start_time": "2025-07-07T18:50:13.951Z"
   },
   {
    "duration": 12,
    "start_time": "2025-07-07T18:51:42.079Z"
   },
   {
    "duration": 1892,
    "start_time": "2025-07-07T18:52:27.640Z"
   },
   {
    "duration": 9,
    "start_time": "2025-07-07T18:52:44.495Z"
   },
   {
    "duration": 272,
    "start_time": "2025-07-07T18:52:45.398Z"
   },
   {
    "duration": 1522,
    "start_time": "2025-07-09T07:46:22.173Z"
   },
   {
    "duration": 2742,
    "start_time": "2025-07-09T07:46:25.636Z"
   },
   {
    "duration": 114,
    "start_time": "2025-07-09T07:46:29.478Z"
   },
   {
    "duration": 21,
    "start_time": "2025-07-09T07:46:30.855Z"
   },
   {
    "duration": 13,
    "start_time": "2025-07-09T07:46:35.387Z"
   },
   {
    "duration": 6,
    "start_time": "2025-07-09T07:46:35.993Z"
   },
   {
    "duration": 41,
    "start_time": "2025-07-09T07:46:39.799Z"
   },
   {
    "duration": 6,
    "start_time": "2025-07-09T07:46:40.477Z"
   },
   {
    "duration": 32,
    "start_time": "2025-07-09T07:46:43.441Z"
   },
   {
    "duration": 27,
    "start_time": "2025-07-09T07:46:52.832Z"
   },
   {
    "duration": 5,
    "start_time": "2025-07-09T07:47:03.379Z"
   },
   {
    "duration": 37,
    "start_time": "2025-07-09T07:47:07.643Z"
   },
   {
    "duration": 6,
    "start_time": "2025-07-09T07:47:09.700Z"
   },
   {
    "duration": 18,
    "start_time": "2025-07-09T07:47:13.270Z"
   },
   {
    "duration": 8,
    "start_time": "2025-07-09T07:47:15.011Z"
   },
   {
    "duration": 11,
    "start_time": "2025-07-09T07:47:17.210Z"
   },
   {
    "duration": 5,
    "start_time": "2025-07-09T07:47:17.639Z"
   },
   {
    "duration": 776,
    "start_time": "2025-07-09T07:47:19.176Z"
   },
   {
    "duration": 7,
    "start_time": "2025-07-09T07:47:25.251Z"
   },
   {
    "duration": 186,
    "start_time": "2025-07-09T07:47:28.043Z"
   },
   {
    "duration": 79,
    "start_time": "2025-07-09T07:47:34.803Z"
   },
   {
    "duration": 77,
    "start_time": "2025-07-09T07:47:36.670Z"
   },
   {
    "duration": 6,
    "start_time": "2025-07-09T07:47:38.994Z"
   },
   {
    "duration": 6,
    "start_time": "2025-07-09T07:47:41.381Z"
   },
   {
    "duration": 35,
    "start_time": "2025-07-09T07:47:43.102Z"
   },
   {
    "duration": 36,
    "start_time": "2025-07-09T07:47:44.907Z"
   },
   {
    "duration": 11,
    "start_time": "2025-07-09T07:47:45.521Z"
   },
   {
    "duration": 12,
    "start_time": "2025-07-09T07:47:45.973Z"
   },
   {
    "duration": 25,
    "start_time": "2025-07-09T07:47:47.808Z"
   },
   {
    "duration": 22,
    "start_time": "2025-07-09T07:47:48.489Z"
   },
   {
    "duration": 11,
    "start_time": "2025-07-09T07:47:49.162Z"
   },
   {
    "duration": 10,
    "start_time": "2025-07-09T07:47:51.174Z"
   },
   {
    "duration": 11,
    "start_time": "2025-07-09T07:47:57.111Z"
   },
   {
    "duration": 55,
    "start_time": "2025-07-09T07:47:58.473Z"
   },
   {
    "duration": 10,
    "start_time": "2025-07-09T07:48:00.693Z"
   },
   {
    "duration": 446,
    "start_time": "2025-07-09T07:48:01.499Z"
   },
   {
    "duration": 135,
    "start_time": "2025-07-09T07:48:07.491Z"
   },
   {
    "duration": 19,
    "start_time": "2025-07-09T07:48:11.513Z"
   },
   {
    "duration": 46,
    "start_time": "2025-07-09T07:48:13.856Z"
   },
   {
    "duration": 12,
    "start_time": "2025-07-09T07:48:14.393Z"
   },
   {
    "duration": 24,
    "start_time": "2025-07-09T07:48:16.707Z"
   },
   {
    "duration": 13,
    "start_time": "2025-07-09T07:48:17.328Z"
   },
   {
    "duration": 13,
    "start_time": "2025-07-09T07:48:21.364Z"
   },
   {
    "duration": 81,
    "start_time": "2025-07-09T07:48:26.139Z"
   },
   {
    "duration": 101,
    "start_time": "2025-07-09T07:48:31.080Z"
   },
   {
    "duration": 8,
    "start_time": "2025-07-09T07:48:39.384Z"
   },
   {
    "duration": 41,
    "start_time": "2025-07-09T07:48:42.517Z"
   },
   {
    "duration": 8,
    "start_time": "2025-07-09T07:48:43.896Z"
   },
   {
    "duration": 391,
    "start_time": "2025-07-09T07:48:46.258Z"
   },
   {
    "duration": 135,
    "start_time": "2025-07-09T07:48:48.784Z"
   },
   {
    "duration": 50,
    "start_time": "2025-07-09T07:48:58.905Z"
   },
   {
    "duration": 126,
    "start_time": "2025-07-09T07:51:16.083Z"
   },
   {
    "duration": 61,
    "start_time": "2025-07-09T07:51:23.434Z"
   },
   {
    "duration": 10,
    "start_time": "2025-07-09T07:51:24.819Z"
   },
   {
    "duration": 16,
    "start_time": "2025-07-09T07:51:33.974Z"
   },
   {
    "duration": 147,
    "start_time": "2025-07-09T07:51:36.793Z"
   },
   {
    "duration": 9,
    "start_time": "2025-07-09T07:51:40.108Z"
   },
   {
    "duration": 1548,
    "start_time": "2025-07-09T07:56:43.210Z"
   },
   {
    "duration": 25,
    "start_time": "2025-07-09T08:03:01.847Z"
   },
   {
    "duration": 366,
    "start_time": "2025-07-09T08:03:09.674Z"
   },
   {
    "duration": 344,
    "start_time": "2025-07-09T08:03:49.986Z"
   },
   {
    "duration": 26,
    "start_time": "2025-07-09T08:15:05.634Z"
   },
   {
    "duration": 62,
    "start_time": "2025-07-09T08:17:41.917Z"
   },
   {
    "duration": 54,
    "start_time": "2025-07-09T08:19:42.924Z"
   },
   {
    "duration": 156,
    "start_time": "2025-07-09T08:20:46.707Z"
   },
   {
    "duration": 50,
    "start_time": "2025-07-09T08:20:59.354Z"
   },
   {
    "duration": 50,
    "start_time": "2025-07-09T08:21:18.693Z"
   },
   {
    "duration": 37,
    "start_time": "2025-07-09T08:21:51.823Z"
   },
   {
    "duration": 36,
    "start_time": "2025-07-09T08:24:29.504Z"
   },
   {
    "duration": 5,
    "start_time": "2025-07-09T08:25:54.235Z"
   },
   {
    "duration": 13,
    "start_time": "2025-07-09T08:26:18.416Z"
   },
   {
    "duration": 36,
    "start_time": "2025-07-09T08:28:23.478Z"
   },
   {
    "duration": 1317,
    "start_time": "2025-07-09T08:28:55.270Z"
   },
   {
    "duration": 3503,
    "start_time": "2025-07-09T08:28:57.938Z"
   },
   {
    "duration": 143,
    "start_time": "2025-07-09T08:29:01.443Z"
   },
   {
    "duration": 17,
    "start_time": "2025-07-09T08:29:01.588Z"
   },
   {
    "duration": 50,
    "start_time": "2025-07-09T08:29:01.607Z"
   },
   {
    "duration": 10,
    "start_time": "2025-07-09T08:29:01.659Z"
   },
   {
    "duration": 55,
    "start_time": "2025-07-09T08:29:02.422Z"
   },
   {
    "duration": 6,
    "start_time": "2025-07-09T08:29:02.893Z"
   },
   {
    "duration": 22,
    "start_time": "2025-07-09T08:29:03.831Z"
   },
   {
    "duration": 11,
    "start_time": "2025-07-09T08:29:04.259Z"
   },
   {
    "duration": 28,
    "start_time": "2025-07-09T08:29:05.218Z"
   },
   {
    "duration": 6,
    "start_time": "2025-07-09T08:29:05.871Z"
   },
   {
    "duration": 14,
    "start_time": "2025-07-09T08:29:06.735Z"
   },
   {
    "duration": 7,
    "start_time": "2025-07-09T08:29:07.174Z"
   },
   {
    "duration": 10,
    "start_time": "2025-07-09T08:29:08.090Z"
   },
   {
    "duration": 5,
    "start_time": "2025-07-09T08:29:08.512Z"
   },
   {
    "duration": 701,
    "start_time": "2025-07-09T08:29:09.492Z"
   },
   {
    "duration": 7,
    "start_time": "2025-07-09T08:29:11.364Z"
   },
   {
    "duration": 170,
    "start_time": "2025-07-09T08:29:12.289Z"
   },
   {
    "duration": 90,
    "start_time": "2025-07-09T08:29:14.695Z"
   },
   {
    "duration": 92,
    "start_time": "2025-07-09T08:29:15.179Z"
   },
   {
    "duration": 9,
    "start_time": "2025-07-09T08:29:15.651Z"
   },
   {
    "duration": 6,
    "start_time": "2025-07-09T08:29:16.112Z"
   },
   {
    "duration": 37,
    "start_time": "2025-07-09T08:29:16.580Z"
   },
   {
    "duration": 38,
    "start_time": "2025-07-09T08:29:17.056Z"
   },
   {
    "duration": 11,
    "start_time": "2025-07-09T08:29:17.530Z"
   },
   {
    "duration": 12,
    "start_time": "2025-07-09T08:29:18.009Z"
   },
   {
    "duration": 21,
    "start_time": "2025-07-09T08:29:18.474Z"
   },
   {
    "duration": 20,
    "start_time": "2025-07-09T08:29:18.906Z"
   },
   {
    "duration": 8,
    "start_time": "2025-07-09T08:29:19.378Z"
   },
   {
    "duration": 14,
    "start_time": "2025-07-09T08:29:19.861Z"
   },
   {
    "duration": 11,
    "start_time": "2025-07-09T08:29:22.277Z"
   },
   {
    "duration": 54,
    "start_time": "2025-07-09T08:29:22.769Z"
   },
   {
    "duration": 9,
    "start_time": "2025-07-09T08:29:23.273Z"
   },
   {
    "duration": 401,
    "start_time": "2025-07-09T08:29:23.730Z"
   },
   {
    "duration": 135,
    "start_time": "2025-07-09T08:29:26.690Z"
   },
   {
    "duration": 20,
    "start_time": "2025-07-09T08:29:27.734Z"
   },
   {
    "duration": 47,
    "start_time": "2025-07-09T08:29:28.243Z"
   },
   {
    "duration": 12,
    "start_time": "2025-07-09T08:29:28.787Z"
   },
   {
    "duration": 24,
    "start_time": "2025-07-09T08:29:29.293Z"
   },
   {
    "duration": 13,
    "start_time": "2025-07-09T08:29:29.795Z"
   },
   {
    "duration": 9,
    "start_time": "2025-07-09T08:29:32.906Z"
   },
   {
    "duration": 66,
    "start_time": "2025-07-09T08:29:35.515Z"
   },
   {
    "duration": 86,
    "start_time": "2025-07-09T08:29:39.237Z"
   },
   {
    "duration": 8,
    "start_time": "2025-07-09T08:29:40.334Z"
   },
   {
    "duration": 41,
    "start_time": "2025-07-09T08:29:41.890Z"
   },
   {
    "duration": 10,
    "start_time": "2025-07-09T08:29:43.063Z"
   },
   {
    "duration": 324,
    "start_time": "2025-07-09T08:29:43.629Z"
   },
   {
    "duration": 134,
    "start_time": "2025-07-09T08:29:44.397Z"
   },
   {
    "duration": 49,
    "start_time": "2025-07-09T08:29:49.767Z"
   },
   {
    "duration": 21,
    "start_time": "2025-07-09T08:30:00.564Z"
   },
   {
    "duration": 28,
    "start_time": "2025-07-09T08:30:20.752Z"
   },
   {
    "duration": 158,
    "start_time": "2025-07-09T08:30:21.876Z"
   },
   {
    "duration": 9,
    "start_time": "2025-07-09T08:30:23.291Z"
   },
   {
    "duration": 43,
    "start_time": "2025-07-09T08:30:33.944Z"
   },
   {
    "duration": 56,
    "start_time": "2025-07-09T08:31:55.544Z"
   },
   {
    "duration": 35,
    "start_time": "2025-07-09T08:32:48.192Z"
   },
   {
    "duration": 19,
    "start_time": "2025-07-09T08:35:19.732Z"
   },
   {
    "duration": 14,
    "start_time": "2025-07-09T08:36:12.905Z"
   },
   {
    "duration": 128,
    "start_time": "2025-07-09T08:41:26.734Z"
   },
   {
    "duration": 19,
    "start_time": "2025-07-09T08:41:34.857Z"
   },
   {
    "duration": 9,
    "start_time": "2025-07-09T08:41:49.988Z"
   },
   {
    "duration": 7,
    "start_time": "2025-07-09T08:42:31.335Z"
   },
   {
    "duration": 6,
    "start_time": "2025-07-09T08:45:11.469Z"
   },
   {
    "duration": 5,
    "start_time": "2025-07-09T08:45:21.702Z"
   },
   {
    "duration": 206,
    "start_time": "2025-07-09T08:46:05.029Z"
   },
   {
    "duration": 14,
    "start_time": "2025-07-09T08:48:07.459Z"
   },
   {
    "duration": 11,
    "start_time": "2025-07-09T08:48:32.563Z"
   },
   {
    "duration": 10,
    "start_time": "2025-07-09T08:48:36.564Z"
   },
   {
    "duration": 10,
    "start_time": "2025-07-09T08:50:31.304Z"
   },
   {
    "duration": 1614,
    "start_time": "2025-07-09T08:51:35.997Z"
   },
   {
    "duration": 11,
    "start_time": "2025-07-09T08:51:56.014Z"
   },
   {
    "duration": 9,
    "start_time": "2025-07-09T08:52:01.466Z"
   },
   {
    "duration": 11,
    "start_time": "2025-07-09T08:52:12.363Z"
   },
   {
    "duration": 7,
    "start_time": "2025-07-09T08:53:02.830Z"
   },
   {
    "duration": 7,
    "start_time": "2025-07-09T08:53:03.582Z"
   },
   {
    "duration": 13,
    "start_time": "2025-07-09T08:54:25.774Z"
   },
   {
    "duration": 18,
    "start_time": "2025-07-09T08:55:09.094Z"
   },
   {
    "duration": 21,
    "start_time": "2025-07-09T08:55:23.458Z"
   },
   {
    "duration": 15,
    "start_time": "2025-07-09T08:55:45.193Z"
   },
   {
    "duration": 3127,
    "start_time": "2025-07-09T08:56:31.930Z"
   },
   {
    "duration": 11,
    "start_time": "2025-07-09T08:57:21.730Z"
   },
   {
    "duration": 10,
    "start_time": "2025-07-09T08:58:17.168Z"
   },
   {
    "duration": 2,
    "start_time": "2025-07-09T08:59:57.841Z"
   },
   {
    "duration": 15,
    "start_time": "2025-07-09T09:03:01.718Z"
   },
   {
    "duration": 1417,
    "start_time": "2025-07-09T09:05:21.603Z"
   },
   {
    "duration": 2485,
    "start_time": "2025-07-09T09:05:23.022Z"
   },
   {
    "duration": 122,
    "start_time": "2025-07-09T09:05:25.509Z"
   },
   {
    "duration": 22,
    "start_time": "2025-07-09T09:05:25.633Z"
   },
   {
    "duration": 62,
    "start_time": "2025-07-09T09:05:25.658Z"
   },
   {
    "duration": 6,
    "start_time": "2025-07-09T09:05:26.041Z"
   },
   {
    "duration": 41,
    "start_time": "2025-07-09T09:05:27.068Z"
   },
   {
    "duration": 6,
    "start_time": "2025-07-09T09:05:27.496Z"
   },
   {
    "duration": 21,
    "start_time": "2025-07-09T09:05:28.493Z"
   },
   {
    "duration": 5,
    "start_time": "2025-07-09T09:05:28.971Z"
   },
   {
    "duration": 30,
    "start_time": "2025-07-09T09:05:29.978Z"
   },
   {
    "duration": 6,
    "start_time": "2025-07-09T09:05:30.452Z"
   },
   {
    "duration": 15,
    "start_time": "2025-07-09T09:05:31.379Z"
   },
   {
    "duration": 8,
    "start_time": "2025-07-09T09:05:31.860Z"
   },
   {
    "duration": 13,
    "start_time": "2025-07-09T09:05:32.871Z"
   },
   {
    "duration": 5,
    "start_time": "2025-07-09T09:05:33.393Z"
   },
   {
    "duration": 798,
    "start_time": "2025-07-09T09:05:34.421Z"
   },
   {
    "duration": 5,
    "start_time": "2025-07-09T09:05:36.368Z"
   },
   {
    "duration": 160,
    "start_time": "2025-07-09T09:05:37.454Z"
   },
   {
    "duration": 77,
    "start_time": "2025-07-09T09:05:39.877Z"
   },
   {
    "duration": 90,
    "start_time": "2025-07-09T09:05:40.414Z"
   },
   {
    "duration": 5,
    "start_time": "2025-07-09T09:05:40.873Z"
   },
   {
    "duration": 8,
    "start_time": "2025-07-09T09:05:41.374Z"
   },
   {
    "duration": 46,
    "start_time": "2025-07-09T09:05:41.821Z"
   },
   {
    "duration": 41,
    "start_time": "2025-07-09T09:05:42.283Z"
   },
   {
    "duration": 13,
    "start_time": "2025-07-09T09:05:42.869Z"
   },
   {
    "duration": 17,
    "start_time": "2025-07-09T09:05:43.256Z"
   },
   {
    "duration": 21,
    "start_time": "2025-07-09T09:05:43.710Z"
   },
   {
    "duration": 22,
    "start_time": "2025-07-09T09:05:44.157Z"
   },
   {
    "duration": 11,
    "start_time": "2025-07-09T09:05:44.654Z"
   },
   {
    "duration": 8,
    "start_time": "2025-07-09T09:05:45.224Z"
   },
   {
    "duration": 11,
    "start_time": "2025-07-09T09:05:47.619Z"
   },
   {
    "duration": 53,
    "start_time": "2025-07-09T09:05:48.078Z"
   },
   {
    "duration": 8,
    "start_time": "2025-07-09T09:05:48.605Z"
   },
   {
    "duration": 409,
    "start_time": "2025-07-09T09:05:49.106Z"
   },
   {
    "duration": 133,
    "start_time": "2025-07-09T09:05:52.114Z"
   },
   {
    "duration": 22,
    "start_time": "2025-07-09T09:05:53.147Z"
   },
   {
    "duration": 36,
    "start_time": "2025-07-09T09:05:53.644Z"
   },
   {
    "duration": 11,
    "start_time": "2025-07-09T09:05:54.132Z"
   },
   {
    "duration": 26,
    "start_time": "2025-07-09T09:05:54.615Z"
   },
   {
    "duration": 16,
    "start_time": "2025-07-09T09:05:55.037Z"
   },
   {
    "duration": 11,
    "start_time": "2025-07-09T09:05:58.099Z"
   },
   {
    "duration": 80,
    "start_time": "2025-07-09T09:06:00.608Z"
   },
   {
    "duration": 86,
    "start_time": "2025-07-09T09:06:04.620Z"
   },
   {
    "duration": 12,
    "start_time": "2025-07-09T09:06:05.646Z"
   },
   {
    "duration": 37,
    "start_time": "2025-07-09T09:06:07.216Z"
   },
   {
    "duration": 9,
    "start_time": "2025-07-09T09:06:08.297Z"
   },
   {
    "duration": 341,
    "start_time": "2025-07-09T09:06:08.779Z"
   },
   {
    "duration": 120,
    "start_time": "2025-07-09T09:06:09.231Z"
   },
   {
    "duration": 46,
    "start_time": "2025-07-09T09:06:14.487Z"
   },
   {
    "duration": 15,
    "start_time": "2025-07-09T09:06:16.183Z"
   },
   {
    "duration": 159,
    "start_time": "2025-07-09T09:06:16.685Z"
   },
   {
    "duration": 17,
    "start_time": "2025-07-09T09:06:17.553Z"
   },
   {
    "duration": 41,
    "start_time": "2025-07-09T09:06:20.422Z"
   },
   {
    "duration": 23,
    "start_time": "2025-07-09T09:06:21.083Z"
   },
   {
    "duration": 13,
    "start_time": "2025-07-09T09:06:23.473Z"
   },
   {
    "duration": 7,
    "start_time": "2025-07-09T09:06:24.323Z"
   },
   {
    "duration": 4,
    "start_time": "2025-07-09T09:06:25.343Z"
   },
   {
    "duration": 11,
    "start_time": "2025-07-09T09:06:26.157Z"
   },
   {
    "duration": 18,
    "start_time": "2025-07-09T09:06:31.246Z"
   },
   {
    "duration": 107,
    "start_time": "2025-07-09T09:06:31.782Z"
   },
   {
    "duration": 15,
    "start_time": "2025-07-09T09:06:32.419Z"
   },
   {
    "duration": 8,
    "start_time": "2025-07-09T09:07:00.983Z"
   },
   {
    "duration": 22,
    "start_time": "2025-07-09T09:08:19.743Z"
   },
   {
    "duration": 14,
    "start_time": "2025-07-09T09:09:18.698Z"
   },
   {
    "duration": 12,
    "start_time": "2025-07-09T09:10:10.227Z"
   },
   {
    "duration": 14,
    "start_time": "2025-07-09T09:10:31.615Z"
   },
   {
    "duration": 10,
    "start_time": "2025-07-09T09:10:33.894Z"
   },
   {
    "duration": 17,
    "start_time": "2025-07-09T09:11:22.260Z"
   },
   {
    "duration": 8,
    "start_time": "2025-07-09T09:11:31.252Z"
   },
   {
    "duration": 6,
    "start_time": "2025-07-09T09:14:35.274Z"
   }
  ],
  "colab": {
   "provenance": []
  },
  "kernelspec": {
   "display_name": "Python 3 (ipykernel)",
   "language": "python",
   "name": "python3"
  },
  "language_info": {
   "codemirror_mode": {
    "name": "ipython",
    "version": 3
   },
   "file_extension": ".py",
   "mimetype": "text/x-python",
   "name": "python",
   "nbconvert_exporter": "python",
   "pygments_lexer": "ipython3",
   "version": "3.9.5"
  },
  "toc": {
   "base_numbering": 1,
   "nav_menu": {},
   "number_sections": true,
   "sideBar": true,
   "skip_h1_title": true,
   "title_cell": "Table of Contents",
   "title_sidebar": "Contents",
   "toc_cell": false,
   "toc_position": {},
   "toc_section_display": true,
   "toc_window_display": false
  }
 },
 "nbformat": 4,
 "nbformat_minor": 1
}
